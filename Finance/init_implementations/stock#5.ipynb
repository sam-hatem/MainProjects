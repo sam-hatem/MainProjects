{
 "cells": [
  {
   "cell_type": "code",
   "execution_count": 1,
   "metadata": {},
   "outputs": [],
   "source": [
    "#import \n",
    "import pandas as pd \n",
    "import numpy as np \n",
    "import seaborn as sns \n",
    "from requests import get\n",
    "import fmpclient\n",
    "from collections import defaultdict\n",
    "import matplotlib.pyplot as plt "
   ]
  },
  {
   "cell_type": "code",
   "execution_count": 2,
   "metadata": {},
   "outputs": [],
   "source": [
    "api = fmpclient.FMPClient()"
   ]
  },
  {
   "cell_type": "code",
   "execution_count": 3,
   "metadata": {},
   "outputs": [],
   "source": [
    "def url_import(stock_list, info_type,params = {'datatype': 'json'}): \n",
    "    \n",
    "    \n",
    "    #dict_info = dict_maker(stock_list)\n",
    "    dict_info = defaultdict(list)\n",
    "    err_list = []\n",
    "    url_list = ['''https://fmpcloud.io/api/v3/{info_type}/{stock}?apikey=cb3b0c371586d9ce915d359479fe1c81'''\n",
    "                .format(info_type=info_type, stock = stock) \n",
    "    for stock in stock_list]\n",
    "\n",
    "    print(url_list[0])\n",
    "    for url, stock in zip(url_list,stock_list):\n",
    "        try:\n",
    "            #import financial ratios\n",
    "            financial = api.requester.GET(url, params)\n",
    "           \n",
    "        \n",
    "            for period_dict in financial: \n",
    "\n",
    "                for key, value in period_dict.items():\n",
    "                    \n",
    "\n",
    "                   # if key == 'date': \n",
    "                    #    dict_info[stock]['date'].append(value)\n",
    "                    \n",
    "                    dict_info[key].append(value)\n",
    "        \n",
    "        except: \n",
    "            err_list.append(stock)\n",
    "            pass \n",
    "        \n",
    "        \n",
    "    \n",
    "            \n",
    "    return dict_info, err_list "
   ]
  },
  {
   "cell_type": "code",
   "execution_count": 4,
   "metadata": {},
   "outputs": [],
   "source": [
    "def url_import_latest(stock_list, info_type,params = {'datatype': 'json'}): \n",
    "    \n",
    "    \n",
    "    #dict_info = dict_maker(stock_list)\n",
    "    dict_info = defaultdict(list)\n",
    "    err_list = []\n",
    "    url_list = ['''https://fmpcloud.io/api/v3/{info_type}/{stock}?apikey=cb3b0c371586d9ce915d359479fe1c81'''\n",
    "                .format(info_type=info_type, stock = stock) \n",
    "    for stock in stock_list]\n",
    "\n",
    "    print(url_list[0])\n",
    "    for url, stock in zip(url_list,stock_list):\n",
    "        try:\n",
    "            #import financial ratios\n",
    "            financial = api.requester.GET(url, params)\n",
    "           \n",
    "        \n",
    "\n",
    "            for key, value in financial[0].items():\n",
    "                \n",
    "                    \n",
    "\n",
    "                   # if key == 'date': \n",
    "                    #    dict_info[stock]['date'].append(value)\n",
    "                    \n",
    "                dict_info[key].append(value)\n",
    "        \n",
    "        except: \n",
    "            err_list.append(stock)\n",
    "            pass \n",
    "        \n",
    "        \n",
    "    \n",
    "            \n",
    "    return dict_info, err_list"
   ]
  },
  {
   "cell_type": "code",
   "execution_count": 5,
   "metadata": {},
   "outputs": [],
   "source": [
    "def intrinsic_cash(cf_ests, grs,drs, lgr,shares,n):\n",
    "    iv_dict = defaultdict(list)\n",
    "    for cf_est in cf_ests: \n",
    "        for gr in grs: \n",
    "            iv_dict['{},{}%'.format(cf_est/1000,gr*100)] = []\n",
    "            for dr in drs: \n",
    "                \n",
    "                fcfn = [ cf_est * (1 + gr)**i for i in range(1,n+1)]\n",
    "                dfn = [(1+dr)**i for i in range(1,n+1)]\n",
    "                dcf = sum([fcf/df for fcf, df in zip(fcfn,dfn)])\n",
    "                dpcf = ((cf_est * (1 + gr)**(n+1) * (1 + lgr)) / (dr - lgr)) * (1 / (1 + dr)**(n+1))\n",
    "                iv = (dcf + dpcf) / shares\n",
    "                iv_dict['{},{}%'.format(cf_est/1000,gr*100)].append(iv)\n",
    "    return iv_dict"
   ]
  },
  {
   "cell_type": "code",
   "execution_count": 6,
   "metadata": {},
   "outputs": [],
   "source": [
    "def intrn_avg(dict_iv): \n",
    "    dict_final = defaultdict(float)\n",
    "    for key, value in dict_iv.items():\n",
    "        dict_final[key] = np.mean(value)\n",
    "    return dict_final\n",
    "        "
   ]
  },
  {
   "cell_type": "code",
   "execution_count": 7,
   "metadata": {},
   "outputs": [],
   "source": [
    "def intrinsic_bk(avg_div_yr, pbvPersh_est, gr,dr,n): \n",
    "    fbv = pbvPersh_est * (1 + gr)**n \n",
    "    div = avg_div_yr * ((1 - (1 / (1 + dr)**n)) / dr)\n",
    "    return div + (fbv / (1 + dr)**n)"
   ]
  },
  {
   "cell_type": "code",
   "execution_count": 8,
   "metadata": {},
   "outputs": [],
   "source": [
    "def annual_growth(f,i,n): \n",
    "    return ((f/i)**(1/n) - 1)"
   ]
  },
  {
   "cell_type": "code",
   "execution_count": 9,
   "metadata": {},
   "outputs": [],
   "source": [
    "def price_ratios(df, price): \n",
    "    df['pe'] = price / df.eps \n",
    "    df['ps'] = price  / (df.revenue / df .shares)\n",
    "    df['pb'] = price / df.bv\n",
    "    df['pfcf'] = price / (df['freeCashFlow'] / df['shares'])\n",
    "    df['pocf'] = price / (df['operatingCashFlow'] / df['shares'])\n",
    "    return df"
   ]
  },
  {
   "cell_type": "code",
   "execution_count": 10,
   "metadata": {},
   "outputs": [],
   "source": [
    "def metrics(df): \n",
    "    df['de'] =df['totalDebt'] /df['totalStockholdersEquity']\n",
    "    df['curr'] = df['totalCurrentAssets'] / df['totalCurrentLiabilities']\n",
    "    df['debtRatio'] = df['totalDebt'] / df['totalAssets']\n",
    "    df['ocfRatio'] = df['operatingCashFlow'] / df['revenue']\n",
    "    df['fcfRatio'] = df['freeCashFlow'] / df['revenue']\n",
    "    df['roe'] = df['netIncome'] / df['totalStockholdersEquity']\n",
    "    df['roi'] = df['netIncome'] / df['totalAssets']\n",
    "    df['rof'] = df['freeCashFlow'] / df['totalStockholdersEquity']\n",
    "    df['rocf'] = df['operatingCashFlow'] / df['totalStockholdersEquity']\n",
    "    df['intCov'] = df['operatingIncome'] / df['interestExpense']\n",
    "    df['bv'] = df['totalStockholdersEquity'] / df['shares']\n",
    "    df['div']= np.abs(df['dividendsPaid'])/df['shares']\n",
    "    df['fcf'] =df['freeCashFlow'] /df['shares']\n",
    "    df['ocf'] = df['operatingCashFlow']/ df['shares']\n",
    "    df['invTurnOver'] = np.abs(df['costOfRevenue']) / df['inventory']\n",
    "    df['recTurnOver'] = df['revenue'] / df['netReceivables']\n",
    "    df['payTurnOver'] = np.abs(df['costOfRevenue']) / df['accountPayables']\n",
    "    df['ownerCash'] = df['freeCashFlow']  / df['revenue']\n",
    "    df['gcf'] = np.abs(df['netCashUsedForInvestingActivites']) / df['operatingCashFlow']\n",
    "    return df \n",
    "    "
   ]
  },
  {
   "cell_type": "code",
   "execution_count": 11,
   "metadata": {},
   "outputs": [],
   "source": [
    "import re"
   ]
  },
  {
   "cell_type": "code",
   "execution_count": null,
   "metadata": {},
   "outputs": [],
   "source": []
  },
  {
   "cell_type": "markdown",
   "metadata": {},
   "source": [
    "# banks \n",
    "# fhb "
   ]
  },
  {
   "cell_type": "code",
   "execution_count": 12,
   "metadata": {},
   "outputs": [
    {
     "name": "stdout",
     "output_type": "stream",
     "text": [
      "https://fmpcloud.io/api/v3/cash-flow-statement/FHB?apikey=cb3b0c371586d9ce915d359479fe1c81\n",
      "https://fmpcloud.io/api/v3/balance-sheet-statement/FHB?apikey=cb3b0c371586d9ce915d359479fe1c81\n",
      "https://fmpcloud.io/api/v3/income-statement/FHB?apikey=cb3b0c371586d9ce915d359479fe1c81\n"
     ]
    }
   ],
   "source": [
    "dict_fhb_cash,errs_fhb = url_import(['FHB'], 'cash-flow-statement')\n",
    "dict_fhb_balance,errs_fhb = url_import(['FHB'], 'balance-sheet-statement')\n",
    "dict_fhb_income,errs_fhb = url_import(['FHB'], 'income-statement')"
   ]
  },
  {
   "cell_type": "code",
   "execution_count": 13,
   "metadata": {},
   "outputs": [],
   "source": [
    "df_fhb_cash = pd.DataFrame(dict_fhb_cash)\n",
    "df_fhb_bal = pd.DataFrame(dict_fhb_balance)\n",
    "df_fhb_income = pd.DataFrame(dict_fhb_income)"
   ]
  },
  {
   "cell_type": "code",
   "execution_count": 14,
   "metadata": {},
   "outputs": [],
   "source": [
    "df_fhb_bal.date = df_fhb_bal.date.map(lambda x: re.sub(r'-.*$','',x))\n",
    "df_fhb_cash.date = df_fhb_cash.date.map(lambda x: re.sub(r'-.*$','',x))\n",
    "df_fhb_income.date = df_fhb_income.date.map(lambda x: re.sub(r'-.*$','',x))"
   ]
  },
  {
   "cell_type": "code",
   "execution_count": 15,
   "metadata": {},
   "outputs": [],
   "source": [
    "df_fhb_bal.set_index(['date'], inplace = True)\n",
    "df_fhb_cash.set_index(['date'], inplace = True)\n",
    "df_fhb_income.set_index(['date'], inplace = True)"
   ]
  },
  {
   "cell_type": "code",
   "execution_count": 16,
   "metadata": {},
   "outputs": [],
   "source": [
    "df_fhb_cash.drop('netIncome',axis = 1, inplace = True)\n",
    "df_fhb_cash.rename({'inventory': 'inventoryCash'}, axis = 1, inplace = True)"
   ]
  },
  {
   "cell_type": "code",
   "execution_count": 17,
   "metadata": {},
   "outputs": [],
   "source": [
    "df_fhb = pd.concat([df_fhb_income,df_fhb_bal,df_fhb_cash],axis = 1)"
   ]
  },
  {
   "cell_type": "code",
   "execution_count": 18,
   "metadata": {},
   "outputs": [],
   "source": [
    "df_fhb.drop(['symbol','period'],axis = 1, inplace =True)"
   ]
  },
  {
   "cell_type": "code",
   "execution_count": 19,
   "metadata": {},
   "outputs": [],
   "source": [
    "df_fhb['shares'] = 129E06"
   ]
  },
  {
   "cell_type": "code",
   "execution_count": 20,
   "metadata": {},
   "outputs": [],
   "source": [
    "df_fhb.drop(['fillingDate','finalLink','link'],axis = 1,inplace = True)"
   ]
  },
  {
   "cell_type": "code",
   "execution_count": 21,
   "metadata": {},
   "outputs": [],
   "source": [
    "df_fhb = df_fhb/1000"
   ]
  },
  {
   "cell_type": "code",
   "execution_count": 22,
   "metadata": {},
   "outputs": [],
   "source": [
    "df_fhb[['grossProfitRatio',\n",
    " 'ebitdaratio',\n",
    " 'operatingIncomeRatio',\n",
    " 'incomeBeforeTaxRatio',\n",
    " 'netIncomeRatio','eps']] = df_fhb[['grossProfitRatio',\n",
    " 'ebitdaratio',\n",
    " 'operatingIncomeRatio',\n",
    " 'incomeBeforeTaxRatio',\n",
    " 'netIncomeRatio','eps']] * 1000"
   ]
  },
  {
   "cell_type": "code",
   "execution_count": 23,
   "metadata": {},
   "outputs": [],
   "source": [
    "df_fhb = df_fhb.sort_index()"
   ]
  },
  {
   "cell_type": "code",
   "execution_count": 24,
   "metadata": {},
   "outputs": [],
   "source": [
    "df_fhb_main = df_fhb.loc[:,['netIncomeRatio','totalLiabilities','totalAssets','totalStockholdersEquity']]"
   ]
  },
  {
   "cell_type": "code",
   "execution_count": 25,
   "metadata": {},
   "outputs": [],
   "source": [
    "df_fhb_main['netIncome'] = df_fhb_income['netIncome'] / 1000"
   ]
  },
  {
   "cell_type": "code",
   "execution_count": 26,
   "metadata": {},
   "outputs": [],
   "source": [
    "df_fhb = metrics(df_fhb)\n",
    "df_fhb = price_ratios(df_fhb, 17)"
   ]
  },
  {
   "cell_type": "code",
   "execution_count": null,
   "metadata": {},
   "outputs": [],
   "source": []
  },
  {
   "cell_type": "markdown",
   "metadata": {},
   "source": [
    "# ANA"
   ]
  },
  {
   "cell_type": "code",
   "execution_count": 27,
   "metadata": {},
   "outputs": [
    {
     "data": {
      "text/plain": [
       "date\n",
       "2016    0.003712\n",
       "2017    0.000013\n",
       "2018    0.237660\n",
       "2019    0.227258\n",
       "Name: de, dtype: float64"
      ]
     },
     "execution_count": 27,
     "metadata": {},
     "output_type": "execute_result"
    }
   ],
   "source": [
    "df_fhb.de"
   ]
  },
  {
   "cell_type": "code",
   "execution_count": 28,
   "metadata": {},
   "outputs": [
    {
     "data": {
      "text/plain": [
       "date\n",
       "2016    0.000468\n",
       "2017    0.000002\n",
       "2018    0.028994\n",
       "2019    0.029753\n",
       "Name: debtRatio, dtype: float64"
      ]
     },
     "execution_count": 28,
     "metadata": {},
     "output_type": "execute_result"
    }
   ],
   "source": [
    "df_fhb.debtRatio"
   ]
  },
  {
   "cell_type": "code",
   "execution_count": 30,
   "metadata": {},
   "outputs": [
    {
     "data": {
      "text/plain": [
       "33.37561011176448"
      ]
     },
     "execution_count": 30,
     "metadata": {},
     "output_type": "execute_result"
    }
   ],
   "source": [
    "df_fhb.curr.mean()"
   ]
  },
  {
   "cell_type": "code",
   "execution_count": 31,
   "metadata": {},
   "outputs": [
    {
     "data": {
      "text/plain": [
       "date\n",
       "2016    13.849412\n",
       "2017     8.777881\n",
       "2018     4.492218\n",
       "2019     3.625207\n",
       "Name: intCov, dtype: float64"
      ]
     },
     "execution_count": 31,
     "metadata": {},
     "output_type": "execute_result"
    }
   ],
   "source": [
    "df_fhb.intCov"
   ]
  },
  {
   "cell_type": "code",
   "execution_count": 34,
   "metadata": {},
   "outputs": [
    {
     "data": {
      "text/plain": [
       "roe         0.094476\n",
       "rof         0.102810\n",
       "rocf        0.111705\n",
       "fcfRatio    0.482481\n",
       "dtype: float64"
      ]
     },
     "execution_count": 34,
     "metadata": {},
     "output_type": "execute_result"
    }
   ],
   "source": [
    "df_fhb[['roe','rof','rocf','fcfRatio']].mean()"
   ]
  },
  {
   "cell_type": "code",
   "execution_count": 37,
   "metadata": {},
   "outputs": [
    {
     "data": {
      "text/plain": [
       "date\n",
       "2016      9192.0\n",
       "2017        34.0\n",
       "2018    600052.0\n",
       "2019    600019.0\n",
       "Name: totalDebt, dtype: float64"
      ]
     },
     "execution_count": 37,
     "metadata": {},
     "output_type": "execute_result"
    }
   ],
   "source": [
    "df_fhb.totalDebt"
   ]
  },
  {
   "cell_type": "code",
   "execution_count": 36,
   "metadata": {},
   "outputs": [
    {
     "data": {
      "text/plain": [
       "totalAssets         0.008488\n",
       "ocf                 0.104683\n",
       "totalLiabilities    0.006573\n",
       "totalDebt           3.026413\n",
       "dtype: float64"
      ]
     },
     "execution_count": 36,
     "metadata": {},
     "output_type": "execute_result"
    }
   ],
   "source": [
    "df_fhb[['totalAssets','ocf','totalLiabilities','totalDebt']].apply(lambda x:\n",
    "                                                                  annual_growth(x[-1],x[0],3))\n"
   ]
  },
  {
   "cell_type": "code",
   "execution_count": 40,
   "metadata": {},
   "outputs": [
    {
     "data": {
      "text/plain": [
       "0.16260329205681456"
      ]
     },
     "execution_count": 40,
     "metadata": {},
     "output_type": "execute_result"
    }
   ],
   "source": [
    "annual_growth(1.1,0.7,3)"
   ]
  },
  {
   "cell_type": "code",
   "execution_count": 41,
   "metadata": {},
   "outputs": [
    {
     "data": {
      "text/plain": [
       "bv     19.717312\n",
       "div     0.926141\n",
       "dtype: float64"
      ]
     },
     "execution_count": 41,
     "metadata": {},
     "output_type": "execute_result"
    }
   ],
   "source": [
    "df_fhb[['bv','div']].mean()"
   ]
  },
  {
   "cell_type": "code",
   "execution_count": 42,
   "metadata": {},
   "outputs": [
    {
     "data": {
      "text/plain": [
       "array([[<matplotlib.axes._subplots.AxesSubplot object at 0x121948450>,\n",
       "        <matplotlib.axes._subplots.AxesSubplot object at 0x12168fa10>],\n",
       "       [<matplotlib.axes._subplots.AxesSubplot object at 0x121948850>,\n",
       "        <matplotlib.axes._subplots.AxesSubplot object at 0x120b26350>],\n",
       "       [<matplotlib.axes._subplots.AxesSubplot object at 0x1216ec710>,\n",
       "        <matplotlib.axes._subplots.AxesSubplot object at 0x120f16ad0>]],\n",
       "      dtype=object)"
      ]
     },
     "execution_count": 42,
     "metadata": {},
     "output_type": "execute_result"
    },
    {
     "data": {
      "image/png": "[encoded data removed]",
      "text/plain": [
       "<Figure size 792x792 with 6 Axes>"
      ]
     },
     "metadata": {
      "needs_background": "light"
     },
     "output_type": "display_data"
    }
   ],
   "source": [
    "df_fhb[['bv','eps','fcf','div','totalAssets','totalLiabilities']].plot(figsize = (11,11),\n",
    "                                                                      layout = (3,-1),\n",
    "                                                                      subplots = True)"
   ]
  },
  {
   "cell_type": "code",
   "execution_count": 44,
   "metadata": {},
   "outputs": [
    {
     "name": "stderr",
     "output_type": "stream",
     "text": [
      "/Applications/anaconda3/envs/stocks/lib/python3.7/site-packages/ipykernel_launcher.py:2: RuntimeWarning: invalid value encountered in double_scalars\n",
      "  \n"
     ]
    },
    {
     "data": {
      "text/plain": [
       "netCashUsedProvidedByFinancingActivities   NaN\n",
       "netCashUsedForInvestingActivites           NaN\n",
       "dtype: float64"
      ]
     },
     "execution_count": 44,
     "metadata": {},
     "output_type": "execute_result"
    }
   ],
   "source": [
    "df_fhb[['netCashUsedProvidedByFinancingActivities','netCashUsedForInvestingActivites']].apply(\n",
    "lambda x: annual_growth(np.abs(x[-1]),x[1],3))"
   ]
  },
  {
   "cell_type": "code",
   "execution_count": null,
   "metadata": {},
   "outputs": [],
   "source": [
    "annual_growth()"
   ]
  },
  {
   "cell_type": "code",
   "execution_count": 46,
   "metadata": {},
   "outputs": [
    {
     "data": {
      "text/plain": [
       "date\n",
       "2016     78601.0\n",
       "2017    683893.0\n",
       "2018   -124611.0\n",
       "2019   -981336.0\n",
       "Name: netCashUsedProvidedByFinancingActivities, dtype: float64"
      ]
     },
     "execution_count": 46,
     "metadata": {},
     "output_type": "execute_result"
    }
   ],
   "source": [
    "df_fhb.netCashUsedProvidedByFinancingActivities"
   ]
  },
  {
   "cell_type": "code",
   "execution_count": 47,
   "metadata": {},
   "outputs": [
    {
     "data": {
      "text/html": [
       "<div>\n",
       "<style scoped>\n",
       "    .dataframe tbody tr th:only-of-type {\n",
       "        vertical-align: middle;\n",
       "    }\n",
       "\n",
       "    .dataframe tbody tr th {\n",
       "        vertical-align: top;\n",
       "    }\n",
       "\n",
       "    .dataframe thead th {\n",
       "        text-align: right;\n",
       "    }\n",
       "</style>\n",
       "<table border=\"1\" class=\"dataframe\">\n",
       "  <thead>\n",
       "    <tr style=\"text-align: right;\">\n",
       "      <th></th>\n",
       "      <th>pe</th>\n",
       "      <th>ps</th>\n",
       "      <th>pb</th>\n",
       "    </tr>\n",
       "    <tr>\n",
       "      <th>date</th>\n",
       "      <th></th>\n",
       "      <th></th>\n",
       "      <th></th>\n",
       "    </tr>\n",
       "  </thead>\n",
       "  <tbody>\n",
       "    <tr>\n",
       "      <th>2016</th>\n",
       "      <td>10.303030</td>\n",
       "      <td>4.460291</td>\n",
       "      <td>0.885529</td>\n",
       "    </tr>\n",
       "    <tr>\n",
       "      <th>2017</th>\n",
       "      <td>12.878788</td>\n",
       "      <td>4.147094</td>\n",
       "      <td>0.865925</td>\n",
       "    </tr>\n",
       "    <tr>\n",
       "      <th>2018</th>\n",
       "      <td>8.808290</td>\n",
       "      <td>3.872383</td>\n",
       "      <td>0.868570</td>\n",
       "    </tr>\n",
       "    <tr>\n",
       "      <th>2019</th>\n",
       "      <td>7.943925</td>\n",
       "      <td>3.824542</td>\n",
       "      <td>0.830601</td>\n",
       "    </tr>\n",
       "  </tbody>\n",
       "</table>\n",
       "</div>"
      ],
      "text/plain": [
       "             pe        ps        pb\n",
       "date                               \n",
       "2016  10.303030  4.460291  0.885529\n",
       "2017  12.878788  4.147094  0.865925\n",
       "2018   8.808290  3.872383  0.868570\n",
       "2019   7.943925  3.824542  0.830601"
      ]
     },
     "execution_count": 47,
     "metadata": {},
     "output_type": "execute_result"
    }
   ],
   "source": [
    "df_fhb[['pe','ps','pb']]"
   ]
  },
  {
   "cell_type": "code",
   "execution_count": 49,
   "metadata": {},
   "outputs": [
    {
     "data": {
      "text/plain": [
       "0.0933364985793863"
      ]
     },
     "execution_count": 49,
     "metadata": {},
     "output_type": "execute_result"
    }
   ],
   "source": [
    "annual_growth(267150.0,204406.0,3)"
   ]
  },
  {
   "cell_type": "code",
   "execution_count": 55,
   "metadata": {},
   "outputs": [],
   "source": [
    "cf_fhb = [df_fhb.freeCashFlow.median()]\n",
    "grs = [0.05,0.1]\n",
    "drs = [0.1,0.15,0.2]\n",
    "lgr = 0.03 "
   ]
  },
  {
   "cell_type": "code",
   "execution_count": 56,
   "metadata": {},
   "outputs": [
    {
     "data": {
      "text/plain": [
       "defaultdict(list,\n",
       "            {'263.428,5.0%': [30.53181183495535,\n",
       "              17.302533453839203,\n",
       "              11.970899366859754],\n",
       "             '263.428,10.0%': [36.17394462901439,\n",
       "              20.281406917348157,\n",
       "              13.896608860244863]})"
      ]
     },
     "execution_count": 56,
     "metadata": {},
     "output_type": "execute_result"
    }
   ],
   "source": [
    "intrinsic_cash(cf_fhb, grs,drs,lgr,df_fhb.shares.values[0],3)"
   ]
  },
  {
   "cell_type": "code",
   "execution_count": 58,
   "metadata": {},
   "outputs": [
    {
     "data": {
      "text/plain": [
       "15.312370839155095"
      ]
     },
     "execution_count": 58,
     "metadata": {},
     "output_type": "execute_result"
    }
   ],
   "source": [
    "intrinsic_bk(0.9,19,0.02,0.15,3)"
   ]
  },
  {
   "cell_type": "markdown",
   "metadata": {},
   "source": [
    "# BAC "
   ]
  },
  {
   "cell_type": "code",
   "execution_count": 59,
   "metadata": {},
   "outputs": [
    {
     "name": "stdout",
     "output_type": "stream",
     "text": [
      "https://fmpcloud.io/api/v3/cash-flow-statement/BAC?apikey=cb3b0c371586d9ce915d359479fe1c81\n",
      "https://fmpcloud.io/api/v3/balance-sheet-statement/BAC?apikey=cb3b0c371586d9ce915d359479fe1c81\n",
      "https://fmpcloud.io/api/v3/income-statement/BAC?apikey=cb3b0c371586d9ce915d359479fe1c81\n"
     ]
    }
   ],
   "source": [
    "dict_bac_cash,errs_bac = url_import(['BAC'], 'cash-flow-statement')\n",
    "dict_bac_balance,errs_bac = url_import(['BAC'], 'balance-sheet-statement')\n",
    "dict_bac_income,errs_bac = url_import(['BAC'], 'income-statement')"
   ]
  },
  {
   "cell_type": "code",
   "execution_count": 70,
   "metadata": {},
   "outputs": [],
   "source": [
    "df_bac_cash = pd.DataFrame(dict_bac_cash)\n",
    "df_bac_bal = pd.DataFrame(dict_bac_balance)\n",
    "df_bac_income = pd.DataFrame(dict_bac_income)"
   ]
  },
  {
   "cell_type": "code",
   "execution_count": 71,
   "metadata": {},
   "outputs": [],
   "source": [
    "df_bac_bal.date = df_bac_bal.date.map(lambda x: re.sub(r'-.*$','',x))\n",
    "df_bac_cash.date = df_bac_cash.date.map(lambda x: re.sub(r'-.*$','',x))\n",
    "df_bac_income.date = df_bac_income.date.map(lambda x: re.sub(r'-.*$','',x))"
   ]
  },
  {
   "cell_type": "code",
   "execution_count": 72,
   "metadata": {},
   "outputs": [],
   "source": [
    "df_bac_bal.set_index(['date'], inplace = True)\n",
    "df_bac_cash.set_index(['date'], inplace = True)\n",
    "df_bac_income.set_index(['date'], inplace = True)"
   ]
  },
  {
   "cell_type": "code",
   "execution_count": 73,
   "metadata": {},
   "outputs": [],
   "source": [
    "df_bac_cash.drop('netIncome',axis = 1, inplace = True)\n",
    "df_bac_cash.rename({'inventory': 'inventoryCash'}, axis = 1, inplace = True)"
   ]
  },
  {
   "cell_type": "code",
   "execution_count": 74,
   "metadata": {},
   "outputs": [],
   "source": [
    "df_bac = pd.concat([df_bac_income,df_bac_bal,df_bac_cash],axis = 1)"
   ]
  },
  {
   "cell_type": "code",
   "execution_count": 75,
   "metadata": {},
   "outputs": [],
   "source": [
    "df_bac.drop(['symbol','period'],axis = 1, inplace =True)"
   ]
  },
  {
   "cell_type": "code",
   "execution_count": 76,
   "metadata": {},
   "outputs": [],
   "source": [
    "df_bac['shares'] = 8E09"
   ]
  },
  {
   "cell_type": "code",
   "execution_count": 77,
   "metadata": {},
   "outputs": [],
   "source": [
    "df_bac.drop(['fillingDate','finalLink','link'],axis = 1,inplace = True)"
   ]
  },
  {
   "cell_type": "code",
   "execution_count": 78,
   "metadata": {},
   "outputs": [],
   "source": [
    "df_bac = df_bac/1000"
   ]
  },
  {
   "cell_type": "code",
   "execution_count": 79,
   "metadata": {},
   "outputs": [],
   "source": [
    "df_bac[['grossProfitRatio',\n",
    " 'ebitdaratio',\n",
    " 'operatingIncomeRatio',\n",
    " 'incomeBeforeTaxRatio',\n",
    " 'netIncomeRatio','eps']] = df_bac[['grossProfitRatio',\n",
    " 'ebitdaratio',\n",
    " 'operatingIncomeRatio',\n",
    " 'incomeBeforeTaxRatio',\n",
    " 'netIncomeRatio','eps']] * 1000"
   ]
  },
  {
   "cell_type": "code",
   "execution_count": 80,
   "metadata": {},
   "outputs": [],
   "source": [
    "df_bac = df_bac.sort_index()"
   ]
  },
  {
   "cell_type": "code",
   "execution_count": 81,
   "metadata": {},
   "outputs": [],
   "source": [
    "df_bac_main = df_bac.loc[:,['netIncomeRatio','totalLiabilities','totalAssets','totalStockholdersEquity']]"
   ]
  },
  {
   "cell_type": "code",
   "execution_count": 82,
   "metadata": {},
   "outputs": [],
   "source": [
    "df_bac_main['netIncome'] = df_bac_income['netIncome'] / 1000"
   ]
  },
  {
   "cell_type": "code",
   "execution_count": 92,
   "metadata": {},
   "outputs": [],
   "source": [
    "df_bac = metrics(df_bac)\n",
    "df_bac = price_ratios(df_bac, 23)"
   ]
  },
  {
   "cell_type": "code",
   "execution_count": null,
   "metadata": {},
   "outputs": [],
   "source": []
  },
  {
   "cell_type": "code",
   "execution_count": null,
   "metadata": {},
   "outputs": [],
   "source": []
  },
  {
   "cell_type": "markdown",
   "metadata": {},
   "source": [
    "# ANA"
   ]
  },
  {
   "cell_type": "code",
   "execution_count": 84,
   "metadata": {},
   "outputs": [
    {
     "data": {
      "text/plain": [
       "date\n",
       "2010         NaN\n",
       "2011    1.772974\n",
       "2012    1.292713\n",
       "2013    1.270701\n",
       "2014    1.009714\n",
       "2015    0.929291\n",
       "2016    0.820143\n",
       "2017    0.856820\n",
       "2018    0.870585\n",
       "2019    0.924425\n",
       "Name: de, dtype: float64"
      ]
     },
     "execution_count": 84,
     "metadata": {},
     "output_type": "execute_result"
    }
   ],
   "source": [
    "df_bac.de"
   ]
  },
  {
   "cell_type": "code",
   "execution_count": 86,
   "metadata": {},
   "outputs": [
    {
     "data": {
      "text/plain": [
       "230.19659534596315"
      ]
     },
     "execution_count": 86,
     "metadata": {},
     "output_type": "execute_result"
    }
   ],
   "source": [
    "df_bac.curr.mean()"
   ]
  },
  {
   "cell_type": "code",
   "execution_count": 88,
   "metadata": {},
   "outputs": [
    {
     "data": {
      "text/plain": [
       "roe         0.062013\n",
       "rof         0.109824\n",
       "rocf        0.109824\n",
       "fcfRatio    0.326740\n",
       "dtype: float64"
      ]
     },
     "execution_count": 88,
     "metadata": {},
     "output_type": "execute_result"
    }
   ],
   "source": [
    "df_bac[['roe','rof','rocf','fcfRatio']].median()"
   ]
  },
  {
   "cell_type": "code",
   "execution_count": 91,
   "metadata": {},
   "outputs": [
    {
     "data": {
      "text/plain": [
       "totalAssets         0.019312\n",
       "totalLiabilities    0.019195\n",
       "ocf                -0.006121\n",
       "totalDebt          -0.070366\n",
       "dtype: float64"
      ]
     },
     "execution_count": 91,
     "metadata": {},
     "output_type": "execute_result"
    }
   ],
   "source": [
    "df_bac[['totalAssets','totalLiabilities','ocf','totalDebt']].apply(lambda x: annual_growth(\n",
    "x[-1],x[1],7))"
   ]
  },
  {
   "cell_type": "code",
   "execution_count": 95,
   "metadata": {},
   "outputs": [
    {
     "data": {
      "text/plain": [
       "0.18920711500272103"
      ]
     },
     "execution_count": 95,
     "metadata": {},
     "output_type": "execute_result"
    }
   ],
   "source": [
    "annual_growth(0.8,0.2,8)"
   ]
  },
  {
   "cell_type": "code",
   "execution_count": 113,
   "metadata": {},
   "outputs": [
    {
     "data": {
      "text/html": [
       "<div>\n",
       "<style scoped>\n",
       "    .dataframe tbody tr th:only-of-type {\n",
       "        vertical-align: middle;\n",
       "    }\n",
       "\n",
       "    .dataframe tbody tr th {\n",
       "        vertical-align: top;\n",
       "    }\n",
       "\n",
       "    .dataframe thead th {\n",
       "        text-align: right;\n",
       "    }\n",
       "</style>\n",
       "<table border=\"1\" class=\"dataframe\">\n",
       "  <thead>\n",
       "    <tr style=\"text-align: right;\">\n",
       "      <th></th>\n",
       "      <th>bv</th>\n",
       "      <th>div</th>\n",
       "    </tr>\n",
       "    <tr>\n",
       "      <th>date</th>\n",
       "      <th></th>\n",
       "      <th></th>\n",
       "    </tr>\n",
       "  </thead>\n",
       "  <tbody>\n",
       "    <tr>\n",
       "      <th>2010</th>\n",
       "      <td>0.000000</td>\n",
       "      <td>0.000000</td>\n",
       "    </tr>\n",
       "    <tr>\n",
       "      <th>2011</th>\n",
       "      <td>28.762625</td>\n",
       "      <td>0.217250</td>\n",
       "    </tr>\n",
       "    <tr>\n",
       "      <th>2012</th>\n",
       "      <td>29.619500</td>\n",
       "      <td>0.238625</td>\n",
       "    </tr>\n",
       "    <tr>\n",
       "      <th>2013</th>\n",
       "      <td>29.085625</td>\n",
       "      <td>0.209625</td>\n",
       "    </tr>\n",
       "    <tr>\n",
       "      <th>2014</th>\n",
       "      <td>30.433875</td>\n",
       "      <td>0.157750</td>\n",
       "    </tr>\n",
       "    <tr>\n",
       "      <th>2015</th>\n",
       "      <td>32.025625</td>\n",
       "      <td>0.261375</td>\n",
       "    </tr>\n",
       "    <tr>\n",
       "      <th>2016</th>\n",
       "      <td>33.355000</td>\n",
       "      <td>0.321625</td>\n",
       "    </tr>\n",
       "    <tr>\n",
       "      <th>2017</th>\n",
       "      <td>33.393250</td>\n",
       "      <td>0.503375</td>\n",
       "    </tr>\n",
       "    <tr>\n",
       "      <th>2018</th>\n",
       "      <td>33.165625</td>\n",
       "      <td>0.678000</td>\n",
       "    </tr>\n",
       "    <tr>\n",
       "      <th>2019</th>\n",
       "      <td>33.101250</td>\n",
       "      <td>0.768250</td>\n",
       "    </tr>\n",
       "  </tbody>\n",
       "</table>\n",
       "</div>"
      ],
      "text/plain": [
       "             bv       div\n",
       "date                     \n",
       "2010   0.000000  0.000000\n",
       "2011  28.762625  0.217250\n",
       "2012  29.619500  0.238625\n",
       "2013  29.085625  0.209625\n",
       "2014  30.433875  0.157750\n",
       "2015  32.025625  0.261375\n",
       "2016  33.355000  0.321625\n",
       "2017  33.393250  0.503375\n",
       "2018  33.165625  0.678000\n",
       "2019  33.101250  0.768250"
      ]
     },
     "execution_count": 113,
     "metadata": {},
     "output_type": "execute_result"
    }
   ],
   "source": [
    "df_bac[['bv','div']]"
   ]
  },
  {
   "cell_type": "code",
   "execution_count": 96,
   "metadata": {},
   "outputs": [
    {
     "data": {
      "text/plain": [
       "array([[<matplotlib.axes._subplots.AxesSubplot object at 0x121752990>,\n",
       "        <matplotlib.axes._subplots.AxesSubplot object at 0x121f26a50>],\n",
       "       [<matplotlib.axes._subplots.AxesSubplot object at 0x121e77c50>,\n",
       "        <matplotlib.axes._subplots.AxesSubplot object at 0x122173d90>],\n",
       "       [<matplotlib.axes._subplots.AxesSubplot object at 0x120344750>,\n",
       "        <matplotlib.axes._subplots.AxesSubplot object at 0x122314b10>]],\n",
       "      dtype=object)"
      ]
     },
     "execution_count": 96,
     "metadata": {},
     "output_type": "execute_result"
    },
    {
     "data": {
      "image/png": "[encoded data removed]",
      "text/plain": [
       "<Figure size 792x792 with 6 Axes>"
      ]
     },
     "metadata": {
      "needs_background": "light"
     },
     "output_type": "display_data"
    }
   ],
   "source": [
    "df_bac[['bv','fcf','eps','div','totalAssets','totalLiabilities']].plot(subplots = True,\n",
    "                                                                      figsize = (11,11),\n",
    "                                                                      layout = (3,-1))"
   ]
  },
  {
   "cell_type": "code",
   "execution_count": 98,
   "metadata": {},
   "outputs": [
    {
     "data": {
      "text/html": [
       "<div>\n",
       "<style scoped>\n",
       "    .dataframe tbody tr th:only-of-type {\n",
       "        vertical-align: middle;\n",
       "    }\n",
       "\n",
       "    .dataframe tbody tr th {\n",
       "        vertical-align: top;\n",
       "    }\n",
       "\n",
       "    .dataframe thead th {\n",
       "        text-align: right;\n",
       "    }\n",
       "</style>\n",
       "<table border=\"1\" class=\"dataframe\">\n",
       "  <thead>\n",
       "    <tr style=\"text-align: right;\">\n",
       "      <th></th>\n",
       "      <th>pe</th>\n",
       "      <th>ps</th>\n",
       "      <th>pb</th>\n",
       "    </tr>\n",
       "    <tr>\n",
       "      <th>date</th>\n",
       "      <th></th>\n",
       "      <th></th>\n",
       "      <th></th>\n",
       "    </tr>\n",
       "  </thead>\n",
       "  <tbody>\n",
       "    <tr>\n",
       "      <th>2010</th>\n",
       "      <td>inf</td>\n",
       "      <td>298.217180</td>\n",
       "      <td>inf</td>\n",
       "    </tr>\n",
       "    <tr>\n",
       "      <th>2011</th>\n",
       "      <td>2300.000000</td>\n",
       "      <td>1.968883</td>\n",
       "      <td>0.799649</td>\n",
       "    </tr>\n",
       "    <tr>\n",
       "      <th>2012</th>\n",
       "      <td>88.461538</td>\n",
       "      <td>2.207982</td>\n",
       "      <td>0.776515</td>\n",
       "    </tr>\n",
       "    <tr>\n",
       "      <th>2013</th>\n",
       "      <td>24.468085</td>\n",
       "      <td>2.068764</td>\n",
       "      <td>0.790769</td>\n",
       "    </tr>\n",
       "    <tr>\n",
       "      <th>2014</th>\n",
       "      <td>63.888889</td>\n",
       "      <td>2.184054</td>\n",
       "      <td>0.755737</td>\n",
       "    </tr>\n",
       "    <tr>\n",
       "      <th>2015</th>\n",
       "      <td>16.666667</td>\n",
       "      <td>2.230114</td>\n",
       "      <td>0.718175</td>\n",
       "    </tr>\n",
       "    <tr>\n",
       "      <th>2016</th>\n",
       "      <td>14.556962</td>\n",
       "      <td>2.198301</td>\n",
       "      <td>0.689552</td>\n",
       "    </tr>\n",
       "    <tr>\n",
       "      <th>2017</th>\n",
       "      <td>14.110429</td>\n",
       "      <td>2.106420</td>\n",
       "      <td>0.688762</td>\n",
       "    </tr>\n",
       "    <tr>\n",
       "      <th>2018</th>\n",
       "      <td>8.712121</td>\n",
       "      <td>2.016505</td>\n",
       "      <td>0.693489</td>\n",
       "    </tr>\n",
       "    <tr>\n",
       "      <th>2019</th>\n",
       "      <td>8.303249</td>\n",
       "      <td>3.763474</td>\n",
       "      <td>0.694838</td>\n",
       "    </tr>\n",
       "  </tbody>\n",
       "</table>\n",
       "</div>"
      ],
      "text/plain": [
       "               pe          ps        pb\n",
       "date                                   \n",
       "2010          inf  298.217180       inf\n",
       "2011  2300.000000    1.968883  0.799649\n",
       "2012    88.461538    2.207982  0.776515\n",
       "2013    24.468085    2.068764  0.790769\n",
       "2014    63.888889    2.184054  0.755737\n",
       "2015    16.666667    2.230114  0.718175\n",
       "2016    14.556962    2.198301  0.689552\n",
       "2017    14.110429    2.106420  0.688762\n",
       "2018     8.712121    2.016505  0.693489\n",
       "2019     8.303249    3.763474  0.694838"
      ]
     },
     "execution_count": 98,
     "metadata": {},
     "output_type": "execute_result"
    }
   ],
   "source": [
    "df_bac[['pe','ps','pb']]"
   ]
  },
  {
   "cell_type": "code",
   "execution_count": 103,
   "metadata": {},
   "outputs": [
    {
     "data": {
      "text/plain": [
       "0.14977697890574482"
      ]
     },
     "execution_count": 103,
     "metadata": {},
     "output_type": "execute_result"
    }
   ],
   "source": [
    "annual_growth(61777000.0,26739000.0,6)"
   ]
  },
  {
   "cell_type": "code",
   "execution_count": 108,
   "metadata": {},
   "outputs": [],
   "source": [
    "cf_bac = [df_bac.freeCashFlow.mean()]\n",
    "grs = [0.05,0.1]\n"
   ]
  },
  {
   "cell_type": "code",
   "execution_count": 285,
   "metadata": {},
   "outputs": [
    {
     "data": {
      "text/plain": [
       "defaultdict(list,\n",
       "            {'32792.4,4.0%': [61.57904930898297, 35.323105349591124],\n",
       "             '32792.4,7.000000000000001%': [74.0731611619201,\n",
       "              41.49036936308162]})"
      ]
     },
     "execution_count": 285,
     "metadata": {},
     "output_type": "execute_result"
    }
   ],
   "source": [
    "intrinsic_cash(cf_bac, grs,drs,lgr, df_bac.shares.values[0],7)"
   ]
  },
  {
   "cell_type": "code",
   "execution_count": 117,
   "metadata": {},
   "outputs": [
    {
     "data": {
      "text/plain": [
       "19.556378915430315"
      ]
     },
     "execution_count": 117,
     "metadata": {},
     "output_type": "execute_result"
    }
   ],
   "source": [
    "intrinsic_bk(0.4,33,0.03,0.10,10)"
   ]
  },
  {
   "cell_type": "code",
   "execution_count": null,
   "metadata": {},
   "outputs": [],
   "source": []
  },
  {
   "cell_type": "markdown",
   "metadata": {},
   "source": [
    "# cfg"
   ]
  },
  {
   "cell_type": "code",
   "execution_count": null,
   "metadata": {},
   "outputs": [],
   "source": []
  },
  {
   "cell_type": "code",
   "execution_count": 118,
   "metadata": {},
   "outputs": [
    {
     "name": "stdout",
     "output_type": "stream",
     "text": [
      "https://fmpcloud.io/api/v3/cash-flow-statement/CFG?apikey=cb3b0c371586d9ce915d359479fe1c81\n",
      "https://fmpcloud.io/api/v3/balance-sheet-statement/CFG?apikey=cb3b0c371586d9ce915d359479fe1c81\n",
      "https://fmpcloud.io/api/v3/income-statement/CFG?apikey=cb3b0c371586d9ce915d359479fe1c81\n"
     ]
    }
   ],
   "source": [
    "dict_cfg_cash,errs_cfg = url_import(['CFG'], 'cash-flow-statement')\n",
    "dict_cfg_balance,errs_cfg = url_import(['CFG'], 'balance-sheet-statement')\n",
    "dict_cfg_income,errs_cfg = url_import(['CFG'], 'income-statement')"
   ]
  },
  {
   "cell_type": "code",
   "execution_count": 119,
   "metadata": {},
   "outputs": [],
   "source": [
    "df_cfg_cash = pd.DataFrame(dict_cfg_cash)\n",
    "df_cfg_bal = pd.DataFrame(dict_cfg_balance)\n",
    "df_cfg_income = pd.DataFrame(dict_cfg_income)"
   ]
  },
  {
   "cell_type": "code",
   "execution_count": 120,
   "metadata": {},
   "outputs": [],
   "source": [
    "df_cfg_bal.date = df_cfg_bal.date.map(lambda x: re.sub(r'-.*$','',x))\n",
    "df_cfg_cash.date = df_cfg_cash.date.map(lambda x: re.sub(r'-.*$','',x))\n",
    "df_cfg_income.date = df_cfg_income.date.map(lambda x: re.sub(r'-.*$','',x))"
   ]
  },
  {
   "cell_type": "code",
   "execution_count": 121,
   "metadata": {},
   "outputs": [],
   "source": [
    "df_cfg_bal.set_index(['date'], inplace = True)\n",
    "df_cfg_cash.set_index(['date'], inplace = True)\n",
    "df_cfg_income.set_index(['date'], inplace = True)"
   ]
  },
  {
   "cell_type": "code",
   "execution_count": 122,
   "metadata": {},
   "outputs": [],
   "source": [
    "df_cfg_cash.drop('netIncome',axis = 1, inplace = True)\n",
    "df_cfg_cash.rename({'inventory': 'inventoryCash'}, axis = 1, inplace = True)"
   ]
  },
  {
   "cell_type": "code",
   "execution_count": 123,
   "metadata": {},
   "outputs": [],
   "source": [
    "df_cfg = pd.concat([df_cfg_income,df_cfg_bal,df_cfg_cash],axis = 1)"
   ]
  },
  {
   "cell_type": "code",
   "execution_count": 124,
   "metadata": {},
   "outputs": [],
   "source": [
    "df_cfg.drop(['symbol','period'],axis = 1, inplace =True)"
   ]
  },
  {
   "cell_type": "code",
   "execution_count": 125,
   "metadata": {},
   "outputs": [],
   "source": [
    "df_cfg['shares'] = 426E06"
   ]
  },
  {
   "cell_type": "code",
   "execution_count": 126,
   "metadata": {},
   "outputs": [],
   "source": [
    "df_cfg.drop(['fillingDate','finalLink','link'],axis = 1,inplace = True)"
   ]
  },
  {
   "cell_type": "code",
   "execution_count": 127,
   "metadata": {},
   "outputs": [],
   "source": [
    "df_cfg = df_cfg/1000"
   ]
  },
  {
   "cell_type": "code",
   "execution_count": 128,
   "metadata": {},
   "outputs": [],
   "source": [
    "df_cfg[['grossProfitRatio',\n",
    " 'ebitdaratio',\n",
    " 'operatingIncomeRatio',\n",
    " 'incomeBeforeTaxRatio',\n",
    " 'netIncomeRatio','eps']] = df_cfg[['grossProfitRatio',\n",
    " 'ebitdaratio',\n",
    " 'operatingIncomeRatio',\n",
    " 'incomeBeforeTaxRatio',\n",
    " 'netIncomeRatio','eps']] * 1000"
   ]
  },
  {
   "cell_type": "code",
   "execution_count": 129,
   "metadata": {},
   "outputs": [],
   "source": [
    "df_cfg = df_cfg.sort_index()"
   ]
  },
  {
   "cell_type": "code",
   "execution_count": 130,
   "metadata": {},
   "outputs": [],
   "source": [
    "df_cfg_main = df_cfg.loc[:,['netIncomeRatio','totalLiabilities','totalAssets','totalStockholdersEquity']]"
   ]
  },
  {
   "cell_type": "code",
   "execution_count": 131,
   "metadata": {},
   "outputs": [],
   "source": [
    "df_cfg_main['netIncome'] = df_cfg_income['netIncome'] / 1000"
   ]
  },
  {
   "cell_type": "code",
   "execution_count": 132,
   "metadata": {},
   "outputs": [],
   "source": [
    "df_cfg = metrics(df_cfg)\n",
    "df_cfg = price_ratios(df_cfg, 20)"
   ]
  },
  {
   "cell_type": "code",
   "execution_count": null,
   "metadata": {},
   "outputs": [],
   "source": []
  },
  {
   "cell_type": "markdown",
   "metadata": {},
   "source": [
    "# ana"
   ]
  },
  {
   "cell_type": "code",
   "execution_count": 134,
   "metadata": {},
   "outputs": [
    {
     "data": {
      "text/plain": [
       "0.7532023443374608"
      ]
     },
     "execution_count": 134,
     "metadata": {},
     "output_type": "execute_result"
    }
   ],
   "source": [
    "df_cfg.de.mean()"
   ]
  },
  {
   "cell_type": "code",
   "execution_count": 135,
   "metadata": {},
   "outputs": [
    {
     "data": {
      "text/plain": [
       "date\n",
       "2014    0.114190\n",
       "2015    0.096362\n",
       "2016    0.114694\n",
       "2017    0.094764\n",
       "2018    0.107415\n",
       "2019    0.086410\n",
       "Name: debtRatio, dtype: float64"
      ]
     },
     "execution_count": 135,
     "metadata": {},
     "output_type": "execute_result"
    }
   ],
   "source": [
    "df_cfg.debtRatio"
   ]
  },
  {
   "cell_type": "code",
   "execution_count": 136,
   "metadata": {},
   "outputs": [
    {
     "data": {
      "text/plain": [
       "date\n",
       "2014      2.071125\n",
       "2015      6.005438\n",
       "2016      5.273347\n",
       "2017     50.002242\n",
       "2018     49.921548\n",
       "2019    504.931900\n",
       "Name: curr, dtype: float64"
      ]
     },
     "execution_count": 136,
     "metadata": {},
     "output_type": "execute_result"
    }
   ],
   "source": [
    "df_cfg.curr"
   ]
  },
  {
   "cell_type": "code",
   "execution_count": 140,
   "metadata": {},
   "outputs": [
    {
     "data": {
      "text/plain": [
       "0.1476132989696987"
      ]
     },
     "execution_count": 140,
     "metadata": {},
     "output_type": "execute_result"
    }
   ],
   "source": [
    "df_bac.rof.mean()"
   ]
  },
  {
   "cell_type": "code",
   "execution_count": 139,
   "metadata": {},
   "outputs": [
    {
     "data": {
      "text/plain": [
       "roe         0.064236\n",
       "rof         0.069100\n",
       "rocf        0.077395\n",
       "fcfRatio    0.355604\n",
       "dtype: float64"
      ]
     },
     "execution_count": 139,
     "metadata": {},
     "output_type": "execute_result"
    }
   ],
   "source": [
    "df_cfg[['roe','rof','rocf','fcfRatio']].mean()"
   ]
  },
  {
   "cell_type": "code",
   "execution_count": 141,
   "metadata": {},
   "outputs": [
    {
     "data": {
      "text/plain": [
       "totalAssets         0.045213\n",
       "totalLiabilities    0.047906\n",
       "ocf                 0.040719\n",
       "dtype: float64"
      ]
     },
     "execution_count": 141,
     "metadata": {},
     "output_type": "execute_result"
    }
   ],
   "source": [
    "df_cfg[['totalAssets','totalLiabilities','ocf']].apply(lambda x: annual_growth(x[-1],x[0],5))"
   ]
  },
  {
   "cell_type": "code",
   "execution_count": 144,
   "metadata": {},
   "outputs": [
    {
     "data": {
      "text/plain": [
       "0.48411139390205893"
      ]
     },
     "execution_count": 144,
     "metadata": {},
     "output_type": "execute_result"
    }
   ],
   "source": [
    "annual_growth(1.44,0.2,5)"
   ]
  },
  {
   "cell_type": "code",
   "execution_count": 145,
   "metadata": {},
   "outputs": [
    {
     "data": {
      "text/plain": [
       "bv     47.710876\n",
       "div     0.594679\n",
       "dtype: float64"
      ]
     },
     "execution_count": 145,
     "metadata": {},
     "output_type": "execute_result"
    }
   ],
   "source": [
    "df_cfg[['bv','div']].mean()"
   ]
  },
  {
   "cell_type": "code",
   "execution_count": 146,
   "metadata": {},
   "outputs": [
    {
     "data": {
      "text/plain": [
       "array([[<matplotlib.axes._subplots.AxesSubplot object at 0x124ca9690>,\n",
       "        <matplotlib.axes._subplots.AxesSubplot object at 0x124ce1b10>,\n",
       "        <matplotlib.axes._subplots.AxesSubplot object at 0x124cbbf50>],\n",
       "       [<matplotlib.axes._subplots.AxesSubplot object at 0x124cf1990>,\n",
       "        <matplotlib.axes._subplots.AxesSubplot object at 0x124d89250>,\n",
       "        <matplotlib.axes._subplots.AxesSubplot object at 0x124dbb610>],\n",
       "       [<matplotlib.axes._subplots.AxesSubplot object at 0x124dee990>,\n",
       "        <matplotlib.axes._subplots.AxesSubplot object at 0x124e21c50>,\n",
       "        <matplotlib.axes._subplots.AxesSubplot object at 0x124e21c90>]],\n",
       "      dtype=object)"
      ]
     },
     "execution_count": 146,
     "metadata": {},
     "output_type": "execute_result"
    },
    {
     "data": {
      "image/png": "[encoded data removed]",
      "text/plain": [
       "<Figure size 792x792 with 9 Axes>"
      ]
     },
     "metadata": {
      "needs_background": "light"
     },
     "output_type": "display_data"
    }
   ],
   "source": [
    "df_cfg[['bv','eps','fcf','div','totalAssets','totalLiabilities','totalDebt']].plot(figsize = (11,11),\n",
    "                                                                                  subplots = True,\n",
    "                                                                                  layout = (3,-1))"
   ]
  },
  {
   "cell_type": "code",
   "execution_count": 149,
   "metadata": {},
   "outputs": [
    {
     "data": {
      "text/html": [
       "<div>\n",
       "<style scoped>\n",
       "    .dataframe tbody tr th:only-of-type {\n",
       "        vertical-align: middle;\n",
       "    }\n",
       "\n",
       "    .dataframe tbody tr th {\n",
       "        vertical-align: top;\n",
       "    }\n",
       "\n",
       "    .dataframe thead th {\n",
       "        text-align: right;\n",
       "    }\n",
       "</style>\n",
       "<table border=\"1\" class=\"dataframe\">\n",
       "  <thead>\n",
       "    <tr style=\"text-align: right;\">\n",
       "      <th></th>\n",
       "      <th>netCashUsedProvidedByFinancingActivities</th>\n",
       "      <th>netCashUsedForInvestingActivites</th>\n",
       "    </tr>\n",
       "    <tr>\n",
       "      <th>date</th>\n",
       "      <th></th>\n",
       "      <th></th>\n",
       "    </tr>\n",
       "  </thead>\n",
       "  <tbody>\n",
       "    <tr>\n",
       "      <th>2014</th>\n",
       "      <td>9403000.0</td>\n",
       "      <td>-10274000.0</td>\n",
       "    </tr>\n",
       "    <tr>\n",
       "      <th>2015</th>\n",
       "      <td>4485000.0</td>\n",
       "      <td>-5905000.0</td>\n",
       "    </tr>\n",
       "    <tr>\n",
       "      <th>2016</th>\n",
       "      <td>10455000.0</td>\n",
       "      <td>-11326000.0</td>\n",
       "    </tr>\n",
       "    <tr>\n",
       "      <th>2017</th>\n",
       "      <td>1429000.0</td>\n",
       "      <td>-3984000.0</td>\n",
       "    </tr>\n",
       "    <tr>\n",
       "      <th>2018</th>\n",
       "      <td>6352000.0</td>\n",
       "      <td>-7077000.0</td>\n",
       "    </tr>\n",
       "    <tr>\n",
       "      <th>2019</th>\n",
       "      <td>1490000.0</td>\n",
       "      <td>-3875000.0</td>\n",
       "    </tr>\n",
       "  </tbody>\n",
       "</table>\n",
       "</div>"
      ],
      "text/plain": [
       "      netCashUsedProvidedByFinancingActivities  \\\n",
       "date                                             \n",
       "2014                                 9403000.0   \n",
       "2015                                 4485000.0   \n",
       "2016                                10455000.0   \n",
       "2017                                 1429000.0   \n",
       "2018                                 6352000.0   \n",
       "2019                                 1490000.0   \n",
       "\n",
       "      netCashUsedForInvestingActivites  \n",
       "date                                    \n",
       "2014                       -10274000.0  \n",
       "2015                        -5905000.0  \n",
       "2016                       -11326000.0  \n",
       "2017                        -3984000.0  \n",
       "2018                        -7077000.0  \n",
       "2019                        -3875000.0  "
      ]
     },
     "execution_count": 149,
     "metadata": {},
     "output_type": "execute_result"
    }
   ],
   "source": [
    "df_cfg[['netCashUsedProvidedByFinancingActivities','netCashUsedForInvestingActivites']]"
   ]
  },
  {
   "cell_type": "code",
   "execution_count": 152,
   "metadata": {},
   "outputs": [
    {
     "data": {
      "text/plain": [
       "date\n",
       "2014    3.493113\n",
       "2015    2.794248\n",
       "2016    3.019685\n",
       "2017    2.559572\n",
       "2018    1.780587\n",
       "2019    1.429206\n",
       "Name: intCov, dtype: float64"
      ]
     },
     "execution_count": 152,
     "metadata": {},
     "output_type": "execute_result"
    }
   ],
   "source": [
    "df_cfg.intCov"
   ]
  },
  {
   "cell_type": "code",
   "execution_count": 154,
   "metadata": {},
   "outputs": [
    {
     "data": {
      "text/html": [
       "<div>\n",
       "<style scoped>\n",
       "    .dataframe tbody tr th:only-of-type {\n",
       "        vertical-align: middle;\n",
       "    }\n",
       "\n",
       "    .dataframe tbody tr th {\n",
       "        vertical-align: top;\n",
       "    }\n",
       "\n",
       "    .dataframe thead th {\n",
       "        text-align: right;\n",
       "    }\n",
       "</style>\n",
       "<table border=\"1\" class=\"dataframe\">\n",
       "  <thead>\n",
       "    <tr style=\"text-align: right;\">\n",
       "      <th></th>\n",
       "      <th>pe</th>\n",
       "      <th>ps</th>\n",
       "      <th>pb</th>\n",
       "    </tr>\n",
       "    <tr>\n",
       "      <th>date</th>\n",
       "      <th></th>\n",
       "      <th></th>\n",
       "      <th></th>\n",
       "    </tr>\n",
       "  </thead>\n",
       "  <tbody>\n",
       "    <tr>\n",
       "      <th>2014</th>\n",
       "      <td>12.903226</td>\n",
       "      <td>2.581036</td>\n",
       "      <td>0.442184</td>\n",
       "    </tr>\n",
       "    <tr>\n",
       "      <th>2015</th>\n",
       "      <td>12.903226</td>\n",
       "      <td>2.504409</td>\n",
       "      <td>0.433676</td>\n",
       "    </tr>\n",
       "    <tr>\n",
       "      <th>2016</th>\n",
       "      <td>10.152284</td>\n",
       "      <td>2.267163</td>\n",
       "      <td>0.431458</td>\n",
       "    </tr>\n",
       "    <tr>\n",
       "      <th>2017</th>\n",
       "      <td>6.134969</td>\n",
       "      <td>2.041697</td>\n",
       "      <td>0.420326</td>\n",
       "    </tr>\n",
       "    <tr>\n",
       "      <th>2018</th>\n",
       "      <td>5.649718</td>\n",
       "      <td>1.879965</td>\n",
       "      <td>0.409281</td>\n",
       "    </tr>\n",
       "    <tr>\n",
       "      <th>2019</th>\n",
       "      <td>5.235602</td>\n",
       "      <td>1.846554</td>\n",
       "      <td>0.383766</td>\n",
       "    </tr>\n",
       "  </tbody>\n",
       "</table>\n",
       "</div>"
      ],
      "text/plain": [
       "             pe        ps        pb\n",
       "date                               \n",
       "2014  12.903226  2.581036  0.442184\n",
       "2015  12.903226  2.504409  0.433676\n",
       "2016  10.152284  2.267163  0.431458\n",
       "2017   6.134969  2.041697  0.420326\n",
       "2018   5.649718  1.879965  0.409281\n",
       "2019   5.235602  1.846554  0.383766"
      ]
     },
     "execution_count": 154,
     "metadata": {},
     "output_type": "execute_result"
    }
   ],
   "source": [
    "df_cfg[['pe','ps','pb']]"
   ]
  },
  {
   "cell_type": "code",
   "execution_count": 157,
   "metadata": {},
   "outputs": [
    {
     "data": {
      "text/plain": [
       "0.072327108028434"
      ]
     },
     "execution_count": 157,
     "metadata": {},
     "output_type": "execute_result"
    }
   ],
   "source": [
    "annual_growth(1571000.0,1108000.0,5)"
   ]
  },
  {
   "cell_type": "code",
   "execution_count": 162,
   "metadata": {},
   "outputs": [],
   "source": [
    "cf_cfg = [df_cfg.freeCashFlow.median()]\n",
    "grs = [0.04,0.08]\n"
   ]
  },
  {
   "cell_type": "code",
   "execution_count": 284,
   "metadata": {},
   "outputs": [
    {
     "data": {
      "text/plain": [
       "defaultdict(list,\n",
       "            {'1443.5,4.0%': [49.97514314067773, 28.568193051217737],\n",
       "             '1443.5,7.000000000000001%': [57.842659118458634,\n",
       "              32.58828415056725]})"
      ]
     },
     "execution_count": 284,
     "metadata": {},
     "output_type": "execute_result"
    }
   ],
   "source": [
    "intrinsic_cash(cf_cfg, grs,drs,lgr,df_cfg.shares.values[0],5)"
   ]
  },
  {
   "cell_type": "code",
   "execution_count": 169,
   "metadata": {},
   "outputs": [
    {
     "data": {
      "text/plain": [
       "57.722759005437396"
      ]
     },
     "execution_count": 169,
     "metadata": {},
     "output_type": "execute_result"
    }
   ],
   "source": [
    "intrinsic_bk(0.7,48,0.03,0.005,5)"
   ]
  },
  {
   "cell_type": "code",
   "execution_count": null,
   "metadata": {},
   "outputs": [],
   "source": []
  },
  {
   "cell_type": "markdown",
   "metadata": {},
   "source": [
    "# WFC "
   ]
  },
  {
   "cell_type": "code",
   "execution_count": null,
   "metadata": {},
   "outputs": [],
   "source": []
  },
  {
   "cell_type": "code",
   "execution_count": 224,
   "metadata": {},
   "outputs": [
    {
     "name": "stdout",
     "output_type": "stream",
     "text": [
      "https://fmpcloud.io/api/v3/cash-flow-statement/WFC?apikey=cb3b0c371586d9ce915d359479fe1c81\n",
      "https://fmpcloud.io/api/v3/balance-sheet-statement/WFC?apikey=cb3b0c371586d9ce915d359479fe1c81\n",
      "https://fmpcloud.io/api/v3/income-statement/WFC?apikey=cb3b0c371586d9ce915d359479fe1c81\n"
     ]
    }
   ],
   "source": [
    "dict_wf_cash,errs_wf = url_import(['WFC'], 'cash-flow-statement')\n",
    "dict_wf_balance,errs_wf = url_import(['WFC'], 'balance-sheet-statement')\n",
    "dict_wf_income,errs_wf = url_import(['WFC'], 'income-statement')"
   ]
  },
  {
   "cell_type": "code",
   "execution_count": 225,
   "metadata": {},
   "outputs": [],
   "source": [
    "df_wf_cash = pd.DataFrame(dict_wf_cash)\n",
    "df_wf_bal = pd.DataFrame(dict_wf_balance)\n",
    "df_wf_income = pd.DataFrame(dict_wf_income)"
   ]
  },
  {
   "cell_type": "code",
   "execution_count": 226,
   "metadata": {},
   "outputs": [],
   "source": [
    "df_wf_bal.date = df_wf_bal.date.map(lambda x: re.sub(r'-.*$','',x))\n",
    "df_wf_cash.date = df_wf_cash.date.map(lambda x: re.sub(r'-.*$','',x))\n",
    "df_wf_income.date = df_wf_income.date.map(lambda x: re.sub(r'-.*$','',x))"
   ]
  },
  {
   "cell_type": "code",
   "execution_count": 227,
   "metadata": {},
   "outputs": [],
   "source": [
    "df_wf_bal.set_index(['date'], inplace = True)\n",
    "df_wf_cash.set_index(['date'], inplace = True)\n",
    "df_wf_income.set_index(['date'], inplace = True)"
   ]
  },
  {
   "cell_type": "code",
   "execution_count": 228,
   "metadata": {},
   "outputs": [],
   "source": [
    "df_wf_cash.drop('netIncome',axis = 1, inplace = True)\n",
    "df_wf_cash.rename({'inventory': 'inventoryCash'}, axis = 1, inplace = True)"
   ]
  },
  {
   "cell_type": "code",
   "execution_count": 229,
   "metadata": {},
   "outputs": [],
   "source": [
    "df_wf = pd.concat([df_wf_income,df_wf_bal,df_wf_cash],axis = 1)"
   ]
  },
  {
   "cell_type": "code",
   "execution_count": 230,
   "metadata": {},
   "outputs": [],
   "source": [
    "df_wf.drop(['symbol','period'],axis = 1, inplace =True)"
   ]
  },
  {
   "cell_type": "code",
   "execution_count": 231,
   "metadata": {},
   "outputs": [],
   "source": [
    "df_wf['shares'] = 4E09"
   ]
  },
  {
   "cell_type": "code",
   "execution_count": 232,
   "metadata": {},
   "outputs": [],
   "source": [
    "df_wf.drop(['fillingDate','finalLink','link'],axis = 1,inplace = True)"
   ]
  },
  {
   "cell_type": "code",
   "execution_count": 233,
   "metadata": {},
   "outputs": [],
   "source": [
    "df_wf = df_wf/1000"
   ]
  },
  {
   "cell_type": "code",
   "execution_count": 234,
   "metadata": {},
   "outputs": [],
   "source": [
    "df_wf[['grossProfitRatio',\n",
    " 'ebitdaratio',\n",
    " 'operatingIncomeRatio',\n",
    " 'incomeBeforeTaxRatio',\n",
    " 'netIncomeRatio','eps']] = df_wf[['grossProfitRatio',\n",
    " 'ebitdaratio',\n",
    " 'operatingIncomeRatio',\n",
    " 'incomeBeforeTaxRatio',\n",
    " 'netIncomeRatio','eps']] * 1000"
   ]
  },
  {
   "cell_type": "code",
   "execution_count": 235,
   "metadata": {},
   "outputs": [],
   "source": [
    "df_wf = df_wf.sort_index()"
   ]
  },
  {
   "cell_type": "code",
   "execution_count": 236,
   "metadata": {},
   "outputs": [],
   "source": [
    "df_wf_main = df_wf.loc[:,['netIncomeRatio','totalLiabilities','totalAssets','totalStockholdersEquity']]"
   ]
  },
  {
   "cell_type": "code",
   "execution_count": 237,
   "metadata": {},
   "outputs": [],
   "source": [
    "df_wf_main['netIncome'] = df_wf_income['netIncome'] / 1000"
   ]
  },
  {
   "cell_type": "code",
   "execution_count": 238,
   "metadata": {},
   "outputs": [],
   "source": [
    "df_wf = metrics(df_wf)\n",
    "df_wf = price_ratios(df_wf, 27)"
   ]
  },
  {
   "cell_type": "code",
   "execution_count": null,
   "metadata": {},
   "outputs": [],
   "source": []
  },
  {
   "cell_type": "markdown",
   "metadata": {},
   "source": [
    "# ANA"
   ]
  },
  {
   "cell_type": "code",
   "execution_count": 239,
   "metadata": {},
   "outputs": [
    {
     "data": {
      "text/plain": [
       "date\n",
       "2010         NaN\n",
       "2011    1.243894\n",
       "2012    1.171370\n",
       "2013    1.215931\n",
       "2014    1.342023\n",
       "2015    1.539208\n",
       "2016    1.762983\n",
       "2017    1.586365\n",
       "2018    1.706876\n",
       "2019    1.777772\n",
       "Name: de, dtype: float64"
      ]
     },
     "execution_count": 239,
     "metadata": {},
     "output_type": "execute_result"
    }
   ],
   "source": [
    "df_wf.de"
   ]
  },
  {
   "cell_type": "code",
   "execution_count": 240,
   "metadata": {},
   "outputs": [
    {
     "data": {
      "text/plain": [
       "date\n",
       "2010         NaN\n",
       "2011    0.132772\n",
       "2012    0.129697\n",
       "2013    0.135481\n",
       "2014    0.146674\n",
       "2015    0.166177\n",
       "2016    0.182299\n",
       "2017    0.168195\n",
       "2018    0.176610\n",
       "2019    0.172604\n",
       "Name: debtRatio, dtype: float64"
      ]
     },
     "execution_count": 240,
     "metadata": {},
     "output_type": "execute_result"
    }
   ],
   "source": [
    "df_wf.debtRatio"
   ]
  },
  {
   "cell_type": "code",
   "execution_count": 241,
   "metadata": {},
   "outputs": [
    {
     "data": {
      "text/plain": [
       "1.8444113468683563"
      ]
     },
     "execution_count": 241,
     "metadata": {},
     "output_type": "execute_result"
    }
   ],
   "source": [
    "df_wf.curr.mean()"
   ]
  },
  {
   "cell_type": "code",
   "execution_count": 242,
   "metadata": {},
   "outputs": [
    {
     "data": {
      "text/plain": [
       "5.0181741806406"
      ]
     },
     "execution_count": 242,
     "metadata": {},
     "output_type": "execute_result"
    }
   ],
   "source": [
    "df_wf.intCov.mean()"
   ]
  },
  {
   "cell_type": "code",
   "execution_count": 243,
   "metadata": {},
   "outputs": [
    {
     "data": {
      "text/plain": [
       "roe         0.055552\n",
       "rof         0.147613\n",
       "fcfRatio    0.425530\n",
       "dtype: float64"
      ]
     },
     "execution_count": 243,
     "metadata": {},
     "output_type": "execute_result"
    }
   ],
   "source": [
    "df_bac[['roe','rof','fcfRatio']].mean()"
   ]
  },
  {
   "cell_type": "code",
   "execution_count": 244,
   "metadata": {},
   "outputs": [
    {
     "data": {
      "text/plain": [
       "roe         0.064236\n",
       "rof         0.069100\n",
       "fcfRatio    0.355604\n",
       "dtype: float64"
      ]
     },
     "execution_count": 244,
     "metadata": {},
     "output_type": "execute_result"
    }
   ],
   "source": [
    "df_cfg[['roe','rof','fcfRatio']].mean()"
   ]
  },
  {
   "cell_type": "code",
   "execution_count": 245,
   "metadata": {},
   "outputs": [
    {
     "data": {
      "text/plain": [
       "roe         0.094476\n",
       "rof         0.102810\n",
       "fcfRatio    0.482481\n",
       "dtype: float64"
      ]
     },
     "execution_count": 245,
     "metadata": {},
     "output_type": "execute_result"
    }
   ],
   "source": [
    "df_fhb[['roe','rof','fcfRatio']].mean()"
   ]
  },
  {
   "cell_type": "code",
   "execution_count": 246,
   "metadata": {},
   "outputs": [
    {
     "data": {
      "text/plain": [
       "roe          0.115675\n",
       "rof          0.143394\n",
       "rocf         0.143394\n",
       "fcfRatio    36.226236\n",
       "dtype: float64"
      ]
     },
     "execution_count": 246,
     "metadata": {},
     "output_type": "execute_result"
    }
   ],
   "source": [
    "df_wf[['roe','rof','rocf','fcfRatio']].mean()"
   ]
  },
  {
   "cell_type": "code",
   "execution_count": null,
   "metadata": {},
   "outputs": [],
   "source": [
    "annual_growth()"
   ]
  },
  {
   "cell_type": "code",
   "execution_count": 259,
   "metadata": {},
   "outputs": [
    {
     "data": {
      "text/plain": [
       "-30428700.0"
      ]
     },
     "execution_count": 259,
     "metadata": {},
     "output_type": "execute_result"
    }
   ],
   "source": [
    "df_bac.commonStockRepurchased.mean()"
   ]
  },
  {
   "cell_type": "code",
   "execution_count": 255,
   "metadata": {},
   "outputs": [
    {
     "data": {
      "text/plain": [
       "0.1369549892390527"
      ]
     },
     "execution_count": 255,
     "metadata": {},
     "output_type": "execute_result"
    }
   ],
   "source": [
    "annual_growth(2,0.63,9)"
   ]
  },
  {
   "cell_type": "code",
   "execution_count": 256,
   "metadata": {
    "scrolled": true
   },
   "outputs": [
    {
     "data": {
      "text/plain": [
       "bv                        4.087895e+01\n",
       "div                       1.455125e+00\n",
       "commonStockRepurchased   -9.299100e+06\n",
       "dtype: float64"
      ]
     },
     "execution_count": 256,
     "metadata": {},
     "output_type": "execute_result"
    }
   ],
   "source": [
    "df_wf[['bv','div','commonStockRepurchased']].mean()"
   ]
  },
  {
   "cell_type": "code",
   "execution_count": 264,
   "metadata": {},
   "outputs": [
    {
     "data": {
      "text/plain": [
       "date\n",
       "2016    1.584543\n",
       "2017    2.013225\n",
       "2018    2.445992\n",
       "2019    2.070930\n",
       "Name: fcf, dtype: float64"
      ]
     },
     "execution_count": 264,
     "metadata": {},
     "output_type": "execute_result"
    }
   ],
   "source": [
    "df_.fcf"
   ]
  },
  {
   "cell_type": "code",
   "execution_count": 260,
   "metadata": {},
   "outputs": [
    {
     "data": {
      "text/plain": [
       "array([[<matplotlib.axes._subplots.AxesSubplot object at 0x125d268d0>,\n",
       "        <matplotlib.axes._subplots.AxesSubplot object at 0x124d90a10>],\n",
       "       [<matplotlib.axes._subplots.AxesSubplot object at 0x1251c3850>,\n",
       "        <matplotlib.axes._subplots.AxesSubplot object at 0x124bea650>],\n",
       "       [<matplotlib.axes._subplots.AxesSubplot object at 0x121115950>,\n",
       "        <matplotlib.axes._subplots.AxesSubplot object at 0x121e77810>]],\n",
       "      dtype=object)"
      ]
     },
     "execution_count": 260,
     "metadata": {},
     "output_type": "execute_result"
    },
    {
     "data": {
      "image/png": "[encoded data removed]",
      "text/plain": [
       "<Figure size 792x792 with 6 Axes>"
      ]
     },
     "metadata": {
      "needs_background": "light"
     },
     "output_type": "display_data"
    }
   ],
   "source": [
    "df_wf[['bv','eps','fcf','div','totalAssets','totalLiabilities']].plot(subplots = True,\n",
    "                                                                     figsize = (11,11),\n",
    "                                                                     layout =(3,-1))"
   ]
  },
  {
   "cell_type": "code",
   "execution_count": 271,
   "metadata": {},
   "outputs": [
    {
     "data": {
      "text/plain": [
       "0.04600716124989135"
      ]
     },
     "execution_count": 271,
     "metadata": {},
     "output_type": "execute_result"
    }
   ],
   "source": [
    "annual_growth(18722000,13665000.0,7)"
   ]
  },
  {
   "cell_type": "code",
   "execution_count": 286,
   "metadata": {},
   "outputs": [],
   "source": [
    "cf_wf = [df_wf.freeCashFlow.median()]\n",
    "grs = [0.04,0.07]\n",
    "drs= [0.1,0.15,0.2]"
   ]
  },
  {
   "cell_type": "code",
   "execution_count": 287,
   "metadata": {},
   "outputs": [
    {
     "data": {
      "text/plain": [
       "defaultdict(list,\n",
       "            {'16150.5,4.0%': [62.10112133868462,\n",
       "              35.67391206953571,\n",
       "              25.03892660521069],\n",
       "             '16150.5,7.000000000000001%': [78.6188821858001,\n",
       "              43.423497906190676,\n",
       "              29.604656906831675]})"
      ]
     },
     "execution_count": 287,
     "metadata": {},
     "output_type": "execute_result"
    }
   ],
   "source": [
    "intrinsic_cash(cf_wf,grs,drs,lgr,df_wf.shares.values[0],10)"
   ]
  },
  {
   "cell_type": "code",
   "execution_count": 281,
   "metadata": {},
   "outputs": [
    {
     "data": {
      "text/plain": [
       "25.197190359079578"
      ]
     },
     "execution_count": 281,
     "metadata": {},
     "output_type": "execute_result"
    }
   ],
   "source": [
    "intrinsic_bk(1.5,41,0.03,0.15,7)"
   ]
  },
  {
   "cell_type": "code",
   "execution_count": 288,
   "metadata": {},
   "outputs": [
    {
     "data": {
      "text/html": [
       "<div>\n",
       "<style scoped>\n",
       "    .dataframe tbody tr th:only-of-type {\n",
       "        vertical-align: middle;\n",
       "    }\n",
       "\n",
       "    .dataframe tbody tr th {\n",
       "        vertical-align: top;\n",
       "    }\n",
       "\n",
       "    .dataframe thead th {\n",
       "        text-align: right;\n",
       "    }\n",
       "</style>\n",
       "<table border=\"1\" class=\"dataframe\">\n",
       "  <thead>\n",
       "    <tr style=\"text-align: right;\">\n",
       "      <th></th>\n",
       "      <th>pe</th>\n",
       "      <th>ps</th>\n",
       "      <th>pb</th>\n",
       "    </tr>\n",
       "    <tr>\n",
       "      <th>date</th>\n",
       "      <th></th>\n",
       "      <th></th>\n",
       "      <th></th>\n",
       "    </tr>\n",
       "  </thead>\n",
       "  <tbody>\n",
       "    <tr>\n",
       "      <th>2010</th>\n",
       "      <td>inf</td>\n",
       "      <td>inf</td>\n",
       "      <td>inf</td>\n",
       "    </tr>\n",
       "    <tr>\n",
       "      <th>2011</th>\n",
       "      <td>9.473684</td>\n",
       "      <td>206.106870</td>\n",
       "      <td>0.770103</td>\n",
       "    </tr>\n",
       "    <tr>\n",
       "      <th>2012</th>\n",
       "      <td>7.941176</td>\n",
       "      <td>190.476190</td>\n",
       "      <td>0.685479</td>\n",
       "    </tr>\n",
       "    <tr>\n",
       "      <th>2013</th>\n",
       "      <td>6.835443</td>\n",
       "      <td>162.895928</td>\n",
       "      <td>0.634764</td>\n",
       "    </tr>\n",
       "    <tr>\n",
       "      <th>2014</th>\n",
       "      <td>6.474820</td>\n",
       "      <td>205.323194</td>\n",
       "      <td>0.585702</td>\n",
       "    </tr>\n",
       "    <tr>\n",
       "      <th>2015</th>\n",
       "      <td>6.459330</td>\n",
       "      <td>173.913043</td>\n",
       "      <td>0.559591</td>\n",
       "    </tr>\n",
       "    <tr>\n",
       "      <th>2016</th>\n",
       "      <td>6.699752</td>\n",
       "      <td>56.045667</td>\n",
       "      <td>0.541134</td>\n",
       "    </tr>\n",
       "    <tr>\n",
       "      <th>2017</th>\n",
       "      <td>6.521739</td>\n",
       "      <td>56.633456</td>\n",
       "      <td>0.521900</td>\n",
       "    </tr>\n",
       "    <tr>\n",
       "      <th>2018</th>\n",
       "      <td>6.264501</td>\n",
       "      <td>104.549855</td>\n",
       "      <td>0.550554</td>\n",
       "    </tr>\n",
       "    <tr>\n",
       "      <th>2019</th>\n",
       "      <td>6.617647</td>\n",
       "      <td>125.727590</td>\n",
       "      <td>0.577090</td>\n",
       "    </tr>\n",
       "  </tbody>\n",
       "</table>\n",
       "</div>"
      ],
      "text/plain": [
       "            pe          ps        pb\n",
       "date                                \n",
       "2010       inf         inf       inf\n",
       "2011  9.473684  206.106870  0.770103\n",
       "2012  7.941176  190.476190  0.685479\n",
       "2013  6.835443  162.895928  0.634764\n",
       "2014  6.474820  205.323194  0.585702\n",
       "2015  6.459330  173.913043  0.559591\n",
       "2016  6.699752   56.045667  0.541134\n",
       "2017  6.521739   56.633456  0.521900\n",
       "2018  6.264501  104.549855  0.550554\n",
       "2019  6.617647  125.727590  0.577090"
      ]
     },
     "execution_count": 288,
     "metadata": {},
     "output_type": "execute_result"
    }
   ],
   "source": [
    "df_wf[['pe','ps','pb']]"
   ]
  },
  {
   "cell_type": "code",
   "execution_count": 289,
   "metadata": {},
   "outputs": [
    {
     "data": {
      "text/html": [
       "<div>\n",
       "<style scoped>\n",
       "    .dataframe tbody tr th:only-of-type {\n",
       "        vertical-align: middle;\n",
       "    }\n",
       "\n",
       "    .dataframe tbody tr th {\n",
       "        vertical-align: top;\n",
       "    }\n",
       "\n",
       "    .dataframe thead th {\n",
       "        text-align: right;\n",
       "    }\n",
       "</style>\n",
       "<table border=\"1\" class=\"dataframe\">\n",
       "  <thead>\n",
       "    <tr style=\"text-align: right;\">\n",
       "      <th></th>\n",
       "      <th>pe</th>\n",
       "      <th>ps</th>\n",
       "      <th>pb</th>\n",
       "    </tr>\n",
       "    <tr>\n",
       "      <th>date</th>\n",
       "      <th></th>\n",
       "      <th></th>\n",
       "      <th></th>\n",
       "    </tr>\n",
       "  </thead>\n",
       "  <tbody>\n",
       "    <tr>\n",
       "      <th>2014</th>\n",
       "      <td>12.903226</td>\n",
       "      <td>2.581036</td>\n",
       "      <td>0.442184</td>\n",
       "    </tr>\n",
       "    <tr>\n",
       "      <th>2015</th>\n",
       "      <td>12.903226</td>\n",
       "      <td>2.504409</td>\n",
       "      <td>0.433676</td>\n",
       "    </tr>\n",
       "    <tr>\n",
       "      <th>2016</th>\n",
       "      <td>10.152284</td>\n",
       "      <td>2.267163</td>\n",
       "      <td>0.431458</td>\n",
       "    </tr>\n",
       "    <tr>\n",
       "      <th>2017</th>\n",
       "      <td>6.134969</td>\n",
       "      <td>2.041697</td>\n",
       "      <td>0.420326</td>\n",
       "    </tr>\n",
       "    <tr>\n",
       "      <th>2018</th>\n",
       "      <td>5.649718</td>\n",
       "      <td>1.879965</td>\n",
       "      <td>0.409281</td>\n",
       "    </tr>\n",
       "    <tr>\n",
       "      <th>2019</th>\n",
       "      <td>5.235602</td>\n",
       "      <td>1.846554</td>\n",
       "      <td>0.383766</td>\n",
       "    </tr>\n",
       "  </tbody>\n",
       "</table>\n",
       "</div>"
      ],
      "text/plain": [
       "             pe        ps        pb\n",
       "date                               \n",
       "2014  12.903226  2.581036  0.442184\n",
       "2015  12.903226  2.504409  0.433676\n",
       "2016  10.152284  2.267163  0.431458\n",
       "2017   6.134969  2.041697  0.420326\n",
       "2018   5.649718  1.879965  0.409281\n",
       "2019   5.235602  1.846554  0.383766"
      ]
     },
     "execution_count": 289,
     "metadata": {},
     "output_type": "execute_result"
    }
   ],
   "source": [
    "df_cfg[['pe','ps','pb']]"
   ]
  },
  {
   "cell_type": "markdown",
   "metadata": {},
   "source": [
    "# cit"
   ]
  },
  {
   "cell_type": "code",
   "execution_count": null,
   "metadata": {},
   "outputs": [],
   "source": []
  },
  {
   "cell_type": "code",
   "execution_count": 290,
   "metadata": {},
   "outputs": [
    {
     "name": "stdout",
     "output_type": "stream",
     "text": [
      "https://fmpcloud.io/api/v3/cash-flow-statement/CIT?apikey=cb3b0c371586d9ce915d359479fe1c81\n",
      "https://fmpcloud.io/api/v3/balance-sheet-statement/CIT?apikey=cb3b0c371586d9ce915d359479fe1c81\n",
      "https://fmpcloud.io/api/v3/income-statement/CIT?apikey=cb3b0c371586d9ce915d359479fe1c81\n"
     ]
    }
   ],
   "source": [
    "dict_cit_cash,errs_cit = url_import(['CIT'], 'cash-flow-statement')\n",
    "dict_cit_balance,errs_cit = url_import(['CIT'], 'balance-sheet-statement')\n",
    "dict_cit_income,errs_cit = url_import(['CIT'], 'income-statement')"
   ]
  },
  {
   "cell_type": "code",
   "execution_count": 291,
   "metadata": {},
   "outputs": [],
   "source": [
    "df_cit_cash = pd.DataFrame(dict_cit_cash)\n",
    "df_cit_bal = pd.DataFrame(dict_cit_balance)\n",
    "df_cit_income = pd.DataFrame(dict_cit_income)"
   ]
  },
  {
   "cell_type": "code",
   "execution_count": 292,
   "metadata": {},
   "outputs": [],
   "source": [
    "df_cit_bal.date = df_cit_bal.date.map(lambda x: re.sub(r'-.*$','',x))\n",
    "df_cit_cash.date = df_cit_cash.date.map(lambda x: re.sub(r'-.*$','',x))\n",
    "df_cit_income.date = df_cit_income.date.map(lambda x: re.sub(r'-.*$','',x))"
   ]
  },
  {
   "cell_type": "code",
   "execution_count": 293,
   "metadata": {},
   "outputs": [],
   "source": [
    "df_cit_bal.set_index(['date'], inplace = True)\n",
    "df_cit_cash.set_index(['date'], inplace = True)\n",
    "df_cit_income.set_index(['date'], inplace = True)"
   ]
  },
  {
   "cell_type": "code",
   "execution_count": 294,
   "metadata": {},
   "outputs": [],
   "source": [
    "df_cit_cash.drop('netIncome',axis = 1, inplace = True)\n",
    "df_cit_cash.rename({'inventory': 'inventoryCash'}, axis = 1, inplace = True)"
   ]
  },
  {
   "cell_type": "code",
   "execution_count": 295,
   "metadata": {},
   "outputs": [],
   "source": [
    "df_cit = pd.concat([df_cit_income,df_cit_bal,df_cit_cash],axis = 1)"
   ]
  },
  {
   "cell_type": "code",
   "execution_count": 296,
   "metadata": {},
   "outputs": [],
   "source": [
    "df_cit.drop(['symbol','period'],axis = 1, inplace =True)"
   ]
  },
  {
   "cell_type": "code",
   "execution_count": 297,
   "metadata": {},
   "outputs": [],
   "source": [
    "df_cit['shares'] = 98E06"
   ]
  },
  {
   "cell_type": "code",
   "execution_count": 298,
   "metadata": {},
   "outputs": [],
   "source": [
    "df_cit.drop(['fillingDate','finalLink','link'],axis = 1,inplace = True)"
   ]
  },
  {
   "cell_type": "code",
   "execution_count": 299,
   "metadata": {},
   "outputs": [],
   "source": [
    "df_cit = df_cit/1000"
   ]
  },
  {
   "cell_type": "code",
   "execution_count": 300,
   "metadata": {},
   "outputs": [],
   "source": [
    "df_cit[['grossProfitRatio',\n",
    " 'ebitdaratio',\n",
    " 'operatingIncomeRatio',\n",
    " 'incomeBeforeTaxRatio',\n",
    " 'netIncomeRatio','eps']] = df_cit[['grossProfitRatio',\n",
    " 'ebitdaratio',\n",
    " 'operatingIncomeRatio',\n",
    " 'incomeBeforeTaxRatio',\n",
    " 'netIncomeRatio','eps']] * 1000"
   ]
  },
  {
   "cell_type": "code",
   "execution_count": 301,
   "metadata": {},
   "outputs": [],
   "source": [
    "df_cit = df_cit.sort_index()"
   ]
  },
  {
   "cell_type": "code",
   "execution_count": 302,
   "metadata": {},
   "outputs": [],
   "source": [
    "df_cit_main = df_cit.loc[:,['netIncomeRatio','totalLiabilities','totalAssets','totalStockholdersEquity']]"
   ]
  },
  {
   "cell_type": "code",
   "execution_count": 303,
   "metadata": {},
   "outputs": [],
   "source": [
    "df_cit_main['netIncome'] = df_cit_income['netIncome'] / 1000"
   ]
  },
  {
   "cell_type": "code",
   "execution_count": 304,
   "metadata": {},
   "outputs": [],
   "source": [
    "df_cit = metrics(df_cit)\n",
    "df_cit = price_ratios(df_cit, 17)"
   ]
  },
  {
   "cell_type": "code",
   "execution_count": null,
   "metadata": {},
   "outputs": [],
   "source": []
  },
  {
   "cell_type": "markdown",
   "metadata": {},
   "source": [
    "# ANA"
   ]
  },
  {
   "cell_type": "code",
   "execution_count": 306,
   "metadata": {},
   "outputs": [
    {
     "data": {
      "text/plain": [
       "2.211700665689036"
      ]
     },
     "execution_count": 306,
     "metadata": {},
     "output_type": "execute_result"
    }
   ],
   "source": [
    "df_cit.de.mean()"
   ]
  },
  {
   "cell_type": "code",
   "execution_count": 307,
   "metadata": {},
   "outputs": [
    {
     "data": {
      "text/plain": [
       "date\n",
       "2010    0.668167\n",
       "2011    0.625353\n",
       "2012    0.498996\n",
       "2013    0.461401\n",
       "2014    0.385459\n",
       "2015    0.274658\n",
       "2016    0.232748\n",
       "2017    0.182115\n",
       "2018    0.167269\n",
       "Name: debtRatio, dtype: float64"
      ]
     },
     "execution_count": 307,
     "metadata": {},
     "output_type": "execute_result"
    }
   ],
   "source": [
    "df_cit.debtRatio"
   ]
  },
  {
   "cell_type": "code",
   "execution_count": 309,
   "metadata": {},
   "outputs": [
    {
     "data": {
      "text/plain": [
       "12.702407328751143"
      ]
     },
     "execution_count": 309,
     "metadata": {},
     "output_type": "execute_result"
    }
   ],
   "source": [
    "df_cit.curr.mean()"
   ]
  },
  {
   "cell_type": "code",
   "execution_count": 310,
   "metadata": {},
   "outputs": [
    {
     "data": {
      "text/plain": [
       "date\n",
       "2010   -0.249651\n",
       "2011    0.068060\n",
       "2012   -0.156968\n",
       "2013    0.680228\n",
       "2014    0.626772\n",
       "2015    0.524241\n",
       "2016    0.027748\n",
       "2017    0.266964\n",
       "2018    0.781499\n",
       "Name: intCov, dtype: float64"
      ]
     },
     "execution_count": 310,
     "metadata": {},
     "output_type": "execute_result"
    }
   ],
   "source": [
    "df_cit.intCov"
   ]
  },
  {
   "cell_type": "code",
   "execution_count": 315,
   "metadata": {},
   "outputs": [
    {
     "data": {
      "text/html": [
       "<div>\n",
       "<style scoped>\n",
       "    .dataframe tbody tr th:only-of-type {\n",
       "        vertical-align: middle;\n",
       "    }\n",
       "\n",
       "    .dataframe tbody tr th {\n",
       "        vertical-align: top;\n",
       "    }\n",
       "\n",
       "    .dataframe thead th {\n",
       "        text-align: right;\n",
       "    }\n",
       "</style>\n",
       "<table border=\"1\" class=\"dataframe\">\n",
       "  <thead>\n",
       "    <tr style=\"text-align: right;\">\n",
       "      <th></th>\n",
       "      <th>roe</th>\n",
       "      <th>rof</th>\n",
       "      <th>rocf</th>\n",
       "      <th>fcfRatio</th>\n",
       "    </tr>\n",
       "    <tr>\n",
       "      <th>date</th>\n",
       "      <th></th>\n",
       "      <th></th>\n",
       "      <th></th>\n",
       "      <th></th>\n",
       "    </tr>\n",
       "  </thead>\n",
       "  <tbody>\n",
       "    <tr>\n",
       "      <th>2010</th>\n",
       "      <td>-0.000493</td>\n",
       "      <td>0.065781</td>\n",
       "      <td>0.065781</td>\n",
       "      <td>0.237883</td>\n",
       "    </tr>\n",
       "    <tr>\n",
       "      <th>2011</th>\n",
       "      <td>0.003004</td>\n",
       "      <td>0.096304</td>\n",
       "      <td>0.096304</td>\n",
       "      <td>0.477945</td>\n",
       "    </tr>\n",
       "    <tr>\n",
       "      <th>2012</th>\n",
       "      <td>-0.071063</td>\n",
       "      <td>0.109001</td>\n",
       "      <td>0.109001</td>\n",
       "      <td>0.858858</td>\n",
       "    </tr>\n",
       "    <tr>\n",
       "      <th>2013</th>\n",
       "      <td>0.076447</td>\n",
       "      <td>0.164457</td>\n",
       "      <td>0.164457</td>\n",
       "      <td>0.623247</td>\n",
       "    </tr>\n",
       "    <tr>\n",
       "      <th>2014</th>\n",
       "      <td>0.124602</td>\n",
       "      <td>0.140954</td>\n",
       "      <td>0.140954</td>\n",
       "      <td>0.610750</td>\n",
       "    </tr>\n",
       "    <tr>\n",
       "      <th>2015</th>\n",
       "      <td>0.096246</td>\n",
       "      <td>0.105419</td>\n",
       "      <td>0.105419</td>\n",
       "      <td>0.537654</td>\n",
       "    </tr>\n",
       "    <tr>\n",
       "      <th>2016</th>\n",
       "      <td>-0.084777</td>\n",
       "      <td>0.236626</td>\n",
       "      <td>0.236626</td>\n",
       "      <td>2.294397</td>\n",
       "    </tr>\n",
       "    <tr>\n",
       "      <th>2017</th>\n",
       "      <td>0.063962</td>\n",
       "      <td>0.071011</td>\n",
       "      <td>0.071011</td>\n",
       "      <td>0.515982</td>\n",
       "    </tr>\n",
       "    <tr>\n",
       "      <th>2018</th>\n",
       "      <td>0.075186</td>\n",
       "      <td>0.165220</td>\n",
       "      <td>0.165220</td>\n",
       "      <td>0.973736</td>\n",
       "    </tr>\n",
       "  </tbody>\n",
       "</table>\n",
       "</div>"
      ],
      "text/plain": [
       "           roe       rof      rocf  fcfRatio\n",
       "date                                        \n",
       "2010 -0.000493  0.065781  0.065781  0.237883\n",
       "2011  0.003004  0.096304  0.096304  0.477945\n",
       "2012 -0.071063  0.109001  0.109001  0.858858\n",
       "2013  0.076447  0.164457  0.164457  0.623247\n",
       "2014  0.124602  0.140954  0.140954  0.610750\n",
       "2015  0.096246  0.105419  0.105419  0.537654\n",
       "2016 -0.084777  0.236626  0.236626  2.294397\n",
       "2017  0.063962  0.071011  0.071011  0.515982\n",
       "2018  0.075186  0.165220  0.165220  0.973736"
      ]
     },
     "execution_count": 315,
     "metadata": {},
     "output_type": "execute_result"
    }
   ],
   "source": [
    "df_cit[['roe','rof','rocf','fcfRatio']]"
   ]
  },
  {
   "cell_type": "code",
   "execution_count": 316,
   "metadata": {},
   "outputs": [
    {
     "data": {
      "text/plain": [
       "totalAssets         0.008846\n",
       "ocf                 0.017378\n",
       "totalLiabilities    0.020014\n",
       "totalDebt          -0.144468\n",
       "dtype: float64"
      ]
     },
     "execution_count": 316,
     "metadata": {},
     "output_type": "execute_result"
    }
   ],
   "source": [
    "df_cit[['totalAssets','ocf','totalLiabilities','totalDebt']].apply(lambda x: \n",
    "                                                                  annual_growth(x[-1],x[1],8))"
   ]
  },
  {
   "cell_type": "code",
   "execution_count": 324,
   "metadata": {},
   "outputs": [
    {
     "data": {
      "text/plain": [
       "date\n",
       "2010   -10529400.0\n",
       "2011    -7208800.0\n",
       "2012    -2328900.0\n",
       "2013     2342500.0\n",
       "2014      821900.0\n",
       "2015     -997300.0\n",
       "2016    -2928800.0\n",
       "2017   -13071800.0\n",
       "2018     -942100.0\n",
       "Name: netCashUsedProvidedByFinancingActivities, dtype: float64"
      ]
     },
     "execution_count": 324,
     "metadata": {},
     "output_type": "execute_result"
    }
   ],
   "source": [
    "df_cit['netCashUsedProvidedByFinancingActivities']"
   ]
  },
  {
   "cell_type": "code",
   "execution_count": 326,
   "metadata": {},
   "outputs": [
    {
     "data": {
      "text/plain": [
       "0.05900024428502504"
      ]
     },
     "execution_count": 326,
     "metadata": {},
     "output_type": "execute_result"
    }
   ],
   "source": [
    "annual_growth(982500.0,586500.0,9)"
   ]
  },
  {
   "cell_type": "code",
   "execution_count": 331,
   "metadata": {},
   "outputs": [],
   "source": [
    "cf_cit = [df_cit.freeCashFlow.median()]\n",
    "grs = [0.04,0.07]\n"
   ]
  },
  {
   "cell_type": "code",
   "execution_count": 337,
   "metadata": {},
   "outputs": [
    {
     "data": {
      "text/plain": [
       "0.3480061545972777"
      ]
     },
     "execution_count": 337,
     "metadata": {},
     "output_type": "execute_result"
    }
   ],
   "source": [
    "annual_growth(1.2,0.2,6)"
   ]
  },
  {
   "cell_type": "code",
   "execution_count": 338,
   "metadata": {},
   "outputs": [
    {
     "data": {
      "text/plain": [
       "bv     88.769161\n",
       "div     0.660884\n",
       "dtype: float64"
      ]
     },
     "execution_count": 338,
     "metadata": {},
     "output_type": "execute_result"
    }
   ],
   "source": [
    "df_cit[['bv','div']].mean()"
   ]
  },
  {
   "cell_type": "code",
   "execution_count": 339,
   "metadata": {},
   "outputs": [
    {
     "data": {
      "text/plain": [
       "array([[<matplotlib.axes._subplots.AxesSubplot object at 0x125e2a6d0>,\n",
       "        <matplotlib.axes._subplots.AxesSubplot object at 0x125832f90>],\n",
       "       [<matplotlib.axes._subplots.AxesSubplot object at 0x125a38990>,\n",
       "        <matplotlib.axes._subplots.AxesSubplot object at 0x126506c10>],\n",
       "       [<matplotlib.axes._subplots.AxesSubplot object at 0x1256dfb10>,\n",
       "        <matplotlib.axes._subplots.AxesSubplot object at 0x125a43ed0>]],\n",
       "      dtype=object)"
      ]
     },
     "execution_count": 339,
     "metadata": {},
     "output_type": "execute_result"
    },
    {
     "data": {
      "image/png": "[encoded data removed]",
      "text/plain": [
       "<Figure size 792x792 with 6 Axes>"
      ]
     },
     "metadata": {
      "needs_background": "light"
     },
     "output_type": "display_data"
    }
   ],
   "source": [
    "df_cit[['bv','eps','fcf','div','totalAssets','totalLiabilities']].plot(subplots = True, figsize = (11,11),\n",
    "                                                                 layout = (3,-1))"
   ]
  },
  {
   "cell_type": "code",
   "execution_count": 334,
   "metadata": {
    "scrolled": true
   },
   "outputs": [
    {
     "data": {
      "text/plain": [
       "defaultdict(list,\n",
       "            {'982.5,4.0%': [153.06898037670146,\n",
       "              87.92252781654106,\n",
       "              61.71163939970511],\n",
       "             '982.5,7.000000000000001%': [190.66011913373376,\n",
       "              105.8573936980855,\n",
       "              72.41449362423816]})"
      ]
     },
     "execution_count": 334,
     "metadata": {},
     "output_type": "execute_result"
    }
   ],
   "source": [
    "intrinsic_cash(cf_cit, grs,drs,lgr,df_cit.shares.values[0],9)"
   ]
  },
  {
   "cell_type": "code",
   "execution_count": 340,
   "metadata": {},
   "outputs": [
    {
     "data": {
      "text/html": [
       "<div>\n",
       "<style scoped>\n",
       "    .dataframe tbody tr th:only-of-type {\n",
       "        vertical-align: middle;\n",
       "    }\n",
       "\n",
       "    .dataframe tbody tr th {\n",
       "        vertical-align: top;\n",
       "    }\n",
       "\n",
       "    .dataframe thead th {\n",
       "        text-align: right;\n",
       "    }\n",
       "</style>\n",
       "<table border=\"1\" class=\"dataframe\">\n",
       "  <thead>\n",
       "    <tr style=\"text-align: right;\">\n",
       "      <th></th>\n",
       "      <th>pe</th>\n",
       "      <th>ps</th>\n",
       "      <th>pb</th>\n",
       "    </tr>\n",
       "    <tr>\n",
       "      <th>date</th>\n",
       "      <th></th>\n",
       "      <th></th>\n",
       "      <th></th>\n",
       "    </tr>\n",
       "  </thead>\n",
       "  <tbody>\n",
       "    <tr>\n",
       "      <th>2010</th>\n",
       "      <td>6.589147</td>\n",
       "      <td>0.675725</td>\n",
       "      <td>0.186855</td>\n",
       "    </tr>\n",
       "    <tr>\n",
       "      <th>2011</th>\n",
       "      <td>130.769231</td>\n",
       "      <td>0.930207</td>\n",
       "      <td>0.187433</td>\n",
       "    </tr>\n",
       "    <tr>\n",
       "      <th>2012</th>\n",
       "      <td>-5.762712</td>\n",
       "      <td>1.574967</td>\n",
       "      <td>0.199885</td>\n",
       "    </tr>\n",
       "    <tr>\n",
       "      <th>2013</th>\n",
       "      <td>5.044510</td>\n",
       "      <td>0.714316</td>\n",
       "      <td>0.188487</td>\n",
       "    </tr>\n",
       "    <tr>\n",
       "      <th>2014</th>\n",
       "      <td>2.838063</td>\n",
       "      <td>0.795987</td>\n",
       "      <td>0.183705</td>\n",
       "    </tr>\n",
       "    <tr>\n",
       "      <th>2015</th>\n",
       "      <td>2.982456</td>\n",
       "      <td>0.773984</td>\n",
       "      <td>0.151757</td>\n",
       "    </tr>\n",
       "    <tr>\n",
       "      <th>2016</th>\n",
       "      <td>-4.047619</td>\n",
       "      <td>1.614967</td>\n",
       "      <td>0.166555</td>\n",
       "    </tr>\n",
       "    <tr>\n",
       "      <th>2017</th>\n",
       "      <td>6.028369</td>\n",
       "      <td>1.653762</td>\n",
       "      <td>0.227596</td>\n",
       "    </tr>\n",
       "    <tr>\n",
       "      <th>2018</th>\n",
       "      <td>4.670330</td>\n",
       "      <td>1.651140</td>\n",
       "      <td>0.280160</td>\n",
       "    </tr>\n",
       "  </tbody>\n",
       "</table>\n",
       "</div>"
      ],
      "text/plain": [
       "              pe        ps        pb\n",
       "date                                \n",
       "2010    6.589147  0.675725  0.186855\n",
       "2011  130.769231  0.930207  0.187433\n",
       "2012   -5.762712  1.574967  0.199885\n",
       "2013    5.044510  0.714316  0.188487\n",
       "2014    2.838063  0.795987  0.183705\n",
       "2015    2.982456  0.773984  0.151757\n",
       "2016   -4.047619  1.614967  0.166555\n",
       "2017    6.028369  1.653762  0.227596\n",
       "2018    4.670330  1.651140  0.280160"
      ]
     },
     "execution_count": 340,
     "metadata": {},
     "output_type": "execute_result"
    }
   ],
   "source": [
    "df_cit[['pe','ps','pb']]"
   ]
  },
  {
   "cell_type": "code",
   "execution_count": 341,
   "metadata": {},
   "outputs": [
    {
     "data": {
      "text/plain": [
       "date\n",
       "2010     586500.0\n",
       "2011     856000.0\n",
       "2012     908500.0\n",
       "2013    1453600.0\n",
       "2014    1278300.0\n",
       "2015    1157300.0\n",
       "2016    2366900.0\n",
       "2017     519800.0\n",
       "2018     982500.0\n",
       "Name: freeCashFlow, dtype: float64"
      ]
     },
     "execution_count": 341,
     "metadata": {},
     "output_type": "execute_result"
    }
   ],
   "source": [
    "df_cit.freeCashFlow"
   ]
  },
  {
   "cell_type": "code",
   "execution_count": 343,
   "metadata": {},
   "outputs": [
    {
     "data": {
      "text/plain": [
       "27.713286361985446"
      ]
     },
     "execution_count": 343,
     "metadata": {},
     "output_type": "execute_result"
    }
   ],
   "source": [
    "intrinsic_bk(0.6, 70, 0.025,0.15,9 )"
   ]
  },
  {
   "cell_type": "code",
   "execution_count": null,
   "metadata": {},
   "outputs": [],
   "source": []
  },
  {
   "cell_type": "markdown",
   "metadata": {},
   "source": [
    "# hospitality & leisure \n",
    "# pk"
   ]
  },
  {
   "cell_type": "code",
   "execution_count": null,
   "metadata": {},
   "outputs": [],
   "source": []
  },
  {
   "cell_type": "code",
   "execution_count": null,
   "metadata": {},
   "outputs": [],
   "source": []
  },
  {
   "cell_type": "code",
   "execution_count": 366,
   "metadata": {},
   "outputs": [
    {
     "name": "stdout",
     "output_type": "stream",
     "text": [
      "https://fmpcloud.io/api/v3/cash-flow-statement/CCL?apikey=cb3b0c371586d9ce915d359479fe1c81\n",
      "https://fmpcloud.io/api/v3/balance-sheet-statement/CCL?apikey=cb3b0c371586d9ce915d359479fe1c81\n",
      "https://fmpcloud.io/api/v3/income-statement/CCL?apikey=cb3b0c371586d9ce915d359479fe1c81\n"
     ]
    }
   ],
   "source": [
    "dict_ccl_cash,errs_ccl = url_import(['CCL'], 'cash-flow-statement')\n",
    "dict_ccl_balance,errs_ccl = url_import(['CCL'], 'balance-sheet-statement')\n",
    "dict_ccl_income,errs_ccl = url_import(['CCL'], 'income-statement')"
   ]
  },
  {
   "cell_type": "code",
   "execution_count": 367,
   "metadata": {},
   "outputs": [],
   "source": [
    "df_ccl_cash = pd.DataFrame(dict_ccl_cash)\n",
    "df_ccl_bal = pd.DataFrame(dict_ccl_balance)\n",
    "df_ccl_income = pd.DataFrame(dict_ccl_income)"
   ]
  },
  {
   "cell_type": "code",
   "execution_count": 368,
   "metadata": {},
   "outputs": [],
   "source": [
    "df_ccl_bal.date = df_ccl_bal.date.map(lambda x: re.sub(r'-.*$','',x))\n",
    "df_ccl_cash.date = df_ccl_cash.date.map(lambda x: re.sub(r'-.*$','',x))\n",
    "df_ccl_income.date = df_ccl_income.date.map(lambda x: re.sub(r'-.*$','',x))"
   ]
  },
  {
   "cell_type": "code",
   "execution_count": 369,
   "metadata": {},
   "outputs": [],
   "source": [
    "df_ccl_bal.set_index(['date'], inplace = True)\n",
    "df_ccl_cash.set_index(['date'], inplace = True)\n",
    "df_ccl_income.set_index(['date'], inplace = True)"
   ]
  },
  {
   "cell_type": "code",
   "execution_count": 370,
   "metadata": {},
   "outputs": [],
   "source": [
    "df_ccl_cash.drop('netIncome',axis = 1, inplace = True)\n",
    "df_ccl_cash.rename({'inventory': 'inventoryCash'}, axis = 1, inplace = True)"
   ]
  },
  {
   "cell_type": "code",
   "execution_count": 371,
   "metadata": {},
   "outputs": [],
   "source": [
    "df_ccl = pd.concat([df_ccl_income,df_ccl_bal,df_ccl_cash],axis = 1)"
   ]
  },
  {
   "cell_type": "code",
   "execution_count": 372,
   "metadata": {},
   "outputs": [],
   "source": [
    "df_ccl.drop(['symbol','period'],axis = 1, inplace =True)"
   ]
  },
  {
   "cell_type": "code",
   "execution_count": 373,
   "metadata": {},
   "outputs": [],
   "source": [
    "df_ccl['shares'] = 598E06"
   ]
  },
  {
   "cell_type": "code",
   "execution_count": 374,
   "metadata": {},
   "outputs": [],
   "source": [
    "df_ccl.drop(['fillingDate','finalLink','link'],axis = 1,inplace = True)"
   ]
  },
  {
   "cell_type": "code",
   "execution_count": 375,
   "metadata": {},
   "outputs": [],
   "source": [
    "df_ccl = df_ccl/1000"
   ]
  },
  {
   "cell_type": "code",
   "execution_count": 376,
   "metadata": {},
   "outputs": [],
   "source": [
    "df_ccl[['grossProfitRatio',\n",
    " 'ebitdaratio',\n",
    " 'operatingIncomeRatio',\n",
    " 'incomeBeforeTaxRatio',\n",
    " 'netIncomeRatio','eps']] = df_ccl[['grossProfitRatio',\n",
    " 'ebitdaratio',\n",
    " 'operatingIncomeRatio',\n",
    " 'incomeBeforeTaxRatio',\n",
    " 'netIncomeRatio','eps']] * 1000"
   ]
  },
  {
   "cell_type": "code",
   "execution_count": 377,
   "metadata": {},
   "outputs": [],
   "source": [
    "df_ccl = df_ccl.sort_index()"
   ]
  },
  {
   "cell_type": "code",
   "execution_count": 378,
   "metadata": {},
   "outputs": [],
   "source": [
    "df_ccl_main = df_ccl.loc[:,['netIncomeRatio','totalLiabilities','totalAssets','totalStockholdersEquity']]"
   ]
  },
  {
   "cell_type": "code",
   "execution_count": 379,
   "metadata": {},
   "outputs": [],
   "source": [
    "df_ccl_main['netIncome'] = df_ccl_income['netIncome'] / 1000"
   ]
  },
  {
   "cell_type": "code",
   "execution_count": 380,
   "metadata": {},
   "outputs": [],
   "source": [
    "df_ccl = metrics(df_ccl)\n",
    "df_ccl = price_ratios(df_ccl, 14)"
   ]
  },
  {
   "cell_type": "code",
   "execution_count": null,
   "metadata": {},
   "outputs": [],
   "source": []
  },
  {
   "cell_type": "markdown",
   "metadata": {},
   "source": [
    "# ANAL"
   ]
  },
  {
   "cell_type": "code",
   "execution_count": 382,
   "metadata": {},
   "outputs": [
    {
     "data": {
      "text/plain": [
       "date\n",
       "2007    0.271125\n",
       "2008    0.289644\n",
       "2009    0.284509\n",
       "2010    0.230035\n",
       "2011    0.234801\n",
       "2012    0.225888\n",
       "2013    0.236884\n",
       "2014    0.213043\n",
       "2015    0.223182\n",
       "2016    0.231072\n",
       "2017    0.213596\n",
       "2018    0.223462\n",
       "2019    0.254562\n",
       "Name: debtRatio, dtype: float64"
      ]
     },
     "execution_count": 382,
     "metadata": {},
     "output_type": "execute_result"
    }
   ],
   "source": [
    "df_ccl.debtRatio"
   ]
  },
  {
   "cell_type": "code",
   "execution_count": 383,
   "metadata": {},
   "outputs": [
    {
     "data": {
      "text/plain": [
       "date\n",
       "2007    0.272176\n",
       "2008    0.285418\n",
       "2009    0.305617\n",
       "2010    0.216160\n",
       "2011    0.214906\n",
       "2012    0.248093\n",
       "2013    0.288244\n",
       "2014    0.217165\n",
       "2015    0.352358\n",
       "2016    0.238829\n",
       "2017    0.181364\n",
       "2018    0.241743\n",
       "2019    0.225594\n",
       "Name: curr, dtype: float64"
      ]
     },
     "execution_count": 383,
     "metadata": {},
     "output_type": "execute_result"
    }
   ],
   "source": [
    "df_ccl.curr"
   ]
  },
  {
   "cell_type": "code",
   "execution_count": 385,
   "metadata": {},
   "outputs": [
    {
     "data": {
      "text/plain": [
       "6.208994708994709"
      ]
     },
     "execution_count": 385,
     "metadata": {},
     "output_type": "execute_result"
    }
   ],
   "source": [
    "df_ccl.intCov.median()"
   ]
  },
  {
   "cell_type": "code",
   "execution_count": 388,
   "metadata": {},
   "outputs": [
    {
     "data": {
      "text/plain": [
       "roe         0.091565\n",
       "rof         0.041857\n",
       "rocf        0.178450\n",
       "fcfRatio    0.060468\n",
       "dtype: float64"
      ]
     },
     "execution_count": 388,
     "metadata": {},
     "output_type": "execute_result"
    }
   ],
   "source": [
    "df_ccl[['roe','rof','rocf','fcfRatio']].mean()"
   ]
  },
  {
   "cell_type": "code",
   "execution_count": 387,
   "metadata": {},
   "outputs": [
    {
     "data": {
      "text/plain": [
       "date\n",
       "2007    3312000.0\n",
       "2008    3353000.0\n",
       "2009    3380000.0\n",
       "2010    3579000.0\n",
       "2011    2696000.0\n",
       "2012    2332000.0\n",
       "2013    2149000.0\n",
       "2014    2583000.0\n",
       "2015    2294000.0\n",
       "2016    3062000.0\n",
       "2017    2944000.0\n",
       "2018    3749000.0\n",
       "2019    5429000.0\n",
       "Name: capitalExpenditure, dtype: float64"
      ]
     },
     "execution_count": 387,
     "metadata": {},
     "output_type": "execute_result"
    }
   ],
   "source": [
    "df_ccl.capitalExpenditure"
   ]
  },
  {
   "cell_type": "code",
   "execution_count": 389,
   "metadata": {},
   "outputs": [
    {
     "data": {
      "text/plain": [
       "date\n",
       "2007    0.920619\n",
       "2008    0.959894\n",
       "2009    1.012567\n",
       "2010    0.916972\n",
       "2011    0.704195\n",
       "2012    0.598199\n",
       "2013    0.725829\n",
       "2014    0.730904\n",
       "2015    0.545215\n",
       "2016    0.647254\n",
       "2017    0.580421\n",
       "2018    0.631105\n",
       "2019    0.963836\n",
       "Name: gcf, dtype: float64"
      ]
     },
     "execution_count": 389,
     "metadata": {},
     "output_type": "execute_result"
    }
   ],
   "source": [
    "df_ccl."
   ]
  },
  {
   "cell_type": "code",
   "execution_count": 390,
   "metadata": {},
   "outputs": [
    {
     "data": {
      "text/plain": [
       "date\n",
       "2007    1579000.0\n",
       "2008    1629000.0\n",
       "2009    1590000.0\n",
       "2010    3646000.0\n",
       "2011    3964000.0\n",
       "2012    3953000.0\n",
       "2013    4468000.0\n",
       "2014    4499000.0\n",
       "2015    4583000.0\n",
       "2016    4722000.0\n",
       "2017    5275000.0\n",
       "2018    2450000.0\n",
       "2019    2480000.0\n",
       "Name: operatingExpenses, dtype: float64"
      ]
     },
     "execution_count": 390,
     "metadata": {},
     "output_type": "execute_result"
    }
   ],
   "source": [
    "df_ccl.operatingExpenses"
   ]
  },
  {
   "cell_type": "code",
   "execution_count": 394,
   "metadata": {},
   "outputs": [
    {
     "data": {
      "text/plain": [
       "0.21452801879345396"
      ]
     },
     "execution_count": 394,
     "metadata": {},
     "output_type": "execute_result"
    }
   ],
   "source": [
    "annual_growth(2.3,0.4,9)"
   ]
  },
  {
   "cell_type": "code",
   "execution_count": 395,
   "metadata": {},
   "outputs": [
    {
     "data": {
      "text/plain": [
       "bv     38.734757\n",
       "div     1.519681\n",
       "dtype: float64"
      ]
     },
     "execution_count": 395,
     "metadata": {},
     "output_type": "execute_result"
    }
   ],
   "source": [
    "df_ccl[['bv','div']].mean()"
   ]
  },
  {
   "cell_type": "code",
   "execution_count": null,
   "metadata": {},
   "outputs": [],
   "source": []
  },
  {
   "cell_type": "code",
   "execution_count": 396,
   "metadata": {},
   "outputs": [
    {
     "data": {
      "text/plain": [
       "array([[<matplotlib.axes._subplots.AxesSubplot object at 0x125947850>,\n",
       "        <matplotlib.axes._subplots.AxesSubplot object at 0x125708dd0>,\n",
       "        <matplotlib.axes._subplots.AxesSubplot object at 0x12656fc50>],\n",
       "       [<matplotlib.axes._subplots.AxesSubplot object at 0x1252f0fd0>,\n",
       "        <matplotlib.axes._subplots.AxesSubplot object at 0x1266d4410>,\n",
       "        <matplotlib.axes._subplots.AxesSubplot object at 0x12698b7d0>],\n",
       "       [<matplotlib.axes._subplots.AxesSubplot object at 0x126aa9c10>,\n",
       "        <matplotlib.axes._subplots.AxesSubplot object at 0x12688ff10>,\n",
       "        <matplotlib.axes._subplots.AxesSubplot object at 0x12688ff50>]],\n",
       "      dtype=object)"
      ]
     },
     "execution_count": 396,
     "metadata": {},
     "output_type": "execute_result"
    },
    {
     "data": {
      "image/png": "[encoded data removed]",
      "text/plain": [
       "<Figure size 792x792 with 9 Axes>"
      ]
     },
     "metadata": {
      "needs_background": "light"
     },
     "output_type": "display_data"
    }
   ],
   "source": [
    "df_ccl[['bv','div','ocf','eps','fcf','totalAssets','totalLiabilities']].plot(subplots = True,\n",
    "                                                                      figsize = (11,11)\n",
    "                                                                      ,layout = (3,-1))"
   ]
  },
  {
   "cell_type": "code",
   "execution_count": 397,
   "metadata": {},
   "outputs": [
    {
     "data": {
      "text/plain": [
       "date\n",
       "2007    -604000.0\n",
       "2008    -315000.0\n",
       "2009     -93000.0\n",
       "2010    -404000.0\n",
       "2011   -1093000.0\n",
       "2012   -1190000.0\n",
       "2013    -780000.0\n",
       "2014   -1028000.0\n",
       "2015    -942000.0\n",
       "2016   -2591000.0\n",
       "2017   -2452000.0\n",
       "2018   -1460000.0\n",
       "2019    -655000.0\n",
       "Name: netCashUsedProvidedByFinancingActivities, dtype: float64"
      ]
     },
     "execution_count": 397,
     "metadata": {},
     "output_type": "execute_result"
    }
   ],
   "source": [
    "df_ccl['netCashUsedProvidedByFinancingActivities']"
   ]
  },
  {
   "cell_type": "code",
   "execution_count": 399,
   "metadata": {},
   "outputs": [
    {
     "data": {
      "text/html": [
       "<div>\n",
       "<style scoped>\n",
       "    .dataframe tbody tr th:only-of-type {\n",
       "        vertical-align: middle;\n",
       "    }\n",
       "\n",
       "    .dataframe tbody tr th {\n",
       "        vertical-align: top;\n",
       "    }\n",
       "\n",
       "    .dataframe thead th {\n",
       "        text-align: right;\n",
       "    }\n",
       "</style>\n",
       "<table border=\"1\" class=\"dataframe\">\n",
       "  <thead>\n",
       "    <tr style=\"text-align: right;\">\n",
       "      <th></th>\n",
       "      <th>pe</th>\n",
       "      <th>ps</th>\n",
       "      <th>pb</th>\n",
       "    </tr>\n",
       "    <tr>\n",
       "      <th>date</th>\n",
       "      <th></th>\n",
       "      <th></th>\n",
       "      <th></th>\n",
       "    </tr>\n",
       "  </thead>\n",
       "  <tbody>\n",
       "    <tr>\n",
       "      <th>2007</th>\n",
       "      <td>4.605263</td>\n",
       "      <td>0.642369</td>\n",
       "      <td>0.419376</td>\n",
       "    </tr>\n",
       "    <tr>\n",
       "      <th>2008</th>\n",
       "      <td>4.729730</td>\n",
       "      <td>0.571624</td>\n",
       "      <td>0.438371</td>\n",
       "    </tr>\n",
       "    <tr>\n",
       "      <th>2009</th>\n",
       "      <td>6.167401</td>\n",
       "      <td>0.636315</td>\n",
       "      <td>0.379941</td>\n",
       "    </tr>\n",
       "    <tr>\n",
       "      <th>2010</th>\n",
       "      <td>5.577689</td>\n",
       "      <td>0.578616</td>\n",
       "      <td>0.363510</td>\n",
       "    </tr>\n",
       "    <tr>\n",
       "      <th>2011</th>\n",
       "      <td>5.761317</td>\n",
       "      <td>0.530108</td>\n",
       "      <td>0.351292</td>\n",
       "    </tr>\n",
       "    <tr>\n",
       "      <th>2012</th>\n",
       "      <td>8.383234</td>\n",
       "      <td>0.544273</td>\n",
       "      <td>0.349868</td>\n",
       "    </tr>\n",
       "    <tr>\n",
       "      <th>2013</th>\n",
       "      <td>10.071942</td>\n",
       "      <td>0.541667</td>\n",
       "      <td>0.340935</td>\n",
       "    </tr>\n",
       "    <tr>\n",
       "      <th>2014</th>\n",
       "      <td>8.805031</td>\n",
       "      <td>0.527071</td>\n",
       "      <td>0.344697</td>\n",
       "    </tr>\n",
       "    <tr>\n",
       "      <th>2015</th>\n",
       "      <td>6.194690</td>\n",
       "      <td>0.532773</td>\n",
       "      <td>0.352194</td>\n",
       "    </tr>\n",
       "    <tr>\n",
       "      <th>2016</th>\n",
       "      <td>3.753351</td>\n",
       "      <td>0.510830</td>\n",
       "      <td>0.370492</td>\n",
       "    </tr>\n",
       "    <tr>\n",
       "      <th>2017</th>\n",
       "      <td>3.878116</td>\n",
       "      <td>0.478127</td>\n",
       "      <td>0.345722</td>\n",
       "    </tr>\n",
       "    <tr>\n",
       "      <th>2018</th>\n",
       "      <td>3.146067</td>\n",
       "      <td>0.443409</td>\n",
       "      <td>0.342511</td>\n",
       "    </tr>\n",
       "    <tr>\n",
       "      <th>2019</th>\n",
       "      <td>inf</td>\n",
       "      <td>0.402017</td>\n",
       "      <td>0.330061</td>\n",
       "    </tr>\n",
       "  </tbody>\n",
       "</table>\n",
       "</div>"
      ],
      "text/plain": [
       "             pe        ps        pb\n",
       "date                               \n",
       "2007   4.605263  0.642369  0.419376\n",
       "2008   4.729730  0.571624  0.438371\n",
       "2009   6.167401  0.636315  0.379941\n",
       "2010   5.577689  0.578616  0.363510\n",
       "2011   5.761317  0.530108  0.351292\n",
       "2012   8.383234  0.544273  0.349868\n",
       "2013  10.071942  0.541667  0.340935\n",
       "2014   8.805031  0.527071  0.344697\n",
       "2015   6.194690  0.532773  0.352194\n",
       "2016   3.753351  0.510830  0.370492\n",
       "2017   3.878116  0.478127  0.345722\n",
       "2018   3.146067  0.443409  0.342511\n",
       "2019        inf  0.402017  0.330061"
      ]
     },
     "execution_count": 399,
     "metadata": {},
     "output_type": "execute_result"
    }
   ],
   "source": [
    "df_ccl[['pe','ps','pb']]"
   ]
  },
  {
   "cell_type": "code",
   "execution_count": 400,
   "metadata": {},
   "outputs": [
    {
     "data": {
      "text/plain": [
       "date\n",
       "2007     3.285205\n",
       "2008     5.136719\n",
       "2009     3.512324\n",
       "2010    18.075547\n",
       "2011    17.880208\n",
       "2012    18.797814\n",
       "2013    16.625978\n",
       "2014    16.618211\n",
       "2015    15.066986\n",
       "2016    13.159888\n",
       "2017    13.780840\n",
       "2018    15.190411\n",
       "2019     3.498677\n",
       "Name: payTurnOver, dtype: float64"
      ]
     },
     "execution_count": 400,
     "metadata": {},
     "output_type": "execute_result"
    }
   ],
   "source": [
    "df_ccl.payTurnOver"
   ]
  },
  {
   "cell_type": "code",
   "execution_count": 402,
   "metadata": {},
   "outputs": [
    {
     "data": {
      "text/plain": [
       "0.25149901339364633"
      ]
     },
     "execution_count": 402,
     "metadata": {},
     "output_type": "execute_result"
    }
   ],
   "source": [
    "annual_growth(1800000,239000.0,9)"
   ]
  },
  {
   "cell_type": "code",
   "execution_count": 411,
   "metadata": {
    "scrolled": true
   },
   "outputs": [],
   "source": [
    "cf_ccl = [df_ccl.freeCashFlow.mean()]\n",
    "grs = [0.05,0.1]\n"
   ]
  },
  {
   "cell_type": "code",
   "execution_count": 412,
   "metadata": {},
   "outputs": [
    {
     "data": {
      "text/plain": [
       "defaultdict(list,\n",
       "            {'985.5384615384615,5.0%': [27.068527450483934,\n",
       "              15.369191535417691,\n",
       "              10.694779723514571],\n",
       "             '985.5384615384615,10.0%': [39.082509463780376,\n",
       "              21.024258810596102,\n",
       "              14.026977876713353]})"
      ]
     },
     "execution_count": 412,
     "metadata": {},
     "output_type": "execute_result"
    }
   ],
   "source": [
    "intrinsic_cash(cf_ccl, grs,drs,lgr,df_ccl.shares.values[0],9)"
   ]
  },
  {
   "cell_type": "code",
   "execution_count": 416,
   "metadata": {},
   "outputs": [
    {
     "data": {
      "text/plain": [
       "21.251498830821404"
      ]
     },
     "execution_count": 416,
     "metadata": {},
     "output_type": "execute_result"
    }
   ],
   "source": [
    "intrinsic_bk(1.5,38,0.03,0.15,9)"
   ]
  },
  {
   "cell_type": "code",
   "execution_count": null,
   "metadata": {},
   "outputs": [],
   "source": []
  },
  {
   "cell_type": "markdown",
   "metadata": {},
   "source": [
    "# mgm"
   ]
  },
  {
   "cell_type": "code",
   "execution_count": null,
   "metadata": {},
   "outputs": [],
   "source": []
  },
  {
   "cell_type": "code",
   "execution_count": 417,
   "metadata": {},
   "outputs": [
    {
     "name": "stdout",
     "output_type": "stream",
     "text": [
      "https://fmpcloud.io/api/v3/cash-flow-statement/MGM?apikey=cb3b0c371586d9ce915d359479fe1c81\n",
      "https://fmpcloud.io/api/v3/balance-sheet-statement/MGM?apikey=cb3b0c371586d9ce915d359479fe1c81\n",
      "https://fmpcloud.io/api/v3/income-statement/MGM?apikey=cb3b0c371586d9ce915d359479fe1c81\n"
     ]
    }
   ],
   "source": [
    "dict_mgm_cash,errs_mgm = url_import(['MGM'], 'cash-flow-statement')\n",
    "dict_mgm_balance,errs_mgm = url_import(['MGM'], 'balance-sheet-statement')\n",
    "dict_mgm_income,errs_mgm = url_import(['MGM'], 'income-statement')"
   ]
  },
  {
   "cell_type": "code",
   "execution_count": 418,
   "metadata": {},
   "outputs": [],
   "source": [
    "df_mgm_cash = pd.DataFrame(dict_mgm_cash)\n",
    "df_mgm_bal = pd.DataFrame(dict_mgm_balance)\n",
    "df_mgm_income = pd.DataFrame(dict_mgm_income)"
   ]
  },
  {
   "cell_type": "code",
   "execution_count": 419,
   "metadata": {},
   "outputs": [],
   "source": [
    "df_mgm_bal.date = df_mgm_bal.date.map(lambda x: re.sub(r'-.*$','',x))\n",
    "df_mgm_cash.date = df_mgm_cash.date.map(lambda x: re.sub(r'-.*$','',x))\n",
    "df_mgm_income.date = df_mgm_income.date.map(lambda x: re.sub(r'-.*$','',x))"
   ]
  },
  {
   "cell_type": "code",
   "execution_count": 420,
   "metadata": {},
   "outputs": [],
   "source": [
    "df_mgm_bal.set_index(['date'], inplace = True)\n",
    "df_mgm_cash.set_index(['date'], inplace = True)\n",
    "df_mgm_income.set_index(['date'], inplace = True)"
   ]
  },
  {
   "cell_type": "code",
   "execution_count": 421,
   "metadata": {},
   "outputs": [],
   "source": [
    "df_mgm_cash.drop('netIncome',axis = 1, inplace = True)\n",
    "df_mgm_cash.rename({'inventory': 'inventoryCash'}, axis = 1, inplace = True)"
   ]
  },
  {
   "cell_type": "code",
   "execution_count": 422,
   "metadata": {},
   "outputs": [],
   "source": [
    "df_mgm = pd.concat([df_mgm_income,df_mgm_bal,df_mgm_cash],axis = 1)"
   ]
  },
  {
   "cell_type": "code",
   "execution_count": 423,
   "metadata": {},
   "outputs": [],
   "source": [
    "df_mgm.drop(['symbol','period'],axis = 1, inplace =True)"
   ]
  },
  {
   "cell_type": "code",
   "execution_count": 424,
   "metadata": {},
   "outputs": [],
   "source": [
    "df_mgm['shares'] = 493E06"
   ]
  },
  {
   "cell_type": "code",
   "execution_count": 425,
   "metadata": {},
   "outputs": [],
   "source": [
    "df_mgm.drop(['fillingDate','finalLink','link'],axis = 1,inplace = True)"
   ]
  },
  {
   "cell_type": "code",
   "execution_count": 426,
   "metadata": {},
   "outputs": [],
   "source": [
    "df_mgm = df_mgm/1000"
   ]
  },
  {
   "cell_type": "code",
   "execution_count": 427,
   "metadata": {},
   "outputs": [],
   "source": [
    "df_mgm[['grossProfitRatio',\n",
    " 'ebitdaratio',\n",
    " 'operatingIncomeRatio',\n",
    " 'incomeBeforeTaxRatio',\n",
    " 'netIncomeRatio','eps']] = df_mgm[['grossProfitRatio',\n",
    " 'ebitdaratio',\n",
    " 'operatingIncomeRatio',\n",
    " 'incomeBeforeTaxRatio',\n",
    " 'netIncomeRatio','eps']] * 1000"
   ]
  },
  {
   "cell_type": "code",
   "execution_count": 428,
   "metadata": {},
   "outputs": [],
   "source": [
    "df_mgm = df_mgm.sort_index()"
   ]
  },
  {
   "cell_type": "code",
   "execution_count": 429,
   "metadata": {},
   "outputs": [],
   "source": [
    "df_mgm_main = df_mgm.loc[:,['netIncomeRatio','totalLiabilities','totalAssets','totalStockholdersEquity']]"
   ]
  },
  {
   "cell_type": "code",
   "execution_count": 430,
   "metadata": {},
   "outputs": [],
   "source": [
    "df_mgm_main['netIncome'] = df_mgm_income['netIncome'] / 1000"
   ]
  },
  {
   "cell_type": "code",
   "execution_count": 431,
   "metadata": {},
   "outputs": [],
   "source": [
    "df_mgm = metrics(df_mgm)\n",
    "df_mgm = price_ratios(df_mgm, 14)"
   ]
  },
  {
   "cell_type": "code",
   "execution_count": null,
   "metadata": {},
   "outputs": [],
   "source": []
  },
  {
   "cell_type": "markdown",
   "metadata": {},
   "source": [
    "# ANA"
   ]
  },
  {
   "cell_type": "code",
   "execution_count": 438,
   "metadata": {},
   "outputs": [
    {
     "data": {
      "text/plain": [
       "2.6667062623388427"
      ]
     },
     "execution_count": 438,
     "metadata": {},
     "output_type": "execute_result"
    }
   ],
   "source": [
    "df_mgm.de.mean()"
   ]
  },
  {
   "cell_type": "code",
   "execution_count": 440,
   "metadata": {},
   "outputs": [
    {
     "data": {
      "text/plain": [
       "1.0021848793085257"
      ]
     },
     "execution_count": 440,
     "metadata": {},
     "output_type": "execute_result"
    }
   ],
   "source": [
    "df_mgm.curr.mean()"
   ]
  },
  {
   "cell_type": "code",
   "execution_count": 443,
   "metadata": {},
   "outputs": [
    {
     "data": {
      "text/plain": [
       "2.0684132961675448"
      ]
     },
     "execution_count": 443,
     "metadata": {},
     "output_type": "execute_result"
    }
   ],
   "source": [
    "df_mgm.intCov.median()"
   ]
  },
  {
   "cell_type": "code",
   "execution_count": 437,
   "metadata": {
    "scrolled": true
   },
   "outputs": [
    {
     "data": {
      "text/html": [
       "<div>\n",
       "<style scoped>\n",
       "    .dataframe tbody tr th:only-of-type {\n",
       "        vertical-align: middle;\n",
       "    }\n",
       "\n",
       "    .dataframe tbody tr th {\n",
       "        vertical-align: top;\n",
       "    }\n",
       "\n",
       "    .dataframe thead th {\n",
       "        text-align: right;\n",
       "    }\n",
       "</style>\n",
       "<table border=\"1\" class=\"dataframe\">\n",
       "  <thead>\n",
       "    <tr style=\"text-align: right;\">\n",
       "      <th></th>\n",
       "      <th>roe</th>\n",
       "      <th>rof</th>\n",
       "      <th>rocf</th>\n",
       "    </tr>\n",
       "  </thead>\n",
       "  <tbody>\n",
       "    <tr>\n",
       "      <th>2000</th>\n",
       "      <td>NaN</td>\n",
       "      <td>NaN</td>\n",
       "      <td>NaN</td>\n",
       "    </tr>\n",
       "    <tr>\n",
       "      <th>2001</th>\n",
       "      <td>0.067637</td>\n",
       "      <td>0.185530</td>\n",
       "      <td>0.316145</td>\n",
       "    </tr>\n",
       "    <tr>\n",
       "      <th>2002</th>\n",
       "      <td>0.109767</td>\n",
       "      <td>0.198157</td>\n",
       "      <td>0.310778</td>\n",
       "    </tr>\n",
       "    <tr>\n",
       "      <th>2003</th>\n",
       "      <td>0.096179</td>\n",
       "      <td>0.060279</td>\n",
       "      <td>0.277437</td>\n",
       "    </tr>\n",
       "    <tr>\n",
       "      <th>2004</th>\n",
       "      <td>0.148765</td>\n",
       "      <td>0.045598</td>\n",
       "      <td>0.299183</td>\n",
       "    </tr>\n",
       "    <tr>\n",
       "      <th>2005</th>\n",
       "      <td>0.137016</td>\n",
       "      <td>0.368036</td>\n",
       "      <td>0.365617</td>\n",
       "    </tr>\n",
       "    <tr>\n",
       "      <th>2006</th>\n",
       "      <td>0.168400</td>\n",
       "      <td>0.325578</td>\n",
       "      <td>0.322623</td>\n",
       "    </tr>\n",
       "    <tr>\n",
       "      <th>2007</th>\n",
       "      <td>0.261425</td>\n",
       "      <td>-0.317289</td>\n",
       "      <td>0.164076</td>\n",
       "    </tr>\n",
       "    <tr>\n",
       "      <th>2008</th>\n",
       "      <td>-0.215201</td>\n",
       "      <td>0.211103</td>\n",
       "      <td>0.189472</td>\n",
       "    </tr>\n",
       "    <tr>\n",
       "      <th>2009</th>\n",
       "      <td>-0.333731</td>\n",
       "      <td>0.157658</td>\n",
       "      <td>0.151899</td>\n",
       "    </tr>\n",
       "    <tr>\n",
       "      <th>2010</th>\n",
       "      <td>-0.479365</td>\n",
       "      <td>0.193966</td>\n",
       "      <td>0.168086</td>\n",
       "    </tr>\n",
       "    <tr>\n",
       "      <th>2011</th>\n",
       "      <td>0.511722</td>\n",
       "      <td>0.061427</td>\n",
       "      <td>0.110920</td>\n",
       "    </tr>\n",
       "    <tr>\n",
       "      <th>2012</th>\n",
       "      <td>-0.404918</td>\n",
       "      <td>0.111461</td>\n",
       "      <td>0.208302</td>\n",
       "    </tr>\n",
       "    <tr>\n",
       "      <th>2013</th>\n",
       "      <td>-0.037012</td>\n",
       "      <td>0.176859</td>\n",
       "      <td>0.309712</td>\n",
       "    </tr>\n",
       "    <tr>\n",
       "      <th>2014</th>\n",
       "      <td>-0.036636</td>\n",
       "      <td>0.042443</td>\n",
       "      <td>0.276385</td>\n",
       "    </tr>\n",
       "    <tr>\n",
       "      <th>2015</th>\n",
       "      <td>-0.087447</td>\n",
       "      <td>-0.094482</td>\n",
       "      <td>0.196307</td>\n",
       "    </tr>\n",
       "    <tr>\n",
       "      <th>2016</th>\n",
       "      <td>0.177075</td>\n",
       "      <td>-0.117119</td>\n",
       "      <td>0.246612</td>\n",
       "    </tr>\n",
       "    <tr>\n",
       "      <th>2017</th>\n",
       "      <td>0.257504</td>\n",
       "      <td>0.044968</td>\n",
       "      <td>0.289835</td>\n",
       "    </tr>\n",
       "    <tr>\n",
       "      <th>2018</th>\n",
       "      <td>0.071676</td>\n",
       "      <td>0.036193</td>\n",
       "      <td>0.264506</td>\n",
       "    </tr>\n",
       "    <tr>\n",
       "      <th>2019</th>\n",
       "      <td>0.265184</td>\n",
       "      <td>0.138651</td>\n",
       "      <td>0.234287</td>\n",
       "    </tr>\n",
       "  </tbody>\n",
       "</table>\n",
       "</div>"
      ],
      "text/plain": [
       "           roe       rof      rocf\n",
       "2000       NaN       NaN       NaN\n",
       "2001  0.067637  0.185530  0.316145\n",
       "2002  0.109767  0.198157  0.310778\n",
       "2003  0.096179  0.060279  0.277437\n",
       "2004  0.148765  0.045598  0.299183\n",
       "2005  0.137016  0.368036  0.365617\n",
       "2006  0.168400  0.325578  0.322623\n",
       "2007  0.261425 -0.317289  0.164076\n",
       "2008 -0.215201  0.211103  0.189472\n",
       "2009 -0.333731  0.157658  0.151899\n",
       "2010 -0.479365  0.193966  0.168086\n",
       "2011  0.511722  0.061427  0.110920\n",
       "2012 -0.404918  0.111461  0.208302\n",
       "2013 -0.037012  0.176859  0.309712\n",
       "2014 -0.036636  0.042443  0.276385\n",
       "2015 -0.087447 -0.094482  0.196307\n",
       "2016  0.177075 -0.117119  0.246612\n",
       "2017  0.257504  0.044968  0.289835\n",
       "2018  0.071676  0.036193  0.264506\n",
       "2019  0.265184  0.138651  0.234287"
      ]
     },
     "execution_count": 437,
     "metadata": {},
     "output_type": "execute_result"
    }
   ],
   "source": [
    "df_mgm[['roe','rof','rocf']]"
   ]
  },
  {
   "cell_type": "code",
   "execution_count": 445,
   "metadata": {},
   "outputs": [
    {
     "data": {
      "text/plain": [
       "2000     4.832546\n",
       "2001     5.092698\n",
       "2002     5.403943\n",
       "2003     5.139529\n",
       "2004     5.622118\n",
       "2005     6.562012\n",
       "2006     7.808416\n",
       "2007    12.293515\n",
       "2008     8.061584\n",
       "2009     7.850775\n",
       "2010     6.082241\n",
       "2011    12.346000\n",
       "2012     8.855067\n",
       "2013     8.582513\n",
       "2014     8.298006\n",
       "2015    10.385247\n",
       "2016    12.616998\n",
       "2017    15.441485\n",
       "2018    13.209499\n",
       "2019    15.673966\n",
       "Name: bv, dtype: float64"
      ]
     },
     "execution_count": 445,
     "metadata": {},
     "output_type": "execute_result"
    }
   ],
   "source": [
    "df_mgm.bv"
   ]
  },
  {
   "cell_type": "markdown",
   "metadata": {},
   "source": [
    "# transport \n",
    "# cmre"
   ]
  },
  {
   "cell_type": "code",
   "execution_count": 505,
   "metadata": {},
   "outputs": [
    {
     "name": "stdout",
     "output_type": "stream",
     "text": [
      "https://fmpcloud.io/api/v3/cash-flow-statement/ARLP?apikey=cb3b0c371586d9ce915d359479fe1c81\n",
      "https://fmpcloud.io/api/v3/balance-sheet-statement/ARLP?apikey=cb3b0c371586d9ce915d359479fe1c81\n",
      "https://fmpcloud.io/api/v3/income-statement/ARLP?apikey=cb3b0c371586d9ce915d359479fe1c81\n"
     ]
    }
   ],
   "source": [
    "dict_arl_cash,errs_arl = url_import(['ARLP'], 'cash-flow-statement')\n",
    "dict_arl_balance,errs_arl = url_import(['ARLP'], 'balance-sheet-statement')\n",
    "dict_arl_income,errs_arl = url_import(['ARLP'], 'income-statement')"
   ]
  },
  {
   "cell_type": "code",
   "execution_count": 506,
   "metadata": {},
   "outputs": [],
   "source": [
    "df_arl_cash = pd.DataFrame(dict_arl_cash)\n",
    "df_arl_bal = pd.DataFrame(dict_arl_balance)\n",
    "df_arl_income = pd.DataFrame(dict_arl_income)"
   ]
  },
  {
   "cell_type": "code",
   "execution_count": 507,
   "metadata": {},
   "outputs": [],
   "source": [
    "df_arl_bal.date = df_arl_bal.date.map(lambda x: re.sub(r'-.*$','',x))\n",
    "df_arl_cash.date = df_arl_cash.date.map(lambda x: re.sub(r'-.*$','',x))\n",
    "df_arl_income.date = df_arl_income.date.map(lambda x: re.sub(r'-.*$','',x))"
   ]
  },
  {
   "cell_type": "code",
   "execution_count": 508,
   "metadata": {},
   "outputs": [],
   "source": [
    "df_arl_bal.set_index(['date'], inplace = True)\n",
    "df_arl_cash.set_index(['date'], inplace = True)\n",
    "df_arl_income.set_index(['date'], inplace = True)"
   ]
  },
  {
   "cell_type": "code",
   "execution_count": 509,
   "metadata": {},
   "outputs": [],
   "source": [
    "df_arl_cash.drop('netIncome',axis = 1, inplace = True)\n",
    "df_arl_cash.rename({'inventory': 'inventoryCash'}, axis = 1, inplace = True)"
   ]
  },
  {
   "cell_type": "code",
   "execution_count": 510,
   "metadata": {},
   "outputs": [],
   "source": [
    "df_arl = pd.concat([df_arl_income,df_arl_bal,df_arl_cash],axis = 1)"
   ]
  },
  {
   "cell_type": "code",
   "execution_count": 511,
   "metadata": {},
   "outputs": [],
   "source": [
    "df_arl.drop(['symbol','period'],axis = 1, inplace =True)"
   ]
  },
  {
   "cell_type": "code",
   "execution_count": 512,
   "metadata": {},
   "outputs": [],
   "source": [
    "df_arl['shares'] = 127E06"
   ]
  },
  {
   "cell_type": "code",
   "execution_count": 513,
   "metadata": {},
   "outputs": [],
   "source": [
    "df_arl.drop(['fillingDate','finalLink','link'],axis = 1,inplace = True)"
   ]
  },
  {
   "cell_type": "code",
   "execution_count": 514,
   "metadata": {},
   "outputs": [],
   "source": [
    "df_arl = df_arl/1000"
   ]
  },
  {
   "cell_type": "code",
   "execution_count": 515,
   "metadata": {},
   "outputs": [],
   "source": [
    "df_arl[['grossProfitRatio',\n",
    " 'ebitdaratio',\n",
    " 'operatingIncomeRatio',\n",
    " 'incomeBeforeTaxRatio',\n",
    " 'netIncomeRatio','eps']] = df_arl[['grossProfitRatio',\n",
    " 'ebitdaratio',\n",
    " 'operatingIncomeRatio',\n",
    " 'incomeBeforeTaxRatio',\n",
    " 'netIncomeRatio','eps']] * 1000"
   ]
  },
  {
   "cell_type": "code",
   "execution_count": 516,
   "metadata": {},
   "outputs": [],
   "source": [
    "df_arl = df_arl.sort_index()"
   ]
  },
  {
   "cell_type": "code",
   "execution_count": 517,
   "metadata": {},
   "outputs": [],
   "source": [
    "df_arl_main = df_arl.loc[:,['netIncomeRatio','totalLiabilities','totalAssets','totalStockholdersEquity']]"
   ]
  },
  {
   "cell_type": "code",
   "execution_count": 518,
   "metadata": {},
   "outputs": [],
   "source": [
    "df_arl_main['netIncome'] = df_arl_income['netIncome'] / 1000"
   ]
  },
  {
   "cell_type": "code",
   "execution_count": 519,
   "metadata": {},
   "outputs": [],
   "source": [
    "df_arl = metrics(df_arl)\n",
    "df_arl = price_ratios(df_arl, 3)"
   ]
  },
  {
   "cell_type": "code",
   "execution_count": null,
   "metadata": {},
   "outputs": [],
   "source": []
  },
  {
   "cell_type": "markdown",
   "metadata": {},
   "source": [
    "# ANA"
   ]
  },
  {
   "cell_type": "code",
   "execution_count": 520,
   "metadata": {},
   "outputs": [
    {
     "data": {
      "text/plain": [
       "date\n",
       "2010    1.584087\n",
       "2011    1.128643\n",
       "2012    1.121276\n",
       "2013    1.019693\n",
       "2014    0.809447\n",
       "2015    0.830329\n",
       "2016    0.504948\n",
       "2017    0.426072\n",
       "2018    0.554809\n",
       "Name: de, dtype: float64"
      ]
     },
     "execution_count": 520,
     "metadata": {},
     "output_type": "execute_result"
    }
   ],
   "source": [
    "df_arl.de"
   ]
  },
  {
   "cell_type": "code",
   "execution_count": 521,
   "metadata": {},
   "outputs": [
    {
     "data": {
      "text/plain": [
       "date\n",
       "2010    0.480924\n",
       "2011    0.406580\n",
       "2012    0.404403\n",
       "2013    0.409068\n",
       "2014    0.359400\n",
       "2015    0.346722\n",
       "2016    0.250483\n",
       "2017    0.220034\n",
       "2018    0.273934\n",
       "Name: debtRatio, dtype: float64"
      ]
     },
     "execution_count": 521,
     "metadata": {},
     "output_type": "execute_result"
    }
   ],
   "source": [
    "df_arl.debtRatio"
   ]
  },
  {
   "cell_type": "code",
   "execution_count": 525,
   "metadata": {},
   "outputs": [
    {
     "data": {
      "text/plain": [
       "1.4876282642090655"
      ]
     },
     "execution_count": 525,
     "metadata": {},
     "output_type": "execute_result"
    }
   ],
   "source": [
    "df_arl.curr.mean()"
   ]
  },
  {
   "cell_type": "code",
   "execution_count": 526,
   "metadata": {},
   "outputs": [
    {
     "data": {
      "text/plain": [
       "date\n",
       "2010    11.701450\n",
       "2011    18.808509\n",
       "2012    13.055327\n",
       "2013    16.399867\n",
       "2014    16.204383\n",
       "2015    11.601740\n",
       "2016    11.931983\n",
       "2017     8.343583\n",
       "2018     9.256726\n",
       "Name: intCov, dtype: float64"
      ]
     },
     "execution_count": 526,
     "metadata": {},
     "output_type": "execute_result"
    }
   ],
   "source": [
    "df_arl.intCov"
   ]
  },
  {
   "cell_type": "code",
   "execution_count": 527,
   "metadata": {},
   "outputs": [
    {
     "data": {
      "text/html": [
       "<div>\n",
       "<style scoped>\n",
       "    .dataframe tbody tr th:only-of-type {\n",
       "        vertical-align: middle;\n",
       "    }\n",
       "\n",
       "    .dataframe tbody tr th {\n",
       "        vertical-align: top;\n",
       "    }\n",
       "\n",
       "    .dataframe thead th {\n",
       "        text-align: right;\n",
       "    }\n",
       "</style>\n",
       "<table border=\"1\" class=\"dataframe\">\n",
       "  <thead>\n",
       "    <tr style=\"text-align: right;\">\n",
       "      <th></th>\n",
       "      <th>roe</th>\n",
       "      <th>rof</th>\n",
       "      <th>rocf</th>\n",
       "      <th>fcfRatio</th>\n",
       "    </tr>\n",
       "    <tr>\n",
       "      <th>date</th>\n",
       "      <th></th>\n",
       "      <th></th>\n",
       "      <th></th>\n",
       "      <th></th>\n",
       "    </tr>\n",
       "  </thead>\n",
       "  <tbody>\n",
       "    <tr>\n",
       "      <th>2010</th>\n",
       "      <td>0.704320</td>\n",
       "      <td>0.506193</td>\n",
       "      <td>1.142184</td>\n",
       "      <td>0.143295</td>\n",
       "    </tr>\n",
       "    <tr>\n",
       "      <th>2011</th>\n",
       "      <td>0.624205</td>\n",
       "      <td>0.404104</td>\n",
       "      <td>0.920201</td>\n",
       "      <td>0.136726</td>\n",
       "    </tr>\n",
       "    <tr>\n",
       "      <th>2012</th>\n",
       "      <td>0.475686</td>\n",
       "      <td>0.186017</td>\n",
       "      <td>0.787950</td>\n",
       "      <td>0.064506</td>\n",
       "    </tr>\n",
       "    <tr>\n",
       "      <th>2013</th>\n",
       "      <td>0.462257</td>\n",
       "      <td>0.441124</td>\n",
       "      <td>0.827798</td>\n",
       "      <td>0.170252</td>\n",
       "    </tr>\n",
       "    <tr>\n",
       "      <th>2014</th>\n",
       "      <td>0.490083</td>\n",
       "      <td>0.414089</td>\n",
       "      <td>0.728577</td>\n",
       "      <td>0.182607</td>\n",
       "    </tr>\n",
       "    <tr>\n",
       "      <th>2015</th>\n",
       "      <td>0.310301</td>\n",
       "      <td>0.510292</td>\n",
       "      <td>0.725940</td>\n",
       "      <td>0.221462</td>\n",
       "    </tr>\n",
       "    <tr>\n",
       "      <th>2016</th>\n",
       "      <td>0.311983</td>\n",
       "      <td>0.541872</td>\n",
       "      <td>0.646715</td>\n",
       "      <td>0.305204</td>\n",
       "    </tr>\n",
       "    <tr>\n",
       "      <th>2017</th>\n",
       "      <td>0.264923</td>\n",
       "      <td>0.358620</td>\n",
       "      <td>0.485209</td>\n",
       "      <td>0.228829</td>\n",
       "    </tr>\n",
       "    <tr>\n",
       "      <th>2018</th>\n",
       "      <td>0.310052</td>\n",
       "      <td>0.389772</td>\n",
       "      <td>0.587235</td>\n",
       "      <td>0.230104</td>\n",
       "    </tr>\n",
       "  </tbody>\n",
       "</table>\n",
       "</div>"
      ],
      "text/plain": [
       "           roe       rof      rocf  fcfRatio\n",
       "date                                        \n",
       "2010  0.704320  0.506193  1.142184  0.143295\n",
       "2011  0.624205  0.404104  0.920201  0.136726\n",
       "2012  0.475686  0.186017  0.787950  0.064506\n",
       "2013  0.462257  0.441124  0.827798  0.170252\n",
       "2014  0.490083  0.414089  0.728577  0.182607\n",
       "2015  0.310301  0.510292  0.725940  0.221462\n",
       "2016  0.311983  0.541872  0.646715  0.305204\n",
       "2017  0.264923  0.358620  0.485209  0.228829\n",
       "2018  0.310052  0.389772  0.587235  0.230104"
      ]
     },
     "execution_count": 527,
     "metadata": {},
     "output_type": "execute_result"
    }
   ],
   "source": [
    "df_arl[['roe','rof','rocf','fcfRatio']]"
   ]
  },
  {
   "cell_type": "code",
   "execution_count": 528,
   "metadata": {},
   "outputs": [
    {
     "data": {
      "text/plain": [
       "totalAssets         0.053254\n",
       "totalLiabilities    0.016588\n",
       "totalDebt          -0.010594\n",
       "dtype: float64"
      ]
     },
     "execution_count": 528,
     "metadata": {},
     "output_type": "execute_result"
    }
   ],
   "source": [
    "df_arl[['totalAssets','totalLiabilities','totalDebt']].apply(lambda x: \n",
    "                                                            annual_growth(x[-1],x[0],9))"
   ]
  },
  {
   "cell_type": "code",
   "execution_count": 531,
   "metadata": {},
   "outputs": [
    {
     "data": {
      "text/plain": [
       "0.12983096390975302"
      ]
     },
     "execution_count": 531,
     "metadata": {},
     "output_type": "execute_result"
    }
   ],
   "source": [
    "annual_growth(9,3,9)"
   ]
  },
  {
   "cell_type": "code",
   "execution_count": 529,
   "metadata": {},
   "outputs": [
    {
     "data": {
      "text/html": [
       "<div>\n",
       "<style scoped>\n",
       "    .dataframe tbody tr th:only-of-type {\n",
       "        vertical-align: middle;\n",
       "    }\n",
       "\n",
       "    .dataframe tbody tr th {\n",
       "        vertical-align: top;\n",
       "    }\n",
       "\n",
       "    .dataframe thead th {\n",
       "        text-align: right;\n",
       "    }\n",
       "</style>\n",
       "<table border=\"1\" class=\"dataframe\">\n",
       "  <thead>\n",
       "    <tr style=\"text-align: right;\">\n",
       "      <th></th>\n",
       "      <th>bv</th>\n",
       "      <th>div</th>\n",
       "    </tr>\n",
       "    <tr>\n",
       "      <th>date</th>\n",
       "      <th></th>\n",
       "      <th></th>\n",
       "    </tr>\n",
       "  </thead>\n",
       "  <tbody>\n",
       "    <tr>\n",
       "      <th>2010</th>\n",
       "      <td>3.588843</td>\n",
       "      <td>0.0</td>\n",
       "    </tr>\n",
       "    <tr>\n",
       "      <th>2011</th>\n",
       "      <td>4.911480</td>\n",
       "      <td>0.0</td>\n",
       "    </tr>\n",
       "    <tr>\n",
       "      <th>2012</th>\n",
       "      <td>5.554693</td>\n",
       "      <td>0.0</td>\n",
       "    </tr>\n",
       "    <tr>\n",
       "      <th>2013</th>\n",
       "      <td>6.702654</td>\n",
       "      <td>0.0</td>\n",
       "    </tr>\n",
       "    <tr>\n",
       "      <th>2014</th>\n",
       "      <td>7.988835</td>\n",
       "      <td>0.0</td>\n",
       "    </tr>\n",
       "    <tr>\n",
       "      <th>2015</th>\n",
       "      <td>7.769906</td>\n",
       "      <td>0.0</td>\n",
       "    </tr>\n",
       "    <tr>\n",
       "      <th>2016</th>\n",
       "      <td>8.565937</td>\n",
       "      <td>0.0</td>\n",
       "    </tr>\n",
       "    <tr>\n",
       "      <th>2017</th>\n",
       "      <td>9.024709</td>\n",
       "      <td>0.0</td>\n",
       "    </tr>\n",
       "    <tr>\n",
       "      <th>2018</th>\n",
       "      <td>9.310213</td>\n",
       "      <td>0.0</td>\n",
       "    </tr>\n",
       "  </tbody>\n",
       "</table>\n",
       "</div>"
      ],
      "text/plain": [
       "            bv  div\n",
       "date               \n",
       "2010  3.588843  0.0\n",
       "2011  4.911480  0.0\n",
       "2012  5.554693  0.0\n",
       "2013  6.702654  0.0\n",
       "2014  7.988835  0.0\n",
       "2015  7.769906  0.0\n",
       "2016  8.565937  0.0\n",
       "2017  9.024709  0.0\n",
       "2018  9.310213  0.0"
      ]
     },
     "execution_count": 529,
     "metadata": {},
     "output_type": "execute_result"
    }
   ],
   "source": [
    "df_arl[['bv','div']]"
   ]
  },
  {
   "cell_type": "code",
   "execution_count": 534,
   "metadata": {},
   "outputs": [
    {
     "data": {
      "text/plain": [
       "array([[<matplotlib.axes._subplots.AxesSubplot object at 0x127601b10>,\n",
       "        <matplotlib.axes._subplots.AxesSubplot object at 0x1275af890>],\n",
       "       [<matplotlib.axes._subplots.AxesSubplot object at 0x127610c50>,\n",
       "        <matplotlib.axes._subplots.AxesSubplot object at 0x127212f90>],\n",
       "       [<matplotlib.axes._subplots.AxesSubplot object at 0x1270c1dd0>,\n",
       "        <matplotlib.axes._subplots.AxesSubplot object at 0x127533550>]],\n",
       "      dtype=object)"
      ]
     },
     "execution_count": 534,
     "metadata": {},
     "output_type": "execute_result"
    },
    {
     "data": {
      "image/png": "[encoded data removed]",
      "text/plain": [
       "<Figure size 792x792 with 6 Axes>"
      ]
     },
     "metadata": {
      "needs_background": "light"
     },
     "output_type": "display_data"
    }
   ],
   "source": [
    "df_arl[['bv','eps','fcf','totalAssets','totalLiabilities']].plot(figsize = (11,11),\n",
    "                                                                subplots = True,\n",
    "                                                                layout = (3,-1))"
   ]
  },
  {
   "cell_type": "code",
   "execution_count": 535,
   "metadata": {},
   "outputs": [
    {
     "data": {
      "text/plain": [
       "date\n",
       "2010     92683.0\n",
       "2011   -238909.0\n",
       "2012   -177722.0\n",
       "2013   -213330.0\n",
       "2014   -367032.0\n",
       "2015   -351597.0\n",
       "2016   -505405.0\n",
       "2017   -344371.0\n",
       "2018   -211702.0\n",
       "Name: netCashUsedProvidedByFinancingActivities, dtype: float64"
      ]
     },
     "execution_count": 535,
     "metadata": {},
     "output_type": "execute_result"
    }
   ],
   "source": [
    "df_arl.netCashUsedProvidedByFinancingActivities"
   ]
  },
  {
   "cell_type": "code",
   "execution_count": 537,
   "metadata": {},
   "outputs": [
    {
     "data": {
      "text/plain": [
       "0.06626802120749464"
      ]
     },
     "execution_count": 537,
     "metadata": {},
     "output_type": "execute_result"
    }
   ],
   "source": [
    "annual_growth(411028,230714.0,9)"
   ]
  },
  {
   "cell_type": "code",
   "execution_count": 540,
   "metadata": {},
   "outputs": [],
   "source": [
    "cf_arl = [df_arl.freeCashFlow.median()]\n",
    "grs = [0.06,0.08]\n"
   ]
  },
  {
   "cell_type": "code",
   "execution_count": 541,
   "metadata": {},
   "outputs": [
    {
     "data": {
      "text/plain": [
       "defaultdict(list,\n",
       "            {'411.028,6.0%': [57.19474805893805,\n",
       "              32.10880303867122,\n",
       "              22.1524771690997],\n",
       "             '411.028,8.0%': [66.24289499448314,\n",
       "              36.38385773917236,\n",
       "              24.680440793984577]})"
      ]
     },
     "execution_count": 541,
     "metadata": {},
     "output_type": "execute_result"
    }
   ],
   "source": [
    "intrinsic_cash(cf_arl,grs,drs,lgr,df_arl.shares.values[0],9)"
   ]
  },
  {
   "cell_type": "code",
   "execution_count": 543,
   "metadata": {},
   "outputs": [
    {
     "data": {
      "text/plain": [
       "7.043789153119256"
      ]
     },
     "execution_count": 543,
     "metadata": {},
     "output_type": "execute_result"
    }
   ],
   "source": [
    "intrinsic_bk(0.6,8,0.07,0.15,9)"
   ]
  },
  {
   "cell_type": "code",
   "execution_count": null,
   "metadata": {},
   "outputs": [],
   "source": []
  },
  {
   "cell_type": "markdown",
   "metadata": {},
   "source": [
    "# dmlp "
   ]
  },
  {
   "cell_type": "code",
   "execution_count": null,
   "metadata": {},
   "outputs": [],
   "source": []
  },
  {
   "cell_type": "code",
   "execution_count": 551,
   "metadata": {},
   "outputs": [
    {
     "name": "stdout",
     "output_type": "stream",
     "text": [
      "https://fmpcloud.io/api/v3/cash-flow-statement/ARCH?apikey=cb3b0c371586d9ce915d359479fe1c81\n",
      "https://fmpcloud.io/api/v3/balance-sheet-statement/ARCH?apikey=cb3b0c371586d9ce915d359479fe1c81\n",
      "https://fmpcloud.io/api/v3/income-statement/ARCH?apikey=cb3b0c371586d9ce915d359479fe1c81\n"
     ]
    }
   ],
   "source": [
    "dict_arc_cash,errs_arc = url_import(['ARCH'], 'cash-flow-statement')\n",
    "dict_arc_balance,errs_arc = url_import(['ARCH'], 'balance-sheet-statement')\n",
    "dict_arc_income,errs_arc = url_import(['ARCH'], 'income-statement')"
   ]
  },
  {
   "cell_type": "code",
   "execution_count": 552,
   "metadata": {},
   "outputs": [],
   "source": [
    "df_arc_cash = pd.DataFrame(dict_arc_cash)\n",
    "df_arc_bal = pd.DataFrame(dict_arc_balance)\n",
    "df_arc_income = pd.DataFrame(dict_arc_income)"
   ]
  },
  {
   "cell_type": "code",
   "execution_count": 553,
   "metadata": {},
   "outputs": [],
   "source": [
    "df_arc_bal.date = df_arc_bal.date.map(lambda x: re.sub(r'-.*$','',x))\n",
    "df_arc_cash.date = df_arc_cash.date.map(lambda x: re.sub(r'-.*$','',x))\n",
    "df_arc_income.date = df_arc_income.date.map(lambda x: re.sub(r'-.*$','',x))"
   ]
  },
  {
   "cell_type": "code",
   "execution_count": 554,
   "metadata": {},
   "outputs": [],
   "source": [
    "df_arc_bal.set_index(['date'], inplace = True)\n",
    "df_arc_cash.set_index(['date'], inplace = True)\n",
    "df_arc_income.set_index(['date'], inplace = True)"
   ]
  },
  {
   "cell_type": "code",
   "execution_count": 555,
   "metadata": {},
   "outputs": [],
   "source": [
    "df_arc_cash.drop('netIncome',axis = 1, inplace = True)\n",
    "df_arc_cash.rename({'inventory': 'inventoryCash'}, axis = 1, inplace = True)"
   ]
  },
  {
   "cell_type": "code",
   "execution_count": 556,
   "metadata": {},
   "outputs": [],
   "source": [
    "df_arc = pd.concat([df_arc_income,df_arc_bal,df_arc_cash],axis = 1)"
   ]
  },
  {
   "cell_type": "code",
   "execution_count": 557,
   "metadata": {},
   "outputs": [],
   "source": [
    "df_arc.drop(['symbol','period'],axis = 1, inplace =True)"
   ]
  },
  {
   "cell_type": "code",
   "execution_count": 558,
   "metadata": {},
   "outputs": [],
   "source": [
    "df_arc['shares'] = 15E06"
   ]
  },
  {
   "cell_type": "code",
   "execution_count": 559,
   "metadata": {},
   "outputs": [],
   "source": [
    "df_arc.drop(['fillingDate','finalLink','link'],axis = 1,inplace = True)"
   ]
  },
  {
   "cell_type": "code",
   "execution_count": 560,
   "metadata": {},
   "outputs": [],
   "source": [
    "df_arc = df_arc/1000"
   ]
  },
  {
   "cell_type": "code",
   "execution_count": 561,
   "metadata": {},
   "outputs": [],
   "source": [
    "df_arc[['grossProfitRatio',\n",
    " 'ebitdaratio',\n",
    " 'operatingIncomeRatio',\n",
    " 'incomeBeforeTaxRatio',\n",
    " 'netIncomeRatio','eps']] = df_arc[['grossProfitRatio',\n",
    " 'ebitdaratio',\n",
    " 'operatingIncomeRatio',\n",
    " 'incomeBeforeTaxRatio',\n",
    " 'netIncomeRatio','eps']] * 1000"
   ]
  },
  {
   "cell_type": "code",
   "execution_count": 562,
   "metadata": {},
   "outputs": [],
   "source": [
    "df_arc = df_arc.sort_index()"
   ]
  },
  {
   "cell_type": "code",
   "execution_count": 563,
   "metadata": {},
   "outputs": [],
   "source": [
    "df_arc_main = df_arc.loc[:,['netIncomeRatio','totalLiabilities','totalAssets','totalStockholdersEquity']]"
   ]
  },
  {
   "cell_type": "code",
   "execution_count": 564,
   "metadata": {},
   "outputs": [],
   "source": [
    "df_arc_main['netIncome'] = df_arc_income['netIncome'] / 1000"
   ]
  },
  {
   "cell_type": "code",
   "execution_count": 565,
   "metadata": {},
   "outputs": [],
   "source": [
    "df_arc = metrics(df_arc)\n",
    "df_arc = price_ratios(df_arc, 26)"
   ]
  },
  {
   "cell_type": "code",
   "execution_count": null,
   "metadata": {},
   "outputs": [],
   "source": []
  },
  {
   "cell_type": "markdown",
   "metadata": {},
   "source": [
    "# ANA"
   ]
  },
  {
   "cell_type": "code",
   "execution_count": 569,
   "metadata": {},
   "outputs": [
    {
     "data": {
      "text/plain": [
       "0.730573961866515"
      ]
     },
     "execution_count": 569,
     "metadata": {},
     "output_type": "execute_result"
    }
   ],
   "source": [
    "df_arc.de.mean()"
   ]
  },
  {
   "cell_type": "code",
   "execution_count": 571,
   "metadata": {},
   "outputs": [
    {
     "data": {
      "text/plain": [
       "0.34347919264687915"
      ]
     },
     "execution_count": 571,
     "metadata": {},
     "output_type": "execute_result"
    }
   ],
   "source": [
    "df_arc.debtRatio.mean()"
   ]
  },
  {
   "cell_type": "code",
   "execution_count": 573,
   "metadata": {},
   "outputs": [
    {
     "data": {
      "text/plain": [
       "1.6966156627816895"
      ]
     },
     "execution_count": 573,
     "metadata": {},
     "output_type": "execute_result"
    }
   ],
   "source": [
    "df_arc.curr.mean()"
   ]
  },
  {
   "cell_type": "code",
   "execution_count": 574,
   "metadata": {},
   "outputs": [
    {
     "data": {
      "text/plain": [
       "date\n",
       "2003          NaN\n",
       "2004          NaN\n",
       "2005     1.020149\n",
       "2006     5.230672\n",
       "2007    -0.410953\n",
       "2008    -0.070673\n",
       "2009    -0.368501\n",
       "2010         -inf\n",
       "2011     1.796704\n",
       "2012    -2.145882\n",
       "2013    -1.739309\n",
       "2014    -0.382485\n",
       "2015    -7.199031\n",
       "2016         -inf\n",
       "2017     8.637651\n",
       "2018    13.635777\n",
       "2019    14.732787\n",
       "Name: intCov, dtype: float64"
      ]
     },
     "execution_count": 574,
     "metadata": {},
     "output_type": "execute_result"
    }
   ],
   "source": [
    "df_arc.intCov"
   ]
  },
  {
   "cell_type": "code",
   "execution_count": 576,
   "metadata": {},
   "outputs": [
    {
     "data": {
      "text/plain": [
       "roe         0.071237\n",
       "rof         0.181459\n",
       "rocf        0.214996\n",
       "fcfRatio    0.131615\n",
       "dtype: float64"
      ]
     },
     "execution_count": 576,
     "metadata": {},
     "output_type": "execute_result"
    }
   ],
   "source": [
    "df_arc[['roe','rof','rocf','fcfRatio']].median()"
   ]
  },
  {
   "cell_type": "code",
   "execution_count": 577,
   "metadata": {},
   "outputs": [
    {
     "data": {
      "text/plain": [
       "totalAssets        -0.215506\n",
       "totalLiabilities   -0.214242\n",
       "totalDebt          -0.306851\n",
       "fcf                 0.061022\n",
       "ocf                -0.058961\n",
       "dtype: float64"
      ]
     },
     "execution_count": 577,
     "metadata": {},
     "output_type": "execute_result"
    }
   ],
   "source": [
    "df_arc[['totalAssets','totalLiabilities','totalDebt','fcf','ocf']].apply(lambda x: \n",
    "                                                                        annual_growth(\n",
    "                                                                        x[-1],x[8],7))"
   ]
  },
  {
   "cell_type": "code",
   "execution_count": 579,
   "metadata": {},
   "outputs": [
    {
     "data": {
      "text/html": [
       "<div>\n",
       "<style scoped>\n",
       "    .dataframe tbody tr th:only-of-type {\n",
       "        vertical-align: middle;\n",
       "    }\n",
       "\n",
       "    .dataframe tbody tr th {\n",
       "        vertical-align: top;\n",
       "    }\n",
       "\n",
       "    .dataframe thead th {\n",
       "        text-align: right;\n",
       "    }\n",
       "</style>\n",
       "<table border=\"1\" class=\"dataframe\">\n",
       "  <thead>\n",
       "    <tr style=\"text-align: right;\">\n",
       "      <th></th>\n",
       "      <th>recTurnOver</th>\n",
       "      <th>payTurnOver</th>\n",
       "      <th>invTurnOver</th>\n",
       "      <th>gcf</th>\n",
       "    </tr>\n",
       "    <tr>\n",
       "      <th>date</th>\n",
       "      <th></th>\n",
       "      <th></th>\n",
       "      <th></th>\n",
       "      <th></th>\n",
       "    </tr>\n",
       "  </thead>\n",
       "  <tbody>\n",
       "    <tr>\n",
       "      <th>2003</th>\n",
       "      <td>inf</td>\n",
       "      <td>NaN</td>\n",
       "      <td>inf</td>\n",
       "      <td>NaN</td>\n",
       "    </tr>\n",
       "    <tr>\n",
       "      <th>2004</th>\n",
       "      <td>inf</td>\n",
       "      <td>NaN</td>\n",
       "      <td>inf</td>\n",
       "      <td>NaN</td>\n",
       "    </tr>\n",
       "    <tr>\n",
       "      <th>2005</th>\n",
       "      <td>2.556425e+01</td>\n",
       "      <td>43.128792</td>\n",
       "      <td>21.946939</td>\n",
       "      <td>318.757628</td>\n",
       "    </tr>\n",
       "    <tr>\n",
       "      <th>2006</th>\n",
       "      <td>3.579296e+01</td>\n",
       "      <td>38.008451</td>\n",
       "      <td>24.811993</td>\n",
       "      <td>163.454088</td>\n",
       "    </tr>\n",
       "    <tr>\n",
       "      <th>2007</th>\n",
       "      <td>3.843232e+01</td>\n",
       "      <td>28.999590</td>\n",
       "      <td>34.365324</td>\n",
       "      <td>284.110754</td>\n",
       "    </tr>\n",
       "    <tr>\n",
       "      <th>2008</th>\n",
       "      <td>3.110637e+01</td>\n",
       "      <td>31.140091</td>\n",
       "      <td>32.016858</td>\n",
       "      <td>469.884095</td>\n",
       "    </tr>\n",
       "    <tr>\n",
       "      <th>2009</th>\n",
       "      <td>2.838864e+01</td>\n",
       "      <td>22.633115</td>\n",
       "      <td>42.441012</td>\n",
       "      <td>123.664124</td>\n",
       "    </tr>\n",
       "    <tr>\n",
       "      <th>2010</th>\n",
       "      <td>2.653192e+01</td>\n",
       "      <td>30.198046</td>\n",
       "      <td>35.895905</td>\n",
       "      <td>653.918508</td>\n",
       "    </tr>\n",
       "    <tr>\n",
       "      <th>2011</th>\n",
       "      <td>3.241264e+01</td>\n",
       "      <td>42.865449</td>\n",
       "      <td>42.162682</td>\n",
       "      <td>67.035734</td>\n",
       "    </tr>\n",
       "    <tr>\n",
       "      <th>2012</th>\n",
       "      <td>2.172419e+01</td>\n",
       "      <td>23.825556</td>\n",
       "      <td>38.795595</td>\n",
       "      <td>187.122339</td>\n",
       "    </tr>\n",
       "    <tr>\n",
       "      <th>2013</th>\n",
       "      <td>1.094613e+04</td>\n",
       "      <td>24.141399</td>\n",
       "      <td>36.204972</td>\n",
       "      <td>162.189246</td>\n",
       "    </tr>\n",
       "    <tr>\n",
       "      <th>2014</th>\n",
       "      <td>9.950978e+03</td>\n",
       "      <td>25.618200</td>\n",
       "      <td>27.060453</td>\n",
       "      <td>-115.902927</td>\n",
       "    </tr>\n",
       "    <tr>\n",
       "      <th>2015</th>\n",
       "      <td>9.673324e+03</td>\n",
       "      <td>21.196118</td>\n",
       "      <td>32.542479</td>\n",
       "      <td>-89.796303</td>\n",
       "    </tr>\n",
       "    <tr>\n",
       "      <th>2016</th>\n",
       "      <td>1.167426e+02</td>\n",
       "      <td>74.414727</td>\n",
       "      <td>87.993537</td>\n",
       "      <td>100.631623</td>\n",
       "    </tr>\n",
       "    <tr>\n",
       "      <th>2017</th>\n",
       "      <td>2.378273e+04</td>\n",
       "      <td>26.564045</td>\n",
       "      <td>25.538809</td>\n",
       "      <td>2419.862964</td>\n",
       "    </tr>\n",
       "    <tr>\n",
       "      <th>2018</th>\n",
       "      <td>2.990878e+01</td>\n",
       "      <td>24.272134</td>\n",
       "      <td>23.787919</td>\n",
       "      <td>1467.566713</td>\n",
       "    </tr>\n",
       "    <tr>\n",
       "      <th>2019</th>\n",
       "      <td>2.674639e+01</td>\n",
       "      <td>25.929770</td>\n",
       "      <td>25.508455</td>\n",
       "      <td>640.688258</td>\n",
       "    </tr>\n",
       "  </tbody>\n",
       "</table>\n",
       "</div>"
      ],
      "text/plain": [
       "       recTurnOver  payTurnOver  invTurnOver          gcf\n",
       "date                                                     \n",
       "2003           inf          NaN          inf          NaN\n",
       "2004           inf          NaN          inf          NaN\n",
       "2005  2.556425e+01    43.128792    21.946939   318.757628\n",
       "2006  3.579296e+01    38.008451    24.811993   163.454088\n",
       "2007  3.843232e+01    28.999590    34.365324   284.110754\n",
       "2008  3.110637e+01    31.140091    32.016858   469.884095\n",
       "2009  2.838864e+01    22.633115    42.441012   123.664124\n",
       "2010  2.653192e+01    30.198046    35.895905   653.918508\n",
       "2011  3.241264e+01    42.865449    42.162682    67.035734\n",
       "2012  2.172419e+01    23.825556    38.795595   187.122339\n",
       "2013  1.094613e+04    24.141399    36.204972   162.189246\n",
       "2014  9.950978e+03    25.618200    27.060453  -115.902927\n",
       "2015  9.673324e+03    21.196118    32.542479   -89.796303\n",
       "2016  1.167426e+02    74.414727    87.993537   100.631623\n",
       "2017  2.378273e+04    26.564045    25.538809  2419.862964\n",
       "2018  2.990878e+01    24.272134    23.787919  1467.566713\n",
       "2019  2.674639e+01    25.929770    25.508455   640.688258"
      ]
     },
     "execution_count": 579,
     "metadata": {},
     "output_type": "execute_result"
    }
   ],
   "source": [
    "365 / df_arc[['recTurnOver','payTurnOver','invTurnOver','gcf']]"
   ]
  },
  {
   "cell_type": "code",
   "execution_count": null,
   "metadata": {},
   "outputs": [],
   "source": [
    "annual_growth(42,)"
   ]
  },
  {
   "cell_type": "code",
   "execution_count": 580,
   "metadata": {},
   "outputs": [
    {
     "data": {
      "text/html": [
       "<div>\n",
       "<style scoped>\n",
       "    .dataframe tbody tr th:only-of-type {\n",
       "        vertical-align: middle;\n",
       "    }\n",
       "\n",
       "    .dataframe tbody tr th {\n",
       "        vertical-align: top;\n",
       "    }\n",
       "\n",
       "    .dataframe thead th {\n",
       "        text-align: right;\n",
       "    }\n",
       "</style>\n",
       "<table border=\"1\" class=\"dataframe\">\n",
       "  <thead>\n",
       "    <tr style=\"text-align: right;\">\n",
       "      <th></th>\n",
       "      <th>bv</th>\n",
       "      <th>div</th>\n",
       "    </tr>\n",
       "    <tr>\n",
       "      <th>date</th>\n",
       "      <th></th>\n",
       "      <th></th>\n",
       "    </tr>\n",
       "  </thead>\n",
       "  <tbody>\n",
       "    <tr>\n",
       "      <th>2003</th>\n",
       "      <td>0.000000</td>\n",
       "      <td>0.000000</td>\n",
       "    </tr>\n",
       "    <tr>\n",
       "      <th>2004</th>\n",
       "      <td>0.000000</td>\n",
       "      <td>0.000000</td>\n",
       "    </tr>\n",
       "    <tr>\n",
       "      <th>2005</th>\n",
       "      <td>78.949400</td>\n",
       "      <td>1.842600</td>\n",
       "    </tr>\n",
       "    <tr>\n",
       "      <th>2006</th>\n",
       "      <td>91.039600</td>\n",
       "      <td>2.121000</td>\n",
       "    </tr>\n",
       "    <tr>\n",
       "      <th>2007</th>\n",
       "      <td>102.112400</td>\n",
       "      <td>2.596333</td>\n",
       "    </tr>\n",
       "    <tr>\n",
       "      <th>2008</th>\n",
       "      <td>115.248867</td>\n",
       "      <td>3.256467</td>\n",
       "    </tr>\n",
       "    <tr>\n",
       "      <th>2009</th>\n",
       "      <td>141.007067</td>\n",
       "      <td>3.664600</td>\n",
       "    </tr>\n",
       "    <tr>\n",
       "      <th>2010</th>\n",
       "      <td>149.167133</td>\n",
       "      <td>4.224867</td>\n",
       "    </tr>\n",
       "    <tr>\n",
       "      <th>2011</th>\n",
       "      <td>238.536000</td>\n",
       "      <td>5.383200</td>\n",
       "    </tr>\n",
       "    <tr>\n",
       "      <th>2012</th>\n",
       "      <td>190.304467</td>\n",
       "      <td>2.829333</td>\n",
       "    </tr>\n",
       "    <tr>\n",
       "      <th>2013</th>\n",
       "      <td>150.216600</td>\n",
       "      <td>1.698333</td>\n",
       "    </tr>\n",
       "    <tr>\n",
       "      <th>2014</th>\n",
       "      <td>111.210267</td>\n",
       "      <td>0.141533</td>\n",
       "    </tr>\n",
       "    <tr>\n",
       "      <th>2015</th>\n",
       "      <td>-82.952600</td>\n",
       "      <td>0.000000</td>\n",
       "    </tr>\n",
       "    <tr>\n",
       "      <th>2016</th>\n",
       "      <td>49.771800</td>\n",
       "      <td>0.000000</td>\n",
       "    </tr>\n",
       "    <tr>\n",
       "      <th>2017</th>\n",
       "      <td>44.391000</td>\n",
       "      <td>1.624600</td>\n",
       "    </tr>\n",
       "    <tr>\n",
       "      <th>2018</th>\n",
       "      <td>46.988067</td>\n",
       "      <td>2.084600</td>\n",
       "    </tr>\n",
       "    <tr>\n",
       "      <th>2019</th>\n",
       "      <td>42.702400</td>\n",
       "      <td>2.014667</td>\n",
       "    </tr>\n",
       "  </tbody>\n",
       "</table>\n",
       "</div>"
      ],
      "text/plain": [
       "              bv       div\n",
       "date                      \n",
       "2003    0.000000  0.000000\n",
       "2004    0.000000  0.000000\n",
       "2005   78.949400  1.842600\n",
       "2006   91.039600  2.121000\n",
       "2007  102.112400  2.596333\n",
       "2008  115.248867  3.256467\n",
       "2009  141.007067  3.664600\n",
       "2010  149.167133  4.224867\n",
       "2011  238.536000  5.383200\n",
       "2012  190.304467  2.829333\n",
       "2013  150.216600  1.698333\n",
       "2014  111.210267  0.141533\n",
       "2015  -82.952600  0.000000\n",
       "2016   49.771800  0.000000\n",
       "2017   44.391000  1.624600\n",
       "2018   46.988067  2.084600\n",
       "2019   42.702400  2.014667"
      ]
     },
     "execution_count": 580,
     "metadata": {},
     "output_type": "execute_result"
    }
   ],
   "source": [
    "df_arc[['bv','div']]"
   ]
  },
  {
   "cell_type": "code",
   "execution_count": 581,
   "metadata": {},
   "outputs": [
    {
     "data": {
      "text/plain": [
       "date\n",
       "2003         0.0\n",
       "2004         0.0\n",
       "2005    172439.0\n",
       "2006    308879.0\n",
       "2007    401106.0\n",
       "2008    680272.0\n",
       "2009    383805.0\n",
       "2010    697477.0\n",
       "2011    101306.0\n",
       "2012    -62421.0\n",
       "2013   -241242.0\n",
       "2014   -180868.0\n",
       "2015   -163391.0\n",
       "2016     84192.0\n",
       "2017    337268.0\n",
       "2018    322691.0\n",
       "2019    153358.0\n",
       "Name: freeCashFlow, dtype: float64"
      ]
     },
     "execution_count": 581,
     "metadata": {},
     "output_type": "execute_result"
    }
   ],
   "source": [
    "df_arc.freeCashFlow"
   ]
  },
  {
   "cell_type": "code",
   "execution_count": null,
   "metadata": {},
   "outputs": [],
   "source": []
  },
  {
   "cell_type": "markdown",
   "metadata": {},
   "source": [
    "# sbr"
   ]
  },
  {
   "cell_type": "code",
   "execution_count": null,
   "metadata": {},
   "outputs": [],
   "source": []
  },
  {
   "cell_type": "code",
   "execution_count": 609,
   "metadata": {},
   "outputs": [
    {
     "name": "stdout",
     "output_type": "stream",
     "text": [
      "https://fmpcloud.io/api/v3/cash-flow-statement/APY?apikey=cb3b0c371586d9ce915d359479fe1c81\n",
      "https://fmpcloud.io/api/v3/balance-sheet-statement/APY?apikey=cb3b0c371586d9ce915d359479fe1c81\n",
      "https://fmpcloud.io/api/v3/income-statement/APY?apikey=cb3b0c371586d9ce915d359479fe1c81\n"
     ]
    }
   ],
   "source": [
    "dict_apy_cash,errs_apy = url_import(['APY'], 'cash-flow-statement')\n",
    "dict_apy_balance,errs_apy = url_import(['APY'], 'balance-sheet-statement')\n",
    "dict_apy_income,errs_apy = url_import(['APY'], 'income-statement')"
   ]
  },
  {
   "cell_type": "code",
   "execution_count": 610,
   "metadata": {},
   "outputs": [],
   "source": [
    "df_apy_cash = pd.DataFrame(dict_apy_cash)\n",
    "df_apy_bal = pd.DataFrame(dict_apy_balance)\n",
    "df_apy_income = pd.DataFrame(dict_apy_income)"
   ]
  },
  {
   "cell_type": "code",
   "execution_count": 611,
   "metadata": {},
   "outputs": [],
   "source": [
    "df_apy_bal.date = df_apy_bal.date.map(lambda x: re.sub(r'-.*$','',x))\n",
    "df_apy_cash.date = df_apy_cash.date.map(lambda x: re.sub(r'-.*$','',x))\n",
    "df_apy_income.date = df_apy_income.date.map(lambda x: re.sub(r'-.*$','',x))"
   ]
  },
  {
   "cell_type": "code",
   "execution_count": 612,
   "metadata": {},
   "outputs": [],
   "source": [
    "df_apy_bal.set_index(['date'], inplace = True)\n",
    "df_apy_cash.set_index(['date'], inplace = True)\n",
    "df_apy_income.set_index(['date'], inplace = True)"
   ]
  },
  {
   "cell_type": "code",
   "execution_count": 613,
   "metadata": {},
   "outputs": [],
   "source": [
    "df_apy_cash.drop('netIncome',axis = 1, inplace = True)\n",
    "df_apy_cash.rename({'inventory': 'inventoryCash'}, axis = 1, inplace = True)"
   ]
  },
  {
   "cell_type": "code",
   "execution_count": 614,
   "metadata": {},
   "outputs": [],
   "source": [
    "df_apy = pd.concat([df_apy_income,df_apy_bal,df_apy_cash],axis = 1)"
   ]
  },
  {
   "cell_type": "code",
   "execution_count": 615,
   "metadata": {},
   "outputs": [],
   "source": [
    "df_apy.drop(['symbol','period'],axis = 1, inplace =True)"
   ]
  },
  {
   "cell_type": "code",
   "execution_count": 616,
   "metadata": {},
   "outputs": [],
   "source": [
    "df_apy['shares'] = 77E06"
   ]
  },
  {
   "cell_type": "code",
   "execution_count": 617,
   "metadata": {},
   "outputs": [],
   "source": [
    "df_apy.drop(['fillingDate','finalLink','link'],axis = 1,inplace = True)"
   ]
  },
  {
   "cell_type": "code",
   "execution_count": 618,
   "metadata": {},
   "outputs": [],
   "source": [
    "df_apy = df_apy/1000"
   ]
  },
  {
   "cell_type": "code",
   "execution_count": 619,
   "metadata": {},
   "outputs": [],
   "source": [
    "df_apy[['grossProfitRatio',\n",
    " 'ebitdaratio',\n",
    " 'operatingIncomeRatio',\n",
    " 'incomeBeforeTaxRatio',\n",
    " 'netIncomeRatio','eps']] = df_apy[['grossProfitRatio',\n",
    " 'ebitdaratio',\n",
    " 'operatingIncomeRatio',\n",
    " 'incomeBeforeTaxRatio',\n",
    " 'netIncomeRatio','eps']] * 1000"
   ]
  },
  {
   "cell_type": "code",
   "execution_count": 620,
   "metadata": {},
   "outputs": [],
   "source": [
    "df_apy = df_apy.sort_index()"
   ]
  },
  {
   "cell_type": "code",
   "execution_count": 621,
   "metadata": {},
   "outputs": [],
   "source": [
    "df_apy_main = df_apy.loc[:,['netIncomeRatio','totalLiabilities','totalAssets','totalStockholdersEquity']]"
   ]
  },
  {
   "cell_type": "code",
   "execution_count": 622,
   "metadata": {},
   "outputs": [],
   "source": [
    "df_apy_main['netIncome'] = df_apy_income['netIncome'] / 1000"
   ]
  },
  {
   "cell_type": "code",
   "execution_count": 623,
   "metadata": {},
   "outputs": [],
   "source": [
    "df_apy = metrics(df_apy)\n",
    "df_apy = price_ratios(df_apy, 9)"
   ]
  },
  {
   "cell_type": "code",
   "execution_count": null,
   "metadata": {},
   "outputs": [],
   "source": []
  },
  {
   "cell_type": "markdown",
   "metadata": {},
   "source": [
    "# ana"
   ]
  },
  {
   "cell_type": "code",
   "execution_count": 624,
   "metadata": {},
   "outputs": [
    {
     "data": {
      "text/plain": [
       "date\n",
       "2018    0.711389\n",
       "2019    0.546648\n",
       "Name: de, dtype: float64"
      ]
     },
     "execution_count": 624,
     "metadata": {},
     "output_type": "execute_result"
    }
   ],
   "source": [
    "df_apy.de"
   ]
  },
  {
   "cell_type": "code",
   "execution_count": 625,
   "metadata": {},
   "outputs": [
    {
     "data": {
      "text/plain": [
       "date\n",
       "2018    0.353238\n",
       "2019    0.293665\n",
       "Name: debtRatio, dtype: float64"
      ]
     },
     "execution_count": 625,
     "metadata": {},
     "output_type": "execute_result"
    }
   ],
   "source": [
    "df_apy.debtRatio"
   ]
  },
  {
   "cell_type": "code",
   "execution_count": 605,
   "metadata": {},
   "outputs": [
    {
     "data": {
      "text/plain": [
       "2002    0.000000\n",
       "2003    0.000000\n",
       "2004    0.000000\n",
       "2005    0.000000\n",
       "2006    0.000000\n",
       "2007    0.000000\n",
       "2008    0.000000\n",
       "2009    0.000000\n",
       "2010    0.000000\n",
       "2011    0.000630\n",
       "2012    0.000404\n",
       "2013    0.000098\n",
       "2014    0.000000\n",
       "2015    0.000312\n",
       "2016    0.000000\n",
       "2017    0.007214\n",
       "2018    0.008985\n",
       "2019    0.021346\n",
       "Name: debtRatio, dtype: float64"
      ]
     },
     "execution_count": 605,
     "metadata": {},
     "output_type": "execute_result"
    }
   ],
   "source": [
    "df_apy.debtRatio"
   ]
  },
  {
   "cell_type": "code",
   "execution_count": 626,
   "metadata": {},
   "outputs": [
    {
     "data": {
      "text/plain": [
       "date\n",
       "2018    2.625362\n",
       "2019    2.471141\n",
       "Name: curr, dtype: float64"
      ]
     },
     "execution_count": 626,
     "metadata": {},
     "output_type": "execute_result"
    }
   ],
   "source": [
    "df_apy.curr"
   ]
  },
  {
   "cell_type": "code",
   "execution_count": 627,
   "metadata": {},
   "outputs": [
    {
     "data": {
      "text/plain": [
       "date\n",
       "2018    inf\n",
       "2019    inf\n",
       "Name: intCov, dtype: float64"
      ]
     },
     "execution_count": 627,
     "metadata": {},
     "output_type": "execute_result"
    }
   ],
   "source": [
    "df_apy.intCov\n"
   ]
  },
  {
   "cell_type": "code",
   "execution_count": 628,
   "metadata": {},
   "outputs": [
    {
     "data": {
      "text/html": [
       "<div>\n",
       "<style scoped>\n",
       "    .dataframe tbody tr th:only-of-type {\n",
       "        vertical-align: middle;\n",
       "    }\n",
       "\n",
       "    .dataframe tbody tr th {\n",
       "        vertical-align: top;\n",
       "    }\n",
       "\n",
       "    .dataframe thead th {\n",
       "        text-align: right;\n",
       "    }\n",
       "</style>\n",
       "<table border=\"1\" class=\"dataframe\">\n",
       "  <thead>\n",
       "    <tr style=\"text-align: right;\">\n",
       "      <th></th>\n",
       "      <th>roe</th>\n",
       "      <th>rof</th>\n",
       "      <th>rocf</th>\n",
       "      <th>fcfRatio</th>\n",
       "    </tr>\n",
       "    <tr>\n",
       "      <th>date</th>\n",
       "      <th></th>\n",
       "      <th></th>\n",
       "      <th></th>\n",
       "      <th></th>\n",
       "    </tr>\n",
       "  </thead>\n",
       "  <tbody>\n",
       "    <tr>\n",
       "      <th>2018</th>\n",
       "      <td>0.096051</td>\n",
       "      <td>0.108248</td>\n",
       "      <td>0.167404</td>\n",
       "      <td>0.087110</td>\n",
       "    </tr>\n",
       "    <tr>\n",
       "      <th>2019</th>\n",
       "      <td>0.050500</td>\n",
       "      <td>0.112414</td>\n",
       "      <td>0.150925</td>\n",
       "      <td>0.102647</td>\n",
       "    </tr>\n",
       "  </tbody>\n",
       "</table>\n",
       "</div>"
      ],
      "text/plain": [
       "           roe       rof      rocf  fcfRatio\n",
       "date                                        \n",
       "2018  0.096051  0.108248  0.167404  0.087110\n",
       "2019  0.050500  0.112414  0.150925  0.102647"
      ]
     },
     "execution_count": 628,
     "metadata": {},
     "output_type": "execute_result"
    }
   ],
   "source": [
    "df_apy[['roe','rof','rocf','fcfRatio']]"
   ]
  },
  {
   "cell_type": "code",
   "execution_count": null,
   "metadata": {},
   "outputs": [],
   "source": []
  },
  {
   "cell_type": "code",
   "execution_count": null,
   "metadata": {},
   "outputs": [],
   "source": []
  },
  {
   "cell_type": "markdown",
   "metadata": {},
   "source": [
    "# misc \n",
    "# xrx"
   ]
  },
  {
   "cell_type": "code",
   "execution_count": null,
   "metadata": {},
   "outputs": [],
   "source": []
  },
  {
   "cell_type": "code",
   "execution_count": 645,
   "metadata": {},
   "outputs": [
    {
     "name": "stdout",
     "output_type": "stream",
     "text": [
      "https://fmpcloud.io/api/v3/cash-flow-statement/EBIX?apikey=cb3b0c371586d9ce915d359479fe1c81\n",
      "https://fmpcloud.io/api/v3/balance-sheet-statement/EBIX?apikey=cb3b0c371586d9ce915d359479fe1c81\n",
      "https://fmpcloud.io/api/v3/income-statement/EBIX?apikey=cb3b0c371586d9ce915d359479fe1c81\n"
     ]
    }
   ],
   "source": [
    "dict_ebix_cash,errs_ebix = url_import(['EBIX'], 'cash-flow-statement')\n",
    "dict_ebix_balance,errs_ebix = url_import(['EBIX'], 'balance-sheet-statement')\n",
    "dict_ebix_income,errs_ebix = url_import(['EBIX'], 'income-statement')"
   ]
  },
  {
   "cell_type": "code",
   "execution_count": 646,
   "metadata": {},
   "outputs": [],
   "source": [
    "df_ebix_cash = pd.DataFrame(dict_ebix_cash)\n",
    "df_ebix_bal = pd.DataFrame(dict_ebix_balance)\n",
    "df_ebix_income = pd.DataFrame(dict_ebix_income)"
   ]
  },
  {
   "cell_type": "code",
   "execution_count": 647,
   "metadata": {},
   "outputs": [],
   "source": [
    "df_ebix_bal.date = df_ebix_bal.date.map(lambda x: re.sub(r'-.*$','',x))\n",
    "df_ebix_cash.date = df_ebix_cash.date.map(lambda x: re.sub(r'-.*$','',x))\n",
    "df_ebix_income.date = df_ebix_income.date.map(lambda x: re.sub(r'-.*$','',x))"
   ]
  },
  {
   "cell_type": "code",
   "execution_count": 648,
   "metadata": {},
   "outputs": [],
   "source": [
    "df_ebix_bal.set_index(['date'], inplace = True)\n",
    "df_ebix_cash.set_index(['date'], inplace = True)\n",
    "df_ebix_income.set_index(['date'], inplace = True)"
   ]
  },
  {
   "cell_type": "code",
   "execution_count": 649,
   "metadata": {},
   "outputs": [],
   "source": [
    "df_ebix_cash.drop('netIncome',axis = 1, inplace = True)\n",
    "df_ebix_cash.rename({'inventory': 'inventoryCash'}, axis = 1, inplace = True)"
   ]
  },
  {
   "cell_type": "code",
   "execution_count": 650,
   "metadata": {},
   "outputs": [],
   "source": [
    "df_ebix = pd.concat([df_ebix_income,df_ebix_bal,df_ebix_cash],axis = 1)"
   ]
  },
  {
   "cell_type": "code",
   "execution_count": 651,
   "metadata": {},
   "outputs": [],
   "source": [
    "df_ebix.drop(['symbol','period'],axis = 1, inplace =True)"
   ]
  },
  {
   "cell_type": "code",
   "execution_count": 652,
   "metadata": {},
   "outputs": [],
   "source": [
    "df_ebix['shares'] = 30E06"
   ]
  },
  {
   "cell_type": "code",
   "execution_count": 653,
   "metadata": {},
   "outputs": [],
   "source": [
    "df_ebix.drop(['fillingDate','finalLink','link'],axis = 1,inplace = True)"
   ]
  },
  {
   "cell_type": "code",
   "execution_count": 654,
   "metadata": {},
   "outputs": [],
   "source": [
    "df_ebix = df_ebix/1000"
   ]
  },
  {
   "cell_type": "code",
   "execution_count": 655,
   "metadata": {},
   "outputs": [],
   "source": [
    "df_ebix[['grossProfitRatio',\n",
    " 'ebitdaratio',\n",
    " 'operatingIncomeRatio',\n",
    " 'incomeBeforeTaxRatio',\n",
    " 'netIncomeRatio','eps']] = df_ebix[['grossProfitRatio',\n",
    " 'ebitdaratio',\n",
    " 'operatingIncomeRatio',\n",
    " 'incomeBeforeTaxRatio',\n",
    " 'netIncomeRatio','eps']] * 1000"
   ]
  },
  {
   "cell_type": "code",
   "execution_count": 656,
   "metadata": {},
   "outputs": [],
   "source": [
    "df_ebix = df_ebix.sort_index()"
   ]
  },
  {
   "cell_type": "code",
   "execution_count": 657,
   "metadata": {},
   "outputs": [],
   "source": [
    "df_ebix_main = df_ebix.loc[:,['netIncomeRatio','totalLiabilities','totalAssets','totalStockholdersEquity']]"
   ]
  },
  {
   "cell_type": "code",
   "execution_count": 658,
   "metadata": {},
   "outputs": [],
   "source": [
    "df_ebix_main['netIncome'] = df_ebix_income['netIncome'] / 1000"
   ]
  },
  {
   "cell_type": "code",
   "execution_count": 659,
   "metadata": {},
   "outputs": [],
   "source": [
    "df_ebix = metrics(df_ebix)\n",
    "df_ebix = price_ratios(df_ebix, 17)"
   ]
  },
  {
   "cell_type": "code",
   "execution_count": null,
   "metadata": {},
   "outputs": [],
   "source": []
  },
  {
   "cell_type": "markdown",
   "metadata": {},
   "source": [
    "# ANA"
   ]
  },
  {
   "cell_type": "code",
   "execution_count": 661,
   "metadata": {},
   "outputs": [
    {
     "data": {
      "text/plain": [
       "0.22747255286431695"
      ]
     },
     "execution_count": 661,
     "metadata": {},
     "output_type": "execute_result"
    }
   ],
   "source": [
    "df_ebix.de.mean()"
   ]
  },
  {
   "cell_type": "code",
   "execution_count": 662,
   "metadata": {},
   "outputs": [
    {
     "data": {
      "text/plain": [
       "date\n",
       "2001    0.018511\n",
       "2002    0.010636\n",
       "2003    0.154624\n",
       "2004    0.120408\n",
       "2005    0.100533\n",
       "2006    0.041160\n",
       "2007    0.153405\n",
       "2008    0.373069\n",
       "2009    0.202344\n",
       "2010    0.034866\n",
       "2011    0.020996\n",
       "2012    0.062883\n",
       "2013    0.037827\n",
       "2014    0.002410\n",
       "2015    0.000948\n",
       "2016    0.191648\n",
       "2017    0.246669\n",
       "2018    0.272597\n",
       "2019    0.022171\n",
       "Name: debtRatio, dtype: float64"
      ]
     },
     "execution_count": 662,
     "metadata": {},
     "output_type": "execute_result"
    }
   ],
   "source": [
    "df_ebix.debtRatio"
   ]
  },
  {
   "cell_type": "code",
   "execution_count": 663,
   "metadata": {},
   "outputs": [
    {
     "data": {
      "text/plain": [
       "date\n",
       "2001    1.434325\n",
       "2002    1.585913\n",
       "2003    1.906801\n",
       "2004    1.178011\n",
       "2005    1.488362\n",
       "2006    1.875962\n",
       "2007    2.311299\n",
       "2008    0.473948\n",
       "2009    0.619399\n",
       "2010    1.555123\n",
       "2011    1.282006\n",
       "2012    1.440624\n",
       "2013    1.535043\n",
       "2014    1.488278\n",
       "2015    2.278898\n",
       "2016    2.339364\n",
       "2017    1.721422\n",
       "2018    1.346384\n",
       "2019    1.549414\n",
       "Name: curr, dtype: float64"
      ]
     },
     "execution_count": 663,
     "metadata": {},
     "output_type": "execute_result"
    }
   ],
   "source": [
    "df_ebix.curr"
   ]
  },
  {
   "cell_type": "code",
   "execution_count": 664,
   "metadata": {},
   "outputs": [
    {
     "data": {
      "text/plain": [
       "date\n",
       "2001     2.680556\n",
       "2002    20.358974\n",
       "2003    99.470588\n",
       "2004    10.837838\n",
       "2005    15.097403\n",
       "2006    21.721683\n",
       "2007    35.756983\n",
       "2008    17.997540\n",
       "2009    36.687850\n",
       "2010    58.211752\n",
       "2011    90.577075\n",
       "2012    49.972745\n",
       "2013    61.179445\n",
       "2014    26.259723\n",
       "2015    20.578520\n",
       "2016    13.595580\n",
       "2017     8.460061\n",
       "2018     5.644773\n",
       "2019     3.677431\n",
       "Name: intCov, dtype: float64"
      ]
     },
     "execution_count": 664,
     "metadata": {},
     "output_type": "execute_result"
    }
   ],
   "source": [
    "df_ebix.intCov"
   ]
  },
  {
   "cell_type": "code",
   "execution_count": 671,
   "metadata": {},
   "outputs": [
    {
     "data": {
      "text/plain": [
       "roe         0.200531\n",
       "rof         0.134751\n",
       "rocf        0.142586\n",
       "fcfRatio    0.207711\n",
       "dtype: float64"
      ]
     },
     "execution_count": 671,
     "metadata": {},
     "output_type": "execute_result"
    }
   ],
   "source": [
    "df_ebix[['roe','rof','rocf','fcfRatio']].mean()"
   ]
  },
  {
   "cell_type": "code",
   "execution_count": 668,
   "metadata": {},
   "outputs": [
    {
     "data": {
      "text/plain": [
       "totalAssets         0.202254\n",
       "totalLiabilities    0.345563\n",
       "totalDebt           0.143269\n",
       "fcf                 0.006374\n",
       "dtype: float64"
      ]
     },
     "execution_count": 668,
     "metadata": {},
     "output_type": "execute_result"
    }
   ],
   "source": [
    "df_ebix[['totalAssets','totalLiabilities','totalDebt','fcf']].apply(lambda x: \n",
    "                                                                   annual_growth(\n",
    "                                                                   x[-1],x[9],9))"
   ]
  },
  {
   "cell_type": "code",
   "execution_count": 669,
   "metadata": {},
   "outputs": [
    {
     "data": {
      "text/plain": [
       "date\n",
       "2001    -3239.0\n",
       "2002     -742.0\n",
       "2003     3343.0\n",
       "2004     2810.0\n",
       "2005     5483.0\n",
       "2006     4150.0\n",
       "2007    14471.0\n",
       "2008    26825.0\n",
       "2009    33877.0\n",
       "2010    52779.0\n",
       "2011    68457.0\n",
       "2012    70330.0\n",
       "2013    55832.0\n",
       "2014    42233.0\n",
       "2015    34692.0\n",
       "2016    77771.0\n",
       "2017    69422.0\n",
       "2018    79503.0\n",
       "2019    55885.0\n",
       "Name: freeCashFlow, dtype: float64"
      ]
     },
     "execution_count": 669,
     "metadata": {},
     "output_type": "execute_result"
    }
   ],
   "source": [
    "df_ebix.freeCashFlow"
   ]
  },
  {
   "cell_type": "code",
   "execution_count": 673,
   "metadata": {},
   "outputs": [
    {
     "data": {
      "text/plain": [
       "0.2977732340069208"
      ]
     },
     "execution_count": 673,
     "metadata": {},
     "output_type": "execute_result"
    }
   ],
   "source": [
    "annual_growth(0.31,0.05,7)"
   ]
  },
  {
   "cell_type": "code",
   "execution_count": 675,
   "metadata": {},
   "outputs": [
    {
     "data": {
      "text/plain": [
       "bv     7.866961\n",
       "div    0.124649\n",
       "dtype: float64"
      ]
     },
     "execution_count": 675,
     "metadata": {},
     "output_type": "execute_result"
    }
   ],
   "source": [
    "df_ebix[['bv','div']].mean()"
   ]
  },
  {
   "cell_type": "code",
   "execution_count": null,
   "metadata": {},
   "outputs": [],
   "source": []
  },
  {
   "cell_type": "markdown",
   "metadata": {},
   "source": [
    "# hal"
   ]
  },
  {
   "cell_type": "code",
   "execution_count": 733,
   "metadata": {},
   "outputs": [
    {
     "data": {
      "text/plain": [
       "date\n",
       "2019    26.353774\n",
       "Name: bv, dtype: float64"
      ]
     },
     "execution_count": 733,
     "metadata": {},
     "output_type": "execute_result"
    }
   ],
   "source": [
    "df_xrx.bv"
   ]
  },
  {
   "cell_type": "code",
   "execution_count": 735,
   "metadata": {
    "scrolled": true
   },
   "outputs": [
    {
     "data": {
      "text/plain": [
       "defaultdict(list,\n",
       "            {'1000.0,5.0%': [73.06003928673319,\n",
       "              41.55754267645297,\n",
       "              28.909476827437295],\n",
       "             '1000.0,10.0%': [92.99191374663074,\n",
       "              51.69033627816972,\n",
       "              35.26012440592297]})"
      ]
     },
     "execution_count": 735,
     "metadata": {},
     "output_type": "execute_result"
    }
   ],
   "source": [
    "intrinsic_cash([1000E03],[0.05,0.1],drs,lgr,df_xrx.shares.values[0],5)"
   ]
  },
  {
   "cell_type": "code",
   "execution_count": 740,
   "metadata": {},
   "outputs": [
    {
     "data": {
      "text/plain": [
       "17.655784609117326"
      ]
     },
     "execution_count": 740,
     "metadata": {},
     "output_type": "execute_result"
    }
   ],
   "source": [
    "intrinsic_bk(1,23,0.03,0.15,4)"
   ]
  },
  {
   "cell_type": "code",
   "execution_count": 727,
   "metadata": {},
   "outputs": [
    {
     "name": "stdout",
     "output_type": "stream",
     "text": [
      "https://fmpcloud.io/api/v3/cash-flow-statement/BK?apikey=cb3b0c371586d9ce915d359479fe1c81\n",
      "https://fmpcloud.io/api/v3/balance-sheet-statement/FOXA?apikey=cb3b0c371586d9ce915d359479fe1c81\n",
      "https://fmpcloud.io/api/v3/income-statement/FOXA?apikey=cb3b0c371586d9ce915d359479fe1c81\n"
     ]
    }
   ],
   "source": [
    "dict_fox_cash,errs_fox = url_import(['BK'], 'cash-flow-statement')\n",
    "dict_fox_balance,errs_fox = url_import(['FOXA'], 'balance-sheet-statement')\n",
    "dict_fox_income,errs_fox = url_import(['FOXA'], 'income-statement')"
   ]
  },
  {
   "cell_type": "code",
   "execution_count": 703,
   "metadata": {},
   "outputs": [],
   "source": [
    "df_fox_cash = pd.DataFrame(dict_fox_cash)\n",
    "df_fox_bal = pd.DataFrame(dict_fox_balance)\n",
    "df_fox_income = pd.DataFrame(dict_fox_income)"
   ]
  },
  {
   "cell_type": "code",
   "execution_count": 704,
   "metadata": {},
   "outputs": [],
   "source": [
    "df_fox_bal.date = df_fox_bal.date.map(lambda x: re.sub(r'-.*$','',x))\n",
    "df_fox_cash.date = df_fox_cash.date.map(lambda x: re.sub(r'-.*$','',x))\n",
    "df_fox_income.date = df_fox_income.date.map(lambda x: re.sub(r'-.*$','',x))"
   ]
  },
  {
   "cell_type": "code",
   "execution_count": 705,
   "metadata": {},
   "outputs": [],
   "source": [
    "df_fox_bal.set_index(['date'], inplace = True)\n",
    "df_fox_cash.set_index(['date'], inplace = True)\n",
    "df_fox_income.set_index(['date'], inplace = True)"
   ]
  },
  {
   "cell_type": "code",
   "execution_count": 706,
   "metadata": {},
   "outputs": [],
   "source": [
    "df_fox_cash.drop('netIncome',axis = 1, inplace = True)\n",
    "df_fox_cash.rename({'inventory': 'inventoryCash'}, axis = 1, inplace = True)"
   ]
  },
  {
   "cell_type": "code",
   "execution_count": 707,
   "metadata": {},
   "outputs": [],
   "source": [
    "df_fox = pd.concat([df_fox_income,df_fox_bal,df_fox_cash],axis = 1)"
   ]
  },
  {
   "cell_type": "code",
   "execution_count": 708,
   "metadata": {},
   "outputs": [],
   "source": [
    "df_fox.drop(['symbol','period'],axis = 1, inplace =True)"
   ]
  },
  {
   "cell_type": "code",
   "execution_count": 709,
   "metadata": {},
   "outputs": [],
   "source": [
    "df_fox['shares'] = 83E06"
   ]
  },
  {
   "cell_type": "code",
   "execution_count": 710,
   "metadata": {},
   "outputs": [],
   "source": [
    "df_fox.drop(['fillingDate','finalLink','link'],axis = 1,inplace = True)"
   ]
  },
  {
   "cell_type": "code",
   "execution_count": 711,
   "metadata": {},
   "outputs": [],
   "source": [
    "df_fox = df_fox/1000"
   ]
  },
  {
   "cell_type": "code",
   "execution_count": 712,
   "metadata": {},
   "outputs": [],
   "source": [
    "df_fox[['grossProfitRatio',\n",
    " 'ebitdaratio',\n",
    " 'operatingIncomeRatio',\n",
    " 'incomeBeforeTaxRatio',\n",
    " 'netIncomeRatio','eps']] = df_fox[['grossProfitRatio',\n",
    " 'ebitdaratio',\n",
    " 'operatingIncomeRatio',\n",
    " 'incomeBeforeTaxRatio',\n",
    " 'netIncomeRatio','eps']] * 1000"
   ]
  },
  {
   "cell_type": "code",
   "execution_count": 713,
   "metadata": {},
   "outputs": [],
   "source": [
    "df_fox = df_fox.sort_index()"
   ]
  },
  {
   "cell_type": "code",
   "execution_count": 714,
   "metadata": {},
   "outputs": [],
   "source": [
    "df_fox_main = df_fox.loc[:,['netIncomeRatio','totalLiabilities','totalAssets','totalStockholdersEquity']]"
   ]
  },
  {
   "cell_type": "code",
   "execution_count": 715,
   "metadata": {},
   "outputs": [],
   "source": [
    "df_fox_main['netIncome'] = df_fox_income['netIncome'] / 1000"
   ]
  },
  {
   "cell_type": "code",
   "execution_count": 716,
   "metadata": {},
   "outputs": [],
   "source": [
    "df_fox = metrics(df_fox)\n",
    "df_fox = price_ratios(df_fox, 30)"
   ]
  },
  {
   "cell_type": "code",
   "execution_count": null,
   "metadata": {},
   "outputs": [],
   "source": []
  },
  {
   "cell_type": "markdown",
   "metadata": {},
   "source": [
    "# ANA"
   ]
  },
  {
   "cell_type": "code",
   "execution_count": 717,
   "metadata": {},
   "outputs": [
    {
     "data": {
      "text/plain": [
       "2002   -4.889764\n",
       "2003   -0.021505\n",
       "2004   -0.041667\n",
       "2005    0.014286\n",
       "2006    0.006645\n",
       "2007    0.737705\n",
       "2008    0.003929\n",
       "2009    0.057391\n",
       "2010    0.503791\n",
       "2011    0.312765\n",
       "2012    0.258123\n",
       "2013    0.254223\n",
       "2014    0.362031\n",
       "2015    0.488725\n",
       "2016    0.553217\n",
       "2017    0.541703\n",
       "2018    0.723752\n",
       "2019    0.733075\n",
       "Name: de, dtype: float64"
      ]
     },
     "execution_count": 717,
     "metadata": {},
     "output_type": "execute_result"
    }
   ],
   "source": [
    "df_fox.de"
   ]
  },
  {
   "cell_type": "code",
   "execution_count": 718,
   "metadata": {},
   "outputs": [
    {
     "data": {
      "text/plain": [
       "2002    0.877119\n",
       "2003    0.002770\n",
       "2004    0.001289\n",
       "2005    0.003409\n",
       "2006    0.001976\n",
       "2007    0.297170\n",
       "2008    0.001653\n",
       "2009    0.026485\n",
       "2010    0.264049\n",
       "2011    0.182327\n",
       "2012    0.160065\n",
       "2013    0.160667\n",
       "2014    0.204429\n",
       "2015    0.263555\n",
       "2016    0.286887\n",
       "2017    0.291237\n",
       "2018    0.338798\n",
       "2019    0.338842\n",
       "Name: debtRatio, dtype: float64"
      ]
     },
     "execution_count": 718,
     "metadata": {},
     "output_type": "execute_result"
    }
   ],
   "source": [
    "df_fox.debtRatio"
   ]
  },
  {
   "cell_type": "code",
   "execution_count": 719,
   "metadata": {},
   "outputs": [
    {
     "data": {
      "text/plain": [
       "2002    0.318357\n",
       "2003    1.865031\n",
       "2004    1.726852\n",
       "2005    1.897436\n",
       "2006    1.940639\n",
       "2007    1.782787\n",
       "2008    2.142857\n",
       "2009    2.293532\n",
       "2010    2.417193\n",
       "2011    2.118384\n",
       "2012    2.446664\n",
       "2013    2.442873\n",
       "2014    2.194784\n",
       "2015    2.166097\n",
       "2016    2.232438\n",
       "2017    2.505532\n",
       "2018    2.068564\n",
       "2019    2.185059\n",
       "Name: curr, dtype: float64"
      ]
     },
     "execution_count": 719,
     "metadata": {},
     "output_type": "execute_result"
    }
   ],
   "source": [
    "df_fox.curr"
   ]
  },
  {
   "cell_type": "code",
   "execution_count": 720,
   "metadata": {},
   "outputs": [
    {
     "data": {
      "text/plain": [
       "2002          NaN\n",
       "2003    -8.500000\n",
       "2004    -1.130814\n",
       "2005    -3.151515\n",
       "2006    -3.785714\n",
       "2007    -5.428571\n",
       "2008    -6.500000\n",
       "2009    -3.961538\n",
       "2010     5.594828\n",
       "2011    16.551724\n",
       "2012    24.880000\n",
       "2013    37.109589\n",
       "2014    38.225000\n",
       "2015    23.408451\n",
       "2016    16.294118\n",
       "2017    12.795620\n",
       "2018     9.846154\n",
       "2019     9.345055\n",
       "Name: intCov, dtype: float64"
      ]
     },
     "execution_count": 720,
     "metadata": {},
     "output_type": "execute_result"
    }
   ],
   "source": [
    "df_fox.intCov"
   ]
  },
  {
   "cell_type": "code",
   "execution_count": 741,
   "metadata": {},
   "outputs": [
    {
     "ename": "NameError",
     "evalue": "name 'df_fox' is not defined",
     "output_type": "error",
     "traceback": [
      "\u001b[0;31m---------------------------------------------------------------------------\u001b[0m",
      "\u001b[0;31mNameError\u001b[0m                                 Traceback (most recent call last)",
      "\u001b[0;32m<ipython-input-741-97acb5a0a6c7>\u001b[0m in \u001b[0;36m<module>\u001b[0;34m\u001b[0m\n\u001b[0;32m----> 1\u001b[0;31m \u001b[0mdf_fox\u001b[0m\u001b[0;34m[\u001b[0m\u001b[0;34m[\u001b[0m\u001b[0;34m'roe'\u001b[0m\u001b[0;34m,\u001b[0m\u001b[0;34m'rof'\u001b[0m\u001b[0;34m,\u001b[0m\u001b[0;34m'rocf'\u001b[0m\u001b[0;34m,\u001b[0m\u001b[0;34m'fcfRatio'\u001b[0m\u001b[0;34m]\u001b[0m\u001b[0;34m]\u001b[0m\u001b[0;34m\u001b[0m\u001b[0;34m\u001b[0m\u001b[0m\n\u001b[0m",
      "\u001b[0;31mNameError\u001b[0m: name 'df_fox' is not defined"
     ]
    }
   ],
   "source": [
    "df_fox[['roe','rof','rocf','fcfRatio']]"
   ]
  },
  {
   "cell_type": "code",
   "execution_count": 701,
   "metadata": {},
   "outputs": [
    {
     "data": {
      "text/plain": [
       "date\n",
       "2010    11.827822\n",
       "2011    15.049031\n",
       "2012    17.976055\n",
       "2013    15.485747\n",
       "2014    18.548461\n",
       "2015    17.630559\n",
       "2016    10.728620\n",
       "2017     9.489168\n",
       "2018    10.857469\n",
       "2019     9.135690\n",
       "Name: bv, dtype: float64"
      ]
     },
     "execution_count": 701,
     "metadata": {},
     "output_type": "execute_result"
    }
   ],
   "source": [
    "df_fox.bv"
   ]
  },
  {
   "cell_type": "code",
   "execution_count": 724,
   "metadata": {},
   "outputs": [
    {
     "data": {
      "text/plain": [
       "totalAssets         0.106520\n",
       "totalLiabilities    0.121658\n",
       "totalDebt           0.137612\n",
       "fcf                 0.156249\n",
       "dtype: float64"
      ]
     },
     "execution_count": 724,
     "metadata": {},
     "output_type": "execute_result"
    }
   ],
   "source": [
    "df_fox[['totalAssets','totalLiabilities','totalDebt','fcf']].apply(lambda x: \n",
    "                                                                   annual_growth(\n",
    "                                                                   x[-1],x[8],9))"
   ]
  },
  {
   "cell_type": "code",
   "execution_count": null,
   "metadata": {},
   "outputs": [],
   "source": []
  },
  {
   "cell_type": "code",
   "execution_count": null,
   "metadata": {},
   "outputs": [],
   "source": []
  },
  {
   "cell_type": "code",
   "execution_count": 742,
   "metadata": {},
   "outputs": [
    {
     "name": "stdout",
     "output_type": "stream",
     "text": [
      "https://fmpcloud.io/api/v3/cash-flow-statement/BK?apikey=cb3b0c371586d9ce915d359479fe1c81\n",
      "https://fmpcloud.io/api/v3/balance-sheet-statement/BK?apikey=cb3b0c371586d9ce915d359479fe1c81\n",
      "https://fmpcloud.io/api/v3/income-statement/BK?apikey=cb3b0c371586d9ce915d359479fe1c81\n"
     ]
    }
   ],
   "source": [
    "dict_bk_cash,errs_bk = url_import(['BK'], 'cash-flow-statement')\n",
    "dict_bk_balance,errs_bk = url_import(['BK'], 'balance-sheet-statement')\n",
    "dict_bk_income,errs_bk = url_import(['BK'], 'income-statement')"
   ]
  },
  {
   "cell_type": "code",
   "execution_count": 743,
   "metadata": {},
   "outputs": [],
   "source": [
    "df_bk_cash = pd.DataFrame(dict_bk_cash)\n",
    "df_bk_bal = pd.DataFrame(dict_bk_balance)\n",
    "df_bk_income = pd.DataFrame(dict_bk_income)"
   ]
  },
  {
   "cell_type": "code",
   "execution_count": 744,
   "metadata": {},
   "outputs": [],
   "source": [
    "df_bk_bal.date = df_bk_bal.date.map(lambda x: re.sub(r'-.*$','',x))\n",
    "df_bk_cash.date = df_bk_cash.date.map(lambda x: re.sub(r'-.*$','',x))\n",
    "df_bk_income.date = df_bk_income.date.map(lambda x: re.sub(r'-.*$','',x))"
   ]
  },
  {
   "cell_type": "code",
   "execution_count": 745,
   "metadata": {},
   "outputs": [],
   "source": [
    "df_bk_bal.set_index(['date'], inplace = True)\n",
    "df_bk_cash.set_index(['date'], inplace = True)\n",
    "df_bk_income.set_index(['date'], inplace = True)"
   ]
  },
  {
   "cell_type": "code",
   "execution_count": 746,
   "metadata": {},
   "outputs": [],
   "source": [
    "df_bk_cash.drop('netIncome',axis = 1, inplace = True)\n",
    "df_bk_cash.rename({'inventory': 'inventoryCash'}, axis = 1, inplace = True)"
   ]
  },
  {
   "cell_type": "code",
   "execution_count": 747,
   "metadata": {},
   "outputs": [],
   "source": [
    "df_bk = pd.concat([df_bk_income,df_bk_bal,df_bk_cash],axis = 1)"
   ]
  },
  {
   "cell_type": "code",
   "execution_count": 748,
   "metadata": {},
   "outputs": [],
   "source": [
    "df_bk.drop(['symbol','period'],axis = 1, inplace =True)"
   ]
  },
  {
   "cell_type": "code",
   "execution_count": 749,
   "metadata": {},
   "outputs": [],
   "source": [
    "df_bk['shares'] = 885E06"
   ]
  },
  {
   "cell_type": "code",
   "execution_count": 750,
   "metadata": {},
   "outputs": [],
   "source": [
    "df_bk.drop(['fillingDate','finalLink','link'],axis = 1,inplace = True)"
   ]
  },
  {
   "cell_type": "code",
   "execution_count": 751,
   "metadata": {},
   "outputs": [],
   "source": [
    "df_bk = df_bk/1000"
   ]
  },
  {
   "cell_type": "code",
   "execution_count": 752,
   "metadata": {},
   "outputs": [],
   "source": [
    "df_bk[['grossProfitRatio',\n",
    " 'ebitdaratio',\n",
    " 'operatingIncomeRatio',\n",
    " 'incomeBeforeTaxRatio',\n",
    " 'netIncomeRatio','eps']] = df_bk[['grossProfitRatio',\n",
    " 'ebitdaratio',\n",
    " 'operatingIncomeRatio',\n",
    " 'incomeBeforeTaxRatio',\n",
    " 'netIncomeRatio','eps']] * 1000"
   ]
  },
  {
   "cell_type": "code",
   "execution_count": 753,
   "metadata": {},
   "outputs": [],
   "source": [
    "df_bk = df_bk.sort_index()"
   ]
  },
  {
   "cell_type": "code",
   "execution_count": 754,
   "metadata": {},
   "outputs": [],
   "source": [
    "df_bk_main = df_bk.loc[:,['netIncomeRatio','totalLiabilities','totalAssets','totalStockholdersEquity']]"
   ]
  },
  {
   "cell_type": "code",
   "execution_count": 755,
   "metadata": {},
   "outputs": [],
   "source": [
    "df_bk_main['netIncome'] = df_bk_income['netIncome'] / 1000"
   ]
  },
  {
   "cell_type": "code",
   "execution_count": 756,
   "metadata": {},
   "outputs": [],
   "source": [
    "df_bk = metrics(df_bk)\n",
    "df_bk = price_ratios(df_bk, 32)"
   ]
  },
  {
   "cell_type": "code",
   "execution_count": null,
   "metadata": {},
   "outputs": [],
   "source": []
  },
  {
   "cell_type": "code",
   "execution_count": 757,
   "metadata": {},
   "outputs": [
    {
     "data": {
      "text/plain": [
       "date\n",
       "2010    0.510818\n",
       "2011    0.596792\n",
       "2012    0.517911\n",
       "2013    0.531969\n",
       "2014    0.541225\n",
       "2015    0.566475\n",
       "2016    0.630311\n",
       "2017    0.752806\n",
       "2018    0.765343\n",
       "2019    0.758383\n",
       "Name: de, dtype: float64"
      ]
     },
     "execution_count": 757,
     "metadata": {},
     "output_type": "execute_result"
    }
   ],
   "source": [
    "df_bk.de"
   ]
  },
  {
   "cell_type": "code",
   "execution_count": 758,
   "metadata": {},
   "outputs": [
    {
     "data": {
      "text/plain": [
       "date\n",
       "2010    0.066841\n",
       "2011    0.061313\n",
       "2012    0.052559\n",
       "2013    0.053325\n",
       "2014    0.052592\n",
       "2015    0.054718\n",
       "2016    0.073359\n",
       "2017    0.083533\n",
       "2018    0.085710\n",
       "2019    0.082462\n",
       "Name: debtRatio, dtype: float64"
      ]
     },
     "execution_count": 758,
     "metadata": {},
     "output_type": "execute_result"
    }
   ],
   "source": [
    "df_bk.debtRatio"
   ]
  },
  {
   "cell_type": "code",
   "execution_count": 759,
   "metadata": {},
   "outputs": [
    {
     "data": {
      "text/plain": [
       "date\n",
       "2010    6316.000000\n",
       "2011    7912.700000\n",
       "2012     411.976331\n",
       "2013     826.135417\n",
       "2014            inf\n",
       "2015            inf\n",
       "2016            inf\n",
       "2017      26.066016\n",
       "2018      44.600309\n",
       "2019      22.611518\n",
       "Name: curr, dtype: float64"
      ]
     },
     "execution_count": 759,
     "metadata": {},
     "output_type": "execute_result"
    }
   ],
   "source": [
    "df_bk.curr"
   ]
  },
  {
   "cell_type": "code",
   "execution_count": 760,
   "metadata": {},
   "outputs": [
    {
     "data": {
      "text/html": [
       "<div>\n",
       "<style scoped>\n",
       "    .dataframe tbody tr th:only-of-type {\n",
       "        vertical-align: middle;\n",
       "    }\n",
       "\n",
       "    .dataframe tbody tr th {\n",
       "        vertical-align: top;\n",
       "    }\n",
       "\n",
       "    .dataframe thead th {\n",
       "        text-align: right;\n",
       "    }\n",
       "</style>\n",
       "<table border=\"1\" class=\"dataframe\">\n",
       "  <thead>\n",
       "    <tr style=\"text-align: right;\">\n",
       "      <th></th>\n",
       "      <th>roe</th>\n",
       "      <th>rof</th>\n",
       "      <th>rocf</th>\n",
       "      <th>fcfRatio</th>\n",
       "    </tr>\n",
       "    <tr>\n",
       "      <th>date</th>\n",
       "      <th></th>\n",
       "      <th></th>\n",
       "      <th></th>\n",
       "      <th></th>\n",
       "    </tr>\n",
       "  </thead>\n",
       "  <tbody>\n",
       "    <tr>\n",
       "      <th>2010</th>\n",
       "      <td>0.077827</td>\n",
       "      <td>0.118069</td>\n",
       "      <td>0.125178</td>\n",
       "      <td>1.305983</td>\n",
       "    </tr>\n",
       "    <tr>\n",
       "      <th>2011</th>\n",
       "      <td>0.075291</td>\n",
       "      <td>0.046952</td>\n",
       "      <td>0.066164</td>\n",
       "      <td>0.525804</td>\n",
       "    </tr>\n",
       "    <tr>\n",
       "      <th>2012</th>\n",
       "      <td>0.067113</td>\n",
       "      <td>0.026818</td>\n",
       "      <td>0.044715</td>\n",
       "      <td>0.328624</td>\n",
       "    </tr>\n",
       "    <tr>\n",
       "      <th>2013</th>\n",
       "      <td>0.056262</td>\n",
       "      <td>-0.033341</td>\n",
       "      <td>-0.017110</td>\n",
       "      <td>-0.415753</td>\n",
       "    </tr>\n",
       "    <tr>\n",
       "      <th>2014</th>\n",
       "      <td>0.068561</td>\n",
       "      <td>0.098635</td>\n",
       "      <td>0.119762</td>\n",
       "      <td>1.282292</td>\n",
       "    </tr>\n",
       "    <tr>\n",
       "      <th>2015</th>\n",
       "      <td>0.083024</td>\n",
       "      <td>0.092699</td>\n",
       "      <td>0.108500</td>\n",
       "      <td>1.165235</td>\n",
       "    </tr>\n",
       "    <tr>\n",
       "      <th>2016</th>\n",
       "      <td>0.091392</td>\n",
       "      <td>0.139677</td>\n",
       "      <td>0.160934</td>\n",
       "      <td>1.727533</td>\n",
       "    </tr>\n",
       "    <tr>\n",
       "      <th>2017</th>\n",
       "      <td>0.099149</td>\n",
       "      <td>0.083489</td>\n",
       "      <td>0.112506</td>\n",
       "      <td>1.041112</td>\n",
       "    </tr>\n",
       "    <tr>\n",
       "      <th>2018</th>\n",
       "      <td>0.104976</td>\n",
       "      <td>0.120282</td>\n",
       "      <td>0.147547</td>\n",
       "      <td>1.353642</td>\n",
       "    </tr>\n",
       "    <tr>\n",
       "      <th>2019</th>\n",
       "      <td>0.107056</td>\n",
       "      <td>-0.026854</td>\n",
       "      <td>0.002314</td>\n",
       "      <td>-0.349435</td>\n",
       "    </tr>\n",
       "  </tbody>\n",
       "</table>\n",
       "</div>"
      ],
      "text/plain": [
       "           roe       rof      rocf  fcfRatio\n",
       "date                                        \n",
       "2010  0.077827  0.118069  0.125178  1.305983\n",
       "2011  0.075291  0.046952  0.066164  0.525804\n",
       "2012  0.067113  0.026818  0.044715  0.328624\n",
       "2013  0.056262 -0.033341 -0.017110 -0.415753\n",
       "2014  0.068561  0.098635  0.119762  1.282292\n",
       "2015  0.083024  0.092699  0.108500  1.165235\n",
       "2016  0.091392  0.139677  0.160934  1.727533\n",
       "2017  0.099149  0.083489  0.112506  1.041112\n",
       "2018  0.104976  0.120282  0.147547  1.353642\n",
       "2019  0.107056 -0.026854  0.002314 -0.349435"
      ]
     },
     "execution_count": 760,
     "metadata": {},
     "output_type": "execute_result"
    }
   ],
   "source": [
    "df_bk[['roe','rof','rocf','fcfRatio']]"
   ]
  },
  {
   "cell_type": "code",
   "execution_count": 763,
   "metadata": {},
   "outputs": [
    {
     "data": {
      "text/plain": [
       "0.1046395132682385"
      ]
     },
     "execution_count": 763,
     "metadata": {},
     "output_type": "execute_result"
    }
   ],
   "source": [
    "annual_growth(1.2,.49,9)"
   ]
  },
  {
   "cell_type": "code",
   "execution_count": 764,
   "metadata": {},
   "outputs": [
    {
     "data": {
      "text/plain": [
       "bv     42.642260\n",
       "div     0.870847\n",
       "dtype: float64"
      ]
     },
     "execution_count": 764,
     "metadata": {},
     "output_type": "execute_result"
    }
   ],
   "source": [
    "df_bk[['bv','div']].mean()"
   ]
  },
  {
   "cell_type": "code",
   "execution_count": 766,
   "metadata": {},
   "outputs": [
    {
     "data": {
      "text/plain": [
       "array([[<matplotlib.axes._subplots.AxesSubplot object at 0x12a389dd0>,\n",
       "        <matplotlib.axes._subplots.AxesSubplot object at 0x12a3dec90>],\n",
       "       [<matplotlib.axes._subplots.AxesSubplot object at 0x12a374590>,\n",
       "        <matplotlib.axes._subplots.AxesSubplot object at 0x12b2bb310>],\n",
       "       [<matplotlib.axes._subplots.AxesSubplot object at 0x12b2f1710>,\n",
       "        <matplotlib.axes._subplots.AxesSubplot object at 0x12b325b10>]],\n",
       "      dtype=object)"
      ]
     },
     "execution_count": 766,
     "metadata": {},
     "output_type": "execute_result"
    },
    {
     "data": {
      "image/png": "[encoded data removed]",
      "text/plain": [
       "<Figure size 792x792 with 6 Axes>"
      ]
     },
     "metadata": {
      "needs_background": "light"
     },
     "output_type": "display_data"
    }
   ],
   "source": [
    "df_bk[['bv','eps','fcf','totalAssets','totalLiabilities']].plot(subplots = True, \n",
    "                                                               layout = (3,-1),\n",
    "                                                               figsize = (11,11))"
   ]
  },
  {
   "cell_type": "code",
   "execution_count": 767,
   "metadata": {},
   "outputs": [
    {
     "data": {
      "text/html": [
       "<div>\n",
       "<style scoped>\n",
       "    .dataframe tbody tr th:only-of-type {\n",
       "        vertical-align: middle;\n",
       "    }\n",
       "\n",
       "    .dataframe tbody tr th {\n",
       "        vertical-align: top;\n",
       "    }\n",
       "\n",
       "    .dataframe thead th {\n",
       "        text-align: right;\n",
       "    }\n",
       "</style>\n",
       "<table border=\"1\" class=\"dataframe\">\n",
       "  <thead>\n",
       "    <tr style=\"text-align: right;\">\n",
       "      <th></th>\n",
       "      <th>pe</th>\n",
       "      <th>ps</th>\n",
       "      <th>pb</th>\n",
       "    </tr>\n",
       "    <tr>\n",
       "      <th>date</th>\n",
       "      <th></th>\n",
       "      <th></th>\n",
       "      <th></th>\n",
       "    </tr>\n",
       "  </thead>\n",
       "  <tbody>\n",
       "    <tr>\n",
       "      <th>2010</th>\n",
       "      <td>15.533981</td>\n",
       "      <td>9.682051</td>\n",
       "      <td>0.875317</td>\n",
       "    </tr>\n",
       "    <tr>\n",
       "      <th>2011</th>\n",
       "      <td>15.763547</td>\n",
       "      <td>9.490617</td>\n",
       "      <td>0.847473</td>\n",
       "    </tr>\n",
       "    <tr>\n",
       "      <th>2012</th>\n",
       "      <td>15.686275</td>\n",
       "      <td>9.525732</td>\n",
       "      <td>0.777360</td>\n",
       "    </tr>\n",
       "    <tr>\n",
       "      <th>2013</th>\n",
       "      <td>18.285714</td>\n",
       "      <td>9.411765</td>\n",
       "      <td>0.754777</td>\n",
       "    </tr>\n",
       "    <tr>\n",
       "      <th>2014</th>\n",
       "      <td>14.746544</td>\n",
       "      <td>9.833333</td>\n",
       "      <td>0.756390</td>\n",
       "    </tr>\n",
       "    <tr>\n",
       "      <th>2015</th>\n",
       "      <td>11.721612</td>\n",
       "      <td>9.358890</td>\n",
       "      <td>0.744538</td>\n",
       "    </tr>\n",
       "    <tr>\n",
       "      <th>2016</th>\n",
       "      <td>10.126582</td>\n",
       "      <td>9.024857</td>\n",
       "      <td>0.729690</td>\n",
       "    </tr>\n",
       "    <tr>\n",
       "      <th>2017</th>\n",
       "      <td>8.556150</td>\n",
       "      <td>8.561064</td>\n",
       "      <td>0.686529</td>\n",
       "    </tr>\n",
       "    <tr>\n",
       "      <th>2018</th>\n",
       "      <td>7.881773</td>\n",
       "      <td>7.842703</td>\n",
       "      <td>0.696885</td>\n",
       "    </tr>\n",
       "    <tr>\n",
       "      <th>2019</th>\n",
       "      <td>7.064018</td>\n",
       "      <td>8.883312</td>\n",
       "      <td>0.682689</td>\n",
       "    </tr>\n",
       "  </tbody>\n",
       "</table>\n",
       "</div>"
      ],
      "text/plain": [
       "             pe        ps        pb\n",
       "date                               \n",
       "2010  15.533981  9.682051  0.875317\n",
       "2011  15.763547  9.490617  0.847473\n",
       "2012  15.686275  9.525732  0.777360\n",
       "2013  18.285714  9.411765  0.754777\n",
       "2014  14.746544  9.833333  0.756390\n",
       "2015  11.721612  9.358890  0.744538\n",
       "2016  10.126582  9.024857  0.729690\n",
       "2017   8.556150  8.561064  0.686529\n",
       "2018   7.881773  7.842703  0.696885\n",
       "2019   7.064018  8.883312  0.682689"
      ]
     },
     "execution_count": 767,
     "metadata": {},
     "output_type": "execute_result"
    }
   ],
   "source": [
    "df_bk[['pe','ps','pb']]"
   ]
  },
  {
   "cell_type": "code",
   "execution_count": 769,
   "metadata": {},
   "outputs": [
    {
     "data": {
      "text/plain": [
       "0.02777115794612728"
      ]
     },
     "execution_count": 769,
     "metadata": {},
     "output_type": "execute_result"
    }
   ],
   "source": [
    "annual_growth(4888000.0,3820000,9)"
   ]
  },
  {
   "cell_type": "code",
   "execution_count": 775,
   "metadata": {},
   "outputs": [
    {
     "data": {
      "text/plain": [
       "3485000.0"
      ]
     },
     "execution_count": 775,
     "metadata": {},
     "output_type": "execute_result"
    }
   ],
   "source": [
    "df_bk.freeCashFlow.median()"
   ]
  },
  {
   "cell_type": "code",
   "execution_count": 776,
   "metadata": {},
   "outputs": [],
   "source": [
    "cf_bk = [df_bk.freeCashFlow.median()]\n",
    "grs = [0.03,0.05]"
   ]
  },
  {
   "cell_type": "code",
   "execution_count": 777,
   "metadata": {},
   "outputs": [
    {
     "data": {
      "text/plain": [
       "defaultdict(list,\n",
       "            {'3485.0,3.0%': [55.90234461895242,\n",
       "              32.49176845967685,\n",
       "              23.004046052281222],\n",
       "             '3485.0,5.0%': [64.67728016409549,\n",
       "              36.72299901242258,\n",
       "              25.55400421158385]})"
      ]
     },
     "execution_count": 777,
     "metadata": {},
     "output_type": "execute_result"
    }
   ],
   "source": [
    "intrinsic_cash(cf_bk,grs,drs,lgr,df_bk.shares.values[0],9)"
   ]
  },
  {
   "cell_type": "code",
   "execution_count": 779,
   "metadata": {},
   "outputs": [
    {
     "data": {
      "text/plain": [
       "20.243038340984995"
      ]
     },
     "execution_count": 779,
     "metadata": {},
     "output_type": "execute_result"
    }
   ],
   "source": [
    "intrinsic_bk(0.9,43,0.03,0.15,9)"
   ]
  },
  {
   "cell_type": "code",
   "execution_count": null,
   "metadata": {},
   "outputs": [],
   "source": []
  },
  {
   "cell_type": "code",
   "execution_count": null,
   "metadata": {},
   "outputs": [],
   "source": []
  },
  {
   "cell_type": "code",
   "execution_count": 780,
   "metadata": {},
   "outputs": [
    {
     "name": "stdout",
     "output_type": "stream",
     "text": [
      "https://fmpcloud.io/api/v3/cash-flow-statement/USB?apikey=cb3b0c371586d9ce915d359479fe1c81\n",
      "https://fmpcloud.io/api/v3/balance-sheet-statement/USB?apikey=cb3b0c371586d9ce915d359479fe1c81\n",
      "https://fmpcloud.io/api/v3/income-statement/USB?apikey=cb3b0c371586d9ce915d359479fe1c81\n"
     ]
    }
   ],
   "source": [
    "dict_usb_cash,errs_usb = url_import(['USB'], 'cash-flow-statement')\n",
    "dict_usb_balance,errs_usb = url_import(['USB'], 'balance-sheet-statement')\n",
    "dict_usb_income,errs_usb = url_import(['USB'], 'income-statement')"
   ]
  },
  {
   "cell_type": "code",
   "execution_count": 781,
   "metadata": {},
   "outputs": [],
   "source": [
    "df_usb_cash = pd.DataFrame(dict_usb_cash)\n",
    "df_usb_bal = pd.DataFrame(dict_usb_balance)\n",
    "df_usb_income = pd.DataFrame(dict_usb_income)"
   ]
  },
  {
   "cell_type": "code",
   "execution_count": 782,
   "metadata": {},
   "outputs": [],
   "source": [
    "df_usb_bal.date = df_usb_bal.date.map(lambda x: re.sub(r'-.*$','',x))\n",
    "df_usb_cash.date = df_usb_cash.date.map(lambda x: re.sub(r'-.*$','',x))\n",
    "df_usb_income.date = df_usb_income.date.map(lambda x: re.sub(r'-.*$','',x))"
   ]
  },
  {
   "cell_type": "code",
   "execution_count": 783,
   "metadata": {},
   "outputs": [],
   "source": [
    "df_usb_bal.set_index(['date'], inplace = True)\n",
    "df_usb_cash.set_index(['date'], inplace = True)\n",
    "df_usb_income.set_index(['date'], inplace = True)"
   ]
  },
  {
   "cell_type": "code",
   "execution_count": 784,
   "metadata": {},
   "outputs": [],
   "source": [
    "df_usb_cash.drop('netIncome',axis = 1, inplace = True)\n",
    "df_usb_cash.rename({'inventory': 'inventoryCash'}, axis = 1, inplace = True)"
   ]
  },
  {
   "cell_type": "code",
   "execution_count": 785,
   "metadata": {},
   "outputs": [],
   "source": [
    "df_usb = pd.concat([df_usb_income,df_usb_bal,df_usb_cash],axis = 1)"
   ]
  },
  {
   "cell_type": "code",
   "execution_count": 786,
   "metadata": {},
   "outputs": [],
   "source": [
    "df_usb.drop(['symbol','period'],axis = 1, inplace =True)"
   ]
  },
  {
   "cell_type": "code",
   "execution_count": 787,
   "metadata": {},
   "outputs": [],
   "source": [
    "df_usb['shares'] = 1.5E09"
   ]
  },
  {
   "cell_type": "code",
   "execution_count": 788,
   "metadata": {},
   "outputs": [],
   "source": [
    "df_usb.drop(['fillingDate','finalLink','link'],axis = 1,inplace = True)"
   ]
  },
  {
   "cell_type": "code",
   "execution_count": 789,
   "metadata": {},
   "outputs": [],
   "source": [
    "df_usb = df_usb/1000"
   ]
  },
  {
   "cell_type": "code",
   "execution_count": 790,
   "metadata": {},
   "outputs": [],
   "source": [
    "df_usb[['grossProfitRatio',\n",
    " 'ebitdaratio',\n",
    " 'operatingIncomeRatio',\n",
    " 'incomeBeforeTaxRatio',\n",
    " 'netIncomeRatio','eps']] = df_usb[['grossProfitRatio',\n",
    " 'ebitdaratio',\n",
    " 'operatingIncomeRatio',\n",
    " 'incomeBeforeTaxRatio',\n",
    " 'netIncomeRatio','eps']] * 1000"
   ]
  },
  {
   "cell_type": "code",
   "execution_count": 791,
   "metadata": {},
   "outputs": [],
   "source": [
    "df_usb = df_usb.sort_index()"
   ]
  },
  {
   "cell_type": "code",
   "execution_count": 792,
   "metadata": {},
   "outputs": [],
   "source": [
    "df_usb_main = df_usb.loc[:,['netIncomeRatio','totalLiabilities','totalAssets','totalStockholdersEquity']]"
   ]
  },
  {
   "cell_type": "code",
   "execution_count": 793,
   "metadata": {},
   "outputs": [],
   "source": [
    "df_usb_main['netIncome'] = df_usb_income['netIncome'] / 1000"
   ]
  },
  {
   "cell_type": "code",
   "execution_count": 795,
   "metadata": {},
   "outputs": [],
   "source": [
    "df_usb = metrics(df_usb)\n",
    "df_usb = price_ratios(df_usb, 30)"
   ]
  },
  {
   "cell_type": "code",
   "execution_count": null,
   "metadata": {},
   "outputs": [],
   "source": []
  },
  {
   "cell_type": "code",
   "execution_count": 796,
   "metadata": {},
   "outputs": [
    {
     "data": {
      "text/html": [
       "<div>\n",
       "<style scoped>\n",
       "    .dataframe tbody tr th:only-of-type {\n",
       "        vertical-align: middle;\n",
       "    }\n",
       "\n",
       "    .dataframe tbody tr th {\n",
       "        vertical-align: top;\n",
       "    }\n",
       "\n",
       "    .dataframe thead th {\n",
       "        text-align: right;\n",
       "    }\n",
       "</style>\n",
       "<table border=\"1\" class=\"dataframe\">\n",
       "  <thead>\n",
       "    <tr style=\"text-align: right;\">\n",
       "      <th></th>\n",
       "      <th>de</th>\n",
       "      <th>debtRatio</th>\n",
       "    </tr>\n",
       "    <tr>\n",
       "      <th>date</th>\n",
       "      <th></th>\n",
       "      <th></th>\n",
       "    </tr>\n",
       "  </thead>\n",
       "  <tbody>\n",
       "    <tr>\n",
       "      <th>2010</th>\n",
       "      <td>NaN</td>\n",
       "      <td>NaN</td>\n",
       "    </tr>\n",
       "    <tr>\n",
       "      <th>2011</th>\n",
       "      <td>NaN</td>\n",
       "      <td>NaN</td>\n",
       "    </tr>\n",
       "    <tr>\n",
       "      <th>2012</th>\n",
       "      <td>1.328735</td>\n",
       "      <td>0.146439</td>\n",
       "    </tr>\n",
       "    <tr>\n",
       "      <th>2013</th>\n",
       "      <td>1.159171</td>\n",
       "      <td>0.130918</td>\n",
       "    </tr>\n",
       "    <tr>\n",
       "      <th>2014</th>\n",
       "      <td>1.429495</td>\n",
       "      <td>0.154406</td>\n",
       "    </tr>\n",
       "    <tr>\n",
       "      <th>2015</th>\n",
       "      <td>1.299668</td>\n",
       "      <td>0.142123</td>\n",
       "    </tr>\n",
       "    <tr>\n",
       "      <th>2016</th>\n",
       "      <td>0.999746</td>\n",
       "      <td>0.106031</td>\n",
       "    </tr>\n",
       "    <tr>\n",
       "      <th>2017</th>\n",
       "      <td>0.997349</td>\n",
       "      <td>0.105857</td>\n",
       "    </tr>\n",
       "    <tr>\n",
       "      <th>2018</th>\n",
       "      <td>1.087205</td>\n",
       "      <td>0.118704</td>\n",
       "    </tr>\n",
       "    <tr>\n",
       "      <th>2019</th>\n",
       "      <td>1.232137</td>\n",
       "      <td>0.128960</td>\n",
       "    </tr>\n",
       "  </tbody>\n",
       "</table>\n",
       "</div>"
      ],
      "text/plain": [
       "            de  debtRatio\n",
       "date                     \n",
       "2010       NaN        NaN\n",
       "2011       NaN        NaN\n",
       "2012  1.328735   0.146439\n",
       "2013  1.159171   0.130918\n",
       "2014  1.429495   0.154406\n",
       "2015  1.299668   0.142123\n",
       "2016  0.999746   0.106031\n",
       "2017  0.997349   0.105857\n",
       "2018  1.087205   0.118704\n",
       "2019  1.232137   0.128960"
      ]
     },
     "execution_count": 796,
     "metadata": {},
     "output_type": "execute_result"
    }
   ],
   "source": [
    "df_usb[['de','debtRatio']]"
   ]
  },
  {
   "cell_type": "code",
   "execution_count": 797,
   "metadata": {},
   "outputs": [
    {
     "data": {
      "text/html": [
       "<div>\n",
       "<style scoped>\n",
       "    .dataframe tbody tr th:only-of-type {\n",
       "        vertical-align: middle;\n",
       "    }\n",
       "\n",
       "    .dataframe tbody tr th {\n",
       "        vertical-align: top;\n",
       "    }\n",
       "\n",
       "    .dataframe thead th {\n",
       "        text-align: right;\n",
       "    }\n",
       "</style>\n",
       "<table border=\"1\" class=\"dataframe\">\n",
       "  <thead>\n",
       "    <tr style=\"text-align: right;\">\n",
       "      <th></th>\n",
       "      <th>curr</th>\n",
       "      <th>intCov</th>\n",
       "    </tr>\n",
       "    <tr>\n",
       "      <th>date</th>\n",
       "      <th></th>\n",
       "      <th></th>\n",
       "    </tr>\n",
       "  </thead>\n",
       "  <tbody>\n",
       "    <tr>\n",
       "      <th>2010</th>\n",
       "      <td>NaN</td>\n",
       "      <td>NaN</td>\n",
       "    </tr>\n",
       "    <tr>\n",
       "      <th>2011</th>\n",
       "      <td>NaN</td>\n",
       "      <td>NaN</td>\n",
       "    </tr>\n",
       "    <tr>\n",
       "      <th>2012</th>\n",
       "      <td>1.839822</td>\n",
       "      <td>2.641254</td>\n",
       "    </tr>\n",
       "    <tr>\n",
       "      <th>2013</th>\n",
       "      <td>1.789771</td>\n",
       "      <td>4.618679</td>\n",
       "    </tr>\n",
       "    <tr>\n",
       "      <th>2014</th>\n",
       "      <td>2.232061</td>\n",
       "      <td>5.502409</td>\n",
       "    </tr>\n",
       "    <tr>\n",
       "      <th>2015</th>\n",
       "      <td>2.623812</td>\n",
       "      <td>5.731620</td>\n",
       "    </tr>\n",
       "    <tr>\n",
       "      <th>2016</th>\n",
       "      <td>5.871876</td>\n",
       "      <td>4.945088</td>\n",
       "    </tr>\n",
       "    <tr>\n",
       "      <th>2017</th>\n",
       "      <td>5.263468</td>\n",
       "      <td>3.506063</td>\n",
       "    </tr>\n",
       "    <tr>\n",
       "      <th>2018</th>\n",
       "      <td>6.193366</td>\n",
       "      <td>2.666872</td>\n",
       "    </tr>\n",
       "    <tr>\n",
       "      <th>2019</th>\n",
       "      <td>6.112971</td>\n",
       "      <td>1.934714</td>\n",
       "    </tr>\n",
       "  </tbody>\n",
       "</table>\n",
       "</div>"
      ],
      "text/plain": [
       "          curr    intCov\n",
       "date                    \n",
       "2010       NaN       NaN\n",
       "2011       NaN       NaN\n",
       "2012  1.839822  2.641254\n",
       "2013  1.789771  4.618679\n",
       "2014  2.232061  5.502409\n",
       "2015  2.623812  5.731620\n",
       "2016  5.871876  4.945088\n",
       "2017  5.263468  3.506063\n",
       "2018  6.193366  2.666872\n",
       "2019  6.112971  1.934714"
      ]
     },
     "execution_count": 797,
     "metadata": {},
     "output_type": "execute_result"
    }
   ],
   "source": [
    "df_usb[['curr','intCov']]"
   ]
  },
  {
   "cell_type": "code",
   "execution_count": 801,
   "metadata": {},
   "outputs": [
    {
     "data": {
      "text/html": [
       "<div>\n",
       "<style scoped>\n",
       "    .dataframe tbody tr th:only-of-type {\n",
       "        vertical-align: middle;\n",
       "    }\n",
       "\n",
       "    .dataframe tbody tr th {\n",
       "        vertical-align: top;\n",
       "    }\n",
       "\n",
       "    .dataframe thead th {\n",
       "        text-align: right;\n",
       "    }\n",
       "</style>\n",
       "<table border=\"1\" class=\"dataframe\">\n",
       "  <thead>\n",
       "    <tr style=\"text-align: right;\">\n",
       "      <th></th>\n",
       "      <th>roe</th>\n",
       "      <th>rof</th>\n",
       "      <th>rocf</th>\n",
       "      <th>fcfRatio</th>\n",
       "    </tr>\n",
       "    <tr>\n",
       "      <th>date</th>\n",
       "      <th></th>\n",
       "      <th></th>\n",
       "      <th></th>\n",
       "      <th></th>\n",
       "    </tr>\n",
       "  </thead>\n",
       "  <tbody>\n",
       "    <tr>\n",
       "      <th>2010</th>\n",
       "      <td>NaN</td>\n",
       "      <td>NaN</td>\n",
       "      <td>NaN</td>\n",
       "      <td>NaN</td>\n",
       "    </tr>\n",
       "    <tr>\n",
       "      <th>2011</th>\n",
       "      <td>NaN</td>\n",
       "      <td>NaN</td>\n",
       "      <td>NaN</td>\n",
       "      <td>NaN</td>\n",
       "    </tr>\n",
       "    <tr>\n",
       "      <th>2012</th>\n",
       "      <td>0.144802</td>\n",
       "      <td>0.204062</td>\n",
       "      <td>0.204062</td>\n",
       "      <td>0.740624</td>\n",
       "    </tr>\n",
       "    <tr>\n",
       "      <th>2013</th>\n",
       "      <td>0.141950</td>\n",
       "      <td>0.278403</td>\n",
       "      <td>0.278403</td>\n",
       "      <td>1.079404</td>\n",
       "    </tr>\n",
       "    <tr>\n",
       "      <th>2014</th>\n",
       "      <td>0.134571</td>\n",
       "      <td>0.122634</td>\n",
       "      <td>0.122634</td>\n",
       "      <td>0.494849</td>\n",
       "    </tr>\n",
       "    <tr>\n",
       "      <th>2015</th>\n",
       "      <td>0.127441</td>\n",
       "      <td>0.190371</td>\n",
       "      <td>0.190371</td>\n",
       "      <td>0.798291</td>\n",
       "    </tr>\n",
       "    <tr>\n",
       "      <th>2016</th>\n",
       "      <td>0.124487</td>\n",
       "      <td>0.112817</td>\n",
       "      <td>0.112817</td>\n",
       "      <td>0.462873</td>\n",
       "    </tr>\n",
       "    <tr>\n",
       "      <th>2017</th>\n",
       "      <td>0.126794</td>\n",
       "      <td>0.131974</td>\n",
       "      <td>0.131974</td>\n",
       "      <td>0.528715</td>\n",
       "    </tr>\n",
       "    <tr>\n",
       "      <th>2018</th>\n",
       "      <td>0.139058</td>\n",
       "      <td>0.207020</td>\n",
       "      <td>0.207020</td>\n",
       "      <td>0.817710</td>\n",
       "    </tr>\n",
       "    <tr>\n",
       "      <th>2019</th>\n",
       "      <td>0.133338</td>\n",
       "      <td>0.094286</td>\n",
       "      <td>0.094286</td>\n",
       "      <td>0.374579</td>\n",
       "    </tr>\n",
       "  </tbody>\n",
       "</table>\n",
       "</div>"
      ],
      "text/plain": [
       "           roe       rof      rocf  fcfRatio\n",
       "date                                        \n",
       "2010       NaN       NaN       NaN       NaN\n",
       "2011       NaN       NaN       NaN       NaN\n",
       "2012  0.144802  0.204062  0.204062  0.740624\n",
       "2013  0.141950  0.278403  0.278403  1.079404\n",
       "2014  0.134571  0.122634  0.122634  0.494849\n",
       "2015  0.127441  0.190371  0.190371  0.798291\n",
       "2016  0.124487  0.112817  0.112817  0.462873\n",
       "2017  0.126794  0.131974  0.131974  0.528715\n",
       "2018  0.139058  0.207020  0.207020  0.817710\n",
       "2019  0.133338  0.094286  0.094286  0.374579"
      ]
     },
     "execution_count": 801,
     "metadata": {},
     "output_type": "execute_result"
    }
   ],
   "source": [
    "df_usb[['roe','rof','rocf','fcfRatio']]"
   ]
  },
  {
   "cell_type": "code",
   "execution_count": 804,
   "metadata": {},
   "outputs": [
    {
     "data": {
      "text/plain": [
       "totalAssets         0.038100\n",
       "totalLiabilities    0.038817\n",
       "totalDebt           0.023542\n",
       "fcf                -0.052693\n",
       "dtype: float64"
      ]
     },
     "execution_count": 804,
     "metadata": {},
     "output_type": "execute_result"
    }
   ],
   "source": [
    "df_usb[['totalAssets','totalLiabilities','totalDebt','fcf']].apply(lambda x: \n",
    "                                                                 annual_growth(x[-1],x[2],9))"
   ]
  },
  {
   "cell_type": "code",
   "execution_count": 807,
   "metadata": {},
   "outputs": [
    {
     "data": {
      "text/plain": [
       "0.10408951367381225"
      ]
     },
     "execution_count": 807,
     "metadata": {},
     "output_type": "execute_result"
    }
   ],
   "source": [
    "annual_growth(1.6,0.8,7)"
   ]
  },
  {
   "cell_type": "code",
   "execution_count": 810,
   "metadata": {},
   "outputs": [
    {
     "data": {
      "text/plain": [
       "bv     29.870000\n",
       "div     1.167667\n",
       "dtype: float64"
      ]
     },
     "execution_count": 810,
     "metadata": {},
     "output_type": "execute_result"
    }
   ],
   "source": [
    "df_usb[['bv','div']].median()"
   ]
  },
  {
   "cell_type": "code",
   "execution_count": null,
   "metadata": {},
   "outputs": [],
   "source": []
  },
  {
   "cell_type": "code",
   "execution_count": 811,
   "metadata": {},
   "outputs": [
    {
     "data": {
      "text/plain": [
       "array([[<matplotlib.axes._subplots.AxesSubplot object at 0x128b71910>,\n",
       "        <matplotlib.axes._subplots.AxesSubplot object at 0x12b459b10>],\n",
       "       [<matplotlib.axes._subplots.AxesSubplot object at 0x12b67bfd0>,\n",
       "        <matplotlib.axes._subplots.AxesSubplot object at 0x128c353d0>],\n",
       "       [<matplotlib.axes._subplots.AxesSubplot object at 0x128c69790>,\n",
       "        <matplotlib.axes._subplots.AxesSubplot object at 0x127785b50>]],\n",
       "      dtype=object)"
      ]
     },
     "execution_count": 811,
     "metadata": {},
     "output_type": "execute_result"
    },
    {
     "data": {
      "image/png": "[encoded data removed]",
      "text/plain": [
       "<Figure size 792x792 with 6 Axes>"
      ]
     },
     "metadata": {
      "needs_background": "light"
     },
     "output_type": "display_data"
    }
   ],
   "source": [
    "df_usb[['bv','eps','fcf','totalAssets','totalLiabilities']].plot(subplots = True, \n",
    "                                                               layout = (3,-1),\n",
    "                                                               figsize = (11,11))"
   ]
  },
  {
   "cell_type": "code",
   "execution_count": 812,
   "metadata": {},
   "outputs": [
    {
     "data": {
      "text/html": [
       "<div>\n",
       "<style scoped>\n",
       "    .dataframe tbody tr th:only-of-type {\n",
       "        vertical-align: middle;\n",
       "    }\n",
       "\n",
       "    .dataframe tbody tr th {\n",
       "        vertical-align: top;\n",
       "    }\n",
       "\n",
       "    .dataframe thead th {\n",
       "        text-align: right;\n",
       "    }\n",
       "</style>\n",
       "<table border=\"1\" class=\"dataframe\">\n",
       "  <thead>\n",
       "    <tr style=\"text-align: right;\">\n",
       "      <th></th>\n",
       "      <th>pe</th>\n",
       "      <th>ps</th>\n",
       "      <th>pb</th>\n",
       "    </tr>\n",
       "    <tr>\n",
       "      <th>date</th>\n",
       "      <th></th>\n",
       "      <th></th>\n",
       "      <th></th>\n",
       "    </tr>\n",
       "  </thead>\n",
       "  <tbody>\n",
       "    <tr>\n",
       "      <th>2010</th>\n",
       "      <td>17.341040</td>\n",
       "      <td>inf</td>\n",
       "      <td>inf</td>\n",
       "    </tr>\n",
       "    <tr>\n",
       "      <th>2011</th>\n",
       "      <td>12.195122</td>\n",
       "      <td>inf</td>\n",
       "      <td>inf</td>\n",
       "    </tr>\n",
       "    <tr>\n",
       "      <th>2012</th>\n",
       "      <td>10.526316</td>\n",
       "      <td>4.187994</td>\n",
       "      <td>1.153905</td>\n",
       "    </tr>\n",
       "    <tr>\n",
       "      <th>2013</th>\n",
       "      <td>9.933775</td>\n",
       "      <td>4.243682</td>\n",
       "      <td>1.094544</td>\n",
       "    </tr>\n",
       "    <tr>\n",
       "      <th>2014</th>\n",
       "      <td>9.677419</td>\n",
       "      <td>4.176334</td>\n",
       "      <td>1.034982</td>\n",
       "    </tr>\n",
       "    <tr>\n",
       "      <th>2015</th>\n",
       "      <td>9.433962</td>\n",
       "      <td>4.090537</td>\n",
       "      <td>0.975483</td>\n",
       "    </tr>\n",
       "    <tr>\n",
       "      <th>2016</th>\n",
       "      <td>9.230769</td>\n",
       "      <td>3.903539</td>\n",
       "      <td>0.951414</td>\n",
       "    </tr>\n",
       "    <tr>\n",
       "      <th>2017</th>\n",
       "      <td>8.498584</td>\n",
       "      <td>3.676170</td>\n",
       "      <td>0.917618</td>\n",
       "    </tr>\n",
       "    <tr>\n",
       "      <th>2018</th>\n",
       "      <td>7.228916</td>\n",
       "      <td>3.483242</td>\n",
       "      <td>0.881851</td>\n",
       "    </tr>\n",
       "    <tr>\n",
       "      <th>2019</th>\n",
       "      <td>7.211538</td>\n",
       "      <td>3.447747</td>\n",
       "      <td>0.867838</td>\n",
       "    </tr>\n",
       "  </tbody>\n",
       "</table>\n",
       "</div>"
      ],
      "text/plain": [
       "             pe        ps        pb\n",
       "date                               \n",
       "2010  17.341040       inf       inf\n",
       "2011  12.195122       inf       inf\n",
       "2012  10.526316  4.187994  1.153905\n",
       "2013   9.933775  4.243682  1.094544\n",
       "2014   9.677419  4.176334  1.034982\n",
       "2015   9.433962  4.090537  0.975483\n",
       "2016   9.230769  3.903539  0.951414\n",
       "2017   8.498584  3.676170  0.917618\n",
       "2018   7.228916  3.483242  0.881851\n",
       "2019   7.211538  3.447747  0.867838"
      ]
     },
     "execution_count": 812,
     "metadata": {},
     "output_type": "execute_result"
    }
   ],
   "source": [
    "df_usb[['pe','ps','pb']]"
   ]
  },
  {
   "cell_type": "code",
   "execution_count": 814,
   "metadata": {},
   "outputs": [
    {
     "data": {
      "text/plain": [
       "0.032820211084701345"
      ]
     },
     "execution_count": 814,
     "metadata": {},
     "output_type": "execute_result"
    }
   ],
   "source": [
    "annual_growth(6472000,5332000.0,6)"
   ]
  },
  {
   "cell_type": "code",
   "execution_count": 817,
   "metadata": {},
   "outputs": [],
   "source": [
    "cf_usb = [df_usb.freeCashFlow.median()]\n",
    "grs= [0.03,0.05]\n"
   ]
  },
  {
   "cell_type": "code",
   "execution_count": 818,
   "metadata": {},
   "outputs": [
    {
     "data": {
      "text/plain": [
       "defaultdict(list,\n",
       "            {'5904.0,3.0%': [55.58941948933146,\n",
       "              32.154065454102856,\n",
       "              22.687943530150424],\n",
       "             '5904.0,5.0%': [62.89084897444077,\n",
       "              35.7833573945439,\n",
       "              24.926666184930244]})"
      ]
     },
     "execution_count": 818,
     "metadata": {},
     "output_type": "execute_result"
    }
   ],
   "source": [
    "intrinsic_cash(cf_usb,grs,drs,lgr,df_usb.shares.values[0],7 )"
   ]
  },
  {
   "cell_type": "code",
   "execution_count": 820,
   "metadata": {},
   "outputs": [
    {
     "data": {
      "text/plain": [
       "20.86193871365296"
      ]
     },
     "execution_count": 820,
     "metadata": {},
     "output_type": "execute_result"
    }
   ],
   "source": [
    "intrinsic_bk(1.2,30,0.05,0.15,7)"
   ]
  },
  {
   "cell_type": "code",
   "execution_count": null,
   "metadata": {},
   "outputs": [],
   "source": []
  },
  {
   "cell_type": "code",
   "execution_count": null,
   "metadata": {},
   "outputs": [],
   "source": []
  },
  {
   "cell_type": "code",
   "execution_count": 843,
   "metadata": {},
   "outputs": [
    {
     "name": "stdout",
     "output_type": "stream",
     "text": [
      "https://fmpcloud.io/api/v3/cash-flow-statement/ALSN?apikey=cb3b0c371586d9ce915d359479fe1c81\n",
      "https://fmpcloud.io/api/v3/balance-sheet-statement/ALSN?apikey=cb3b0c371586d9ce915d359479fe1c81\n",
      "https://fmpcloud.io/api/v3/income-statement/ALSN?apikey=cb3b0c371586d9ce915d359479fe1c81\n"
     ]
    }
   ],
   "source": [
    "dict_als_cash,errs_als = url_import(['ALSN'], 'cash-flow-statement')\n",
    "dict_als_balance,errs_als = url_import(['ALSN'], 'balance-sheet-statement')\n",
    "dict_als_income,errs_als = url_import(['ALSN'], 'income-statement')"
   ]
  },
  {
   "cell_type": "code",
   "execution_count": 844,
   "metadata": {},
   "outputs": [],
   "source": [
    "df_als_cash = pd.DataFrame(dict_als_cash)\n",
    "df_als_bal = pd.DataFrame(dict_als_balance)\n",
    "df_als_income = pd.DataFrame(dict_als_income)"
   ]
  },
  {
   "cell_type": "code",
   "execution_count": 845,
   "metadata": {},
   "outputs": [],
   "source": [
    "df_als_bal.date = df_als_bal.date.map(lambda x: re.sub(r'-.*$','',x))\n",
    "df_als_cash.date = df_als_cash.date.map(lambda x: re.sub(r'-.*$','',x))\n",
    "df_als_income.date = df_als_income.date.map(lambda x: re.sub(r'-.*$','',x))"
   ]
  },
  {
   "cell_type": "code",
   "execution_count": 846,
   "metadata": {},
   "outputs": [],
   "source": [
    "df_als_bal.set_index(['date'], inplace = True)\n",
    "df_als_cash.set_index(['date'], inplace = True)\n",
    "df_als_income.set_index(['date'], inplace = True)"
   ]
  },
  {
   "cell_type": "code",
   "execution_count": 847,
   "metadata": {},
   "outputs": [],
   "source": [
    "df_als_cash.drop('netIncome',axis = 1, inplace = True)\n",
    "df_als_cash.rename({'inventory': 'inventoryCash'}, axis = 1, inplace = True)"
   ]
  },
  {
   "cell_type": "code",
   "execution_count": 848,
   "metadata": {},
   "outputs": [],
   "source": [
    "df_als = pd.concat([df_als_income,df_als_bal,df_als_cash],axis = 1)"
   ]
  },
  {
   "cell_type": "code",
   "execution_count": 849,
   "metadata": {},
   "outputs": [],
   "source": [
    "df_als.drop(['symbol','period'],axis = 1, inplace =True)"
   ]
  },
  {
   "cell_type": "code",
   "execution_count": 850,
   "metadata": {},
   "outputs": [],
   "source": [
    "df_als['shares'] = 117E06"
   ]
  },
  {
   "cell_type": "code",
   "execution_count": 851,
   "metadata": {},
   "outputs": [],
   "source": [
    "df_als.drop(['fillingDate','finalLink','link'],axis = 1,inplace = True)"
   ]
  },
  {
   "cell_type": "code",
   "execution_count": 852,
   "metadata": {},
   "outputs": [],
   "source": [
    "df_als = df_als/1000"
   ]
  },
  {
   "cell_type": "code",
   "execution_count": 853,
   "metadata": {},
   "outputs": [],
   "source": [
    "df_als[['grossProfitRatio',\n",
    " 'ebitdaratio',\n",
    " 'operatingIncomeRatio',\n",
    " 'incomeBeforeTaxRatio',\n",
    " 'netIncomeRatio','eps']] = df_als[['grossProfitRatio',\n",
    " 'ebitdaratio',\n",
    " 'operatingIncomeRatio',\n",
    " 'incomeBeforeTaxRatio',\n",
    " 'netIncomeRatio','eps']] * 1000"
   ]
  },
  {
   "cell_type": "code",
   "execution_count": 854,
   "metadata": {},
   "outputs": [],
   "source": [
    "df_als = df_als.sort_index()"
   ]
  },
  {
   "cell_type": "code",
   "execution_count": 855,
   "metadata": {},
   "outputs": [],
   "source": [
    "df_als_main = df_als.loc[:,['netIncomeRatio','totalLiabilities','totalAssets','totalStockholdersEquity']]"
   ]
  },
  {
   "cell_type": "code",
   "execution_count": 856,
   "metadata": {},
   "outputs": [],
   "source": [
    "df_als_main['netIncome'] = df_als_income['netIncome'] / 1000"
   ]
  },
  {
   "cell_type": "code",
   "execution_count": 857,
   "metadata": {},
   "outputs": [],
   "source": [
    "df_als = metrics(df_als)\n",
    "df_als = price_ratios(df_als, 30)"
   ]
  },
  {
   "cell_type": "code",
   "execution_count": null,
   "metadata": {},
   "outputs": [],
   "source": []
  },
  {
   "cell_type": "code",
   "execution_count": 858,
   "metadata": {},
   "outputs": [
    {
     "data": {
      "text/html": [
       "<div>\n",
       "<style scoped>\n",
       "    .dataframe tbody tr th:only-of-type {\n",
       "        vertical-align: middle;\n",
       "    }\n",
       "\n",
       "    .dataframe tbody tr th {\n",
       "        vertical-align: top;\n",
       "    }\n",
       "\n",
       "    .dataframe thead th {\n",
       "        text-align: right;\n",
       "    }\n",
       "</style>\n",
       "<table border=\"1\" class=\"dataframe\">\n",
       "  <thead>\n",
       "    <tr style=\"text-align: right;\">\n",
       "      <th></th>\n",
       "      <th>de</th>\n",
       "      <th>debtRatio</th>\n",
       "    </tr>\n",
       "    <tr>\n",
       "      <th>date</th>\n",
       "      <th></th>\n",
       "      <th></th>\n",
       "    </tr>\n",
       "  </thead>\n",
       "  <tbody>\n",
       "    <tr>\n",
       "      <th>2012</th>\n",
       "      <td>2.078856</td>\n",
       "      <td>0.579696</td>\n",
       "    </tr>\n",
       "    <tr>\n",
       "      <th>2013</th>\n",
       "      <td>1.861482</td>\n",
       "      <td>0.556518</td>\n",
       "    </tr>\n",
       "    <tr>\n",
       "      <th>2014</th>\n",
       "      <td>1.803191</td>\n",
       "      <td>0.524645</td>\n",
       "    </tr>\n",
       "    <tr>\n",
       "      <th>2015</th>\n",
       "      <td>2.000000</td>\n",
       "      <td>0.539243</td>\n",
       "    </tr>\n",
       "    <tr>\n",
       "      <th>2016</th>\n",
       "      <td>1.998241</td>\n",
       "      <td>0.511710</td>\n",
       "    </tr>\n",
       "    <tr>\n",
       "      <th>2017</th>\n",
       "      <td>3.695210</td>\n",
       "      <td>0.605470</td>\n",
       "    </tr>\n",
       "    <tr>\n",
       "      <th>2018</th>\n",
       "      <td>3.828528</td>\n",
       "      <td>0.595468</td>\n",
       "    </tr>\n",
       "    <tr>\n",
       "      <th>2019</th>\n",
       "      <td>3.224072</td>\n",
       "      <td>0.565843</td>\n",
       "    </tr>\n",
       "  </tbody>\n",
       "</table>\n",
       "</div>"
      ],
      "text/plain": [
       "            de  debtRatio\n",
       "date                     \n",
       "2012  2.078856   0.579696\n",
       "2013  1.861482   0.556518\n",
       "2014  1.803191   0.524645\n",
       "2015  2.000000   0.539243\n",
       "2016  1.998241   0.511710\n",
       "2017  3.695210   0.605470\n",
       "2018  3.828528   0.595468\n",
       "2019  3.224072   0.565843"
      ]
     },
     "execution_count": 858,
     "metadata": {},
     "output_type": "execute_result"
    }
   ],
   "source": [
    "df_als[['de','debtRatio']]"
   ]
  },
  {
   "cell_type": "code",
   "execution_count": 860,
   "metadata": {},
   "outputs": [
    {
     "data": {
      "text/html": [
       "<div>\n",
       "<style scoped>\n",
       "    .dataframe tbody tr th:only-of-type {\n",
       "        vertical-align: middle;\n",
       "    }\n",
       "\n",
       "    .dataframe tbody tr th {\n",
       "        vertical-align: top;\n",
       "    }\n",
       "\n",
       "    .dataframe thead th {\n",
       "        text-align: right;\n",
       "    }\n",
       "</style>\n",
       "<table border=\"1\" class=\"dataframe\">\n",
       "  <thead>\n",
       "    <tr style=\"text-align: right;\">\n",
       "      <th></th>\n",
       "      <th>curr</th>\n",
       "      <th>intCov</th>\n",
       "      <th>recTurnOver</th>\n",
       "      <th>invTurnOver</th>\n",
       "    </tr>\n",
       "    <tr>\n",
       "      <th>date</th>\n",
       "      <th></th>\n",
       "      <th></th>\n",
       "      <th></th>\n",
       "      <th></th>\n",
       "    </tr>\n",
       "  </thead>\n",
       "  <tbody>\n",
       "    <tr>\n",
       "      <th>2012</th>\n",
       "      <td>1.297777</td>\n",
       "      <td>inf</td>\n",
       "      <td>12.980606</td>\n",
       "      <td>7.558880</td>\n",
       "    </tr>\n",
       "    <tr>\n",
       "      <th>2013</th>\n",
       "      <td>1.567407</td>\n",
       "      <td>inf</td>\n",
       "      <td>11.003998</td>\n",
       "      <td>6.763716</td>\n",
       "    </tr>\n",
       "    <tr>\n",
       "      <th>2014</th>\n",
       "      <td>2.191385</td>\n",
       "      <td>inf</td>\n",
       "      <td>10.257473</td>\n",
       "      <td>8.024390</td>\n",
       "    </tr>\n",
       "    <tr>\n",
       "      <th>2015</th>\n",
       "      <td>2.024951</td>\n",
       "      <td>inf</td>\n",
       "      <td>10.183590</td>\n",
       "      <td>7.439887</td>\n",
       "    </tr>\n",
       "    <tr>\n",
       "      <th>2016</th>\n",
       "      <td>1.600234</td>\n",
       "      <td>inf</td>\n",
       "      <td>9.345861</td>\n",
       "      <td>7.770701</td>\n",
       "    </tr>\n",
       "    <tr>\n",
       "      <th>2017</th>\n",
       "      <td>1.515588</td>\n",
       "      <td>inf</td>\n",
       "      <td>10.235294</td>\n",
       "      <td>7.344156</td>\n",
       "    </tr>\n",
       "    <tr>\n",
       "      <th>2018</th>\n",
       "      <td>1.701878</td>\n",
       "      <td>inf</td>\n",
       "      <td>9.724014</td>\n",
       "      <td>7.594118</td>\n",
       "    </tr>\n",
       "    <tr>\n",
       "      <th>2019</th>\n",
       "      <td>1.645084</td>\n",
       "      <td>inf</td>\n",
       "      <td>10.664032</td>\n",
       "      <td>6.552764</td>\n",
       "    </tr>\n",
       "  </tbody>\n",
       "</table>\n",
       "</div>"
      ],
      "text/plain": [
       "          curr  intCov  recTurnOver  invTurnOver\n",
       "date                                            \n",
       "2012  1.297777     inf    12.980606     7.558880\n",
       "2013  1.567407     inf    11.003998     6.763716\n",
       "2014  2.191385     inf    10.257473     8.024390\n",
       "2015  2.024951     inf    10.183590     7.439887\n",
       "2016  1.600234     inf     9.345861     7.770701\n",
       "2017  1.515588     inf    10.235294     7.344156\n",
       "2018  1.701878     inf     9.724014     7.594118\n",
       "2019  1.645084     inf    10.664032     6.552764"
      ]
     },
     "execution_count": 860,
     "metadata": {},
     "output_type": "execute_result"
    }
   ],
   "source": [
    "df_als[['curr','intCov','recTurnOver','invTurnOver']]"
   ]
  },
  {
   "cell_type": "code",
   "execution_count": 863,
   "metadata": {},
   "outputs": [
    {
     "data": {
      "text/html": [
       "<div>\n",
       "<style scoped>\n",
       "    .dataframe tbody tr th:only-of-type {\n",
       "        vertical-align: middle;\n",
       "    }\n",
       "\n",
       "    .dataframe tbody tr th {\n",
       "        vertical-align: top;\n",
       "    }\n",
       "\n",
       "    .dataframe thead th {\n",
       "        text-align: right;\n",
       "    }\n",
       "</style>\n",
       "<table border=\"1\" class=\"dataframe\">\n",
       "  <thead>\n",
       "    <tr style=\"text-align: right;\">\n",
       "      <th></th>\n",
       "      <th>roe</th>\n",
       "      <th>rof</th>\n",
       "      <th>rocf</th>\n",
       "      <th>fcfRatio</th>\n",
       "    </tr>\n",
       "    <tr>\n",
       "      <th>date</th>\n",
       "      <th></th>\n",
       "      <th></th>\n",
       "      <th></th>\n",
       "      <th></th>\n",
       "    </tr>\n",
       "  </thead>\n",
       "  <tbody>\n",
       "    <tr>\n",
       "      <th>2012</th>\n",
       "      <td>0.378952</td>\n",
       "      <td>0.275333</td>\n",
       "      <td>0.366645</td>\n",
       "      <td>0.174433</td>\n",
       "    </tr>\n",
       "    <tr>\n",
       "      <th>2013</th>\n",
       "      <td>0.114957</td>\n",
       "      <td>0.263483</td>\n",
       "      <td>0.315193</td>\n",
       "      <td>0.196751</td>\n",
       "    </tr>\n",
       "    <tr>\n",
       "      <th>2014</th>\n",
       "      <td>0.163543</td>\n",
       "      <td>0.352554</td>\n",
       "      <td>0.398412</td>\n",
       "      <td>0.231644</td>\n",
       "    </tr>\n",
       "    <tr>\n",
       "      <th>2015</th>\n",
       "      <td>0.153374</td>\n",
       "      <td>0.439004</td>\n",
       "      <td>0.487885</td>\n",
       "      <td>0.262766</td>\n",
       "    </tr>\n",
       "    <tr>\n",
       "      <th>2016</th>\n",
       "      <td>0.198926</td>\n",
       "      <td>0.481533</td>\n",
       "      <td>0.546885</td>\n",
       "      <td>0.282687</td>\n",
       "    </tr>\n",
       "    <tr>\n",
       "      <th>2017</th>\n",
       "      <td>0.731495</td>\n",
       "      <td>0.822932</td>\n",
       "      <td>0.955007</td>\n",
       "      <td>0.250663</td>\n",
       "    </tr>\n",
       "    <tr>\n",
       "      <th>2018</th>\n",
       "      <td>0.969651</td>\n",
       "      <td>1.118361</td>\n",
       "      <td>1.270106</td>\n",
       "      <td>0.271655</td>\n",
       "    </tr>\n",
       "    <tr>\n",
       "      <th>2019</th>\n",
       "      <td>0.773367</td>\n",
       "      <td>0.864277</td>\n",
       "      <td>1.084507</td>\n",
       "      <td>0.250185</td>\n",
       "    </tr>\n",
       "  </tbody>\n",
       "</table>\n",
       "</div>"
      ],
      "text/plain": [
       "           roe       rof      rocf  fcfRatio\n",
       "date                                        \n",
       "2012  0.378952  0.275333  0.366645  0.174433\n",
       "2013  0.114957  0.263483  0.315193  0.196751\n",
       "2014  0.163543  0.352554  0.398412  0.231644\n",
       "2015  0.153374  0.439004  0.487885  0.262766\n",
       "2016  0.198926  0.481533  0.546885  0.282687\n",
       "2017  0.731495  0.822932  0.955007  0.250663\n",
       "2018  0.969651  1.118361  1.270106  0.271655\n",
       "2019  0.773367  0.864277  1.084507  0.250185"
      ]
     },
     "execution_count": 863,
     "metadata": {},
     "output_type": "execute_result"
    }
   ],
   "source": [
    "df_als[['roe','rof','rocf','fcfRatio']]"
   ]
  },
  {
   "cell_type": "code",
   "execution_count": 864,
   "metadata": {},
   "outputs": [
    {
     "data": {
      "text/plain": [
       "date\n",
       "2012    2820800.0\n",
       "2013    2678300.0\n",
       "2014    2520500.0\n",
       "2015    2377200.0\n",
       "2016    2158700.0\n",
       "2017    2546000.0\n",
       "2018    2523000.0\n",
       "2019    2518000.0\n",
       "Name: totalDebt, dtype: float64"
      ]
     },
     "execution_count": 864,
     "metadata": {},
     "output_type": "execute_result"
    }
   ],
   "source": [
    "df_als.totalDebt"
   ]
  },
  {
   "cell_type": "code",
   "execution_count": 867,
   "metadata": {},
   "outputs": [
    {
     "data": {
      "text/plain": [
       "0.12026068276791113"
      ]
     },
     "execution_count": 867,
     "metadata": {},
     "output_type": "execute_result"
    }
   ],
   "source": [
    "annual_growth(0.62,0.28,7)"
   ]
  },
  {
   "cell_type": "code",
   "execution_count": 868,
   "metadata": {},
   "outputs": [
    {
     "data": {
      "text/plain": [
       "bv     9.178846\n",
       "div    0.694124\n",
       "dtype: float64"
      ]
     },
     "execution_count": 868,
     "metadata": {},
     "output_type": "execute_result"
    }
   ],
   "source": [
    "df_als[['bv','div']].mean()"
   ]
  },
  {
   "cell_type": "code",
   "execution_count": 869,
   "metadata": {},
   "outputs": [
    {
     "data": {
      "text/html": [
       "<div>\n",
       "<style scoped>\n",
       "    .dataframe tbody tr th:only-of-type {\n",
       "        vertical-align: middle;\n",
       "    }\n",
       "\n",
       "    .dataframe tbody tr th {\n",
       "        vertical-align: top;\n",
       "    }\n",
       "\n",
       "    .dataframe thead th {\n",
       "        text-align: right;\n",
       "    }\n",
       "</style>\n",
       "<table border=\"1\" class=\"dataframe\">\n",
       "  <thead>\n",
       "    <tr style=\"text-align: right;\">\n",
       "      <th></th>\n",
       "      <th>pe</th>\n",
       "      <th>pb</th>\n",
       "      <th>ps</th>\n",
       "    </tr>\n",
       "    <tr>\n",
       "      <th>date</th>\n",
       "      <th></th>\n",
       "      <th></th>\n",
       "      <th></th>\n",
       "    </tr>\n",
       "  </thead>\n",
       "  <tbody>\n",
       "    <tr>\n",
       "      <th>2012</th>\n",
       "      <td>10.600707</td>\n",
       "      <td>2.586779</td>\n",
       "      <td>1.638808</td>\n",
       "    </tr>\n",
       "    <tr>\n",
       "      <th>2013</th>\n",
       "      <td>33.333333</td>\n",
       "      <td>2.439533</td>\n",
       "      <td>1.821673</td>\n",
       "    </tr>\n",
       "    <tr>\n",
       "      <th>2014</th>\n",
       "      <td>23.622047</td>\n",
       "      <td>2.511089</td>\n",
       "      <td>1.649901</td>\n",
       "    </tr>\n",
       "    <tr>\n",
       "      <th>2015</th>\n",
       "      <td>29.126214</td>\n",
       "      <td>2.953054</td>\n",
       "      <td>1.767550</td>\n",
       "    </tr>\n",
       "    <tr>\n",
       "      <th>2016</th>\n",
       "      <td>23.437500</td>\n",
       "      <td>3.249097</td>\n",
       "      <td>1.907401</td>\n",
       "    </tr>\n",
       "    <tr>\n",
       "      <th>2017</th>\n",
       "      <td>8.875740</td>\n",
       "      <td>5.094340</td>\n",
       "      <td>1.551724</td>\n",
       "    </tr>\n",
       "    <tr>\n",
       "      <th>2018</th>\n",
       "      <td>6.237006</td>\n",
       "      <td>5.326252</td>\n",
       "      <td>1.293771</td>\n",
       "    </tr>\n",
       "    <tr>\n",
       "      <th>2019</th>\n",
       "      <td>6.060606</td>\n",
       "      <td>4.494238</td>\n",
       "      <td>1.300964</td>\n",
       "    </tr>\n",
       "  </tbody>\n",
       "</table>\n",
       "</div>"
      ],
      "text/plain": [
       "             pe        pb        ps\n",
       "date                               \n",
       "2012  10.600707  2.586779  1.638808\n",
       "2013  33.333333  2.439533  1.821673\n",
       "2014  23.622047  2.511089  1.649901\n",
       "2015  29.126214  2.953054  1.767550\n",
       "2016  23.437500  3.249097  1.907401\n",
       "2017   8.875740  5.094340  1.551724\n",
       "2018   6.237006  5.326252  1.293771\n",
       "2019   6.060606  4.494238  1.300964"
      ]
     },
     "execution_count": 869,
     "metadata": {},
     "output_type": "execute_result"
    }
   ],
   "source": [
    "df_als[['pe','pb','ps']]"
   ]
  },
  {
   "cell_type": "code",
   "execution_count": 870,
   "metadata": {},
   "outputs": [
    {
     "data": {
      "text/plain": [
       "array([[<matplotlib.axes._subplots.AxesSubplot object at 0x127946490>,\n",
       "        <matplotlib.axes._subplots.AxesSubplot object at 0x12882ae50>],\n",
       "       [<matplotlib.axes._subplots.AxesSubplot object at 0x128827110>,\n",
       "        <matplotlib.axes._subplots.AxesSubplot object at 0x12878b290>],\n",
       "       [<matplotlib.axes._subplots.AxesSubplot object at 0x1286d6bd0>,\n",
       "        <matplotlib.axes._subplots.AxesSubplot object at 0x127868fd0>]],\n",
       "      dtype=object)"
      ]
     },
     "execution_count": 870,
     "metadata": {},
     "output_type": "execute_result"
    },
    {
     "data": {
      "image/png": "[encoded data removed]",
      "text/plain": [
       "<Figure size 792x792 with 6 Axes>"
      ]
     },
     "metadata": {
      "needs_background": "light"
     },
     "output_type": "display_data"
    }
   ],
   "source": [
    "df_als[['bv','eps','totalAssets','fcf','totalLiabilities']].plot(subplots = True,\n",
    "                                                                figsize = (11,11)\n",
    "                                                                ,layout = (3,-1))"
   ]
  },
  {
   "cell_type": "code",
   "execution_count": 873,
   "metadata": {},
   "outputs": [
    {
     "data": {
      "text/plain": [
       "date\n",
       "2012    0.276985\n",
       "2013    0.157663\n",
       "2014    0.097863\n",
       "2015    0.107950\n",
       "2016    0.123561\n",
       "2017    0.136778\n",
       "2018    0.123059\n",
       "2019    0.478158\n",
       "Name: gcf, dtype: float64"
      ]
     },
     "execution_count": 873,
     "metadata": {},
     "output_type": "execute_result"
    }
   ],
   "source": [
    "df_als['gcf']"
   ]
  },
  {
   "cell_type": "code",
   "execution_count": 874,
   "metadata": {},
   "outputs": [
    {
     "data": {
      "text/plain": [
       "date\n",
       "2012    2820800.0\n",
       "2013    2678300.0\n",
       "2014    2520500.0\n",
       "2015    2377200.0\n",
       "2016    2158700.0\n",
       "2017    2546000.0\n",
       "2018    2523000.0\n",
       "2019    2518000.0\n",
       "Name: totalDebt, dtype: float64"
      ]
     },
     "execution_count": 874,
     "metadata": {},
     "output_type": "execute_result"
    }
   ],
   "source": [
    "df_als['totalDebt']"
   ]
  },
  {
   "cell_type": "code",
   "execution_count": 883,
   "metadata": {},
   "outputs": [
    {
     "data": {
      "text/plain": [
       "date\n",
       "2012    2141800.0\n",
       "2013    1926800.0\n",
       "2014    2127400.0\n",
       "2015    1985800.0\n",
       "2016    1840200.0\n",
       "2017    2262000.0\n",
       "2018    2713000.0\n",
       "2019    2698000.0\n",
       "Name: revenue, dtype: float64"
      ]
     },
     "execution_count": 883,
     "metadata": {},
     "output_type": "execute_result"
    }
   ],
   "source": [
    "df_als.revenue"
   ]
  },
  {
   "cell_type": "code",
   "execution_count": 876,
   "metadata": {},
   "outputs": [
    {
     "data": {
      "text/plain": [
       "0.08817703907145091"
      ]
     },
     "execution_count": 876,
     "metadata": {},
     "output_type": "execute_result"
    }
   ],
   "source": [
    "annual_growth(675000.0,373600.0,7)"
   ]
  },
  {
   "cell_type": "code",
   "execution_count": 881,
   "metadata": {},
   "outputs": [],
   "source": [
    "grs = [0.04,0.08]"
   ]
  },
  {
   "cell_type": "code",
   "execution_count": 880,
   "metadata": {},
   "outputs": [],
   "source": [
    "cf_als = [df_als.freeCashFlow.mean()]"
   ]
  },
  {
   "cell_type": "code",
   "execution_count": 885,
   "metadata": {},
   "outputs": [
    {
     "data": {
      "text/plain": [
       "defaultdict(list,\n",
       "            {'533.3125,4.0%': [68.47714815429296,\n",
       "              39.280007493405684,\n",
       "              27.53758884361332],\n",
       "             '533.3125,8.0%': [87.58353889836029,\n",
       "              48.6893099829614,\n",
       "              33.29079188360013]})"
      ]
     },
     "execution_count": 885,
     "metadata": {},
     "output_type": "execute_result"
    }
   ],
   "source": [
    "intrinsic_cash(cf_als,grs,drs,lgr,df_als.shares.values[0],7)"
   ]
  },
  {
   "cell_type": "code",
   "execution_count": 887,
   "metadata": {},
   "outputs": [
    {
     "data": {
      "text/plain": [
       "6.148779796818418"
      ]
     },
     "execution_count": 887,
     "metadata": {},
     "output_type": "execute_result"
    }
   ],
   "source": [
    "intrinsic_bk(0.7,7,0.03,0.15,7)"
   ]
  }
 ],
 "metadata": {
  "kernelspec": {
   "display_name": "Python 3",
   "language": "python",
   "name": "python3"
  },
  "language_info": {
   "codemirror_mode": {
    "name": "ipython",
    "version": 3
   },
   "file_extension": ".py",
   "mimetype": "text/x-python",
   "name": "python",
   "nbconvert_exporter": "python",
   "pygments_lexer": "ipython3",
   "version": "3.7.6"
  }
 },
 "nbformat": 4,
 "nbformat_minor": 4
}
