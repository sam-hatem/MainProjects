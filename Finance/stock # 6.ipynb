{
 "cells": [
  {
   "cell_type": "code",
   "execution_count": 1,
   "metadata": {},
   "outputs": [],
   "source": [
    "#import \n",
    "import pandas as pd \n",
    "import numpy as np \n",
    "import seaborn as sns \n",
    "from requests import get\n",
    "import fmpclient\n",
    "from collections import defaultdict\n",
    "import matplotlib.pyplot as plt "
   ]
  },
  {
   "cell_type": "code",
   "execution_count": 2,
   "metadata": {},
   "outputs": [],
   "source": [
    "api = fmpclient.FMPClient()"
   ]
  },
  {
   "cell_type": "code",
   "execution_count": 3,
   "metadata": {},
   "outputs": [],
   "source": [
    "def url_import(stock_list, info_type,params = {'datatype': 'json'}): \n",
    "    \n",
    "    \n",
    "    #dict_info = dict_maker(stock_list)\n",
    "    dict_info = defaultdict(list)\n",
    "    err_list = []\n",
    "    url_list = ['''https://fmpcloud.io/api/v3/{info_type}/{stock}?apikey=cb3b0c371586d9ce915d359479fe1c81'''\n",
    "                .format(info_type=info_type, stock = stock) \n",
    "    for stock in stock_list]\n",
    "\n",
    "    print(url_list[0])\n",
    "    for url, stock in zip(url_list,stock_list):\n",
    "        try:\n",
    "            #import financial ratios\n",
    "            financial = api.requester.GET(url, params)\n",
    "           \n",
    "        \n",
    "            for period_dict in financial: \n",
    "\n",
    "                for key, value in period_dict.items():\n",
    "                    \n",
    "\n",
    "                   # if key == 'date': \n",
    "                    #    dict_info[stock]['date'].append(value)\n",
    "                    \n",
    "                    dict_info[key].append(value)\n",
    "        \n",
    "        except: \n",
    "            err_list.append(stock)\n",
    "            pass \n",
    "        \n",
    "        \n",
    "    \n",
    "            \n",
    "    return dict_info, err_list "
   ]
  },
  {
   "cell_type": "code",
   "execution_count": 4,
   "metadata": {},
   "outputs": [],
   "source": [
    "def url_import_latest(stock_list, info_type,params = {'datatype': 'json'}): \n",
    "    \n",
    "    \n",
    "    #dict_info = dict_maker(stock_list)\n",
    "    dict_info = defaultdict(list)\n",
    "    err_list = []\n",
    "    url_list = ['''https://fmpcloud.io/api/v3/{info_type}/{stock}?apikey=cb3b0c371586d9ce915d359479fe1c81'''\n",
    "                .format(info_type=info_type, stock = stock) \n",
    "    for stock in stock_list]\n",
    "\n",
    "    print(url_list[0])\n",
    "    for url, stock in zip(url_list,stock_list):\n",
    "        try:\n",
    "            #import financial ratios\n",
    "            financial = api.requester.GET(url, params)\n",
    "           \n",
    "        \n",
    "\n",
    "            for key, value in financial[0].items():\n",
    "                \n",
    "                    \n",
    "\n",
    "                   # if key == 'date': \n",
    "                    #    dict_info[stock]['date'].append(value)\n",
    "                    \n",
    "                dict_info[key].append(value)\n",
    "        \n",
    "        except: \n",
    "            err_list.append(stock)\n",
    "            pass \n",
    "        \n",
    "        \n",
    "    \n",
    "            \n",
    "    return dict_info, err_list"
   ]
  },
  {
   "cell_type": "code",
   "execution_count": 1628,
   "metadata": {},
   "outputs": [],
   "source": [
    "def intrinsic_cash(df,cf_ests, grs,drs,n):\n",
    "    iv_dict = defaultdict(list)\n",
    "    shares = df['shares'].values[-1]\n",
    "    lgr = 0.03\n",
    "    for cf_est in cf_ests: \n",
    "        for gr in grs: \n",
    "            iv_dict['{},{}%'.format(cf_est/1000,gr*100)] = []\n",
    "            for dr in drs: \n",
    "                \n",
    "                fcfn = [ cf_est * (1 + gr)**i for i in range(1,n+1)]\n",
    "                dfn = [(1+dr)**i for i in range(1,n+1)]\n",
    "                dcf = sum([fcf/df for fcf, df in zip(fcfn,dfn)])\n",
    "                dpcf = ((cf_est * (1 + gr)**(n+1) * (1 + lgr)) / (dr - lgr)) * (1 / (1 + dr)**(n+1))\n",
    "                iv = (dcf + dpcf) / shares\n",
    "                iv_dict['{},{}%'.format(cf_est/1000,gr*100)].append(iv)\n",
    "    return iv_dict"
   ]
  },
  {
   "cell_type": "code",
   "execution_count": 1553,
   "metadata": {},
   "outputs": [],
   "source": [
    "def intrinsic_earn(df,earn_ests,drs,gr,roc,short = False):\n",
    "    iv_dict = defaultdict(list)\n",
    "    cash = (df['cashAndCashEquivalents'] - (df['revenue'] *0.01)) \n",
    "    if short == True:\n",
    "        cash = cash + 0.4 * df['shortTermInvestments']\n",
    "    \n",
    "    cash = cash.values[-1]\n",
    "    shares = df['shares'].values[-1]\n",
    "    debt = df['totalDebt'].values[-1]\n",
    "    for earn in earn_ests: \n",
    "        iv_dict['{}'.format(earn)] = []\n",
    "        for dr in drs: \n",
    "            epv = (earn / dr) \n",
    "            epv = epv + (cash)\n",
    "            epv = epv - debt\n",
    "            iv = epv / shares\n",
    "            capital = iv / (roc/dr)\n",
    "            pv = capital *((roc-gr) / (dr - gr))\n",
    "            mof = pv/iv \n",
    "            iv_dict['{}'.format(earn)].append((iv,mof))\n",
    "    return iv_dict\n",
    "        "
   ]
  },
  {
   "cell_type": "code",
   "execution_count": 6,
   "metadata": {},
   "outputs": [],
   "source": [
    "def intrn_avg(dict_iv): \n",
    "    dict_final = defaultdict(float)\n",
    "    for key, value in dict_iv.items():\n",
    "        dict_final[key] = np.mean(value)\n",
    "    return dict_final\n",
    "        "
   ]
  },
  {
   "cell_type": "code",
   "execution_count": 7,
   "metadata": {},
   "outputs": [],
   "source": [
    "def intrinsic_bk(avg_div_yr, pbvPersh_est, gr,dr,n): \n",
    "    fbv = pbvPersh_est * (1 + gr)**n \n",
    "    div = avg_div_yr * ((1 - (1 / (1 + dr)**n)) / dr)\n",
    "    return div + (fbv / (1 + dr)**n)"
   ]
  },
  {
   "cell_type": "code",
   "execution_count": 8,
   "metadata": {},
   "outputs": [],
   "source": [
    "def annual_growth(f,i,n): \n",
    "    return ((f/i)**(1/n) - 1)"
   ]
  },
  {
   "cell_type": "code",
   "execution_count": 1213,
   "metadata": {},
   "outputs": [],
   "source": [
    "def price_ratios(df): \n",
    "    df['pe'] = df['stockPrice'] / df.eps \n",
    "    df['ps'] = df['stockPrice']  / (df.revenue / df .shares)\n",
    "    df['pb'] = df['stockPrice'] / df.bv\n",
    "    df['pfcf'] = df['stockPrice'] / (df['freeCashFlow'] / df['shares'])\n",
    "    df['pocf'] = df['stockPrice'] / (df['operatingCashFlow'] / df['shares'])\n",
    "    return df"
   ]
  },
  {
   "cell_type": "code",
   "execution_count": 1245,
   "metadata": {},
   "outputs": [],
   "source": [
    "def metrics(df): \n",
    "    df['de'] =df['totalDebt'] /df['totalStockholdersEquity']\n",
    "    df['curr'] = df['totalCurrentAssets'] / df['totalCurrentLiabilities']\n",
    "    df['currDebt'] = df['totalCurrentAssets'] / df['totalDebt']\n",
    "    df['debtRatio'] = df['totalDebt'] / df['totalAssets']\n",
    "    df['ocfRatio'] = df['operatingCashFlow'] / df['revenue']\n",
    "    df['fcfRatio'] = df['freeCashFlow'] / df['revenue']\n",
    "    df['roe'] = df['netIncome'] / df['totalStockholdersEquity']\n",
    "    df['roi'] = df['netIncome'] / df['totalAssets']\n",
    "    df['rof'] = df['freeCashFlow'] / df['totalStockholdersEquity']\n",
    "    df['rocf'] = df['operatingCashFlow'] / df['totalStockholdersEquity']\n",
    "    df['intCov'] = df['operatingIncome'] / df['interestExpense']\n",
    "    df['bv'] = df['totalStockholdersEquity'] / df['shares']\n",
    "    df['div']= np.abs(df['dividendsPaid'])/df['shares']\n",
    "    df['fcf'] =df['freeCashFlow'] /df['shares']\n",
    "    df['ocf'] = df['operatingCashFlow']/ df['shares']\n",
    "    df['invTurnOver'] = np.abs(df['costOfRevenue']) / df['inventory']\n",
    "    df['recTurnOver'] = df['revenue'] / df['netReceivables']\n",
    "    df['payTurnOver'] = np.abs(df['costOfRevenue']) / df['accountPayables']\n",
    "    df['ownerCash'] = df['freeCashFlow']  / df['revenue']\n",
    "    df['gcf'] = np.abs(df['netCashUsedForInvestingActivites']) / df['operatingCashFlow']\n",
    "    df['rdpct'] = df['researchAndDevelopmentExpenses'] / df['revenue']\n",
    "    df['smpct'] = df['sellingAndMarketingExpenses'] /df['revenue']\n",
    "    df['gapct'] = df['generalAndAdministrativeExpenses'] / df['revenue']\n",
    "    df['operatingAss']= df['totalAssets'] - df['totalLiabilities'] - df['cashAndCashEquivalents'] + df['totalDebt']\n",
    "    df['roc'] = (df['operatingIncome']) / (df['totalStockholdersEquity'] +df['totalDebt'])\n",
    "\n",
    "    return df \n",
    "    "
   ]
  },
  {
   "cell_type": "code",
   "execution_count": 1554,
   "metadata": {},
   "outputs": [],
   "source": [
    "def earn_calc(df,short = False):\n",
    "    a = (df.propertyPlantEquipmentNet / df.revenue ).median()\n",
    "    b = df.operatingIncome + df.depreciationAndAmortization - 0.38 * df.operatingIncome\n",
    "    b = b + df.totalOtherIncomeExpensesNet.median()\n",
    "    df['mainCapEx'] = df.capitalExpenditure-(df.revenue.subtract(df.revenue.shift(1)) * a)\n",
    "    df['distEarn'] = b - df['mainCapEx']\n",
    "    \n",
    "    df['earn'] = df['operatingIncome']\n",
    "    df['earn'] = df['earn'] + df['totalOtherIncomeExpensesNet'].median()\n",
    "    \n",
    "    if df['rdpct'].median() >= 0.07: \n",
    "        df['earn'] = df['earn'] + df['researchAndDevelopmentExpenses'] * 0.3\n",
    "    if df['smpct'].median() >= 0.07: \n",
    "        df['earn'] = df['earn'] + df['sellingAndMarketingExpenses'] *0.3\n",
    "        \n",
    "    if df['gapct'].median() >= 0.07:\n",
    "        if  df['rdpct'].median() < 0.07 and df['smpct'].median() < 0.07:\n",
    "            df['earn'] = df['earn'] + df['generalAndAdministrativeExpenses'] * 0.5\n",
    "        elif df['rdpct'].median() < 0.07 or df['smpct'].median() < 0.07:\n",
    "            df['earn'] = df['earn'] + df['generalAndAdministrativeExpenses'] * 0.4\n",
    "        else: \n",
    "            df['earn'] = df['earn'] + df['generalAndAdministrativeExpenses'] * 0.3\n",
    "    #taxes \n",
    "    df['earn'] = df['earn'] - (df['operatingIncome'] * 0.38)\n",
    "    #depr amort and maintanance\n",
    "    if df['mainCapEx'].median() < df['depreciationAndAmortization'].median() *0.4:\n",
    "        df['earn'] = df['earn'] + df['depreciationAndAmortization'] * 0.45\n",
    "        \n",
    "    if df['mainCapEx'].median() >= df['depreciationAndAmortization'].median() *0.4: \n",
    "        df['earn'] = df['earn'] + df['depreciationAndAmortization'] * 0.3\n",
    "    \n",
    "    df['epv10'] = df['earn'] / 0.1\n",
    "    df['epv10'] = df['epv10'] + (df['cashAndCashEquivalents'] - (df['revenue'] *0.01))\n",
    "    if short == True:\n",
    "        df['epv10'] = df['epv10']+df['shortTermInvestments'] *0.4\n",
    "    \n",
    "    df['epv10'] = df['epv10'] - df['totalDebt']\n",
    "    df['epv10'] = df['epv10'] / df['shares']\n",
    "    df['capital'] = df['bv'] + (df['totalDebt'] / df['shares'])\n",
    "    df['pv10'] = df['capital'] * ((df['roe'] - 0.03) / (0.1 - 0.03))\n",
    "    df['mof'] = df['pv10'] / df['epv10']\n",
    "    return df"
   ]
  },
  {
   "cell_type": "code",
   "execution_count": 1211,
   "metadata": {},
   "outputs": [],
   "source": [
    "def enterValue(df): \n",
    "    \n",
    "    df['enterValue']= df['totalDebt'] + (df['shares'] *df['stockPrice']) - df['cashAndCashEquivalents']\n",
    "    df['enterValue'] = df['enterValue'] / df['shares']\n",
    "    return df\n"
   ]
  },
  {
   "cell_type": "code",
   "execution_count": 1327,
   "metadata": {},
   "outputs": [],
   "source": [
    "def bv_adj(df,allow,invent_add,lic,subsid,tot_pct,yrs): \n",
    "    df['bv_adj'] = df['totalAssets'] + invent_add + allow\n",
    "    if df['propertyPlantEquipmentNet'].median() < df['capitalExpenditure'].median() *4: \n",
    "        df['bv_adj'] = df['bv_adj'] + df['propertyPlantEquipmentNet']*0.25\n",
    "    df['bv_adj'] = df['bv_adj'] + lic + subsid  \n",
    "    df['bv_adj'] = df['bv_adj'] + (tot_pct * df['revenue'] *yrs) \n",
    "    df['bv_adj'] = df['bv_adj'] - df['totalLiabilities'] \n",
    "    df['bv_adj'] =df['bv_adj']/df['shares']\n",
    "    return df \n",
    "    "
   ]
  },
  {
   "cell_type": "code",
   "execution_count": 1377,
   "metadata": {},
   "outputs": [],
   "source": [
    "def intrin_div(div,dr,gr): \n",
    "    return div* (1 / (dr-gr))"
   ]
  },
  {
   "cell_type": "code",
   "execution_count": 11,
   "metadata": {},
   "outputs": [],
   "source": [
    "import re"
   ]
  },
  {
   "cell_type": "code",
   "execution_count": null,
   "metadata": {},
   "outputs": [],
   "source": []
  },
  {
   "cell_type": "code",
   "execution_count": 1247,
   "metadata": {},
   "outputs": [
    {
     "data": {
      "text/html": [
       "<div>\n",
       "<style scoped>\n",
       "    .dataframe tbody tr th:only-of-type {\n",
       "        vertical-align: middle;\n",
       "    }\n",
       "\n",
       "    .dataframe tbody tr th {\n",
       "        vertical-align: top;\n",
       "    }\n",
       "\n",
       "    .dataframe thead th {\n",
       "        text-align: right;\n",
       "    }\n",
       "</style>\n",
       "<table border=\"1\" class=\"dataframe\">\n",
       "  <thead>\n",
       "    <tr style=\"text-align: right;\">\n",
       "      <th></th>\n",
       "      <th>epv10</th>\n",
       "      <th>bv</th>\n",
       "      <th>pv10</th>\n",
       "      <th>mof</th>\n",
       "      <th>roc</th>\n",
       "      <th>roe</th>\n",
       "      <th>enterValue</th>\n",
       "      <th>capital</th>\n",
       "    </tr>\n",
       "    <tr>\n",
       "      <th>date</th>\n",
       "      <th></th>\n",
       "      <th></th>\n",
       "      <th></th>\n",
       "      <th></th>\n",
       "      <th></th>\n",
       "      <th></th>\n",
       "      <th></th>\n",
       "      <th></th>\n",
       "    </tr>\n",
       "  </thead>\n",
       "  <tbody>\n",
       "    <tr>\n",
       "      <th>2002</th>\n",
       "      <td>5.717889</td>\n",
       "      <td>0.000000</td>\n",
       "      <td>9.121084</td>\n",
       "      <td>1.595184</td>\n",
       "      <td>-0.257226</td>\n",
       "      <td>NaN</td>\n",
       "      <td>29.563714</td>\n",
       "      <td>-2.222901</td>\n",
       "    </tr>\n",
       "    <tr>\n",
       "      <th>2004</th>\n",
       "      <td>12.092333</td>\n",
       "      <td>5.786286</td>\n",
       "      <td>14.973363</td>\n",
       "      <td>1.238253</td>\n",
       "      <td>0.225186</td>\n",
       "      <td>0.145344</td>\n",
       "      <td>32.743571</td>\n",
       "      <td>5.369930</td>\n",
       "    </tr>\n",
       "    <tr>\n",
       "      <th>2005</th>\n",
       "      <td>12.585069</td>\n",
       "      <td>7.812857</td>\n",
       "      <td>15.412512</td>\n",
       "      <td>1.224666</td>\n",
       "      <td>0.210182</td>\n",
       "      <td>0.087511</td>\n",
       "      <td>33.192286</td>\n",
       "      <td>5.987701</td>\n",
       "    </tr>\n",
       "    <tr>\n",
       "      <th>2006</th>\n",
       "      <td>16.979079</td>\n",
       "      <td>16.505714</td>\n",
       "      <td>20.197455</td>\n",
       "      <td>1.189550</td>\n",
       "      <td>0.179302</td>\n",
       "      <td>0.063666</td>\n",
       "      <td>37.196857</td>\n",
       "      <td>9.469533</td>\n",
       "    </tr>\n",
       "    <tr>\n",
       "      <th>2008</th>\n",
       "      <td>43.666717</td>\n",
       "      <td>16.481000</td>\n",
       "      <td>56.681159</td>\n",
       "      <td>1.298040</td>\n",
       "      <td>0.328329</td>\n",
       "      <td>0.103591</td>\n",
       "      <td>37.877857</td>\n",
       "      <td>13.299687</td>\n",
       "    </tr>\n",
       "    <tr>\n",
       "      <th>2009</th>\n",
       "      <td>43.557117</td>\n",
       "      <td>13.763857</td>\n",
       "      <td>56.299680</td>\n",
       "      <td>1.292548</td>\n",
       "      <td>0.315073</td>\n",
       "      <td>0.133549</td>\n",
       "      <td>39.457000</td>\n",
       "      <td>13.824470</td>\n",
       "    </tr>\n",
       "    <tr>\n",
       "      <th>2010</th>\n",
       "      <td>42.918460</td>\n",
       "      <td>0.000000</td>\n",
       "      <td>32.467762</td>\n",
       "      <td>0.756499</td>\n",
       "      <td>0.063769</td>\n",
       "      <td>inf</td>\n",
       "      <td>38.754143</td>\n",
       "      <td>67.303422</td>\n",
       "    </tr>\n",
       "    <tr>\n",
       "      <th>2010</th>\n",
       "      <td>42.692900</td>\n",
       "      <td>15.992857</td>\n",
       "      <td>54.938858</td>\n",
       "      <td>1.286838</td>\n",
       "      <td>0.302379</td>\n",
       "      <td>0.173292</td>\n",
       "      <td>38.247143</td>\n",
       "      <td>14.118998</td>\n",
       "    </tr>\n",
       "    <tr>\n",
       "      <th>2011</th>\n",
       "      <td>37.453267</td>\n",
       "      <td>15.113857</td>\n",
       "      <td>24.361224</td>\n",
       "      <td>0.650443</td>\n",
       "      <td>0.055077</td>\n",
       "      <td>0.037279</td>\n",
       "      <td>37.795429</td>\n",
       "      <td>68.001367</td>\n",
       "    </tr>\n",
       "    <tr>\n",
       "      <th>2012</th>\n",
       "      <td>41.758509</td>\n",
       "      <td>13.242143</td>\n",
       "      <td>37.944159</td>\n",
       "      <td>0.908657</td>\n",
       "      <td>0.082431</td>\n",
       "      <td>0.078365</td>\n",
       "      <td>38.282286</td>\n",
       "      <td>50.658658</td>\n",
       "    </tr>\n",
       "    <tr>\n",
       "      <th>2013</th>\n",
       "      <td>47.431540</td>\n",
       "      <td>13.068857</td>\n",
       "      <td>56.892749</td>\n",
       "      <td>1.199471</td>\n",
       "      <td>0.187067</td>\n",
       "      <td>0.199482</td>\n",
       "      <td>39.207000</td>\n",
       "      <td>25.355386</td>\n",
       "    </tr>\n",
       "    <tr>\n",
       "      <th>2014</th>\n",
       "      <td>-12.189286</td>\n",
       "      <td>13.052714</td>\n",
       "      <td>inf</td>\n",
       "      <td>-inf</td>\n",
       "      <td>0.000000</td>\n",
       "      <td>0.000000</td>\n",
       "      <td>39.895000</td>\n",
       "      <td>-inf</td>\n",
       "    </tr>\n",
       "    <tr>\n",
       "      <th>2014</th>\n",
       "      <td>38.527176</td>\n",
       "      <td>12.417714</td>\n",
       "      <td>32.492679</td>\n",
       "      <td>0.843370</td>\n",
       "      <td>0.073235</td>\n",
       "      <td>0.071603</td>\n",
       "      <td>39.494857</td>\n",
       "      <td>52.607668</td>\n",
       "    </tr>\n",
       "    <tr>\n",
       "      <th>2015</th>\n",
       "      <td>40.850141</td>\n",
       "      <td>17.662857</td>\n",
       "      <td>41.074765</td>\n",
       "      <td>1.005499</td>\n",
       "      <td>0.101300</td>\n",
       "      <td>0.107934</td>\n",
       "      <td>46.290000</td>\n",
       "      <td>40.326020</td>\n",
       "    </tr>\n",
       "    <tr>\n",
       "      <th>2016</th>\n",
       "      <td>45.796434</td>\n",
       "      <td>17.730000</td>\n",
       "      <td>45.928238</td>\n",
       "      <td>1.002878</td>\n",
       "      <td>0.100676</td>\n",
       "      <td>0.101547</td>\n",
       "      <td>45.817857</td>\n",
       "      <td>45.488893</td>\n",
       "    </tr>\n",
       "    <tr>\n",
       "      <th>2017</th>\n",
       "      <td>41.385263</td>\n",
       "      <td>20.286714</td>\n",
       "      <td>37.459755</td>\n",
       "      <td>0.905147</td>\n",
       "      <td>0.081878</td>\n",
       "      <td>0.207384</td>\n",
       "      <td>45.264000</td>\n",
       "      <td>50.544782</td>\n",
       "    </tr>\n",
       "    <tr>\n",
       "      <th>2018</th>\n",
       "      <td>44.065806</td>\n",
       "      <td>27.697714</td>\n",
       "      <td>36.523174</td>\n",
       "      <td>0.828833</td>\n",
       "      <td>0.071460</td>\n",
       "      <td>0.099905</td>\n",
       "      <td>53.471571</td>\n",
       "      <td>61.665279</td>\n",
       "    </tr>\n",
       "    <tr>\n",
       "      <th>2019</th>\n",
       "      <td>54.094296</td>\n",
       "      <td>28.847714</td>\n",
       "      <td>48.007101</td>\n",
       "      <td>0.887471</td>\n",
       "      <td>0.079204</td>\n",
       "      <td>0.068849</td>\n",
       "      <td>50.573857</td>\n",
       "      <td>68.297749</td>\n",
       "    </tr>\n",
       "  </tbody>\n",
       "</table>\n",
       "</div>"
      ],
      "text/plain": [
       "          epv10         bv       pv10       mof       roc       roe  \\\n",
       "date                                                                  \n",
       "2002   5.717889   0.000000   9.121084  1.595184 -0.257226       NaN   \n",
       "2004  12.092333   5.786286  14.973363  1.238253  0.225186  0.145344   \n",
       "2005  12.585069   7.812857  15.412512  1.224666  0.210182  0.087511   \n",
       "2006  16.979079  16.505714  20.197455  1.189550  0.179302  0.063666   \n",
       "2008  43.666717  16.481000  56.681159  1.298040  0.328329  0.103591   \n",
       "2009  43.557117  13.763857  56.299680  1.292548  0.315073  0.133549   \n",
       "2010  42.918460   0.000000  32.467762  0.756499  0.063769       inf   \n",
       "2010  42.692900  15.992857  54.938858  1.286838  0.302379  0.173292   \n",
       "2011  37.453267  15.113857  24.361224  0.650443  0.055077  0.037279   \n",
       "2012  41.758509  13.242143  37.944159  0.908657  0.082431  0.078365   \n",
       "2013  47.431540  13.068857  56.892749  1.199471  0.187067  0.199482   \n",
       "2014 -12.189286  13.052714        inf      -inf  0.000000  0.000000   \n",
       "2014  38.527176  12.417714  32.492679  0.843370  0.073235  0.071603   \n",
       "2015  40.850141  17.662857  41.074765  1.005499  0.101300  0.107934   \n",
       "2016  45.796434  17.730000  45.928238  1.002878  0.100676  0.101547   \n",
       "2017  41.385263  20.286714  37.459755  0.905147  0.081878  0.207384   \n",
       "2018  44.065806  27.697714  36.523174  0.828833  0.071460  0.099905   \n",
       "2019  54.094296  28.847714  48.007101  0.887471  0.079204  0.068849   \n",
       "\n",
       "      enterValue    capital  \n",
       "date                         \n",
       "2002   29.563714  -2.222901  \n",
       "2004   32.743571   5.369930  \n",
       "2005   33.192286   5.987701  \n",
       "2006   37.196857   9.469533  \n",
       "2008   37.877857  13.299687  \n",
       "2009   39.457000  13.824470  \n",
       "2010   38.754143  67.303422  \n",
       "2010   38.247143  14.118998  \n",
       "2011   37.795429  68.001367  \n",
       "2012   38.282286  50.658658  \n",
       "2013   39.207000  25.355386  \n",
       "2014   39.895000       -inf  \n",
       "2014   39.494857  52.607668  \n",
       "2015   46.290000  40.326020  \n",
       "2016   45.817857  45.488893  \n",
       "2017   45.264000  50.544782  \n",
       "2018   53.471571  61.665279  \n",
       "2019   50.573857  68.297749  "
      ]
     },
     "execution_count": 1247,
     "metadata": {},
     "output_type": "execute_result"
    }
   ],
   "source": [
    "df_t[['epv10','bv','pv10','mof','roc','roe','enterValue','capital']]"
   ]
  },
  {
   "cell_type": "code",
   "execution_count": 1130,
   "metadata": {},
   "outputs": [
    {
     "data": {
      "text/plain": [
       "defaultdict(list,\n",
       "            {'1216': [91.74693877551022,\n",
       "              50.38639455782314,\n",
       "              29.70612244897959]})"
      ]
     },
     "execution_count": 1130,
     "metadata": {},
     "output_type": "execute_result"
    }
   ],
   "source": [
    "intrinsic_earn([1216],drs,df_cit.shares.values[0],5000,8118.8)"
   ]
  },
  {
   "cell_type": "markdown",
   "metadata": {},
   "source": [
    "# final\n",
    "# hospitality check \n",
    "# ruth "
   ]
  },
  {
   "cell_type": "code",
   "execution_count": 70,
   "metadata": {},
   "outputs": [
    {
     "name": "stdout",
     "output_type": "stream",
     "text": [
      "https://fmpcloud.io/api/v3/cash-flow-statement/MGM?apikey=cb3b0c371586d9ce915d359479fe1c81\n",
      "https://fmpcloud.io/api/v3/balance-sheet-statement/MGM?apikey=cb3b0c371586d9ce915d359479fe1c81\n",
      "https://fmpcloud.io/api/v3/income-statement/MGM?apikey=cb3b0c371586d9ce915d359479fe1c81\n"
     ]
    }
   ],
   "source": [
    "dict_mgm_cash,errs_mgm = url_import(['MGM'], 'cash-flow-statement')\n",
    "dict_mgm_balance,errs_mgm = url_import(['MGM'], 'balance-sheet-statement')\n",
    "dict_mgm_income,errs_mgm = url_import(['MGM'], 'income-statement')"
   ]
  },
  {
   "cell_type": "code",
   "execution_count": 71,
   "metadata": {},
   "outputs": [],
   "source": [
    "df_mgm_cash = pd.DataFrame(dict_mgm_cash)\n",
    "df_mgm_bal = pd.DataFrame(dict_mgm_balance)\n",
    "df_mgm_income = pd.DataFrame(dict_mgm_income)"
   ]
  },
  {
   "cell_type": "code",
   "execution_count": 72,
   "metadata": {},
   "outputs": [],
   "source": [
    "df_mgm_bal.date = df_mgm_bal.date.map(lambda x: re.sub(r'-.*$','',x))\n",
    "df_mgm_cash.date = df_mgm_cash.date.map(lambda x: re.sub(r'-.*$','',x))\n",
    "df_mgm_income.date = df_mgm_income.date.map(lambda x: re.sub(r'-.*$','',x))"
   ]
  },
  {
   "cell_type": "code",
   "execution_count": 73,
   "metadata": {},
   "outputs": [],
   "source": [
    "df_mgm_bal.set_index(['date'], inplace = True)\n",
    "df_mgm_cash.set_index(['date'], inplace = True)\n",
    "df_mgm_income.set_index(['date'], inplace = True)"
   ]
  },
  {
   "cell_type": "code",
   "execution_count": 74,
   "metadata": {},
   "outputs": [],
   "source": [
    "df_mgm_cash.drop('netIncome',axis = 1, inplace = True)\n",
    "df_mgm_cash.rename({'inventory': 'inventoryCash'}, axis = 1, inplace = True)"
   ]
  },
  {
   "cell_type": "code",
   "execution_count": 75,
   "metadata": {},
   "outputs": [],
   "source": [
    "df_mgm = pd.concat([df_mgm_income,df_mgm_bal,df_mgm_cash],axis = 1)"
   ]
  },
  {
   "cell_type": "code",
   "execution_count": 76,
   "metadata": {},
   "outputs": [],
   "source": [
    "df_mgm.drop(['symbol','period'],axis = 1, inplace =True)"
   ]
  },
  {
   "cell_type": "code",
   "execution_count": 77,
   "metadata": {},
   "outputs": [],
   "source": [
    "df_mgm['shares'] = 492E06"
   ]
  },
  {
   "cell_type": "code",
   "execution_count": 78,
   "metadata": {},
   "outputs": [],
   "source": [
    "df_mgm.drop(['fillingDate','finalLink','link'],axis = 1,inplace = True)"
   ]
  },
  {
   "cell_type": "code",
   "execution_count": 79,
   "metadata": {},
   "outputs": [],
   "source": [
    "df_mgm = df_mgm/1000"
   ]
  },
  {
   "cell_type": "code",
   "execution_count": 80,
   "metadata": {},
   "outputs": [],
   "source": [
    "df_mgm[['grossProfitRatio',\n",
    " 'ebitdaratio',\n",
    " 'operatingIncomeRatio',\n",
    " 'incomeBeforeTaxRatio',\n",
    " 'netIncomeRatio','eps']] = df_mgm[['grossProfitRatio',\n",
    " 'ebitdaratio',\n",
    " 'operatingIncomeRatio',\n",
    " 'incomeBeforeTaxRatio',\n",
    " 'netIncomeRatio','eps']] * 1000"
   ]
  },
  {
   "cell_type": "code",
   "execution_count": 81,
   "metadata": {},
   "outputs": [],
   "source": [
    "df_mgm = df_mgm.sort_index()"
   ]
  },
  {
   "cell_type": "code",
   "execution_count": 82,
   "metadata": {},
   "outputs": [],
   "source": [
    "df_mgm_main = df_mgm.loc[:,['netIncomeRatio','totalLiabilities','totalAssets','totalStockholdersEquity']]"
   ]
  },
  {
   "cell_type": "code",
   "execution_count": 83,
   "metadata": {},
   "outputs": [],
   "source": [
    "df_mgm_main['netIncome'] = df_mgm_income['netIncome'] / 1000"
   ]
  },
  {
   "cell_type": "code",
   "execution_count": 84,
   "metadata": {},
   "outputs": [],
   "source": [
    "df_mgm = metrics(df_mgm)\n",
    "df_mgm = price_ratios(df_mgm, 10)"
   ]
  },
  {
   "cell_type": "code",
   "execution_count": null,
   "metadata": {},
   "outputs": [],
   "source": []
  },
  {
   "cell_type": "code",
   "execution_count": null,
   "metadata": {},
   "outputs": [],
   "source": []
  },
  {
   "cell_type": "markdown",
   "metadata": {},
   "source": [
    "# ana"
   ]
  },
  {
   "cell_type": "code",
   "execution_count": 85,
   "metadata": {},
   "outputs": [
    {
     "data": {
      "text/html": [
       "<div>\n",
       "<style scoped>\n",
       "    .dataframe tbody tr th:only-of-type {\n",
       "        vertical-align: middle;\n",
       "    }\n",
       "\n",
       "    .dataframe tbody tr th {\n",
       "        vertical-align: top;\n",
       "    }\n",
       "\n",
       "    .dataframe thead th {\n",
       "        text-align: right;\n",
       "    }\n",
       "</style>\n",
       "<table border=\"1\" class=\"dataframe\">\n",
       "  <thead>\n",
       "    <tr style=\"text-align: right;\">\n",
       "      <th></th>\n",
       "      <th>de</th>\n",
       "      <th>debtRatio</th>\n",
       "    </tr>\n",
       "  </thead>\n",
       "  <tbody>\n",
       "    <tr>\n",
       "      <th>2000</th>\n",
       "      <td>2.496329</td>\n",
       "      <td>0.603189</td>\n",
       "    </tr>\n",
       "    <tr>\n",
       "      <th>2001</th>\n",
       "      <td>2.207484</td>\n",
       "      <td>0.573940</td>\n",
       "    </tr>\n",
       "    <tr>\n",
       "      <th>2002</th>\n",
       "      <td>1.989774</td>\n",
       "      <td>0.550817</td>\n",
       "    </tr>\n",
       "    <tr>\n",
       "      <th>2003</th>\n",
       "      <td>2.217474</td>\n",
       "      <td>0.578843</td>\n",
       "    </tr>\n",
       "    <tr>\n",
       "      <th>2004</th>\n",
       "      <td>2.011708</td>\n",
       "      <td>0.521122</td>\n",
       "    </tr>\n",
       "    <tr>\n",
       "      <th>2005</th>\n",
       "      <td>3.890293</td>\n",
       "      <td>0.653709</td>\n",
       "    </tr>\n",
       "    <tr>\n",
       "      <th>2006</th>\n",
       "      <td>3.436201</td>\n",
       "      <td>0.647643</td>\n",
       "    </tr>\n",
       "    <tr>\n",
       "      <th>2007</th>\n",
       "      <td>1.878735</td>\n",
       "      <td>0.580297</td>\n",
       "    </tr>\n",
       "    <tr>\n",
       "      <th>2008</th>\n",
       "      <td>3.434958</td>\n",
       "      <td>0.747806</td>\n",
       "    </tr>\n",
       "    <tr>\n",
       "      <th>2009</th>\n",
       "      <td>3.684916</td>\n",
       "      <td>0.768685</td>\n",
       "    </tr>\n",
       "    <tr>\n",
       "      <th>2010</th>\n",
       "      <td>4.088520</td>\n",
       "      <td>0.745757</td>\n",
       "    </tr>\n",
       "    <tr>\n",
       "      <th>2011</th>\n",
       "      <td>2.212852</td>\n",
       "      <td>0.485074</td>\n",
       "    </tr>\n",
       "    <tr>\n",
       "      <th>2012</th>\n",
       "      <td>3.112911</td>\n",
       "      <td>0.517013</td>\n",
       "    </tr>\n",
       "    <tr>\n",
       "      <th>2013</th>\n",
       "      <td>3.178341</td>\n",
       "      <td>0.515053</td>\n",
       "    </tr>\n",
       "    <tr>\n",
       "      <th>2014</th>\n",
       "      <td>3.461132</td>\n",
       "      <td>0.530257</td>\n",
       "    </tr>\n",
       "    <tr>\n",
       "      <th>2015</th>\n",
       "      <td>2.479870</td>\n",
       "      <td>0.503536</td>\n",
       "    </tr>\n",
       "    <tr>\n",
       "      <th>2016</th>\n",
       "      <td>2.087977</td>\n",
       "      <td>0.460989</td>\n",
       "    </tr>\n",
       "    <tr>\n",
       "      <th>2017</th>\n",
       "      <td>1.695742</td>\n",
       "      <td>0.442711</td>\n",
       "    </tr>\n",
       "    <tr>\n",
       "      <th>2018</th>\n",
       "      <td>2.323519</td>\n",
       "      <td>0.500863</td>\n",
       "    </tr>\n",
       "    <tr>\n",
       "      <th>2019</th>\n",
       "      <td>1.445389</td>\n",
       "      <td>0.329696</td>\n",
       "    </tr>\n",
       "  </tbody>\n",
       "</table>\n",
       "</div>"
      ],
      "text/plain": [
       "            de  debtRatio\n",
       "2000  2.496329   0.603189\n",
       "2001  2.207484   0.573940\n",
       "2002  1.989774   0.550817\n",
       "2003  2.217474   0.578843\n",
       "2004  2.011708   0.521122\n",
       "2005  3.890293   0.653709\n",
       "2006  3.436201   0.647643\n",
       "2007  1.878735   0.580297\n",
       "2008  3.434958   0.747806\n",
       "2009  3.684916   0.768685\n",
       "2010  4.088520   0.745757\n",
       "2011  2.212852   0.485074\n",
       "2012  3.112911   0.517013\n",
       "2013  3.178341   0.515053\n",
       "2014  3.461132   0.530257\n",
       "2015  2.479870   0.503536\n",
       "2016  2.087977   0.460989\n",
       "2017  1.695742   0.442711\n",
       "2018  2.323519   0.500863\n",
       "2019  1.445389   0.329696"
      ]
     },
     "execution_count": 85,
     "metadata": {},
     "output_type": "execute_result"
    }
   ],
   "source": [
    "df_mgm[['de','debtRatio']]"
   ]
  },
  {
   "cell_type": "code",
   "execution_count": 86,
   "metadata": {},
   "outputs": [
    {
     "data": {
      "text/html": [
       "<div>\n",
       "<style scoped>\n",
       "    .dataframe tbody tr th:only-of-type {\n",
       "        vertical-align: middle;\n",
       "    }\n",
       "\n",
       "    .dataframe tbody tr th {\n",
       "        vertical-align: top;\n",
       "    }\n",
       "\n",
       "    .dataframe thead th {\n",
       "        text-align: right;\n",
       "    }\n",
       "</style>\n",
       "<table border=\"1\" class=\"dataframe\">\n",
       "  <thead>\n",
       "    <tr style=\"text-align: right;\">\n",
       "      <th></th>\n",
       "      <th>curr</th>\n",
       "      <th>intCov</th>\n",
       "    </tr>\n",
       "  </thead>\n",
       "  <tbody>\n",
       "    <tr>\n",
       "      <th>2000</th>\n",
       "      <td>0.645184</td>\n",
       "      <td>NaN</td>\n",
       "    </tr>\n",
       "    <tr>\n",
       "      <th>2001</th>\n",
       "      <td>0.745489</td>\n",
       "      <td>1.796685</td>\n",
       "    </tr>\n",
       "    <tr>\n",
       "      <th>2002</th>\n",
       "      <td>0.807140</td>\n",
       "      <td>2.593686</td>\n",
       "    </tr>\n",
       "    <tr>\n",
       "      <th>2003</th>\n",
       "      <td>0.990278</td>\n",
       "      <td>2.277127</td>\n",
       "    </tr>\n",
       "    <tr>\n",
       "      <th>2004</th>\n",
       "      <td>1.672727</td>\n",
       "      <td>2.927095</td>\n",
       "    </tr>\n",
       "    <tr>\n",
       "      <th>2005</th>\n",
       "      <td>0.663759</td>\n",
       "      <td>2.068413</td>\n",
       "    </tr>\n",
       "    <tr>\n",
       "      <th>2006</th>\n",
       "      <td>0.919089</td>\n",
       "      <td>2.312386</td>\n",
       "    </tr>\n",
       "    <tr>\n",
       "      <th>2007</th>\n",
       "      <td>0.681507</td>\n",
       "      <td>4.043140</td>\n",
       "    </tr>\n",
       "    <tr>\n",
       "      <th>2008</th>\n",
       "      <td>0.510572</td>\n",
       "      <td>-0.579863</td>\n",
       "    </tr>\n",
       "    <tr>\n",
       "      <th>2009</th>\n",
       "      <td>1.281045</td>\n",
       "      <td>-0.941695</td>\n",
       "    </tr>\n",
       "    <tr>\n",
       "      <th>2010</th>\n",
       "      <td>1.168047</td>\n",
       "      <td>-inf</td>\n",
       "    </tr>\n",
       "    <tr>\n",
       "      <th>2011</th>\n",
       "      <td>1.612092</td>\n",
       "      <td>3.733002</td>\n",
       "    </tr>\n",
       "    <tr>\n",
       "      <th>2012</th>\n",
       "      <td>1.301932</td>\n",
       "      <td>0.072133</td>\n",
       "    </tr>\n",
       "    <tr>\n",
       "      <th>2013</th>\n",
       "      <td>1.227556</td>\n",
       "      <td>1.296455</td>\n",
       "    </tr>\n",
       "    <tr>\n",
       "      <th>2014</th>\n",
       "      <td>0.888271</td>\n",
       "      <td>1.619877</td>\n",
       "    </tr>\n",
       "    <tr>\n",
       "      <th>2015</th>\n",
       "      <td>1.076319</td>\n",
       "      <td>-0.195883</td>\n",
       "    </tr>\n",
       "    <tr>\n",
       "      <th>2016</th>\n",
       "      <td>0.972166</td>\n",
       "      <td>2.993477</td>\n",
       "    </tr>\n",
       "    <tr>\n",
       "      <th>2017</th>\n",
       "      <td>0.767896</td>\n",
       "      <td>2.565241</td>\n",
       "    </tr>\n",
       "    <tr>\n",
       "      <th>2018</th>\n",
       "      <td>0.856860</td>\n",
       "      <td>1.909631</td>\n",
       "    </tr>\n",
       "    <tr>\n",
       "      <th>2019</th>\n",
       "      <td>1.255770</td>\n",
       "      <td>4.646853</td>\n",
       "    </tr>\n",
       "  </tbody>\n",
       "</table>\n",
       "</div>"
      ],
      "text/plain": [
       "          curr    intCov\n",
       "2000  0.645184       NaN\n",
       "2001  0.745489  1.796685\n",
       "2002  0.807140  2.593686\n",
       "2003  0.990278  2.277127\n",
       "2004  1.672727  2.927095\n",
       "2005  0.663759  2.068413\n",
       "2006  0.919089  2.312386\n",
       "2007  0.681507  4.043140\n",
       "2008  0.510572 -0.579863\n",
       "2009  1.281045 -0.941695\n",
       "2010  1.168047      -inf\n",
       "2011  1.612092  3.733002\n",
       "2012  1.301932  0.072133\n",
       "2013  1.227556  1.296455\n",
       "2014  0.888271  1.619877\n",
       "2015  1.076319 -0.195883\n",
       "2016  0.972166  2.993477\n",
       "2017  0.767896  2.565241\n",
       "2018  0.856860  1.909631\n",
       "2019  1.255770  4.646853"
      ]
     },
     "execution_count": 86,
     "metadata": {},
     "output_type": "execute_result"
    }
   ],
   "source": [
    "df_mgm[['curr','intCov']]"
   ]
  },
  {
   "cell_type": "code",
   "execution_count": 89,
   "metadata": {},
   "outputs": [
    {
     "data": {
      "text/plain": [
       "roe         0.096179\n",
       "rof         0.111461\n",
       "rocf        0.264506\n",
       "fcfRatio    0.083056\n",
       "dtype: float64"
      ]
     },
     "execution_count": 89,
     "metadata": {},
     "output_type": "execute_result"
    }
   ],
   "source": [
    "df_mgm[['roe','rof','rocf','fcfRatio']].median()"
   ]
  },
  {
   "cell_type": "code",
   "execution_count": 88,
   "metadata": {},
   "outputs": [
    {
     "data": {
      "text/plain": [
       "2000         NaN\n",
       "2001    0.443725\n",
       "2002    0.448344\n",
       "2003    0.790491\n",
       "2004    0.419360\n",
       "2005    4.483290\n",
       "2006    1.330508\n",
       "2007    0.210476\n",
       "2008    2.631283\n",
       "2009    0.561740\n",
       "2010    1.162823\n",
       "2011    0.031567\n",
       "2012    0.490918\n",
       "2013    0.427439\n",
       "2014    1.348006\n",
       "2015    0.791040\n",
       "2016    1.484463\n",
       "2017    0.718007\n",
       "2018    1.210426\n",
       "2019    1.944008\n",
       "Name: gcf, dtype: float64"
      ]
     },
     "execution_count": 88,
     "metadata": {},
     "output_type": "execute_result"
    }
   ],
   "source": [
    "df_mgm.gcf"
   ]
  },
  {
   "cell_type": "code",
   "execution_count": 92,
   "metadata": {},
   "outputs": [
    {
     "data": {
      "text/plain": [
       "0.045969208495716396"
      ]
     },
     "execution_count": 92,
     "metadata": {},
     "output_type": "execute_result"
    }
   ],
   "source": [
    "annual_growth(0.55,0.42,6)"
   ]
  },
  {
   "cell_type": "code",
   "execution_count": 94,
   "metadata": {},
   "outputs": [
    {
     "data": {
      "text/plain": [
       "bv     9.026217\n",
       "div    0.225326\n",
       "dtype: float64"
      ]
     },
     "execution_count": 94,
     "metadata": {},
     "output_type": "execute_result"
    }
   ],
   "source": [
    "df_mgm[['bv','div']].mean()"
   ]
  },
  {
   "cell_type": "code",
   "execution_count": 96,
   "metadata": {},
   "outputs": [
    {
     "data": {
      "text/plain": [
       "array([[<matplotlib.axes._subplots.AxesSubplot object at 0x12023a4d0>,\n",
       "        <matplotlib.axes._subplots.AxesSubplot object at 0x1238b9790>],\n",
       "       [<matplotlib.axes._subplots.AxesSubplot object at 0x1238cfb50>,\n",
       "        <matplotlib.axes._subplots.AxesSubplot object at 0x1238e3f10>],\n",
       "       [<matplotlib.axes._subplots.AxesSubplot object at 0x1238fd310>,\n",
       "        <matplotlib.axes._subplots.AxesSubplot object at 0x1239156d0>]],\n",
       "      dtype=object)"
      ]
     },
     "execution_count": 96,
     "metadata": {},
     "output_type": "execute_result"
    },
    {
     "data": {
      "image/png": "[encoded data removed]",
      "text/plain": [
       "<Figure size 792x792 with 6 Axes>"
      ]
     },
     "metadata": {
      "needs_background": "light"
     },
     "output_type": "display_data"
    }
   ],
   "source": [
    "df_mgm[['bv','eps','fcf','div','totalAssets','totalLiabilities']].plot(subplots = True,\n",
    "                                                                     figsize = (11,11),\n",
    "                                                                        layout = (3,-1))"
   ]
  },
  {
   "cell_type": "code",
   "execution_count": 97,
   "metadata": {},
   "outputs": [
    {
     "data": {
      "text/html": [
       "<div>\n",
       "<style scoped>\n",
       "    .dataframe tbody tr th:only-of-type {\n",
       "        vertical-align: middle;\n",
       "    }\n",
       "\n",
       "    .dataframe tbody tr th {\n",
       "        vertical-align: top;\n",
       "    }\n",
       "\n",
       "    .dataframe thead th {\n",
       "        text-align: right;\n",
       "    }\n",
       "</style>\n",
       "<table border=\"1\" class=\"dataframe\">\n",
       "  <thead>\n",
       "    <tr style=\"text-align: right;\">\n",
       "      <th></th>\n",
       "      <th>pe</th>\n",
       "      <th>ps</th>\n",
       "      <th>pb</th>\n",
       "    </tr>\n",
       "  </thead>\n",
       "  <tbody>\n",
       "    <tr>\n",
       "      <th>2000</th>\n",
       "      <td>NaN</td>\n",
       "      <td>NaN</td>\n",
       "      <td>2.065105</td>\n",
       "    </tr>\n",
       "    <tr>\n",
       "      <th>2001</th>\n",
       "      <td>9.345794</td>\n",
       "      <td>1.113957</td>\n",
       "      <td>1.959613</td>\n",
       "    </tr>\n",
       "    <tr>\n",
       "      <th>2002</th>\n",
       "      <td>5.405405</td>\n",
       "      <td>1.103235</td>\n",
       "      <td>1.846747</td>\n",
       "    </tr>\n",
       "    <tr>\n",
       "      <th>2003</th>\n",
       "      <td>inf</td>\n",
       "      <td>639.875146</td>\n",
       "      <td>1.941757</td>\n",
       "    </tr>\n",
       "    <tr>\n",
       "      <th>2004</th>\n",
       "      <td>inf</td>\n",
       "      <td>422.862054</td>\n",
       "      <td>1.775081</td>\n",
       "    </tr>\n",
       "    <tr>\n",
       "      <th>2005</th>\n",
       "      <td>6.410256</td>\n",
       "      <td>0.694506</td>\n",
       "      <td>1.520832</td>\n",
       "    </tr>\n",
       "    <tr>\n",
       "      <th>2006</th>\n",
       "      <td>4.444444</td>\n",
       "      <td>0.631034</td>\n",
       "      <td>1.278072</td>\n",
       "    </tr>\n",
       "    <tr>\n",
       "      <th>2007</th>\n",
       "      <td>2.049180</td>\n",
       "      <td>0.585877</td>\n",
       "      <td>0.811787</td>\n",
       "    </tr>\n",
       "    <tr>\n",
       "      <th>2008</th>\n",
       "      <td>inf</td>\n",
       "      <td>131.105604</td>\n",
       "      <td>1.237935</td>\n",
       "    </tr>\n",
       "    <tr>\n",
       "      <th>2009</th>\n",
       "      <td>inf</td>\n",
       "      <td>85.988430</td>\n",
       "      <td>1.271176</td>\n",
       "    </tr>\n",
       "    <tr>\n",
       "      <th>2010</th>\n",
       "      <td>inf</td>\n",
       "      <td>inf</td>\n",
       "      <td>1.640796</td>\n",
       "    </tr>\n",
       "    <tr>\n",
       "      <th>2011</th>\n",
       "      <td>1.569859</td>\n",
       "      <td>0.626807</td>\n",
       "      <td>0.808336</td>\n",
       "    </tr>\n",
       "    <tr>\n",
       "      <th>2012</th>\n",
       "      <td>-2.762431</td>\n",
       "      <td>0.537068</td>\n",
       "      <td>1.127006</td>\n",
       "    </tr>\n",
       "    <tr>\n",
       "      <th>2013</th>\n",
       "      <td>-31.250000</td>\n",
       "      <td>0.501546</td>\n",
       "      <td>1.162796</td>\n",
       "    </tr>\n",
       "    <tr>\n",
       "      <th>2014</th>\n",
       "      <td>-32.258065</td>\n",
       "      <td>0.487999</td>\n",
       "      <td>1.202664</td>\n",
       "    </tr>\n",
       "    <tr>\n",
       "      <th>2015</th>\n",
       "      <td>-12.195122</td>\n",
       "      <td>0.535361</td>\n",
       "      <td>0.960951</td>\n",
       "    </tr>\n",
       "    <tr>\n",
       "      <th>2016</th>\n",
       "      <td>5.154639</td>\n",
       "      <td>0.520353</td>\n",
       "      <td>0.790974</td>\n",
       "    </tr>\n",
       "    <tr>\n",
       "      <th>2017</th>\n",
       "      <td>2.949853</td>\n",
       "      <td>0.456659</td>\n",
       "      <td>0.646293</td>\n",
       "    </tr>\n",
       "    <tr>\n",
       "      <th>2018</th>\n",
       "      <td>12.195122</td>\n",
       "      <td>0.418257</td>\n",
       "      <td>0.755495</td>\n",
       "    </tr>\n",
       "    <tr>\n",
       "      <th>2019</th>\n",
       "      <td>2.564103</td>\n",
       "      <td>0.381405</td>\n",
       "      <td>0.636707</td>\n",
       "    </tr>\n",
       "  </tbody>\n",
       "</table>\n",
       "</div>"
      ],
      "text/plain": [
       "             pe          ps        pb\n",
       "2000        NaN         NaN  2.065105\n",
       "2001   9.345794    1.113957  1.959613\n",
       "2002   5.405405    1.103235  1.846747\n",
       "2003        inf  639.875146  1.941757\n",
       "2004        inf  422.862054  1.775081\n",
       "2005   6.410256    0.694506  1.520832\n",
       "2006   4.444444    0.631034  1.278072\n",
       "2007   2.049180    0.585877  0.811787\n",
       "2008        inf  131.105604  1.237935\n",
       "2009        inf   85.988430  1.271176\n",
       "2010        inf         inf  1.640796\n",
       "2011   1.569859    0.626807  0.808336\n",
       "2012  -2.762431    0.537068  1.127006\n",
       "2013 -31.250000    0.501546  1.162796\n",
       "2014 -32.258065    0.487999  1.202664\n",
       "2015 -12.195122    0.535361  0.960951\n",
       "2016   5.154639    0.520353  0.790974\n",
       "2017   2.949853    0.456659  0.646293\n",
       "2018  12.195122    0.418257  0.755495\n",
       "2019   2.564103    0.381405  0.636707"
      ]
     },
     "execution_count": 97,
     "metadata": {},
     "output_type": "execute_result"
    }
   ],
   "source": [
    "df_mgm[['pe','ps','pb']]"
   ]
  },
  {
   "cell_type": "code",
   "execution_count": 102,
   "metadata": {},
   "outputs": [
    {
     "data": {
      "text/plain": [
       "0.028398806459696058"
      ]
     },
     "execution_count": 102,
     "metadata": {},
     "output_type": "execute_result"
    }
   ],
   "source": [
    "annual_growth(748324.0,581615.0,9)"
   ]
  },
  {
   "cell_type": "code",
   "execution_count": 106,
   "metadata": {},
   "outputs": [],
   "source": [
    "cf_mgm = [df_mgm.freeCashFlow.mean(),df_mgm.freeCashFlow.median()]\n",
    "grs = [0.03,0.05]\n"
   ]
  },
  {
   "cell_type": "code",
   "execution_count": 107,
   "metadata": {},
   "outputs": [
    {
     "data": {
      "text/plain": [
       "defaultdict(list,\n",
       "            {'318.11726315789474,3.0%': [9.178942432578173,\n",
       "              5.3350190275010645,\n",
       "              3.7771727799531325],\n",
       "             '318.11726315789474,5.0%': [10.619751915033143,\n",
       "              6.029770239232026,\n",
       "              4.19586575802523],\n",
       "             '465.81,3.0%': [13.440462589410187,\n",
       "              7.811915607883282,\n",
       "              5.530805952384556],\n",
       "             '465.81,5.0%': [15.550198660819909,\n",
       "              8.829219914867002,\n",
       "              6.143886092015209]})"
      ]
     },
     "execution_count": 107,
     "metadata": {},
     "output_type": "execute_result"
    }
   ],
   "source": [
    "intrinsic_cash(cf_mgm, grs,drs,lgr,df_mgm.shares.values[0],9)"
   ]
  },
  {
   "cell_type": "code",
   "execution_count": 59,
   "metadata": {},
   "outputs": [
    {
     "data": {
      "text/plain": [
       "0.061189078945135256"
      ]
     },
     "execution_count": 59,
     "metadata": {},
     "output_type": "execute_result"
    }
   ],
   "source": [
    "annual_growth(41242.0,24166.0,9)"
   ]
  },
  {
   "cell_type": "code",
   "execution_count": 109,
   "metadata": {},
   "outputs": [
    {
     "data": {
      "text/plain": [
       "4.769556927525122"
      ]
     },
     "execution_count": 109,
     "metadata": {},
     "output_type": "execute_result"
    }
   ],
   "source": [
    "intrinsic_bk(0.3,9,0.03,0.15,9)"
   ]
  },
  {
   "cell_type": "code",
   "execution_count": 65,
   "metadata": {},
   "outputs": [
    {
     "data": {
      "text/plain": [
       "defaultdict(list,\n",
       "            {'32.485,3.0%': [15.90213311708111,\n",
       "              9.242696898977421,\n",
       "              6.5437935572888195],\n",
       "             '32.485,6.0%': [19.79581277105835,\n",
       "              11.113255584259784,\n",
       "              7.6672475242438285]})"
      ]
     },
     "execution_count": 65,
     "metadata": {},
     "output_type": "execute_result"
    }
   ],
   "source": [
    "intrinsic_cash(cf_mgm, grs,drs,lgr,df_mgm.shares.values[0],9)"
   ]
  },
  {
   "cell_type": "code",
   "execution_count": 69,
   "metadata": {},
   "outputs": [
    {
     "data": {
      "text/plain": [
       "5.498312027774887"
      ]
     },
     "execution_count": 69,
     "metadata": {},
     "output_type": "execute_result"
    }
   ],
   "source": [
    "intrinsic_bk(0.2,3,0.03,0.005,9)"
   ]
  },
  {
   "cell_type": "code",
   "execution_count": 110,
   "metadata": {},
   "outputs": [
    {
     "data": {
      "text/plain": [
       "0.039395911384647375"
      ]
     },
     "execution_count": 110,
     "metadata": {},
     "output_type": "execute_result"
    }
   ],
   "source": [
    "annual_growth(32680,28000,4)"
   ]
  },
  {
   "cell_type": "code",
   "execution_count": 111,
   "metadata": {},
   "outputs": [
    {
     "data": {
      "text/plain": [
       "defaultdict(list,\n",
       "            {'1800.0,5.0%': [18.586473994544917,\n",
       "              10.572238856889635,\n",
       "              7.354570904900046],\n",
       "             '1800.0,7.000000000000001%': [20.484355622692107,\n",
       "              11.54079034137165,\n",
       "              7.96389131716384]})"
      ]
     },
     "execution_count": 111,
     "metadata": {},
     "output_type": "execute_result"
    }
   ],
   "source": [
    "intrinsic_cash([1800E03],[0.05,0.07],drs,lgr,1.5E06,5)"
   ]
  },
  {
   "cell_type": "code",
   "execution_count": 113,
   "metadata": {},
   "outputs": [
    {
     "data": {
      "text/plain": [
       "17.264660012159084"
      ]
     },
     "execution_count": 113,
     "metadata": {},
     "output_type": "execute_result"
    }
   ],
   "source": [
    "intrinsic_bk(1,23,0.04,0.15,5)"
   ]
  },
  {
   "cell_type": "code",
   "execution_count": 114,
   "metadata": {},
   "outputs": [
    {
     "data": {
      "text/plain": [
       "0.09701564967352727"
      ]
     },
     "execution_count": 114,
     "metadata": {},
     "output_type": "execute_result"
    }
   ],
   "source": [
    "annual_growth(42000,29000,4)"
   ]
  },
  {
   "cell_type": "code",
   "execution_count": null,
   "metadata": {},
   "outputs": [],
   "source": []
  },
  {
   "cell_type": "markdown",
   "metadata": {},
   "source": [
    "# energy \n",
    "# whd "
   ]
  },
  {
   "cell_type": "code",
   "execution_count": null,
   "metadata": {},
   "outputs": [],
   "source": []
  },
  {
   "cell_type": "code",
   "execution_count": 229,
   "metadata": {},
   "outputs": [
    {
     "name": "stdout",
     "output_type": "stream",
     "text": [
      "https://fmpcloud.io/api/v3/cash-gmlow-statement/GM?apikey=cb3b0c371586d9ce915d359479fe1c81\n",
      "https://fmpcloud.io/api/v3/balance-sheet-statement/GM?apikey=cb3b0c371586d9ce915d359479fe1c81\n",
      "https://fmpcloud.io/api/v3/income-statement/GM?apikey=cb3b0c371586d9ce915d359479fe1c81\n"
     ]
    }
   ],
   "source": [
    "dict_gm_cash,errs_gm = url_import(['GM'], 'cash-gmlow-statement')\n",
    "dict_gm_balance,errs_gm = url_import(['GM'], 'balance-sheet-statement')\n",
    "dict_gm_income,errs_gm = url_import(['GM'], 'income-statement')"
   ]
  },
  {
   "cell_type": "code",
   "execution_count": 230,
   "metadata": {},
   "outputs": [
    {
     "ename": "AttributeError",
     "evalue": "module 'pandas' has no attribute 'Datagmrame'",
     "output_type": "error",
     "traceback": [
      "\u001b[0;31m---------------------------------------------------------------------------\u001b[0m",
      "\u001b[0;31mAttributeError\u001b[0m                            Traceback (most recent call last)",
      "\u001b[0;32m<ipython-input-230-e0e8e87393a1>\u001b[0m in \u001b[0;36m<module>\u001b[0;34m\u001b[0m\n\u001b[0;32m----> 1\u001b[0;31m \u001b[0mdgm_gm_cash\u001b[0m \u001b[0;34m=\u001b[0m \u001b[0mpd\u001b[0m\u001b[0;34m.\u001b[0m\u001b[0mDatagmrame\u001b[0m\u001b[0;34m(\u001b[0m\u001b[0mdict_gm_cash\u001b[0m\u001b[0;34m)\u001b[0m\u001b[0;34m\u001b[0m\u001b[0;34m\u001b[0m\u001b[0m\n\u001b[0m\u001b[1;32m      2\u001b[0m \u001b[0mdgm_gm_bal\u001b[0m \u001b[0;34m=\u001b[0m \u001b[0mpd\u001b[0m\u001b[0;34m.\u001b[0m\u001b[0mDatagmrame\u001b[0m\u001b[0;34m(\u001b[0m\u001b[0mdict_gm_balance\u001b[0m\u001b[0;34m)\u001b[0m\u001b[0;34m\u001b[0m\u001b[0;34m\u001b[0m\u001b[0m\n\u001b[1;32m      3\u001b[0m \u001b[0mdgm_gm_income\u001b[0m \u001b[0;34m=\u001b[0m \u001b[0mpd\u001b[0m\u001b[0;34m.\u001b[0m\u001b[0mDatagmrame\u001b[0m\u001b[0;34m(\u001b[0m\u001b[0mdict_gm_income\u001b[0m\u001b[0;34m)\u001b[0m\u001b[0;34m\u001b[0m\u001b[0;34m\u001b[0m\u001b[0m\n",
      "\u001b[0;32m/Applications/anaconda3/envs/stocks/lib/python3.7/site-packages/pandas/__init__.py\u001b[0m in \u001b[0;36m__getattr__\u001b[0;34m(name)\u001b[0m\n\u001b[1;32m    261\u001b[0m             \u001b[0;32mreturn\u001b[0m \u001b[0m_SparseArray\u001b[0m\u001b[0;34m\u001b[0m\u001b[0;34m\u001b[0m\u001b[0m\n\u001b[1;32m    262\u001b[0m \u001b[0;34m\u001b[0m\u001b[0m\n\u001b[0;32m--> 263\u001b[0;31m         \u001b[0;32mraise\u001b[0m \u001b[0mAttributeError\u001b[0m\u001b[0;34m(\u001b[0m\u001b[0;34mf\"module 'pandas' has no attribute '{name}'\"\u001b[0m\u001b[0;34m)\u001b[0m\u001b[0;34m\u001b[0m\u001b[0;34m\u001b[0m\u001b[0m\n\u001b[0m\u001b[1;32m    264\u001b[0m \u001b[0;34m\u001b[0m\u001b[0m\n\u001b[1;32m    265\u001b[0m \u001b[0;34m\u001b[0m\u001b[0m\n",
      "\u001b[0;31mAttributeError\u001b[0m: module 'pandas' has no attribute 'Datagmrame'"
     ]
    }
   ],
   "source": [
    "dgm_gm_cash = pd.Datagmrame(dict_gm_cash)\n",
    "dgm_gm_bal = pd.Datagmrame(dict_gm_balance)\n",
    "dgm_gm_income = pd.Datagmrame(dict_gm_income)"
   ]
  },
  {
   "cell_type": "code",
   "execution_count": 231,
   "metadata": {},
   "outputs": [
    {
     "ename": "NameError",
     "evalue": "name 'dgm_gm_bal' is not defined",
     "output_type": "error",
     "traceback": [
      "\u001b[0;31m---------------------------------------------------------------------------\u001b[0m",
      "\u001b[0;31mNameError\u001b[0m                                 Traceback (most recent call last)",
      "\u001b[0;32m<ipython-input-231-f4ff57ea2973>\u001b[0m in \u001b[0;36m<module>\u001b[0;34m\u001b[0m\n\u001b[0;32m----> 1\u001b[0;31m \u001b[0mdgm_gm_bal\u001b[0m\u001b[0;34m.\u001b[0m\u001b[0mdate\u001b[0m \u001b[0;34m=\u001b[0m \u001b[0mdgm_gm_bal\u001b[0m\u001b[0;34m.\u001b[0m\u001b[0mdate\u001b[0m\u001b[0;34m.\u001b[0m\u001b[0mmap\u001b[0m\u001b[0;34m(\u001b[0m\u001b[0;32mlambda\u001b[0m \u001b[0mx\u001b[0m\u001b[0;34m:\u001b[0m \u001b[0mre\u001b[0m\u001b[0;34m.\u001b[0m\u001b[0msub\u001b[0m\u001b[0;34m(\u001b[0m\u001b[0;34mr'-.*$'\u001b[0m\u001b[0;34m,\u001b[0m\u001b[0;34m''\u001b[0m\u001b[0;34m,\u001b[0m\u001b[0mx\u001b[0m\u001b[0;34m)\u001b[0m\u001b[0;34m)\u001b[0m\u001b[0;34m\u001b[0m\u001b[0;34m\u001b[0m\u001b[0m\n\u001b[0m\u001b[1;32m      2\u001b[0m \u001b[0mdgm_gm_cash\u001b[0m\u001b[0;34m.\u001b[0m\u001b[0mdate\u001b[0m \u001b[0;34m=\u001b[0m \u001b[0mdgm_gm_cash\u001b[0m\u001b[0;34m.\u001b[0m\u001b[0mdate\u001b[0m\u001b[0;34m.\u001b[0m\u001b[0mmap\u001b[0m\u001b[0;34m(\u001b[0m\u001b[0;32mlambda\u001b[0m \u001b[0mx\u001b[0m\u001b[0;34m:\u001b[0m \u001b[0mre\u001b[0m\u001b[0;34m.\u001b[0m\u001b[0msub\u001b[0m\u001b[0;34m(\u001b[0m\u001b[0;34mr'-.*$'\u001b[0m\u001b[0;34m,\u001b[0m\u001b[0;34m''\u001b[0m\u001b[0;34m,\u001b[0m\u001b[0mx\u001b[0m\u001b[0;34m)\u001b[0m\u001b[0;34m)\u001b[0m\u001b[0;34m\u001b[0m\u001b[0;34m\u001b[0m\u001b[0m\n\u001b[1;32m      3\u001b[0m \u001b[0mdgm_gm_income\u001b[0m\u001b[0;34m.\u001b[0m\u001b[0mdate\u001b[0m \u001b[0;34m=\u001b[0m \u001b[0mdgm_gm_income\u001b[0m\u001b[0;34m.\u001b[0m\u001b[0mdate\u001b[0m\u001b[0;34m.\u001b[0m\u001b[0mmap\u001b[0m\u001b[0;34m(\u001b[0m\u001b[0;32mlambda\u001b[0m \u001b[0mx\u001b[0m\u001b[0;34m:\u001b[0m \u001b[0mre\u001b[0m\u001b[0;34m.\u001b[0m\u001b[0msub\u001b[0m\u001b[0;34m(\u001b[0m\u001b[0;34mr'-.*$'\u001b[0m\u001b[0;34m,\u001b[0m\u001b[0;34m''\u001b[0m\u001b[0;34m,\u001b[0m\u001b[0mx\u001b[0m\u001b[0;34m)\u001b[0m\u001b[0;34m)\u001b[0m\u001b[0;34m\u001b[0m\u001b[0;34m\u001b[0m\u001b[0m\n",
      "\u001b[0;31mNameError\u001b[0m: name 'dgm_gm_bal' is not defined"
     ]
    }
   ],
   "source": [
    "dgm_gm_bal.date = dgm_gm_bal.date.map(lambda x: re.sub(r'-.*$','',x))\n",
    "dgm_gm_cash.date = dgm_gm_cash.date.map(lambda x: re.sub(r'-.*$','',x))\n",
    "dgm_gm_income.date = dgm_gm_income.date.map(lambda x: re.sub(r'-.*$','',x))"
   ]
  },
  {
   "cell_type": "code",
   "execution_count": 194,
   "metadata": {},
   "outputs": [],
   "source": [
    "dgm_gm_bal.set_index(['date'], inplace = True)\n",
    "dgm_gm_cash.set_index(['date'], inplace = True)\n",
    "dgm_gm_income.set_index(['date'], inplace = True)"
   ]
  },
  {
   "cell_type": "code",
   "execution_count": 195,
   "metadata": {},
   "outputs": [],
   "source": [
    "dgm_gm_cash.drop('netIncome',axis = 1, inplace = True)\n",
    "dgm_gm_cash.rename({'inventory': 'inventoryCash'}, axis = 1, inplace = True)"
   ]
  },
  {
   "cell_type": "code",
   "execution_count": 196,
   "metadata": {},
   "outputs": [],
   "source": [
    "dgm_gm = pd.concat([dgm_gm_income,dgm_gm_bal,dgm_gm_cash],axis = 1)"
   ]
  },
  {
   "cell_type": "code",
   "execution_count": 197,
   "metadata": {},
   "outputs": [],
   "source": [
    "dgm_gm.drop(['symbol','period'],axis = 1, inplace =True)"
   ]
  },
  {
   "cell_type": "code",
   "execution_count": 198,
   "metadata": {},
   "outputs": [],
   "source": [
    "dgm_gm['shares'] = 3.9E09"
   ]
  },
  {
   "cell_type": "code",
   "execution_count": 199,
   "metadata": {},
   "outputs": [],
   "source": [
    "dgm_gm.drop(['gmillingDate','gminalLink','link'],axis = 1,inplace = True)"
   ]
  },
  {
   "cell_type": "code",
   "execution_count": 200,
   "metadata": {},
   "outputs": [],
   "source": [
    "dgm_gm = dgm_gm/1000"
   ]
  },
  {
   "cell_type": "code",
   "execution_count": 201,
   "metadata": {},
   "outputs": [],
   "source": [
    "dgm_gm[['grossProgmitRatio',\n",
    " 'ebitdaratio',\n",
    " 'operatingIncomeRatio',\n",
    " 'incomeBegmoreTaxRatio',\n",
    " 'netIncomeRatio','eps']] = dgm_gm[['grossProgmitRatio',\n",
    " 'ebitdaratio',\n",
    " 'operatingIncomeRatio',\n",
    " 'incomeBegmoreTaxRatio',\n",
    " 'netIncomeRatio','eps']] * 1000"
   ]
  },
  {
   "cell_type": "code",
   "execution_count": 202,
   "metadata": {},
   "outputs": [],
   "source": [
    "dgm_gm = dgm_gm.sort_index()"
   ]
  },
  {
   "cell_type": "code",
   "execution_count": 203,
   "metadata": {},
   "outputs": [],
   "source": [
    "dgm_gm_main = dgm_gm.loc[:,['netIncomeRatio','totalLiabilities','totalAssets','totalStockholdersEquity']]"
   ]
  },
  {
   "cell_type": "code",
   "execution_count": 204,
   "metadata": {},
   "outputs": [],
   "source": [
    "dgm_gm_main['netIncome'] = dgm_gm_income['netIncome'] / 1000"
   ]
  },
  {
   "cell_type": "code",
   "execution_count": 205,
   "metadata": {},
   "outputs": [],
   "source": [
    "dgm_gm = metrics(dgm_gm)\n",
    "dgm_gm = price_ratios(dgm_gm, 4)"
   ]
  },
  {
   "cell_type": "code",
   "execution_count": null,
   "metadata": {},
   "outputs": [],
   "source": []
  },
  {
   "cell_type": "code",
   "execution_count": null,
   "metadata": {},
   "outputs": [],
   "source": []
  },
  {
   "cell_type": "markdown",
   "metadata": {},
   "source": [
    "# ana"
   ]
  },
  {
   "cell_type": "code",
   "execution_count": 207,
   "metadata": {},
   "outputs": [
    {
     "data": {
      "text/plain": [
       "date\n",
       "2003          0.0\n",
       "2004          0.0\n",
       "2005          0.0\n",
       "2006          0.0\n",
       "2007          0.0\n",
       "2008          0.0\n",
       "2009          0.0\n",
       "2010          0.0\n",
       "2011          0.0\n",
       "2012          0.0\n",
       "2013    -213000.0\n",
       "2014   -1964000.0\n",
       "2015    -129000.0\n",
       "2016    -145000.0\n",
       "2017    -131000.0\n",
       "2018    -164000.0\n",
       "2019    -237000.0\n",
       "Name: commonStockRepurchased, dtype: float64"
      ]
     },
     "execution_count": 207,
     "metadata": {},
     "output_type": "execute_result"
    }
   ],
   "source": [
    "df_f.commonStockRepurchased"
   ]
  },
  {
   "cell_type": "code",
   "execution_count": 208,
   "metadata": {},
   "outputs": [
    {
     "data": {
      "text/html": [
       "<div>\n",
       "<style scoped>\n",
       "    .dataframe tbody tr th:only-of-type {\n",
       "        vertical-align: middle;\n",
       "    }\n",
       "\n",
       "    .dataframe tbody tr th {\n",
       "        vertical-align: top;\n",
       "    }\n",
       "\n",
       "    .dataframe thead th {\n",
       "        text-align: right;\n",
       "    }\n",
       "</style>\n",
       "<table border=\"1\" class=\"dataframe\">\n",
       "  <thead>\n",
       "    <tr style=\"text-align: right;\">\n",
       "      <th></th>\n",
       "      <th>de</th>\n",
       "      <th>debtRatio</th>\n",
       "    </tr>\n",
       "    <tr>\n",
       "      <th>date</th>\n",
       "      <th></th>\n",
       "      <th></th>\n",
       "    </tr>\n",
       "  </thead>\n",
       "  <tbody>\n",
       "    <tr>\n",
       "      <th>2003</th>\n",
       "      <td>17.062141</td>\n",
       "      <td>1.647790</td>\n",
       "    </tr>\n",
       "    <tr>\n",
       "      <th>2004</th>\n",
       "      <td>11.868557</td>\n",
       "      <td>1.635696</td>\n",
       "    </tr>\n",
       "    <tr>\n",
       "      <th>2005</th>\n",
       "      <td>11.911091</td>\n",
       "      <td>1.355823</td>\n",
       "    </tr>\n",
       "    <tr>\n",
       "      <th>2006</th>\n",
       "      <td>-49.653391</td>\n",
       "      <td>1.402947</td>\n",
       "    </tr>\n",
       "    <tr>\n",
       "      <th>2007</th>\n",
       "      <td>29.944918</td>\n",
       "      <td>1.422326</td>\n",
       "    </tr>\n",
       "    <tr>\n",
       "      <th>2008</th>\n",
       "      <td>-8.935821</td>\n",
       "      <td>2.094766</td>\n",
       "    </tr>\n",
       "    <tr>\n",
       "      <th>2009</th>\n",
       "      <td>inf</td>\n",
       "      <td>1.117327</td>\n",
       "    </tr>\n",
       "    <tr>\n",
       "      <th>2010</th>\n",
       "      <td>inf</td>\n",
       "      <td>1.612683</td>\n",
       "    </tr>\n",
       "    <tr>\n",
       "      <th>2011</th>\n",
       "      <td>inf</td>\n",
       "      <td>1.265314</td>\n",
       "    </tr>\n",
       "    <tr>\n",
       "      <th>2012</th>\n",
       "      <td>inf</td>\n",
       "      <td>1.215133</td>\n",
       "    </tr>\n",
       "    <tr>\n",
       "      <th>2013</th>\n",
       "      <td>0.594436</td>\n",
       "      <td>0.077629</td>\n",
       "    </tr>\n",
       "    <tr>\n",
       "      <th>2014</th>\n",
       "      <td>0.557307</td>\n",
       "      <td>0.066294</td>\n",
       "    </tr>\n",
       "    <tr>\n",
       "      <th>2015</th>\n",
       "      <td>0.448258</td>\n",
       "      <td>0.057081</td>\n",
       "    </tr>\n",
       "    <tr>\n",
       "      <th>2016</th>\n",
       "      <td>0.545321</td>\n",
       "      <td>0.066850</td>\n",
       "    </tr>\n",
       "    <tr>\n",
       "      <th>2017</th>\n",
       "      <td>0.456606</td>\n",
       "      <td>0.061794</td>\n",
       "    </tr>\n",
       "    <tr>\n",
       "      <th>2018</th>\n",
       "      <td>3.898085</td>\n",
       "      <td>0.545981</td>\n",
       "    </tr>\n",
       "    <tr>\n",
       "      <th>2019</th>\n",
       "      <td>1.592316</td>\n",
       "      <td>0.204385</td>\n",
       "    </tr>\n",
       "  </tbody>\n",
       "</table>\n",
       "</div>"
      ],
      "text/plain": [
       "             de  debtRatio\n",
       "date                      \n",
       "2003  17.062141   1.647790\n",
       "2004  11.868557   1.635696\n",
       "2005  11.911091   1.355823\n",
       "2006 -49.653391   1.402947\n",
       "2007  29.944918   1.422326\n",
       "2008  -8.935821   2.094766\n",
       "2009        inf   1.117327\n",
       "2010        inf   1.612683\n",
       "2011        inf   1.265314\n",
       "2012        inf   1.215133\n",
       "2013   0.594436   0.077629\n",
       "2014   0.557307   0.066294\n",
       "2015   0.448258   0.057081\n",
       "2016   0.545321   0.066850\n",
       "2017   0.456606   0.061794\n",
       "2018   3.898085   0.545981\n",
       "2019   1.592316   0.204385"
      ]
     },
     "execution_count": 208,
     "metadata": {},
     "output_type": "execute_result"
    }
   ],
   "source": [
    "dgm_gm[['de','debtRatio']]"
   ]
  },
  {
   "cell_type": "code",
   "execution_count": 209,
   "metadata": {},
   "outputs": [
    {
     "data": {
      "text/html": [
       "<div>\n",
       "<style scoped>\n",
       "    .dataframe tbody tr th:only-of-type {\n",
       "        vertical-align: middle;\n",
       "    }\n",
       "\n",
       "    .dataframe tbody tr th {\n",
       "        vertical-align: top;\n",
       "    }\n",
       "\n",
       "    .dataframe thead th {\n",
       "        text-align: right;\n",
       "    }\n",
       "</style>\n",
       "<table border=\"1\" class=\"dataframe\">\n",
       "  <thead>\n",
       "    <tr style=\"text-align: right;\">\n",
       "      <th></th>\n",
       "      <th>curr</th>\n",
       "      <th>intCov</th>\n",
       "    </tr>\n",
       "    <tr>\n",
       "      <th>date</th>\n",
       "      <th></th>\n",
       "      <th></th>\n",
       "    </tr>\n",
       "  </thead>\n",
       "  <tbody>\n",
       "    <tr>\n",
       "      <th>2003</th>\n",
       "      <td>0.837136</td>\n",
       "      <td>1.117518</td>\n",
       "    </tr>\n",
       "    <tr>\n",
       "      <th>2004</th>\n",
       "      <td>0.812383</td>\n",
       "      <td>0.144963</td>\n",
       "    </tr>\n",
       "    <tr>\n",
       "      <th>2005</th>\n",
       "      <td>0.903356</td>\n",
       "      <td>-0.163418</td>\n",
       "    </tr>\n",
       "    <tr>\n",
       "      <th>2006</th>\n",
       "      <td>1.019383</td>\n",
       "      <td>-0.168280</td>\n",
       "    </tr>\n",
       "    <tr>\n",
       "      <th>2007</th>\n",
       "      <td>1.080151</td>\n",
       "      <td>-0.106251</td>\n",
       "    </tr>\n",
       "    <tr>\n",
       "      <th>2008</th>\n",
       "      <td>0.693888</td>\n",
       "      <td>0.077980</td>\n",
       "    </tr>\n",
       "    <tr>\n",
       "      <th>2009</th>\n",
       "      <td>1.095121</td>\n",
       "      <td>-0.774458</td>\n",
       "    </tr>\n",
       "    <tr>\n",
       "      <th>2010</th>\n",
       "      <td>0.995712</td>\n",
       "      <td>-inf</td>\n",
       "    </tr>\n",
       "    <tr>\n",
       "      <th>2011</th>\n",
       "      <td>1.162133</td>\n",
       "      <td>-0.186188</td>\n",
       "    </tr>\n",
       "    <tr>\n",
       "      <th>2012</th>\n",
       "      <td>1.225588</td>\n",
       "      <td>-2.478331</td>\n",
       "    </tr>\n",
       "    <tr>\n",
       "      <th>2013</th>\n",
       "      <td>1.147393</td>\n",
       "      <td>1.897804</td>\n",
       "    </tr>\n",
       "    <tr>\n",
       "      <th>2014</th>\n",
       "      <td>1.008328</td>\n",
       "      <td>1.241991</td>\n",
       "    </tr>\n",
       "    <tr>\n",
       "      <th>2015</th>\n",
       "      <td>1.073854</td>\n",
       "      <td>3.176945</td>\n",
       "    </tr>\n",
       "    <tr>\n",
       "      <th>2016</th>\n",
       "      <td>1.201371</td>\n",
       "      <td>7.601790</td>\n",
       "    </tr>\n",
       "    <tr>\n",
       "      <th>2017</th>\n",
       "      <td>1.225180</td>\n",
       "      <td>7.191527</td>\n",
       "    </tr>\n",
       "    <tr>\n",
       "      <th>2018</th>\n",
       "      <td>1.199646</td>\n",
       "      <td>3.710504</td>\n",
       "    </tr>\n",
       "    <tr>\n",
       "      <th>2019</th>\n",
       "      <td>1.162180</td>\n",
       "      <td>0.106119</td>\n",
       "    </tr>\n",
       "  </tbody>\n",
       "</table>\n",
       "</div>"
      ],
      "text/plain": [
       "          curr    intCov\n",
       "date                    \n",
       "2003  0.837136  1.117518\n",
       "2004  0.812383  0.144963\n",
       "2005  0.903356 -0.163418\n",
       "2006  1.019383 -0.168280\n",
       "2007  1.080151 -0.106251\n",
       "2008  0.693888  0.077980\n",
       "2009  1.095121 -0.774458\n",
       "2010  0.995712      -inf\n",
       "2011  1.162133 -0.186188\n",
       "2012  1.225588 -2.478331\n",
       "2013  1.147393  1.897804\n",
       "2014  1.008328  1.241991\n",
       "2015  1.073854  3.176945\n",
       "2016  1.201371  7.601790\n",
       "2017  1.225180  7.191527\n",
       "2018  1.199646  3.710504\n",
       "2019  1.162180  0.106119"
      ]
     },
     "execution_count": 209,
     "metadata": {},
     "output_type": "execute_result"
    }
   ],
   "source": [
    "dgm_gm[['curr','intCov']]"
   ]
  },
  {
   "cell_type": "code",
   "execution_count": 211,
   "metadata": {},
   "outputs": [
    {
     "data": {
      "text/html": [
       "<div>\n",
       "<style scoped>\n",
       "    .dataframe tbody tr th:only-of-type {\n",
       "        vertical-align: middle;\n",
       "    }\n",
       "\n",
       "    .dataframe tbody tr th {\n",
       "        vertical-align: top;\n",
       "    }\n",
       "\n",
       "    .dataframe thead th {\n",
       "        text-align: right;\n",
       "    }\n",
       "</style>\n",
       "<table border=\"1\" class=\"dataframe\">\n",
       "  <thead>\n",
       "    <tr style=\"text-align: right;\">\n",
       "      <th></th>\n",
       "      <th>roe</th>\n",
       "      <th>rof</th>\n",
       "      <th>rocf</th>\n",
       "      <th>fcfRatio</th>\n",
       "    </tr>\n",
       "    <tr>\n",
       "      <th>date</th>\n",
       "      <th></th>\n",
       "      <th></th>\n",
       "      <th></th>\n",
       "      <th></th>\n",
       "    </tr>\n",
       "  </thead>\n",
       "  <tbody>\n",
       "    <tr>\n",
       "      <th>2003</th>\n",
       "      <td>-0.179555</td>\n",
       "      <td>0.114668</td>\n",
       "      <td>0.114668</td>\n",
       "      <td>0.051875</td>\n",
       "    </tr>\n",
       "    <tr>\n",
       "      <th>2004</th>\n",
       "      <td>-0.068059</td>\n",
       "      <td>0.087130</td>\n",
       "      <td>0.087130</td>\n",
       "      <td>0.057019</td>\n",
       "    </tr>\n",
       "    <tr>\n",
       "      <th>2005</th>\n",
       "      <td>0.193563</td>\n",
       "      <td>0.419542</td>\n",
       "      <td>0.419542</td>\n",
       "      <td>0.030696</td>\n",
       "    </tr>\n",
       "    <tr>\n",
       "      <th>2006</th>\n",
       "      <td>3.580087</td>\n",
       "      <td>1.207792</td>\n",
       "      <td>1.207792</td>\n",
       "      <td>-0.026136</td>\n",
       "    </tr>\n",
       "    <tr>\n",
       "      <th>2007</th>\n",
       "      <td>-0.435679</td>\n",
       "      <td>1.550284</td>\n",
       "      <td>1.550284</td>\n",
       "      <td>0.050593</td>\n",
       "    </tr>\n",
       "    <tr>\n",
       "      <th>2008</th>\n",
       "      <td>0.835711</td>\n",
       "      <td>0.718618</td>\n",
       "      <td>0.718618</td>\n",
       "      <td>-0.085044</td>\n",
       "    </tr>\n",
       "    <tr>\n",
       "      <th>2009</th>\n",
       "      <td>inf</td>\n",
       "      <td>inf</td>\n",
       "      <td>inf</td>\n",
       "      <td>0.034579</td>\n",
       "    </tr>\n",
       "    <tr>\n",
       "      <th>2010</th>\n",
       "      <td>inf</td>\n",
       "      <td>inf</td>\n",
       "      <td>inf</td>\n",
       "      <td>0.049343</td>\n",
       "    </tr>\n",
       "    <tr>\n",
       "      <th>2011</th>\n",
       "      <td>inf</td>\n",
       "      <td>inf</td>\n",
       "      <td>inf</td>\n",
       "      <td>0.071802</td>\n",
       "    </tr>\n",
       "    <tr>\n",
       "      <th>2012</th>\n",
       "      <td>inf</td>\n",
       "      <td>inf</td>\n",
       "      <td>inf</td>\n",
       "      <td>0.067373</td>\n",
       "    </tr>\n",
       "    <tr>\n",
       "      <th>2013</th>\n",
       "      <td>0.271197</td>\n",
       "      <td>0.145814</td>\n",
       "      <td>0.395861</td>\n",
       "      <td>0.026185</td>\n",
       "    </tr>\n",
       "    <tr>\n",
       "      <th>2014</th>\n",
       "      <td>0.128482</td>\n",
       "      <td>0.283975</td>\n",
       "      <td>0.584842</td>\n",
       "      <td>0.048891</td>\n",
       "    </tr>\n",
       "    <tr>\n",
       "      <th>2015</th>\n",
       "      <td>0.257419</td>\n",
       "      <td>0.313316</td>\n",
       "      <td>0.564556</td>\n",
       "      <td>0.060003</td>\n",
       "    </tr>\n",
       "    <tr>\n",
       "      <th>2016</th>\n",
       "      <td>0.157559</td>\n",
       "      <td>0.438807</td>\n",
       "      <td>0.678505</td>\n",
       "      <td>0.084321</td>\n",
       "    </tr>\n",
       "    <tr>\n",
       "      <th>2017</th>\n",
       "      <td>0.217885</td>\n",
       "      <td>0.316624</td>\n",
       "      <td>0.518659</td>\n",
       "      <td>0.070464</td>\n",
       "    </tr>\n",
       "    <tr>\n",
       "      <th>2018</th>\n",
       "      <td>0.102332</td>\n",
       "      <td>0.201408</td>\n",
       "      <td>0.418067</td>\n",
       "      <td>0.045136</td>\n",
       "    </tr>\n",
       "    <tr>\n",
       "      <th>2019</th>\n",
       "      <td>0.001416</td>\n",
       "      <td>0.301552</td>\n",
       "      <td>0.531535</td>\n",
       "      <td>0.064189</td>\n",
       "    </tr>\n",
       "  </tbody>\n",
       "</table>\n",
       "</div>"
      ],
      "text/plain": [
       "           roe       rof      rocf  fcfRatio\n",
       "date                                        \n",
       "2003 -0.179555  0.114668  0.114668  0.051875\n",
       "2004 -0.068059  0.087130  0.087130  0.057019\n",
       "2005  0.193563  0.419542  0.419542  0.030696\n",
       "2006  3.580087  1.207792  1.207792 -0.026136\n",
       "2007 -0.435679  1.550284  1.550284  0.050593\n",
       "2008  0.835711  0.718618  0.718618 -0.085044\n",
       "2009       inf       inf       inf  0.034579\n",
       "2010       inf       inf       inf  0.049343\n",
       "2011       inf       inf       inf  0.071802\n",
       "2012       inf       inf       inf  0.067373\n",
       "2013  0.271197  0.145814  0.395861  0.026185\n",
       "2014  0.128482  0.283975  0.584842  0.048891\n",
       "2015  0.257419  0.313316  0.564556  0.060003\n",
       "2016  0.157559  0.438807  0.678505  0.084321\n",
       "2017  0.217885  0.316624  0.518659  0.070464\n",
       "2018  0.102332  0.201408  0.418067  0.045136\n",
       "2019  0.001416  0.301552  0.531535  0.064189"
      ]
     },
     "execution_count": 211,
     "metadata": {},
     "output_type": "execute_result"
    }
   ],
   "source": [
    "dgm_gm[['roe','rogm','rocgm','gmcgmRatio']]"
   ]
  },
  {
   "cell_type": "code",
   "execution_count": 181,
   "metadata": {},
   "outputs": [
    {
     "data": {
      "text/plain": [
       "0.09737004302474705"
      ]
     },
     "execution_count": 181,
     "metadata": {},
     "output_type": "execute_result"
    }
   ],
   "source": [
    "annual_growth(3,1.3,9)"
   ]
  },
  {
   "cell_type": "code",
   "execution_count": 214,
   "metadata": {},
   "outputs": [
    {
     "data": {
      "text/plain": [
       "0.06991319393366302"
      ]
     },
     "execution_count": 214,
     "metadata": {},
     "output_type": "execute_result"
    }
   ],
   "source": [
    "annual_growth(0.6,0.4,6)"
   ]
  },
  {
   "cell_type": "code",
   "execution_count": 212,
   "metadata": {},
   "outputs": [
    {
     "data": {
      "text/html": [
       "<div>\n",
       "<style scoped>\n",
       "    .dataframe tbody tr th:only-of-type {\n",
       "        vertical-align: middle;\n",
       "    }\n",
       "\n",
       "    .dataframe tbody tr th {\n",
       "        vertical-align: top;\n",
       "    }\n",
       "\n",
       "    .dataframe thead th {\n",
       "        text-align: right;\n",
       "    }\n",
       "</style>\n",
       "<table border=\"1\" class=\"dataframe\">\n",
       "  <thead>\n",
       "    <tr style=\"text-align: right;\">\n",
       "      <th></th>\n",
       "      <th>bv</th>\n",
       "      <th>div</th>\n",
       "    </tr>\n",
       "    <tr>\n",
       "      <th>date</th>\n",
       "      <th></th>\n",
       "      <th></th>\n",
       "    </tr>\n",
       "  </thead>\n",
       "  <tbody>\n",
       "    <tr>\n",
       "      <th>2003</th>\n",
       "      <td>2.987436</td>\n",
       "      <td>0.187949</td>\n",
       "    </tr>\n",
       "    <tr>\n",
       "      <th>2004</th>\n",
       "      <td>4.114103</td>\n",
       "      <td>0.187949</td>\n",
       "    </tr>\n",
       "    <tr>\n",
       "      <th>2005</th>\n",
       "      <td>3.322308</td>\n",
       "      <td>0.189231</td>\n",
       "    </tr>\n",
       "    <tr>\n",
       "      <th>2006</th>\n",
       "      <td>-0.888462</td>\n",
       "      <td>0.120000</td>\n",
       "    </tr>\n",
       "    <tr>\n",
       "      <th>2007</th>\n",
       "      <td>1.443077</td>\n",
       "      <td>0.000000</td>\n",
       "    </tr>\n",
       "    <tr>\n",
       "      <th>2008</th>\n",
       "      <td>-4.438718</td>\n",
       "      <td>0.000000</td>\n",
       "    </tr>\n",
       "    <tr>\n",
       "      <th>2009</th>\n",
       "      <td>0.000000</td>\n",
       "      <td>0.000000</td>\n",
       "    </tr>\n",
       "    <tr>\n",
       "      <th>2010</th>\n",
       "      <td>0.000000</td>\n",
       "      <td>0.000000</td>\n",
       "    </tr>\n",
       "    <tr>\n",
       "      <th>2011</th>\n",
       "      <td>0.000000</td>\n",
       "      <td>0.000000</td>\n",
       "    </tr>\n",
       "    <tr>\n",
       "      <th>2012</th>\n",
       "      <td>0.000000</td>\n",
       "      <td>0.195641</td>\n",
       "    </tr>\n",
       "    <tr>\n",
       "      <th>2013</th>\n",
       "      <td>6.764872</td>\n",
       "      <td>0.403590</td>\n",
       "    </tr>\n",
       "    <tr>\n",
       "      <th>2014</th>\n",
       "      <td>6.360256</td>\n",
       "      <td>0.500513</td>\n",
       "    </tr>\n",
       "    <tr>\n",
       "      <th>2015</th>\n",
       "      <td>7.344103</td>\n",
       "      <td>0.610256</td>\n",
       "    </tr>\n",
       "    <tr>\n",
       "      <th>2016</th>\n",
       "      <td>7.479487</td>\n",
       "      <td>0.865641</td>\n",
       "    </tr>\n",
       "    <tr>\n",
       "      <th>2017</th>\n",
       "      <td>8.946154</td>\n",
       "      <td>0.662564</td>\n",
       "    </tr>\n",
       "    <tr>\n",
       "      <th>2018</th>\n",
       "      <td>9.213333</td>\n",
       "      <td>0.744872</td>\n",
       "    </tr>\n",
       "    <tr>\n",
       "      <th>2019</th>\n",
       "      <td>8.508974</td>\n",
       "      <td>0.612564</td>\n",
       "    </tr>\n",
       "  </tbody>\n",
       "</table>\n",
       "</div>"
      ],
      "text/plain": [
       "            bv       div\n",
       "date                    \n",
       "2003  2.987436  0.187949\n",
       "2004  4.114103  0.187949\n",
       "2005  3.322308  0.189231\n",
       "2006 -0.888462  0.120000\n",
       "2007  1.443077  0.000000\n",
       "2008 -4.438718  0.000000\n",
       "2009  0.000000  0.000000\n",
       "2010  0.000000  0.000000\n",
       "2011  0.000000  0.000000\n",
       "2012  0.000000  0.195641\n",
       "2013  6.764872  0.403590\n",
       "2014  6.360256  0.500513\n",
       "2015  7.344103  0.610256\n",
       "2016  7.479487  0.865641\n",
       "2017  8.946154  0.662564\n",
       "2018  9.213333  0.744872\n",
       "2019  8.508974  0.612564"
      ]
     },
     "execution_count": 212,
     "metadata": {},
     "output_type": "execute_result"
    }
   ],
   "source": [
    "dgm_gm[['bv','div']]"
   ]
  },
  {
   "cell_type": "code",
   "execution_count": 216,
   "metadata": {},
   "outputs": [
    {
     "data": {
      "text/plain": [
       "0.11106482284695285"
      ]
     },
     "execution_count": 216,
     "metadata": {},
     "output_type": "execute_result"
    }
   ],
   "source": [
    "annual_growth(7237000.0,3847000.0,6)"
   ]
  },
  {
   "cell_type": "code",
   "execution_count": 224,
   "metadata": {},
   "outputs": [],
   "source": [
    "cgm_gm = [8000000.0]\n",
    "grs = [0.04,0.1]"
   ]
  },
  {
   "cell_type": "code",
   "execution_count": 187,
   "metadata": {},
   "outputs": [],
   "source": [
    "cf_f = [df_f.freeCashFlow.median()]\n",
    "grs = [0.05,0.08]"
   ]
  },
  {
   "cell_type": "code",
   "execution_count": 225,
   "metadata": {},
   "outputs": [
    {
     "data": {
      "text/plain": [
       "defaultdict(list,\n",
       "            {'8000.0,4.0%': [30.542479927521224,\n",
       "              17.49506212955428,\n",
       "              12.247639938388163],\n",
       "             '8000.0,10.0%': [42.49084249084249,\n",
       "              23.463431741483486,\n",
       "              15.936172669164511]})"
      ]
     },
     "execution_count": 225,
     "metadata": {},
     "output_type": "execute_result"
    }
   ],
   "source": [
    "intrinsic_cash(cgm_gm, grs,drs,lgr,dgm_gm.shares.values[0],6)"
   ]
  },
  {
   "cell_type": "code",
   "execution_count": 228,
   "metadata": {},
   "outputs": [
    {
     "data": {
      "text/plain": [
       "6.563544319247398"
      ]
     },
     "execution_count": 228,
     "metadata": {},
     "output_type": "execute_result"
    }
   ],
   "source": [
    "intrinsic_bk(0.6,7,0.06,0.15,6)"
   ]
  },
  {
   "cell_type": "code",
   "execution_count": 157,
   "metadata": {},
   "outputs": [
    {
     "data": {
      "text/plain": [
       "0.6348126556655487"
      ]
     },
     "execution_count": 157,
     "metadata": {},
     "output_type": "execute_result"
    }
   ],
   "source": [
    "annual_growth(150,21,4)"
   ]
  },
  {
   "cell_type": "code",
   "execution_count": 159,
   "metadata": {
    "scrolled": true
   },
   "outputs": [
    {
     "data": {
      "text/plain": [
       "defaultdict(list,\n",
       "            {'100.0,5.0%': [20.30171576084594,\n",
       "              11.532354164468867,\n",
       "              8.0058043236826],\n",
       "             '100.0,8.0%': [22.994462545866128,\n",
       "              12.930002059915086,\n",
       "              8.897032941176473]})"
      ]
     },
     "execution_count": 159,
     "metadata": {},
     "output_type": "execute_result"
    }
   ],
   "source": [
    "intrinsic_cash([100E03],[0.05,0.08],drs,lgr,df_oxy.shares.values[0],4)"
   ]
  },
  {
   "cell_type": "markdown",
   "metadata": {},
   "source": [
    "# auto"
   ]
  },
  {
   "cell_type": "code",
   "execution_count": null,
   "metadata": {},
   "outputs": [],
   "source": []
  },
  {
   "cell_type": "code",
   "execution_count": 1718,
   "metadata": {},
   "outputs": [
    {
     "name": "stdout",
     "output_type": "stream",
     "text": [
      "https://fmpcloud.io/api/v3/cash-flow-statement/DISCA?apikey=cb3b0c371586d9ce915d359479fe1c81\n",
      "https://fmpcloud.io/api/v3/balance-sheet-statement/DISCA?apikey=cb3b0c371586d9ce915d359479fe1c81\n",
      "https://fmpcloud.io/api/v3/income-statement/DISCA?apikey=cb3b0c371586d9ce915d359479fe1c81\n",
      "https://fmpcloud.io/api/v3/enterprise-values/DISCA?apikey=cb3b0c371586d9ce915d359479fe1c81\n"
     ]
    }
   ],
   "source": [
    "dict_disc_cash,errs_t = url_import(['DISCA'], 'cash-flow-statement')\n",
    "dict_disc_balance,errs_t = url_import(['DISCA'], 'balance-sheet-statement')\n",
    "dict_disc_income,errs_t = url_import(['DISCA'], 'income-statement')\n",
    "dict_disc_val, errs_t = url_import(['DISCA'], 'enterprise-values')"
   ]
  },
  {
   "cell_type": "code",
   "execution_count": 1719,
   "metadata": {},
   "outputs": [],
   "source": [
    "df_disc_cash = pd.DataFrame(dict_disc_cash)\n",
    "df_disc_bal = pd.DataFrame(dict_disc_balance)\n",
    "df_disc_income = pd.DataFrame(dict_disc_income)\n",
    "df_disc_val = pd.DataFrame(dict_disc_val)"
   ]
  },
  {
   "cell_type": "code",
   "execution_count": 1720,
   "metadata": {},
   "outputs": [],
   "source": [
    "df_disc_bal.date = df_disc_bal.date.map(lambda x: re.sub(r'-.*$','',x))\n",
    "df_disc_cash.date = df_disc_cash.date.map(lambda x: re.sub(r'-.*$','',x))\n",
    "df_disc_income.date = df_disc_income.date.map(lambda x: re.sub(r'-.*$','',x))\n",
    "df_disc_val.date = df_disc_val.date.map(lambda x: re.sub(r'-.*$','',x))"
   ]
  },
  {
   "cell_type": "code",
   "execution_count": 1721,
   "metadata": {},
   "outputs": [],
   "source": [
    "df_disc_bal.set_index(['date'], inplace = True)\n",
    "df_disc_cash.set_index(['date'], inplace = True)\n",
    "df_disc_income.set_index(['date'], inplace = True)\n",
    "df_disc_val.set_index(['date'], inplace = True)"
   ]
  },
  {
   "cell_type": "code",
   "execution_count": 1722,
   "metadata": {},
   "outputs": [],
   "source": [
    "df_disc_cash.drop('netIncome',axis = 1, inplace = True)\n",
    "df_disc_cash.rename({'inventory': 'inventoryCash',\n",
    "                 'depreciationAndAmortization': 'deprCash'}, axis = 1, inplace = True)\n",
    "df_disc_val.rename({'numberOfShares':'shares'}, axis = 1, inplace = True)"
   ]
  },
  {
   "cell_type": "code",
   "execution_count": 1723,
   "metadata": {},
   "outputs": [],
   "source": [
    "df_disc_val.stockPrice.values[0] = 18"
   ]
  },
  {
   "cell_type": "code",
   "execution_count": 1724,
   "metadata": {
    "scrolled": true
   },
   "outputs": [],
   "source": [
    "df_disc = pd.concat([df_disc_income,df_disc_bal,df_disc_cash,df_disc_val],axis = 1)"
   ]
  },
  {
   "cell_type": "code",
   "execution_count": 1725,
   "metadata": {},
   "outputs": [],
   "source": [
    "df_disc.drop(['symbol','period'],axis = 1, inplace =True)"
   ]
  },
  {
   "cell_type": "code",
   "execution_count": 1726,
   "metadata": {},
   "outputs": [],
   "source": [
    "df_disc.drop(['fillingDate','finalLink','link','acceptedDate'],axis = 1,inplace = True)"
   ]
  },
  {
   "cell_type": "code",
   "execution_count": 1727,
   "metadata": {},
   "outputs": [],
   "source": [
    "df_disc = df_disc/1E06"
   ]
  },
  {
   "cell_type": "code",
   "execution_count": 1728,
   "metadata": {},
   "outputs": [],
   "source": [
    "df_disc[['grossProfitRatio',\n",
    " 'ebitdaratio',\n",
    " 'operatingIncomeRatio',\n",
    " 'incomeBeforeTaxRatio',\n",
    " 'netIncomeRatio','eps','stockPrice']] = df_disc[['grossProfitRatio',\n",
    " 'ebitdaratio',\n",
    " 'operatingIncomeRatio',\n",
    " 'incomeBeforeTaxRatio',\n",
    " 'netIncomeRatio','eps','stockPrice']] * 1E06"
   ]
  },
  {
   "cell_type": "code",
   "execution_count": 1729,
   "metadata": {},
   "outputs": [],
   "source": [
    "df_disc = df_disc.sort_index()"
   ]
  },
  {
   "cell_type": "code",
   "execution_count": 1730,
   "metadata": {},
   "outputs": [],
   "source": [
    "df_disc = metrics(df_disc)\n",
    "df_disc = enterValue(df_disc)\n",
    "df_disc = price_ratios(df_disc)\n",
    "df_disc = earn_calc(df_disc)"
   ]
  },
  {
   "cell_type": "code",
   "execution_count": 1731,
   "metadata": {},
   "outputs": [],
   "source": [
    "df_disc_ana = df_disc.copy()\n",
    "df_disc_ana.index = pd.to_datetime(df_disc_ana.index)"
   ]
  },
  {
   "cell_type": "markdown",
   "metadata": {},
   "source": [
    "# ana"
   ]
  },
  {
   "cell_type": "code",
   "execution_count": 1732,
   "metadata": {},
   "outputs": [],
   "source": [
    "df_disc_ana = df_disc_ana.resample('3Y').agg(['mean','median','last'])"
   ]
  },
  {
   "cell_type": "code",
   "execution_count": 1733,
   "metadata": {},
   "outputs": [
    {
     "data": {
      "text/html": [
       "<div>\n",
       "<style scoped>\n",
       "    .dataframe tbody tr th:only-of-type {\n",
       "        vertical-align: middle;\n",
       "    }\n",
       "\n",
       "    .dataframe tbody tr th {\n",
       "        vertical-align: top;\n",
       "    }\n",
       "\n",
       "    .dataframe thead tr th {\n",
       "        text-align: left;\n",
       "    }\n",
       "\n",
       "    .dataframe thead tr:last-of-type th {\n",
       "        text-align: right;\n",
       "    }\n",
       "</style>\n",
       "<table border=\"1\" class=\"dataframe\">\n",
       "  <thead>\n",
       "    <tr>\n",
       "      <th></th>\n",
       "      <th colspan=\"3\" halign=\"left\">de</th>\n",
       "      <th colspan=\"3\" halign=\"left\">debtRatio</th>\n",
       "      <th colspan=\"3\" halign=\"left\">curr</th>\n",
       "    </tr>\n",
       "    <tr>\n",
       "      <th></th>\n",
       "      <th>mean</th>\n",
       "      <th>median</th>\n",
       "      <th>last</th>\n",
       "      <th>mean</th>\n",
       "      <th>median</th>\n",
       "      <th>last</th>\n",
       "      <th>mean</th>\n",
       "      <th>median</th>\n",
       "      <th>last</th>\n",
       "    </tr>\n",
       "    <tr>\n",
       "      <th>date</th>\n",
       "      <th></th>\n",
       "      <th></th>\n",
       "      <th></th>\n",
       "      <th></th>\n",
       "      <th></th>\n",
       "      <th></th>\n",
       "      <th></th>\n",
       "      <th></th>\n",
       "      <th></th>\n",
       "    </tr>\n",
       "  </thead>\n",
       "  <tbody>\n",
       "    <tr>\n",
       "      <th>2008-12-31</th>\n",
       "      <td>inf</td>\n",
       "      <td>inf</td>\n",
       "      <td>inf</td>\n",
       "      <td>0.520226</td>\n",
       "      <td>0.520226</td>\n",
       "      <td>0.520226</td>\n",
       "      <td>1.267059</td>\n",
       "      <td>1.267059</td>\n",
       "      <td>1.267059</td>\n",
       "    </tr>\n",
       "    <tr>\n",
       "      <th>2011-12-31</th>\n",
       "      <td>inf</td>\n",
       "      <td>0.651373</td>\n",
       "      <td>0.651373</td>\n",
       "      <td>0.401634</td>\n",
       "      <td>0.356333</td>\n",
       "      <td>0.356333</td>\n",
       "      <td>2.245321</td>\n",
       "      <td>2.210191</td>\n",
       "      <td>3.258713</td>\n",
       "    </tr>\n",
       "    <tr>\n",
       "      <th>2014-12-31</th>\n",
       "      <td>1.053060</td>\n",
       "      <td>1.048903</td>\n",
       "      <td>1.276865</td>\n",
       "      <td>0.428679</td>\n",
       "      <td>0.433874</td>\n",
       "      <td>0.446672</td>\n",
       "      <td>1.901627</td>\n",
       "      <td>1.862442</td>\n",
       "      <td>0.956605</td>\n",
       "    </tr>\n",
       "    <tr>\n",
       "      <th>2017-12-31</th>\n",
       "      <td>2.053183</td>\n",
       "      <td>1.533385</td>\n",
       "      <td>3.207158</td>\n",
       "      <td>0.548628</td>\n",
       "      <td>0.502792</td>\n",
       "      <td>0.655509</td>\n",
       "      <td>2.882987</td>\n",
       "      <td>1.664958</td>\n",
       "      <td>5.339925</td>\n",
       "    </tr>\n",
       "    <tr>\n",
       "      <th>2020-12-31</th>\n",
       "      <td>1.795723</td>\n",
       "      <td>1.795723</td>\n",
       "      <td>1.558892</td>\n",
       "      <td>0.490359</td>\n",
       "      <td>0.490359</td>\n",
       "      <td>0.457062</td>\n",
       "      <td>1.334613</td>\n",
       "      <td>1.334613</td>\n",
       "      <td>1.610682</td>\n",
       "    </tr>\n",
       "  </tbody>\n",
       "</table>\n",
       "</div>"
      ],
      "text/plain": [
       "                  de                     debtRatio                      \\\n",
       "                mean    median      last      mean    median      last   \n",
       "date                                                                     \n",
       "2008-12-31       inf       inf       inf  0.520226  0.520226  0.520226   \n",
       "2011-12-31       inf  0.651373  0.651373  0.401634  0.356333  0.356333   \n",
       "2014-12-31  1.053060  1.048903  1.276865  0.428679  0.433874  0.446672   \n",
       "2017-12-31  2.053183  1.533385  3.207158  0.548628  0.502792  0.655509   \n",
       "2020-12-31  1.795723  1.795723  1.558892  0.490359  0.490359  0.457062   \n",
       "\n",
       "                curr                      \n",
       "                mean    median      last  \n",
       "date                                      \n",
       "2008-12-31  1.267059  1.267059  1.267059  \n",
       "2011-12-31  2.245321  2.210191  3.258713  \n",
       "2014-12-31  1.901627  1.862442  0.956605  \n",
       "2017-12-31  2.882987  1.664958  5.339925  \n",
       "2020-12-31  1.334613  1.334613  1.610682  "
      ]
     },
     "execution_count": 1733,
     "metadata": {},
     "output_type": "execute_result"
    }
   ],
   "source": [
    "df_disc_ana[['de','debtRatio','curr']]"
   ]
  },
  {
   "cell_type": "code",
   "execution_count": 1734,
   "metadata": {},
   "outputs": [
    {
     "data": {
      "text/plain": [
       "date\n",
       "2008     4141.0\n",
       "2009     4141.0\n",
       "2010     3618.0\n",
       "2011     4245.0\n",
       "2012     5243.0\n",
       "2013     6499.0\n",
       "2014     7153.0\n",
       "2015     7735.0\n",
       "2016     7923.0\n",
       "2017    14785.0\n",
       "2018    17045.0\n",
       "2019    15419.0\n",
       "Name: totalDebt, dtype: float64"
      ]
     },
     "execution_count": 1734,
     "metadata": {},
     "output_type": "execute_result"
    }
   ],
   "source": [
    "df_disc.totalDebt"
   ]
  },
  {
   "cell_type": "code",
   "execution_count": 1735,
   "metadata": {},
   "outputs": [
    {
     "data": {
      "text/html": [
       "<div>\n",
       "<style scoped>\n",
       "    .dataframe tbody tr th:only-of-type {\n",
       "        vertical-align: middle;\n",
       "    }\n",
       "\n",
       "    .dataframe tbody tr th {\n",
       "        vertical-align: top;\n",
       "    }\n",
       "\n",
       "    .dataframe thead tr th {\n",
       "        text-align: left;\n",
       "    }\n",
       "\n",
       "    .dataframe thead tr:last-of-type th {\n",
       "        text-align: right;\n",
       "    }\n",
       "</style>\n",
       "<table border=\"1\" class=\"dataframe\">\n",
       "  <thead>\n",
       "    <tr>\n",
       "      <th></th>\n",
       "      <th colspan=\"3\" halign=\"left\">roe</th>\n",
       "      <th colspan=\"3\" halign=\"left\">rof</th>\n",
       "      <th colspan=\"3\" halign=\"left\">roc</th>\n",
       "      <th colspan=\"3\" halign=\"left\">fcfRatio</th>\n",
       "    </tr>\n",
       "    <tr>\n",
       "      <th></th>\n",
       "      <th>mean</th>\n",
       "      <th>median</th>\n",
       "      <th>last</th>\n",
       "      <th>mean</th>\n",
       "      <th>median</th>\n",
       "      <th>last</th>\n",
       "      <th>mean</th>\n",
       "      <th>median</th>\n",
       "      <th>last</th>\n",
       "      <th>mean</th>\n",
       "      <th>median</th>\n",
       "      <th>last</th>\n",
       "    </tr>\n",
       "    <tr>\n",
       "      <th>date</th>\n",
       "      <th></th>\n",
       "      <th></th>\n",
       "      <th></th>\n",
       "      <th></th>\n",
       "      <th></th>\n",
       "      <th></th>\n",
       "      <th></th>\n",
       "      <th></th>\n",
       "      <th></th>\n",
       "      <th></th>\n",
       "      <th></th>\n",
       "      <th></th>\n",
       "    </tr>\n",
       "  </thead>\n",
       "  <tbody>\n",
       "    <tr>\n",
       "      <th>2008-12-31</th>\n",
       "      <td>inf</td>\n",
       "      <td>inf</td>\n",
       "      <td>inf</td>\n",
       "      <td>inf</td>\n",
       "      <td>inf</td>\n",
       "      <td>inf</td>\n",
       "      <td>0.255252</td>\n",
       "      <td>0.255252</td>\n",
       "      <td>0.255252</td>\n",
       "      <td>0.092361</td>\n",
       "      <td>0.092361</td>\n",
       "      <td>0.092361</td>\n",
       "    </tr>\n",
       "    <tr>\n",
       "      <th>2011-12-31</th>\n",
       "      <td>inf</td>\n",
       "      <td>0.173700</td>\n",
       "      <td>0.173700</td>\n",
       "      <td>inf</td>\n",
       "      <td>0.159890</td>\n",
       "      <td>0.159890</td>\n",
       "      <td>0.201190</td>\n",
       "      <td>0.167162</td>\n",
       "      <td>0.167162</td>\n",
       "      <td>0.166850</td>\n",
       "      <td>0.164060</td>\n",
       "      <td>0.246045</td>\n",
       "    </tr>\n",
       "    <tr>\n",
       "      <th>2014-12-31</th>\n",
       "      <td>0.175572</td>\n",
       "      <td>0.173499</td>\n",
       "      <td>0.203320</td>\n",
       "      <td>0.188379</td>\n",
       "      <td>0.188832</td>\n",
       "      <td>0.213852</td>\n",
       "      <td>0.159932</td>\n",
       "      <td>0.160829</td>\n",
       "      <td>0.161584</td>\n",
       "      <td>0.210124</td>\n",
       "      <td>0.211382</td>\n",
       "      <td>0.191221</td>\n",
       "    </tr>\n",
       "    <tr>\n",
       "      <th>2017-12-31</th>\n",
       "      <td>0.115890</td>\n",
       "      <td>0.189690</td>\n",
       "      <td>-0.073102</td>\n",
       "      <td>0.262715</td>\n",
       "      <td>0.248694</td>\n",
       "      <td>0.324078</td>\n",
       "      <td>0.114840</td>\n",
       "      <td>0.150538</td>\n",
       "      <td>0.036762</td>\n",
       "      <td>0.199589</td>\n",
       "      <td>0.197784</td>\n",
       "      <td>0.217372</td>\n",
       "    </tr>\n",
       "    <tr>\n",
       "      <th>2020-12-31</th>\n",
       "      <td>0.147286</td>\n",
       "      <td>0.147286</td>\n",
       "      <td>0.223739</td>\n",
       "      <td>0.302038</td>\n",
       "      <td>0.302038</td>\n",
       "      <td>0.314427</td>\n",
       "      <td>0.097467</td>\n",
       "      <td>0.097467</td>\n",
       "      <td>0.118886</td>\n",
       "      <td>0.254623</td>\n",
       "      <td>0.254623</td>\n",
       "      <td>0.279074</td>\n",
       "    </tr>\n",
       "  </tbody>\n",
       "</table>\n",
       "</div>"
      ],
      "text/plain": [
       "                 roe                           rof                      \\\n",
       "                mean    median      last      mean    median      last   \n",
       "date                                                                     \n",
       "2008-12-31       inf       inf       inf       inf       inf       inf   \n",
       "2011-12-31       inf  0.173700  0.173700       inf  0.159890  0.159890   \n",
       "2014-12-31  0.175572  0.173499  0.203320  0.188379  0.188832  0.213852   \n",
       "2017-12-31  0.115890  0.189690 -0.073102  0.262715  0.248694  0.324078   \n",
       "2020-12-31  0.147286  0.147286  0.223739  0.302038  0.302038  0.314427   \n",
       "\n",
       "                 roc                      fcfRatio                      \n",
       "                mean    median      last      mean    median      last  \n",
       "date                                                                    \n",
       "2008-12-31  0.255252  0.255252  0.255252  0.092361  0.092361  0.092361  \n",
       "2011-12-31  0.201190  0.167162  0.167162  0.166850  0.164060  0.246045  \n",
       "2014-12-31  0.159932  0.160829  0.161584  0.210124  0.211382  0.191221  \n",
       "2017-12-31  0.114840  0.150538  0.036762  0.199589  0.197784  0.217372  \n",
       "2020-12-31  0.097467  0.097467  0.118886  0.254623  0.254623  0.279074  "
      ]
     },
     "execution_count": 1735,
     "metadata": {},
     "output_type": "execute_result"
    }
   ],
   "source": [
    "df_disc_ana[['roe','rof','roc','fcfRatio']]"
   ]
  },
  {
   "cell_type": "code",
   "execution_count": 1457,
   "metadata": {},
   "outputs": [
    {
     "data": {
      "text/plain": [
       "0.06280321746772732"
      ]
     },
     "execution_count": 1457,
     "metadata": {},
     "output_type": "execute_result"
    }
   ],
   "source": [
    "annual_growth(49,34,6)"
   ]
  },
  {
   "cell_type": "code",
   "execution_count": 1736,
   "metadata": {},
   "outputs": [
    {
     "data": {
      "text/html": [
       "<div>\n",
       "<style scoped>\n",
       "    .dataframe tbody tr th:only-of-type {\n",
       "        vertical-align: middle;\n",
       "    }\n",
       "\n",
       "    .dataframe tbody tr th {\n",
       "        vertical-align: top;\n",
       "    }\n",
       "\n",
       "    .dataframe thead tr th {\n",
       "        text-align: left;\n",
       "    }\n",
       "\n",
       "    .dataframe thead tr:last-of-type th {\n",
       "        text-align: right;\n",
       "    }\n",
       "</style>\n",
       "<table border=\"1\" class=\"dataframe\">\n",
       "  <thead>\n",
       "    <tr>\n",
       "      <th></th>\n",
       "      <th colspan=\"3\" halign=\"left\">totalAssets</th>\n",
       "      <th colspan=\"3\" halign=\"left\">totalLiabilities</th>\n",
       "    </tr>\n",
       "    <tr>\n",
       "      <th></th>\n",
       "      <th>mean</th>\n",
       "      <th>median</th>\n",
       "      <th>last</th>\n",
       "      <th>mean</th>\n",
       "      <th>median</th>\n",
       "      <th>last</th>\n",
       "    </tr>\n",
       "    <tr>\n",
       "      <th>date</th>\n",
       "      <th></th>\n",
       "      <th></th>\n",
       "      <th></th>\n",
       "      <th></th>\n",
       "      <th></th>\n",
       "      <th></th>\n",
       "    </tr>\n",
       "  </thead>\n",
       "  <tbody>\n",
       "    <tr>\n",
       "      <th>2008-12-31</th>\n",
       "      <td>7960.000000</td>\n",
       "      <td>7960.0</td>\n",
       "      <td>7960.0</td>\n",
       "      <td>5203.000000</td>\n",
       "      <td>5203.0</td>\n",
       "      <td>5203.0</td>\n",
       "    </tr>\n",
       "    <tr>\n",
       "      <th>2011-12-31</th>\n",
       "      <td>10297.333333</td>\n",
       "      <td>11019.0</td>\n",
       "      <td>11913.0</td>\n",
       "      <td>5131.000000</td>\n",
       "      <td>5203.0</td>\n",
       "      <td>5396.0</td>\n",
       "    </tr>\n",
       "    <tr>\n",
       "      <th>2014-12-31</th>\n",
       "      <td>14641.000000</td>\n",
       "      <td>14979.0</td>\n",
       "      <td>16014.0</td>\n",
       "      <td>8611.333333</td>\n",
       "      <td>8783.0</td>\n",
       "      <td>10412.0</td>\n",
       "    </tr>\n",
       "    <tr>\n",
       "      <th>2017-12-31</th>\n",
       "      <td>18059.000000</td>\n",
       "      <td>15864.0</td>\n",
       "      <td>22555.0</td>\n",
       "      <td>12983.000000</td>\n",
       "      <td>10591.0</td>\n",
       "      <td>17945.0</td>\n",
       "    </tr>\n",
       "    <tr>\n",
       "      <th>2020-12-31</th>\n",
       "      <td>33142.500000</td>\n",
       "      <td>33142.5</td>\n",
       "      <td>33735.0</td>\n",
       "      <td>22966.500000</td>\n",
       "      <td>22966.5</td>\n",
       "      <td>21769.0</td>\n",
       "    </tr>\n",
       "  </tbody>\n",
       "</table>\n",
       "</div>"
      ],
      "text/plain": [
       "             totalAssets                   totalLiabilities                  \n",
       "                    mean   median     last             mean   median     last\n",
       "date                                                                         \n",
       "2008-12-31   7960.000000   7960.0   7960.0      5203.000000   5203.0   5203.0\n",
       "2011-12-31  10297.333333  11019.0  11913.0      5131.000000   5203.0   5396.0\n",
       "2014-12-31  14641.000000  14979.0  16014.0      8611.333333   8783.0  10412.0\n",
       "2017-12-31  18059.000000  15864.0  22555.0     12983.000000  10591.0  17945.0\n",
       "2020-12-31  33142.500000  33142.5  33735.0     22966.500000  22966.5  21769.0"
      ]
     },
     "execution_count": 1736,
     "metadata": {},
     "output_type": "execute_result"
    }
   ],
   "source": [
    "df_disc_ana[['totalAssets','totalLiabilities']]"
   ]
  },
  {
   "cell_type": "code",
   "execution_count": 1737,
   "metadata": {},
   "outputs": [
    {
     "data": {
      "text/plain": [
       "date\n",
       "2008   -12.853583\n",
       "2009    -9.754137\n",
       "2010    -7.130536\n",
       "2011    -7.394015\n",
       "2012   -10.396277\n",
       "2013   -17.851541\n",
       "2014   -17.447137\n",
       "2015   -18.094907\n",
       "2016   -19.930175\n",
       "2017   -20.713542\n",
       "2018   -40.026104\n",
       "2019   -31.289225\n",
       "dtype: float64"
      ]
     },
     "execution_count": 1737,
     "metadata": {},
     "output_type": "execute_result"
    }
   ],
   "source": [
    "(df_disc.totalCurrentAssets - df_disc.totalLiabilities) / df_disc.shares"
   ]
  },
  {
   "cell_type": "code",
   "execution_count": 1738,
   "metadata": {},
   "outputs": [
    {
     "data": {
      "text/html": [
       "<div>\n",
       "<style scoped>\n",
       "    .dataframe tbody tr th:only-of-type {\n",
       "        vertical-align: middle;\n",
       "    }\n",
       "\n",
       "    .dataframe tbody tr th {\n",
       "        vertical-align: top;\n",
       "    }\n",
       "\n",
       "    .dataframe thead tr th {\n",
       "        text-align: left;\n",
       "    }\n",
       "\n",
       "    .dataframe thead tr:last-of-type th {\n",
       "        text-align: right;\n",
       "    }\n",
       "</style>\n",
       "<table border=\"1\" class=\"dataframe\">\n",
       "  <thead>\n",
       "    <tr>\n",
       "      <th></th>\n",
       "      <th colspan=\"3\" halign=\"left\">rdpct</th>\n",
       "      <th colspan=\"3\" halign=\"left\">smpct</th>\n",
       "      <th colspan=\"3\" halign=\"left\">gapct</th>\n",
       "    </tr>\n",
       "    <tr>\n",
       "      <th></th>\n",
       "      <th>mean</th>\n",
       "      <th>median</th>\n",
       "      <th>last</th>\n",
       "      <th>mean</th>\n",
       "      <th>median</th>\n",
       "      <th>last</th>\n",
       "      <th>mean</th>\n",
       "      <th>median</th>\n",
       "      <th>last</th>\n",
       "    </tr>\n",
       "    <tr>\n",
       "      <th>date</th>\n",
       "      <th></th>\n",
       "      <th></th>\n",
       "      <th></th>\n",
       "      <th></th>\n",
       "      <th></th>\n",
       "      <th></th>\n",
       "      <th></th>\n",
       "      <th></th>\n",
       "      <th></th>\n",
       "    </tr>\n",
       "  </thead>\n",
       "  <tbody>\n",
       "    <tr>\n",
       "      <th>2008-12-31</th>\n",
       "      <td>0.0</td>\n",
       "      <td>0.0</td>\n",
       "      <td>0.0</td>\n",
       "      <td>0.0</td>\n",
       "      <td>0.0</td>\n",
       "      <td>0.0</td>\n",
       "      <td>0.323845</td>\n",
       "      <td>0.323845</td>\n",
       "      <td>0.323845</td>\n",
       "    </tr>\n",
       "    <tr>\n",
       "      <th>2011-12-31</th>\n",
       "      <td>0.0</td>\n",
       "      <td>0.0</td>\n",
       "      <td>0.0</td>\n",
       "      <td>0.0</td>\n",
       "      <td>0.0</td>\n",
       "      <td>0.0</td>\n",
       "      <td>0.316026</td>\n",
       "      <td>0.314074</td>\n",
       "      <td>0.279339</td>\n",
       "    </tr>\n",
       "    <tr>\n",
       "      <th>2014-12-31</th>\n",
       "      <td>0.0</td>\n",
       "      <td>0.0</td>\n",
       "      <td>0.0</td>\n",
       "      <td>0.0</td>\n",
       "      <td>0.0</td>\n",
       "      <td>0.0</td>\n",
       "      <td>0.280782</td>\n",
       "      <td>0.284553</td>\n",
       "      <td>0.270072</td>\n",
       "    </tr>\n",
       "    <tr>\n",
       "      <th>2017-12-31</th>\n",
       "      <td>0.0</td>\n",
       "      <td>0.0</td>\n",
       "      <td>0.0</td>\n",
       "      <td>0.0</td>\n",
       "      <td>0.0</td>\n",
       "      <td>0.0</td>\n",
       "      <td>0.259461</td>\n",
       "      <td>0.260120</td>\n",
       "      <td>0.257238</td>\n",
       "    </tr>\n",
       "    <tr>\n",
       "      <th>2020-12-31</th>\n",
       "      <td>0.0</td>\n",
       "      <td>0.0</td>\n",
       "      <td>0.0</td>\n",
       "      <td>0.0</td>\n",
       "      <td>0.0</td>\n",
       "      <td>0.0</td>\n",
       "      <td>0.249225</td>\n",
       "      <td>0.249225</td>\n",
       "      <td>0.250179</td>\n",
       "    </tr>\n",
       "  </tbody>\n",
       "</table>\n",
       "</div>"
      ],
      "text/plain": [
       "           rdpct             smpct                 gapct                    \n",
       "            mean median last  mean median last      mean    median      last\n",
       "date                                                                        \n",
       "2008-12-31   0.0    0.0  0.0   0.0    0.0  0.0  0.323845  0.323845  0.323845\n",
       "2011-12-31   0.0    0.0  0.0   0.0    0.0  0.0  0.316026  0.314074  0.279339\n",
       "2014-12-31   0.0    0.0  0.0   0.0    0.0  0.0  0.280782  0.284553  0.270072\n",
       "2017-12-31   0.0    0.0  0.0   0.0    0.0  0.0  0.259461  0.260120  0.257238\n",
       "2020-12-31   0.0    0.0  0.0   0.0    0.0  0.0  0.249225  0.249225  0.250179"
      ]
     },
     "execution_count": 1738,
     "metadata": {},
     "output_type": "execute_result"
    }
   ],
   "source": [
    "df_disc_ana[['rdpct','smpct','gapct']]"
   ]
  },
  {
   "cell_type": "code",
   "execution_count": 1740,
   "metadata": {},
   "outputs": [
    {
     "data": {
      "text/plain": [
       "0.060731425859614774"
      ]
     },
     "execution_count": 1740,
     "metadata": {},
     "output_type": "execute_result"
    }
   ],
   "source": [
    "annual_growth(17,10,9)"
   ]
  },
  {
   "cell_type": "code",
   "execution_count": 1739,
   "metadata": {},
   "outputs": [
    {
     "data": {
      "text/html": [
       "<div>\n",
       "<style scoped>\n",
       "    .dataframe tbody tr th:only-of-type {\n",
       "        vertical-align: middle;\n",
       "    }\n",
       "\n",
       "    .dataframe tbody tr th {\n",
       "        vertical-align: top;\n",
       "    }\n",
       "\n",
       "    .dataframe thead tr th {\n",
       "        text-align: left;\n",
       "    }\n",
       "\n",
       "    .dataframe thead tr:last-of-type th {\n",
       "        text-align: right;\n",
       "    }\n",
       "</style>\n",
       "<table border=\"1\" class=\"dataframe\">\n",
       "  <thead>\n",
       "    <tr>\n",
       "      <th></th>\n",
       "      <th colspan=\"3\" halign=\"left\">bv</th>\n",
       "      <th colspan=\"3\" halign=\"left\">div</th>\n",
       "    </tr>\n",
       "    <tr>\n",
       "      <th></th>\n",
       "      <th>mean</th>\n",
       "      <th>median</th>\n",
       "      <th>last</th>\n",
       "      <th>mean</th>\n",
       "      <th>median</th>\n",
       "      <th>last</th>\n",
       "    </tr>\n",
       "    <tr>\n",
       "      <th>date</th>\n",
       "      <th></th>\n",
       "      <th></th>\n",
       "      <th></th>\n",
       "      <th></th>\n",
       "      <th></th>\n",
       "      <th></th>\n",
       "    </tr>\n",
       "  </thead>\n",
       "  <tbody>\n",
       "    <tr>\n",
       "      <th>2008-12-31</th>\n",
       "      <td>0.000000</td>\n",
       "      <td>0.000000</td>\n",
       "      <td>0.000000</td>\n",
       "      <td>0.000000</td>\n",
       "      <td>0.000000</td>\n",
       "      <td>0.000000</td>\n",
       "    </tr>\n",
       "    <tr>\n",
       "      <th>2011-12-31</th>\n",
       "      <td>10.254120</td>\n",
       "      <td>14.510490</td>\n",
       "      <td>16.251870</td>\n",
       "      <td>0.000777</td>\n",
       "      <td>0.000000</td>\n",
       "      <td>0.000000</td>\n",
       "    </tr>\n",
       "    <tr>\n",
       "      <th>2014-12-31</th>\n",
       "      <td>15.475444</td>\n",
       "      <td>16.731383</td>\n",
       "      <td>12.339207</td>\n",
       "      <td>0.000000</td>\n",
       "      <td>0.000000</td>\n",
       "      <td>0.000000</td>\n",
       "    </tr>\n",
       "    <tr>\n",
       "      <th>2017-12-31</th>\n",
       "      <td>12.502850</td>\n",
       "      <td>12.618056</td>\n",
       "      <td>12.005208</td>\n",
       "      <td>0.076737</td>\n",
       "      <td>0.078125</td>\n",
       "      <td>0.078125</td>\n",
       "    </tr>\n",
       "    <tr>\n",
       "      <th>2020-12-31</th>\n",
       "      <td>17.768450</td>\n",
       "      <td>17.768450</td>\n",
       "      <td>18.697543</td>\n",
       "      <td>0.076305</td>\n",
       "      <td>0.076305</td>\n",
       "      <td>0.000000</td>\n",
       "    </tr>\n",
       "  </tbody>\n",
       "</table>\n",
       "</div>"
      ],
      "text/plain": [
       "                   bv                             div                    \n",
       "                 mean     median       last      mean    median      last\n",
       "date                                                                     \n",
       "2008-12-31   0.000000   0.000000   0.000000  0.000000  0.000000  0.000000\n",
       "2011-12-31  10.254120  14.510490  16.251870  0.000777  0.000000  0.000000\n",
       "2014-12-31  15.475444  16.731383  12.339207  0.000000  0.000000  0.000000\n",
       "2017-12-31  12.502850  12.618056  12.005208  0.076737  0.078125  0.078125\n",
       "2020-12-31  17.768450  17.768450  18.697543  0.076305  0.076305  0.000000"
      ]
     },
     "execution_count": 1739,
     "metadata": {},
     "output_type": "execute_result"
    }
   ],
   "source": [
    "df_disc_ana[['bv','div']]"
   ]
  }
 ],
 "metadata": {
  "kernelspec": {
   "display_name": "Python 3",
   "language": "python",
   "name": "python3"
  },
  "language_info": {
   "codemirror_mode": {
    "name": "ipython",
    "version": 3
   },
   "file_extension": ".py",
   "mimetype": "text/x-python",
   "name": "python",
   "nbconvert_exporter": "python",
   "pygments_lexer": "ipython3",
   "version": "3.7.6"
  }
 },
 "nbformat": 4,
 "nbformat_minor": 4
}
