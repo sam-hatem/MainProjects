{
 "cells": [
  {
   "cell_type": "markdown",
   "metadata": {},
   "source": [
    "# Arrays and Lists"
   ]
  },
  {
   "cell_type": "code",
   "execution_count": 1,
   "metadata": {},
   "outputs": [],
   "source": [
    "#1) Ispermutaion\n",
    "from collections import Counter "
   ]
  },
  {
   "cell_type": "code",
   "execution_count": 2,
   "metadata": {},
   "outputs": [],
   "source": [
    "def ispermutaion(a, b): \n",
    "    if Counter(a) == Counter(b): \n",
    "        return True \n",
    "    return False"
   ]
  },
  {
   "cell_type": "code",
   "execution_count": 5,
   "metadata": {},
   "outputs": [
    {
     "name": "stdout",
     "output_type": "stream",
     "text": [
      "0.00011491775512695312\n"
     ]
    }
   ],
   "source": [
    "from time import time\n",
    "start = time()\n",
    "ispermutaion(\"dog\",\"God\")\n",
    "end = time()\n",
    "print(end-start)"
   ]
  },
  {
   "cell_type": "code",
   "execution_count": 10,
   "metadata": {},
   "outputs": [],
   "source": [
    "#2) replace space with %20 \n",
    "a = \"you me love\"\n",
    "a = a.replace(\" \", \"%20\")"
   ]
  },
  {
   "cell_type": "code",
   "execution_count": 13,
   "metadata": {},
   "outputs": [
    {
     "data": {
      "text/plain": [
       "'you%20me%20love'"
      ]
     },
     "execution_count": 13,
     "metadata": {},
     "output_type": "execute_result"
    }
   ],
   "source": [
    "import re \n",
    "re.sub(r\"\\s\", \"%20\", a)"
   ]
  },
  {
   "cell_type": "code",
   "execution_count": 15,
   "metadata": {},
   "outputs": [
    {
     "data": {
      "text/plain": [
       "Counter({'i': 1, ' ': 2, 'l': 1, 'o': 1, 'v': 1, 'e': 2, 'm': 1})"
      ]
     },
     "execution_count": 15,
     "metadata": {},
     "output_type": "execute_result"
    }
   ],
   "source": []
  },
  {
   "cell_type": "code",
   "execution_count": 23,
   "metadata": {},
   "outputs": [
    {
     "data": {
      "text/plain": [
       "True"
      ]
     },
     "execution_count": 23,
     "metadata": {},
     "output_type": "execute_result"
    }
   ],
   "source": [
    "#String compression \n",
    "a = \"aabcccc\"\n",
    "a = \"abc\"\n",
    "len(Counter(a)) == len(a) "
   ]
  },
  {
   "cell_type": "code",
   "execution_count": null,
   "metadata": {},
   "outputs": [],
   "source": []
  },
  {
   "cell_type": "code",
   "execution_count": 48,
   "metadata": {},
   "outputs": [],
   "source": [
    "#rotate matrix \n",
    "a = [[1,2],[3,2]]\n",
    "a.reverse()"
   ]
  },
  {
   "cell_type": "code",
   "execution_count": 49,
   "metadata": {},
   "outputs": [],
   "source": [
    "b = zip(*a)"
   ]
  },
  {
   "cell_type": "code",
   "execution_count": 51,
   "metadata": {},
   "outputs": [
    {
     "data": {
      "text/plain": [
       "[(3, 1), (2, 2)]"
      ]
     },
     "execution_count": 51,
     "metadata": {},
     "output_type": "execute_result"
    }
   ],
   "source": [
    "[x for x in b]"
   ]
  },
  {
   "cell_type": "code",
   "execution_count": null,
   "metadata": {},
   "outputs": [],
   "source": []
  },
  {
   "cell_type": "code",
   "execution_count": 54,
   "metadata": {},
   "outputs": [
    {
     "data": {
      "text/plain": [
       "True"
      ]
     },
     "execution_count": 54,
     "metadata": {},
     "output_type": "execute_result"
    }
   ],
   "source": [
    "#String rotation \n",
    "\n",
    "s1 = \"waterbottle\"\n",
    "s2 = \"erbottlewat\"\n",
    "\n",
    "#check if s2 is subset of s1s1 \n",
    "s2 in s1*2"
   ]
  },
  {
   "cell_type": "markdown",
   "metadata": {},
   "source": [
    "# Linked List"
   ]
  },
  {
   "cell_type": "code",
   "execution_count": 150,
   "metadata": {},
   "outputs": [],
   "source": [
    "#creation (singly linked)\n",
    "\n",
    "class Node: \n",
    "    def __init__(self, data): \n",
    "        \n",
    "        #point to val\n",
    "        self.data = data\n",
    "        #point to next node\n",
    "        self.next = None \n",
    "\n",
    "#head node \n",
    "\n",
    "class Linkedlist: \n",
    "    def __init__(self):\n",
    "        #head node \n",
    "        self.headNode = None \n",
    "    \n",
    "    #insert to tail \n",
    "    \n",
    "    def atEnd(self, newdata): \n",
    "        #make Node from data \n",
    "        newNode = Node(newdata)\n",
    "        #check iof there's no head \n",
    "        if self.headNode is None: \n",
    "            self.headNode = newNode \n",
    "            return \n",
    "        last = self.headNode\n",
    "        while(last.next): \n",
    "            last = last.next\n",
    "        #reached the end \n",
    "        last.next = newNode\n",
    "       \n",
    "    def printlst(self): \n",
    "        \n",
    "        while(self.headNode): \n",
    "            print(self.headNode.data)\n",
    "            self.headNode = self.headNode.next\n",
    "           \n",
    "        "
   ]
  },
  {
   "cell_type": "code",
   "execution_count": 151,
   "metadata": {},
   "outputs": [],
   "source": [
    "#test \n",
    "lst = Linkedlist()\n",
    "lst.headNode = Node(3)\n",
    "e1 = Node(2) \n",
    "e2 = Node(5)\n",
    "lst.headNode.next = e1 \n",
    "e1.next = e2 \n",
    "lst.atEnd(4)"
   ]
  },
  {
   "cell_type": "code",
   "execution_count": 152,
   "metadata": {},
   "outputs": [
    {
     "name": "stdout",
     "output_type": "stream",
     "text": [
      "3\n",
      "2\n",
      "5\n",
      "4\n"
     ]
    }
   ],
   "source": [
    "lst.printlst()"
   ]
  },
  {
   "cell_type": "markdown",
   "metadata": {},
   "source": [
    "# Stack "
   ]
  },
  {
   "cell_type": "code",
   "execution_count": 147,
   "metadata": {},
   "outputs": [],
   "source": [
    "#creation \n",
    "#use a linked list to implelment\n",
    "class Stack: \n",
    "    def __init__(self): \n",
    "        self.data = []\n",
    "    \n",
    "    #pop \n",
    "    def pop(self): \n",
    "        if self.data: \n",
    "            return self.data.pop() \n",
    "    def isEmpty(self): \n",
    "        return self.data == []\n",
    "    def push(self,newData): \n",
    "        return self.data.append(newData)\n",
    "    def peek(self): \n",
    "        return self.data[-1]\n",
    "    \n",
    "        "
   ]
  },
  {
   "cell_type": "code",
   "execution_count": 148,
   "metadata": {},
   "outputs": [
    {
     "data": {
      "text/plain": [
       "True"
      ]
     },
     "execution_count": 148,
     "metadata": {},
     "output_type": "execute_result"
    }
   ],
   "source": [
    "stack = Stack()\n",
    "stack.isEmpty()"
   ]
  },
  {
   "cell_type": "code",
   "execution_count": 149,
   "metadata": {},
   "outputs": [
    {
     "data": {
      "text/plain": [
       "3"
      ]
     },
     "execution_count": 149,
     "metadata": {},
     "output_type": "execute_result"
    }
   ],
   "source": [
    "stack.push(3)\n",
    "stack.peek()"
   ]
  },
  {
   "cell_type": "code",
   "execution_count": 154,
   "metadata": {},
   "outputs": [],
   "source": [
    "import itertools"
   ]
  },
  {
   "cell_type": "code",
   "execution_count": 175,
   "metadata": {},
   "outputs": [],
   "source": [
    "def powerset(a): \n",
    "    poset = []\n",
    "    for i in a:\n",
    "        poset.append({i})\n",
    "    for k,j in zip(a,a): \n",
    "        poset.append((k,j))\n",
    "    \n",
    "    return poset"
   ]
  },
  {
   "cell_type": "code",
   "execution_count": 176,
   "metadata": {},
   "outputs": [
    {
     "data": {
      "text/plain": [
       "[{0}, {1}, {2}, {3}, (0, 0), (1, 1), (2, 2), (3, 3)]"
      ]
     },
     "execution_count": 176,
     "metadata": {},
     "output_type": "execute_result"
    }
   ],
   "source": [
    "a = {0,1,2,3}\n",
    "powerset(a)"
   ]
  },
  {
   "cell_type": "code",
   "execution_count": 183,
   "metadata": {},
   "outputs": [],
   "source": [
    "#recursive multiply \n",
    "\n",
    "def multi(a,b): \n",
    "    c = min(a,b)\n",
    "    d = max(a,b)\n",
    "    if c == 0: \n",
    "        return 0 \n",
    "    elif c ==1: \n",
    "        return d\n",
    "    elif c < 0: \n",
    "        return - (d - multi(d, c+1))\n",
    "    else: \n",
    "        return d + multi(d,c-1)\n",
    "    "
   ]
  },
  {
   "cell_type": "code",
   "execution_count": 190,
   "metadata": {},
   "outputs": [
    {
     "data": {
      "text/plain": [
       "True"
      ]
     },
     "execution_count": 190,
     "metadata": {},
     "output_type": "execute_result"
    }
   ],
   "source": [
    "int((1+2)/2) == (1+2)//2"
   ]
  }
 ],
 "metadata": {
  "kernelspec": {
   "display_name": "Python 3",
   "language": "python",
   "name": "python3"
  },
  "language_info": {
   "codemirror_mode": {
    "name": "ipython",
    "version": 3
   },
   "file_extension": ".py",
   "mimetype": "text/x-python",
   "name": "python",
   "nbconvert_exporter": "python",
   "pygments_lexer": "ipython3",
   "version": "3.7.4"
  }
 },
 "nbformat": 4,
 "nbformat_minor": 2
}
