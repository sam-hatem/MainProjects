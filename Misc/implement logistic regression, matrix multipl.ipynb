{
 "cells": [
  {
   "cell_type": "code",
   "execution_count": 1,
   "metadata": {},
   "outputs": [],
   "source": [
    "import numpy as np \n",
    "import seaborn as sns \n",
    "import matplotlib.pyplot as plt \n",
    "import scipy as sp \n",
    "import pandas as pd "
   ]
  },
  {
   "cell_type": "code",
   "execution_count": 7,
   "metadata": {},
   "outputs": [],
   "source": [
    "#implement matix multiplication \n",
    "#dot(a,b)[i,j,k,m] = sum(a[i,j,:] * b[k,:,m])\n",
    "\n",
    "#2x2 matrix \n",
    "\n",
    "def mult(a,b): \n",
    "    result = [[0,0], \n",
    "             [0,0]]\n",
    "    for i in range(len(a)): #iterate over rows of a \n",
    "        for j in range(len(b[0])): #iterate over cols of b\n",
    "            #multiply rows and cols and iterate over rows of b \n",
    "            \n",
    "            for k in range(len(b)): \n",
    "                result[i][j] += a[i][k] * b[k][j]\n",
    "    return result \n"
   ]
  },
  {
   "cell_type": "code",
   "execution_count": 56,
   "metadata": {},
   "outputs": [],
   "source": [
    "#implementing logistic regression\n",
    "\n",
    "x = [1,4,9,3,6,2]\n",
    "y = [1,0,1]\n",
    "x = np.asarray(x).reshape(-1,2)\n",
    "y = np.asarray(y).reshape(3,1)\n"
   ]
  },
  {
   "cell_type": "code",
   "execution_count": 57,
   "metadata": {},
   "outputs": [],
   "source": [
    "#define parameter array, shape(d,1)\n",
    "#do without bias \n",
    "x = np.c_[np.ones((x.shape[0], 1)), x]\n",
    "\n",
    "w = np.zeros((x.shape[1],1))\n"
   ]
  },
  {
   "cell_type": "code",
   "execution_count": 58,
   "metadata": {},
   "outputs": [
    {
     "data": {
      "text/plain": [
       "array([[0.5, 0.5, 0.5]])"
      ]
     },
     "execution_count": 58,
     "metadata": {},
     "output_type": "execute_result"
    }
   ],
   "source": [
    "1/ (1+ np.exp(-np.dot(w.T,x)))"
   ]
  },
  {
   "cell_type": "code",
   "execution_count": 59,
   "metadata": {},
   "outputs": [],
   "source": [
    "#define sigmoid\n",
    "def sigmoid(x,w): \n",
    "    y_hat = 1/ (1+ np.exp(-np.dot(w.T,x)))\n",
    "    y_hat = y_hat.reshape(-1,1)\n",
    "    return y_hat"
   ]
  },
  {
   "cell_type": "code",
   "execution_count": 62,
   "metadata": {},
   "outputs": [],
   "source": [
    "#calculate optimal parameters: \n",
    "#loss function = -sum(ylog(y_hat) + (1-y)log(1-y_hat))\n",
    "def gradient_loss(x,w,y): \n",
    "    m = x.shape[0]\n",
    "    y_hat = sigmoid(x,w)\n",
    "    grad = 1/m * np.dot(x.T,(y_hat - y))\n",
    "    return grad"
   ]
  },
  {
   "cell_type": "code",
   "execution_count": 63,
   "metadata": {},
   "outputs": [],
   "source": [
    "def sgd(alpha, y,x,w,num_iter):\n",
    "\n",
    "    for i in range(num_iter +1): \n",
    "        grad = gradient_loss(x,w,y)\n",
    "        w = w - alpha*grad \n",
    "    return w\n",
    "        "
   ]
  },
  {
   "cell_type": "code",
   "execution_count": 66,
   "metadata": {},
   "outputs": [],
   "source": [
    "w = sgd(0.01,y,x,w,10000)"
   ]
  },
  {
   "cell_type": "code",
   "execution_count": 68,
   "metadata": {},
   "outputs": [
    {
     "data": {
      "text/plain": [
       "2.0196695622540553"
      ]
     },
     "execution_count": 68,
     "metadata": {},
     "output_type": "execute_result"
    }
   ],
   "source": [
    "bias = w[0][0]\n",
    "bias"
   ]
  },
  {
   "cell_type": "code",
   "execution_count": 69,
   "metadata": {},
   "outputs": [],
   "source": [
    "y_hat = sigmoid(x,w)"
   ]
  },
  {
   "cell_type": "code",
   "execution_count": 70,
   "metadata": {},
   "outputs": [
    {
     "data": {
      "text/plain": [
       "array([[0.97832397],\n",
       "       [0.00960552],\n",
       "       [0.99715743]])"
      ]
     },
     "execution_count": 70,
     "metadata": {},
     "output_type": "execute_result"
    }
   ],
   "source": [
    "y_hat"
   ]
  },
  {
   "cell_type": "code",
   "execution_count": 79,
   "metadata": {},
   "outputs": [],
   "source": [
    "def loss(y_hat,y): \n",
    "    return -1/x.shape[0] * (y*np.log(y_hat))"
   ]
  },
  {
   "cell_type": "code",
   "execution_count": 91,
   "metadata": {},
   "outputs": [],
   "source": [
    "#predict on new values \n",
    "x_new = np.asarray([1,2,5,3,4,5]).reshape(-1,2)\n",
    "y_new = [1,1,0]\n",
    "x_new = np.c_[np.ones((x_new.shape[0], 1)), x_new]"
   ]
  },
  {
   "cell_type": "code",
   "execution_count": 92,
   "metadata": {},
   "outputs": [
    {
     "data": {
      "text/plain": [
       "array([[0.97832397],\n",
       "       [0.96710924],\n",
       "       [1.        ]])"
      ]
     },
     "execution_count": 92,
     "metadata": {},
     "output_type": "execute_result"
    }
   ],
   "source": [
    "sigmoid(x_new,w)"
   ]
  },
  {
   "cell_type": "code",
   "execution_count": 95,
   "metadata": {},
   "outputs": [],
   "source": [
    "def accuracy(x, actual_classes, probab_threshold=0.5):\n",
    "    predicted_classes = (sigmoid(x,w) >= \n",
    "                         probab_threshold).astype(int)\n",
    "    predicted_classes = predicted_classes.flatten()\n",
    "    accuracy = np.mean(predicted_classes == actual_classes)\n",
    "    return accuracy * 100,predicted_classes"
   ]
  },
  {
   "cell_type": "code",
   "execution_count": 96,
   "metadata": {},
   "outputs": [
    {
     "data": {
      "text/plain": [
       "(66.66666666666666, array([1, 1, 1]))"
      ]
     },
     "execution_count": 96,
     "metadata": {},
     "output_type": "execute_result"
    }
   ],
   "source": [
    "accuracy(x_new,y_new)"
   ]
  },
  {
   "cell_type": "code",
   "execution_count": null,
   "metadata": {},
   "outputs": [],
   "source": []
  },
  {
   "cell_type": "code",
   "execution_count": null,
   "metadata": {},
   "outputs": [],
   "source": []
  }
 ],
 "metadata": {
  "kernelspec": {
   "display_name": "Python 3",
   "language": "python",
   "name": "python3"
  },
  "language_info": {
   "codemirror_mode": {
    "name": "ipython",
    "version": 3
   },
   "file_extension": ".py",
   "mimetype": "text/x-python",
   "name": "python",
   "nbconvert_exporter": "python",
   "pygments_lexer": "ipython3",
   "version": "3.7.4"
  }
 },
 "nbformat": 4,
 "nbformat_minor": 2
}
