{
 "cells": [
  {
   "cell_type": "markdown",
   "metadata": {},
   "source": [
    "# Importing Libraries "
   ]
  },
  {
   "cell_type": "code",
   "execution_count": 1,
   "metadata": {},
   "outputs": [],
   "source": [
    "import pandas as pd \n",
    "import tensorflow as tf \n",
    "from tensorflow import keras\n",
    "import numpy as np \n",
    "import statsmodels.api as sm\n",
    "import seaborn as sns \n",
    "import nltk as nlp\n",
    "import string\n",
    "import matplotlib.pyplot as plt\n",
    "from bs4 import BeautifulSoup\n",
    "import re"
   ]
  },
  {
   "cell_type": "code",
   "execution_count": 254,
   "metadata": {},
   "outputs": [],
   "source": [
    "import warnings\n",
    "sns.set(style=\"dark\")\n",
    "sns.set(style=\"darkgrid\")\n",
    "sns.set(rc={'figure.figsize':(10,7)})\n",
    "pd.set_option('display.max_columns',500)\n",
    "\n",
    "warnings.filterwarnings(\"ignore\")\n",
    "plt.style.use('fivethirtyeight')\n",
    "plt.rcParams['axes.labelsize'] = 14\n",
    "plt.rcParams['xtick.labelsize'] = 12\n",
    "plt.rcParams['ytick.labelsize'] = 12\n",
    "plt.rcParams['text.color'] = 'k'"
   ]
  },
  {
   "cell_type": "code",
   "execution_count": 203,
   "metadata": {},
   "outputs": [
    {
     "name": "stderr",
     "output_type": "stream",
     "text": [
      "b'Skipping line 6: expected 31 fields, saw 102\\nSkipping line 7: expected 31 fields, saw 102\\nSkipping line 15: expected 31 fields, saw 102\\nSkipping line 16: expected 31 fields, saw 102\\nSkipping line 20: expected 31 fields, saw 102\\nSkipping line 21: expected 31 fields, saw 102\\nSkipping line 30: expected 31 fields, saw 102\\nSkipping line 31: expected 31 fields, saw 102\\n'\n"
     ]
    }
   ],
   "source": [
    "#importing quarterly data from seaworld \n",
    "income = pd.read_csv('seas_income_statement_quarter.csv',error_bad_lines=False)"
   ]
  },
  {
   "cell_type": "markdown",
   "metadata": {},
   "source": [
    "# Scraping and downloading tripadvisor review data\n",
    "\n",
    "<br> \n",
    "\n",
    "1) We used Selenium to scrape the reviews of about 1000 pages from the Orlando location \n",
    "\n",
    "2) A more detailed analysis would take into account reviews from various locations to remedy any issues in the reviews which are location dependent \n",
    "\n",
    "3) I feel justified in the data provided by the Orlando location as it's their largest and the one which had by far the greatest number of reviews \n",
    "\n",
    "4) We also imported the income statement of Seaworld to perform our revenue correlation analysis \n"
   ]
  },
  {
   "cell_type": "code",
   "execution_count": 115,
   "metadata": {},
   "outputs": [],
   "source": [
    "import csv\n",
    "import time\n",
    "from selenium import webdriver\n",
    "from selenium.common.exceptions import NoSuchElementException"
   ]
  },
  {
   "cell_type": "code",
   "execution_count": 116,
   "metadata": {},
   "outputs": [
    {
     "name": "stderr",
     "output_type": "stream",
     "text": [
      "[WDM] - Current google-chrome version is 83.0.4103\n",
      "[WDM] - Get LATEST driver version for 83.0.4103\n",
      "[WDM] - Driver [/Users/sam/.wdm/drivers/chromedriver/mac64/83.0.4103.39/chromedriver] found in cache\n"
     ]
    },
    {
     "name": "stdout",
     "output_type": "stream",
     "text": [
      " \n"
     ]
    }
   ],
   "source": [
    "from selenium import webdriver\n",
    "from webdriver_manager.chrome import ChromeDriverManager\n",
    "\n",
    "driver = webdriver.Chrome(ChromeDriverManager().install())"
   ]
  },
  {
   "cell_type": "code",
   "execution_count": 117,
   "metadata": {},
   "outputs": [],
   "source": [
    "driver.get(\"https://www.tripadvisor.com/Attraction_Review-g34515-d102412-Reviews-SeaWorld-Orlando_Florida.html\")"
   ]
  },
  {
   "cell_type": "code",
   "execution_count": 118,
   "metadata": {
    "code_folding": [
     0
    ]
   },
   "outputs": [],
   "source": [
    "# function to check if the button is on the page, to avoid miss-click problem\n",
    "def check_exists_by_xpath(xpath):\n",
    "    try:\n",
    "        driver.find_element_by_xpath(xpath)\n",
    "    except NoSuchElementException:\n",
    "        return False\n",
    "    return True"
   ]
  },
  {
   "cell_type": "code",
   "execution_count": 119,
   "metadata": {
    "code_folding": [
     0
    ]
   },
   "outputs": [],
   "source": [
    "# open the file to save the review\n",
    "csvFile = open(\"reviews\", 'a')\n",
    "csvWriter = csv.writer(csvFile)"
   ]
  },
  {
   "cell_type": "code",
   "execution_count": 120,
   "metadata": {
    "code_folding": [
     0
    ]
   },
   "outputs": [],
   "source": [
    "# change the value inside the range to save more or less reviews\n",
    "for i in range(0,2000,6):\n",
    "    \n",
    "    if (check_exists_by_xpath(\"//span[@class='taLnk ulBlueLinks']\")):\n",
    "        # to expand the review \n",
    "        driver.find_element_by_xpath(\"//span[@class='taLnk ulBlueLinks']\").click()\n",
    "        time.sleep(5)\n",
    "        \n",
    "    container = driver.find_elements_by_xpath(\"//div[@class='Dq9MAugU T870kzTX LnVzGwUB']\")\n",
    "    num_page_items = len(container);\n",
    "    \n",
    "    for j in range(num_page_items):\n",
    "        # to save the rating\n",
    "        string = container[j].find_element_by_xpath(\".//span[contains(@class, 'ui_bubble_rating bubble_')]\").get_attribute(\"class\") \n",
    "        data = string.split(\"_\")\n",
    "        #to save the date \n",
    "        #string2= container[j].find_element_by_xpath(\".//*[@id='component_19']/div[3]/div/div[3]/div[2]/div[3]/div[2]/span\").text\n",
    "        try: \n",
    "            string2 = container[j].find_element_by_xpath(\".//span[contains(@class, '_34Xs-BQm')]/.\").text\n",
    "            data2 = re.sub(r'.*:','',string2)\n",
    "            data2 = data2.strip()\n",
    "            csvWriter.writerow([data[3],data2, container[j].find_element_by_xpath(\".//q[@class='IRsGHoPm']\").text.replace(\"\\n\", \"\")])\n",
    "\n",
    "        except NoSuchElementException: \n",
    "            continue \n",
    "        # to save in a csv file readable the star and the review [Ex: 50,\"I love this place\"]\n",
    "        \n",
    "    # to change the page\n",
    "    if (check_exists_by_xpath('//a[@class=\"ui_button nav next primary \"]')):\n",
    "        driver.find_element_by_xpath('//a[@class=\"ui_button nav next primary \"]').click()\n",
    "    time.sleep(5)\n",
    "    \n",
    "driver.close()"
   ]
  },
  {
   "cell_type": "markdown",
   "metadata": {},
   "source": [
    "# Data Cleaning and Overview \n",
    "\n",
    "<br> \n",
    "\n",
    "## Data Cleaning\n",
    "<br>\n",
    "\n",
    "Our initial data cleaning consisted of the following \n",
    "\n",
    "\n",
    "1) Cleaning up the dates: since our revenues will be in quarterly form I assigned each review a quarter based on the month and year it was in\n",
    "\n",
    "2) Unfortunately, for time purposes the scrapes only went back to 2018 and so we are only able to observe the effects on the revenue for the years of 2020, 2019, and 2018 \n",
    "\n",
    "3) We created a count_words feature which describes the length of each review; this will presumably have an effect on the sentiment of the review and so will be used as a predictive feature \n",
    "\n",
    "\n",
    "## Data Overview \n",
    "\n",
    "<br>\n",
    "1) Our data consisted of 1653 reviews and we obtained 4 features; the rating given on a scale from 10-50 (50 being the highest), the review content, the length of the review, and the year and quarter the review took place\n",
    "\n",
    "2) We also obtained the quarterly revenue for those years \n",
    "\n",
    "3) We had no missing values in the data \n"
   ]
  },
  {
   "cell_type": "code",
   "execution_count": 129,
   "metadata": {},
   "outputs": [],
   "source": [
    "#importing reviews \n",
    "rev = pd.read_csv('reviews', names = ['rating','date','review'])"
   ]
  },
  {
   "cell_type": "code",
   "execution_count": 177,
   "metadata": {
    "code_folding": [
     0
    ],
    "scrolled": true
   },
   "outputs": [],
   "source": [
    "#date feature cleaning \n",
    "def date_clean(df): \n",
    "    year = df['date'].apply(lambda x: re.findall('\\d+',x)[0])\n",
    "    month = df['date'].apply(lambda x: \"\".join(re.findall('[^\\d+]',x)))\n",
    "    month = month.str.strip()\n",
    "    df['year'] = year \n",
    "    df['quarter'] = month\n",
    "    return df\n",
    "\n",
    "rev.loc[(rev.quarter == 'January') | (rev.quarter == 'February') |  (rev.quarter == 'April'),'quarter'] = 'q1'\n",
    "rev.loc[(rev.quarter == 'April') | (rev.quarter == 'May') |  (rev.quarter == 'June'),'quarter'] = 'q2'\n",
    "rev.loc[(rev.quarter == 'July') | (rev.quarter == 'August') |  (rev.quarter == 'September'),'quarter'] = 'q3'\n",
    "rev.loc[(rev.quarter == 'October') | (rev.quarter == 'November') |  (rev.quarter == 'December'),'quarter'] = 'q4'\n",
    "\n",
    "#cleaning income starement and retrieving dates and quarters \n",
    "\n",
    "x = income.columns.tolist()\n",
    "x = [re.sub(r'\\-\\d\\d\\-\\d\\d\\_',' ',y) for y in x]\n",
    "income.columns =x \n",
    "revenue = income.iloc[0,:11]\n",
    "\n",
    "revenue.drop(['date', 'Unnamed: 1'],inplace = True)\n",
    "\n",
    "revenue.index = ['2020 q1', '2019 q4', '2019 q3', '2019 q2', '2019 q1', '2018 q4',\n",
    "       '2018 q3', '2018 q2', '2018 q1']\n",
    "\n",
    "\n",
    "#word count feature \n",
    "rev['word_count']= rev.review.apply(lambda x: len(x.split()))\n",
    "\n",
    "#drop the date \n",
    "rev.drop('date',axis = 1,inplace = True)"
   ]
  },
  {
   "cell_type": "code",
   "execution_count": 247,
   "metadata": {
    "code_folding": [
     0
    ]
   },
   "outputs": [],
   "source": [
    "#overview \n",
    "def quick(df): \n",
    "    print('Data Types:\\n',df.dtypes)\n",
    "    print('\\nData Shape: \\n',df.shape)\n",
    "    print('\\nOverall Info: \\n', df.info())\n",
    "    print('\\nNull Values: \\n', df.isna().sum())"
   ]
  },
  {
   "cell_type": "code",
   "execution_count": 251,
   "metadata": {},
   "outputs": [
    {
     "name": "stdout",
     "output_type": "stream",
     "text": [
      "Data Types:\n",
      " rating         int64\n",
      "review        object\n",
      "quarter       object\n",
      "year          object\n",
      "word_count     int64\n",
      "dtype: object\n",
      "\n",
      "Data Shape: \n",
      " (1653, 5)\n",
      "<class 'pandas.core.frame.DataFrame'>\n",
      "RangeIndex: 1653 entries, 0 to 1652\n",
      "Data columns (total 5 columns):\n",
      " #   Column      Non-Null Count  Dtype \n",
      "---  ------      --------------  ----- \n",
      " 0   rating      1653 non-null   int64 \n",
      " 1   review      1653 non-null   object\n",
      " 2   quarter     1653 non-null   object\n",
      " 3   year        1653 non-null   object\n",
      " 4   word_count  1653 non-null   int64 \n",
      "dtypes: int64(2), object(3)\n",
      "memory usage: 64.7+ KB\n",
      "\n",
      "Overall Info: \n",
      " None\n",
      "\n",
      "Null Values: \n",
      " rating        0\n",
      "review        0\n",
      "quarter       0\n",
      "year          0\n",
      "word_count    0\n",
      "dtype: int64\n"
     ]
    }
   ],
   "source": [
    "quick(rev)"
   ]
  },
  {
   "cell_type": "markdown",
   "metadata": {},
   "source": [
    "# EDA \n",
    "\n",
    "<br>\n",
    "\n",
    "## Overall Analysis \n",
    "\n",
    "<br> \n",
    "\n",
    "1) We began by visualizing the distribution of our ratings/sentiments; It seems that our classes are imbalanced where we have a greater number of 4 and 5 star ratings, because of this distribution I decided to aggregate the classes as follows: \n",
    "\n",
    "5 stars: '2' --> positive\n",
    "\n",
    "3 and 4 stars: '1' --> neutral\n",
    "\n",
    "1 and 2 stars: '0' --> negative \n",
    "\n",
    "\n",
    "This change will allow us to smooth some of the skew of the classes and glean better insights on the sentiment of the reviews. Ideally, I would have a lot more data over many years and adjust accordingly but this will work \n",
    "\n",
    "\n",
    "<br>\n",
    "\n",
    "\n",
    "2) We analyzed the relationship between the word counts and the sentiment of the review: \n",
    "\n",
    "<br>\n",
    "\n",
    "We see that the longest review had about 64 words and it was a positive one \n",
    "\n",
    "\n",
    "\n",
    "Positive reviews are typically the longest, and, surprisingly negative reviews are the shortest with some gaps in the distribution (probably due to the imbalance of the classes). \n",
    "\n",
    "\n",
    "\n",
    "Finally, as one would expect the neutral reviews had an average word count, with their mode being around 50 \n",
    "\n",
    "\n"
   ]
  },
  {
   "cell_type": "code",
   "execution_count": 260,
   "metadata": {},
   "outputs": [],
   "source": [
    "#replacing categories \n",
    "repl = {10:0, 20:0,30:1,40:1,50:2}\n",
    "rev.rating.replace(repl,inplace = True)"
   ]
  },
  {
   "cell_type": "code",
   "execution_count": 287,
   "metadata": {
    "code_folding": [
     0
    ]
   },
   "outputs": [
    {
     "data": {
      "image/png": "[encoded data removed]",
      "text/plain": [
       "<Figure size 720x504 with 1 Axes>"
      ]
     },
     "metadata": {},
     "output_type": "display_data"
    },
    {
     "data": {
      "image/png": "[encoded data removed]",
      "text/plain": [
       "<Figure size 1080x360 with 3 Axes>"
      ]
     },
     "metadata": {},
     "output_type": "display_data"
    }
   ],
   "source": [
    "#plotting\n",
    "sns.countplot(rev['rating'])\n",
    "plt.title('Distribution of the Sentiments')\n",
    "\n",
    "fig,axs = plt.subplots(1,3,figsize = (15,5),sharey = True)\n",
    "\n",
    "\n",
    "rev.loc[rev.rating == 0,:].word_count.hist(ax= axs[0])\n",
    "axs[0].set_title('word counts for negative reviews')\n",
    "\n",
    "\n",
    "rev[rev.rating == 1].word_count.hist(ax = axs[1])\n",
    "axs[1].set_title('word counts for neutral reviews')\n",
    "\n",
    "\n",
    "rev[rev.rating == 2].word_count.hist(ax = axs[2])\n",
    "axs[2].set_title('word counts for positive reviews')\n",
    "\n",
    "\n",
    "plt.show()"
   ]
  },
  {
   "cell_type": "markdown",
   "metadata": {},
   "source": [
    "## Time dependent Analysis \n",
    "<br> \n",
    "\n"
   ]
  },
  {
   "cell_type": "markdown",
   "metadata": {},
   "source": [
    "### Yearly Analysis \n",
    "<br> \n",
    "\n",
    "1) We first aggregated the data by year and created the following features; the percentage of ratings for each year, the number of reviews for that year, and the average word count for that year \n",
    "\n",
    "2) We see that our counts were higher in year 2019 than in 18 and 20 \n",
    "\n",
    "3) We see that the majority of the reviews were positive for all the years \n",
    "\n",
    "4) The highest percentage of negative reviews was in 2020 and the lowest was in 2018 \n",
    "\n",
    "\n",
    "5) As we visualize the rating counts for the different years, we see the imbalance in our data since we have more 2019 reviews than the other years, we also confirm that our highest negative review counts were in 2020 and 2019\n"
   ]
  },
  {
   "cell_type": "code",
   "execution_count": 319,
   "metadata": {
    "code_folding": [
     0
    ]
   },
   "outputs": [],
   "source": [
    "#break up the ratings \n",
    "rev_yr = pd.get_dummies(data = rev, columns = ['rating'])\n",
    "#group by year and get stats \n",
    "rev_yr = rev_yr.groupby('year').agg({'rating_0':'sum','rating_1':'sum','rating_2':'sum','word_count':'mean'})\n",
    "rev_yr.columns= ['rating_0_percent', 'rating_1_percent', 'rating_2_percent', 'word_count_avg']\n",
    "rev_yr['review_counts'] = rev_yr.iloc[:,0:3].sum(axis = 1)\n",
    "rev_yr[['rating_0_percent','rating_1_percent','rating_2_percent']] = rev_yr[['rating_0_percent','rating_1_percent','rating_2_percent']].transform(lambda x: x /rev_yr['review_counts'] * 100)"
   ]
  },
  {
   "cell_type": "code",
   "execution_count": 347,
   "metadata": {},
   "outputs": [
    {
     "data": {
      "image/png": "[encoded data removed]",
      "text/plain": [
       "<Figure size 720x504 with 1 Axes>"
      ]
     },
     "metadata": {},
     "output_type": "display_data"
    },
    {
     "name": "stdout",
     "output_type": "stream",
     "text": [
      "\n",
      "\n",
      "Yearly Statistics:\n",
      "\n"
     ]
    },
    {
     "data": {
      "text/html": [
       "<div>\n",
       "<style scoped>\n",
       "    .dataframe tbody tr th:only-of-type {\n",
       "        vertical-align: middle;\n",
       "    }\n",
       "\n",
       "    .dataframe tbody tr th {\n",
       "        vertical-align: top;\n",
       "    }\n",
       "\n",
       "    .dataframe thead th {\n",
       "        text-align: right;\n",
       "    }\n",
       "</style>\n",
       "<table border=\"1\" class=\"dataframe\">\n",
       "  <thead>\n",
       "    <tr style=\"text-align: right;\">\n",
       "      <th></th>\n",
       "      <th>rating_0_percent</th>\n",
       "      <th>rating_1_percent</th>\n",
       "      <th>rating_2_percent</th>\n",
       "      <th>word_count_avg</th>\n",
       "      <th>review_counts</th>\n",
       "      <th>revenue</th>\n",
       "    </tr>\n",
       "    <tr>\n",
       "      <th>year</th>\n",
       "      <th></th>\n",
       "      <th></th>\n",
       "      <th></th>\n",
       "      <th></th>\n",
       "      <th></th>\n",
       "      <th></th>\n",
       "    </tr>\n",
       "  </thead>\n",
       "  <tbody>\n",
       "    <tr>\n",
       "      <th>2017</th>\n",
       "      <td>0.000000</td>\n",
       "      <td>0.000000</td>\n",
       "      <td>100.000000</td>\n",
       "      <td>52.000000</td>\n",
       "      <td>1.0</td>\n",
       "      <td>NaN</td>\n",
       "    </tr>\n",
       "    <tr>\n",
       "      <th>2018</th>\n",
       "      <td>8.029197</td>\n",
       "      <td>28.467153</td>\n",
       "      <td>63.503650</td>\n",
       "      <td>43.817518</td>\n",
       "      <td>274.0</td>\n",
       "      <td>1.372290e+09</td>\n",
       "    </tr>\n",
       "    <tr>\n",
       "      <th>2019</th>\n",
       "      <td>12.760835</td>\n",
       "      <td>34.109149</td>\n",
       "      <td>53.130016</td>\n",
       "      <td>47.086677</td>\n",
       "      <td>1246.0</td>\n",
       "      <td>1.398244e+09</td>\n",
       "    </tr>\n",
       "    <tr>\n",
       "      <th>2020</th>\n",
       "      <td>14.393939</td>\n",
       "      <td>34.848485</td>\n",
       "      <td>50.757576</td>\n",
       "      <td>46.916667</td>\n",
       "      <td>132.0</td>\n",
       "      <td>1.535610e+08</td>\n",
       "    </tr>\n",
       "  </tbody>\n",
       "</table>\n",
       "</div>"
      ],
      "text/plain": [
       "      rating_0_percent  rating_1_percent  rating_2_percent  word_count_avg  \\\n",
       "year                                                                         \n",
       "2017          0.000000          0.000000        100.000000       52.000000   \n",
       "2018          8.029197         28.467153         63.503650       43.817518   \n",
       "2019         12.760835         34.109149         53.130016       47.086677   \n",
       "2020         14.393939         34.848485         50.757576       46.916667   \n",
       "\n",
       "      review_counts       revenue  \n",
       "year                               \n",
       "2017            1.0           NaN  \n",
       "2018          274.0  1.372290e+09  \n",
       "2019         1246.0  1.398244e+09  \n",
       "2020          132.0  1.535610e+08  "
      ]
     },
     "execution_count": 347,
     "metadata": {},
     "output_type": "execute_result"
    }
   ],
   "source": [
    "plt.title('Sentiment Counts per year')\n",
    "sns.countplot(data = rev, x='rating',hue = 'year')\n",
    "plt.show()\n",
    "print('\\n')\n",
    "print('Yearly Statistics:\\n')\n",
    "rev_yr"
   ]
  },
  {
   "cell_type": "markdown",
   "metadata": {},
   "source": [
    "# Revenue and Review analysis \n",
    "\n",
    "<br> \n",
    "\n",
    "## Trends \n",
    "\n",
    "1) We first investigated how revenue and sentiment interact over time, our scatter plot below showcases that revenue decreased in years with a higher proportion of negative sentiment.\n",
    "\n",
    "\n",
    "2) Similarly we see a strong correlation between the number of reviews and the revenue for that year; years with more reviews are seemingly ones that generate more revenue \n",
    "\n",
    "\n",
    "3) Finally, since our average word count is fairly similar across the years its hard to determine a correlation, this can be further investigated by looking at the reviews based on their sentiment and averaging the word counts from each category \n",
    "\n",
    "\n"
   ]
  },
  {
   "cell_type": "code",
   "execution_count": 379,
   "metadata": {
    "code_folding": [
     0
    ]
   },
   "outputs": [
    {
     "data": {
      "image/png": "[encoded data removed]",
      "text/plain": [
       "<Figure size 720x504 with 1 Axes>"
      ]
     },
     "metadata": {},
     "output_type": "display_data"
    },
    {
     "data": {
      "image/png": "[encoded data removed]",
      "text/plain": [
       "<Figure size 720x504 with 1 Axes>"
      ]
     },
     "metadata": {},
     "output_type": "display_data"
    }
   ],
   "source": [
    "#visualizing revenue and sentiment \n",
    "plt.title('Revenue and sentiment over time')\n",
    "plt.scatter(rev_yr.index,rev_yr['rating_0_percent'])\n",
    "plt.scatter(rev_yr.index,rev_yr['rating_1_percent'])\n",
    "plt.scatter(rev_yr.index,rev_yr['rating_2_percent'])\n",
    "plt.scatter(rev_yr.index,rev_yr['revenue']/1e08)\n",
    "plt.legend(['negative_rev','neutral_rev','positive_rev','revenue'])\n",
    "\n",
    "plt.figure()\n",
    "plt.title('Revenue with review counts and average review length over time')\n",
    "plt.scatter(rev_yr.index,rev_yr['review_counts'])\n",
    "plt.scatter(rev_yr.index,rev_yr['word_count_avg'])\n",
    "plt.scatter(rev_yr.index,rev_yr['revenue']/1e07)\n",
    "\n",
    "plt.legend(['review counts', 'word count avg', 'revenue'])\n",
    "plt.show()\n",
    "\n"
   ]
  },
  {
   "cell_type": "code",
   "execution_count": 348,
   "metadata": {
    "code_folding": [
     0
    ]
   },
   "outputs": [],
   "source": [
    "#appending revenue\n",
    "\n",
    "z = revenue.index.tolist()\n",
    "quarters = [re.sub(r'\\d\\d\\d\\d', '',x) for x in z]\n",
    "years = [re.sub(r'..$', '',x) for x in z]\n",
    "revenue.index = years\n",
    "rev_yr['revenue'] = [np.nan, 1.372290e+09,1.398244e+09,1.535610e+08]"
   ]
  },
  {
   "cell_type": "markdown",
   "metadata": {},
   "source": [
    "## Correlation analysis \n",
    "\n",
    "<br> \n",
    "\n",
    "Here we used a heat map and a correlation analysis to quantify how our different features effect revenue. Our results were as follows: \n",
    "\n",
    "\n",
    "1) Our revenues show strong correlations with our sentiment; We see below that negative or neutral sentiments adversely impact revenues with a -68% correlation factor between negative reviews and revenue, and a -57% correlation with neutral sentiments. This means that an increase in negative or neutral reviews decreases our revenues \n",
    "\n",
    "\n",
    "2) We also observe a high positive correlation between revenue and positive reviews with a 62% correlation \n",
    "\n",
    "\n",
    "\n",
    "3) Our review counts show a high positive correlation of 61% as well, this is within expectation as the more reviews you have the more visitors you had on average which in turn generates more revenue \n",
    "\n",
    "\n",
    "4) Lastly we see a surprising negative correlation between the average word count of the review and the revenue, suggesting that a higher word count in a review decreases the revenue. This is contrary to our earlier analysis and since our data was imbalanced and this feature was not normalized, we can safely ignore this feature for now especially since the correlation factor was low. "
   ]
  },
  {
   "cell_type": "code",
   "execution_count": 383,
   "metadata": {},
   "outputs": [
    {
     "data": {
      "image/png": "[encoded data removed]",
      "text/plain": [
       "<Figure size 720x504 with 2 Axes>"
      ]
     },
     "metadata": {},
     "output_type": "display_data"
    },
    {
     "name": "stdout",
     "output_type": "stream",
     "text": [
      "\n",
      "\n",
      "Correlation Statistics:\n",
      "\n"
     ]
    },
    {
     "data": {
      "text/html": [
       "<div>\n",
       "<style scoped>\n",
       "    .dataframe tbody tr th:only-of-type {\n",
       "        vertical-align: middle;\n",
       "    }\n",
       "\n",
       "    .dataframe tbody tr th {\n",
       "        vertical-align: top;\n",
       "    }\n",
       "\n",
       "    .dataframe thead th {\n",
       "        text-align: right;\n",
       "    }\n",
       "</style>\n",
       "<table border=\"1\" class=\"dataframe\">\n",
       "  <thead>\n",
       "    <tr style=\"text-align: right;\">\n",
       "      <th></th>\n",
       "      <th>rating_0_percent</th>\n",
       "      <th>rating_1_percent</th>\n",
       "      <th>rating_2_percent</th>\n",
       "      <th>word_count_avg</th>\n",
       "      <th>review_counts</th>\n",
       "      <th>revenue</th>\n",
       "    </tr>\n",
       "  </thead>\n",
       "  <tbody>\n",
       "    <tr>\n",
       "      <th>rating_0_percent</th>\n",
       "      <td>1.000000</td>\n",
       "      <td>0.966256</td>\n",
       "      <td>-0.982478</td>\n",
       "      <td>-0.636108</td>\n",
       "      <td>0.497923</td>\n",
       "      <td>-0.685252</td>\n",
       "    </tr>\n",
       "    <tr>\n",
       "      <th>rating_1_percent</th>\n",
       "      <td>0.966256</td>\n",
       "      <td>1.000000</td>\n",
       "      <td>-0.997333</td>\n",
       "      <td>-0.806470</td>\n",
       "      <td>0.522735</td>\n",
       "      <td>-0.574063</td>\n",
       "    </tr>\n",
       "    <tr>\n",
       "      <th>rating_2_percent</th>\n",
       "      <td>-0.982478</td>\n",
       "      <td>-0.997333</td>\n",
       "      <td>1.000000</td>\n",
       "      <td>0.763761</td>\n",
       "      <td>-0.519309</td>\n",
       "      <td>0.629765</td>\n",
       "    </tr>\n",
       "    <tr>\n",
       "      <th>word_count_avg</th>\n",
       "      <td>-0.636108</td>\n",
       "      <td>-0.806470</td>\n",
       "      <td>0.763761</td>\n",
       "      <td>1.000000</td>\n",
       "      <td>-0.265000</td>\n",
       "      <td>-0.443182</td>\n",
       "    </tr>\n",
       "    <tr>\n",
       "      <th>review_counts</th>\n",
       "      <td>0.497923</td>\n",
       "      <td>0.522735</td>\n",
       "      <td>-0.519309</td>\n",
       "      <td>-0.265000</td>\n",
       "      <td>1.000000</td>\n",
       "      <td>0.612492</td>\n",
       "    </tr>\n",
       "    <tr>\n",
       "      <th>revenue</th>\n",
       "      <td>-0.685252</td>\n",
       "      <td>-0.574063</td>\n",
       "      <td>0.629765</td>\n",
       "      <td>-0.443182</td>\n",
       "      <td>0.612492</td>\n",
       "      <td>1.000000</td>\n",
       "    </tr>\n",
       "  </tbody>\n",
       "</table>\n",
       "</div>"
      ],
      "text/plain": [
       "                  rating_0_percent  rating_1_percent  rating_2_percent  \\\n",
       "rating_0_percent          1.000000          0.966256         -0.982478   \n",
       "rating_1_percent          0.966256          1.000000         -0.997333   \n",
       "rating_2_percent         -0.982478         -0.997333          1.000000   \n",
       "word_count_avg           -0.636108         -0.806470          0.763761   \n",
       "review_counts             0.497923          0.522735         -0.519309   \n",
       "revenue                  -0.685252         -0.574063          0.629765   \n",
       "\n",
       "                  word_count_avg  review_counts   revenue  \n",
       "rating_0_percent       -0.636108       0.497923 -0.685252  \n",
       "rating_1_percent       -0.806470       0.522735 -0.574063  \n",
       "rating_2_percent        0.763761      -0.519309  0.629765  \n",
       "word_count_avg          1.000000      -0.265000 -0.443182  \n",
       "review_counts          -0.265000       1.000000  0.612492  \n",
       "revenue                -0.443182       0.612492  1.000000  "
      ]
     },
     "execution_count": 383,
     "metadata": {},
     "output_type": "execute_result"
    }
   ],
   "source": [
    "plt.title('Heat map showing the correlations of our features')\n",
    "sns.heatmap(rev_yr.corr())\n",
    "plt.show()\n",
    "\n",
    "print('\\n')\n",
    "print('Correlation Statistics:\\n')\n",
    "rev_yr.corr()"
   ]
  },
  {
   "cell_type": "markdown",
   "metadata": {},
   "source": [
    "## Further Correlation analysis \n",
    "\n",
    "<br> \n",
    "\n",
    "Due to lack of time I was unable to do some things which I believe will increase our confidence in how revenue is impacted by reviews, here are some of them: \n",
    "\n",
    "\n",
    "1) Breaking revenues and our analysis into quarterly data (which was my plan). This should give us a more accurate representation of the effects of sentiment and reviews on revenues \n",
    "\n",
    "\n",
    "2) Investigating and engineering features such as the average word count, we could have also broken those down into word counts of capital letter comments, comments containing certain words or tokens. This would have allowed us to further investigate what makes a review negative and how many reviews we had for each class of sentiments \n",
    "\n",
    "\n",
    "3) Finally with more time one could produce a transfer learning model composed of three stages: \n",
    "\n",
    "The first would be a sentiment analysis model where would constantly scrape and model the sentiments on a monthly or quarterly basis \n",
    "\n",
    "The second stage would be taking our sentiment scores along with other features (ex: google trends) as well as previous revenues to try and determine how that would effect revenue (increase, decrease, or stay the same) or even a regression analysis with the % change in revenue as our target \n",
    "\n",
    "\n",
    "\n",
    "The last stage of the model would be composed of a variety of time series models (like ARIMA) which would take our historic revenue change predictions and provide constantly updating forecasts"
   ]
  },
  {
   "cell_type": "markdown",
   "metadata": {},
   "source": [
    "# Sentiment modeling: \n",
    "<br>\n",
    "\n",
    "## Noise removal \n",
    "\n",
    "Here we cleaned our text data by removing stop words, unusual characters, and  html tags among others "
   ]
  },
  {
   "cell_type": "code",
   "execution_count": 389,
   "metadata": {},
   "outputs": [],
   "source": [
    "#importing libraries \n",
    "from nltk.corpus import stopwords \n",
    "from nltk.tokenize import word_tokenize\n",
    "import string"
   ]
  },
  {
   "cell_type": "code",
   "execution_count": 390,
   "metadata": {},
   "outputs": [],
   "source": [
    "#setting up stop words\n",
    "stop = set(stopwords.words('english'))\n",
    "punctuation = list(string.punctuation)\n",
    "stop.update(punctuation)"
   ]
  },
  {
   "cell_type": "code",
   "execution_count": 394,
   "metadata": {},
   "outputs": [],
   "source": [
    "def remove_stop(text,stop):\n",
    "    final_text = []\n",
    "    for word in word_tokenize(text): \n",
    "        if word.strip().lower() not in stop: \n",
    "            final_text.append(word.strip())\n",
    "    return \" \".join(final_text)\n",
    "\n",
    "def remove_paran_brack(text): \n",
    "    text = text.replace(')','')\n",
    "    text = text.replace('(','')\n",
    "    text = text.replace(']','')\n",
    "    text = text.replace('[','')\n",
    "    text = text.replace('\\'','')\n",
    "    return text\n",
    "\n",
    "def strip_html(text): \n",
    "    soup = BeautifulSoup(text, 'html.parser')\n",
    "    return soup.get_text()\n",
    "\n",
    "def remove_html_url(text):\n",
    "    #url \n",
    "    text = re.sub(r'http\\S+','',text) \n",
    "    return text \n",
    "\n",
    "def noise_removal(text,stop): \n",
    "    text = remove_stop(text,stop)\n",
    "    text = remove_paran_brack(text)\n",
    "    text = remove_html_url(text)\n",
    "    text = strip_html(text)\n",
    "    return text \n",
    "\n",
    "#updating features \n",
    "\n",
    "rev['review'] = rev['review'].apply(lambda x: noise_removal(x,stop))\n"
   ]
  },
  {
   "cell_type": "markdown",
   "metadata": {},
   "source": [
    "## Feature engineering: \n",
    "<br>\n",
    "Here we used td-idf vectorizer similar to bag of words but also takes into account frequency of appearance in all documents to create predictive features based on their frequency and context within the document / sentence \n",
    "\n",
    "<br>\n",
    "\n",
    "After transforming our features we end up with 9 predictive features each of which appeared more than 15% of the corpus\n",
    "\n",
    "\n"
   ]
  },
  {
   "cell_type": "code",
   "execution_count": 396,
   "metadata": {},
   "outputs": [],
   "source": [
    "from sklearn.feature_extraction.text import TfidfVectorizer"
   ]
  },
  {
   "cell_type": "code",
   "execution_count": 398,
   "metadata": {},
   "outputs": [],
   "source": [
    "#transoforming \n",
    "tf = TfidfVectorizer(strip_accents='ascii', \n",
    "                    stop_words='english',token_pattern= r'\\w{2,}'\n",
    "                    ,min_df = 0.15, max_df  = 1.0)\n",
    "to_transform = rev['review'].values\n",
    "tf_matrix = tf.fit_transform(to_transform)\n",
    "tf_matrix = tf_matrix.toarray()\n",
    "vocab = tf.get_feature_names()\n",
    "new_df = pd.DataFrame(tf_matrix,columns=vocab)"
   ]
  },
  {
   "cell_type": "code",
   "execution_count": 404,
   "metadata": {},
   "outputs": [],
   "source": [
    "# new dataset \n",
    "data = new_df.join(rev)\n",
    "data.drop(['quarter','year'],axis = 1,inplace = True)"
   ]
  },
  {
   "cell_type": "code",
   "execution_count": 405,
   "metadata": {},
   "outputs": [
    {
     "data": {
      "text/plain": [
       "(1653, 9)"
      ]
     },
     "execution_count": 405,
     "metadata": {},
     "output_type": "execute_result"
    }
   ],
   "source": [
    "new_df.shape"
   ]
  },
  {
   "cell_type": "markdown",
   "metadata": {},
   "source": [
    "# Modeling "
   ]
  },
  {
   "cell_type": "markdown",
   "metadata": {},
   "source": [
    "## Splitting data training \n",
    "\n",
    "Here we split the data into our train and test set and fit our classifier models to predict sentiment "
   ]
  },
  {
   "cell_type": "code",
   "execution_count": 411,
   "metadata": {},
   "outputs": [],
   "source": [
    "#imports\n",
    "from sklearn.model_selection import train_test_split\n",
    "from sklearn.linear_model import Perceptron\n",
    "from sklearn.linear_model import SGDClassifier\n",
    "from sklearn.svm import LinearSVC\n",
    "from sklearn.linear_model import PassiveAggressiveClassifier\n",
    "from sklearn.naive_bayes import MultinomialNB\n",
    "from sklearn.ensemble import RandomForestClassifier\n",
    "from sklearn.metrics import classification_report\n",
    "from sklearn.metrics import accuracy_score, hamming_loss"
   ]
  },
  {
   "cell_type": "code",
   "execution_count": 414,
   "metadata": {},
   "outputs": [],
   "source": [
    "x = data.drop(['rating','review'],axis = 1)\n",
    "y = data.loc[:,'rating']\n",
    "\n",
    "x_train, x_test, y_train, y_test = train_test_split(x,y,test_size = 0.3, random_state =0)"
   ]
  },
  {
   "cell_type": "code",
   "execution_count": 415,
   "metadata": {},
   "outputs": [
    {
     "data": {
      "text/plain": [
       "MultinomialNB(alpha=0.01, class_prior=None, fit_prior=True)"
      ]
     },
     "execution_count": 415,
     "metadata": {},
     "output_type": "execute_result"
    }
   ],
   "source": [
    "#Fitting and training our classifiers \n",
    "\n",
    "#Perceptron \n",
    "per = Perceptron(n_jobs= -1)\n",
    "per.fit(x_train,y_train)\n",
    "\n",
    "# SGD Linear Classifier \n",
    "sgd = SGDClassifier(n_jobs= -1 )\n",
    "sgd.fit(x_train,y_train)\n",
    "\n",
    "#SVC classifier \n",
    "svc = LinearSVC(random_state= 0)\n",
    "svc.fit(x_train,y_train)\n",
    "\n",
    "#Naive Bayes classifier for multinomial models\n",
    "nb = MultinomialNB(alpha= 0.01)\n",
    "nb.fit(x_train,y_train)"
   ]
  },
  {
   "cell_type": "markdown",
   "metadata": {},
   "source": [
    "## Metric Choices:\n",
    "\n",
    "Subset accuracy and the Hamming loss were chosen as metrics for the following reasons:\n",
    "\n",
    "\n",
    "Since our problem is a multi-label classification problem, we must take into account that a prediction which contains a subset of the actual classes is better than one which contains none of them.\n",
    "\n",
    "\n",
    "The Exact Match Ratio gives us the percentage of matches that have all their labels correctly classified, this has the disadvantage of ignoring partially correct answers, but will be useful as a strict metric of our model's ability to correctly classify all the labels.\n",
    "\n",
    "\n",
    "To obtain a more accurate view of the performance of our classifier on a label-by-label basis we will also use the Hamming loss which is the fraction of labels that are incorrectly predicted (ie; fraction of wrong labels over total number of labels)."
   ]
  },
  {
   "cell_type": "markdown",
   "metadata": {},
   "source": [
    "## Predictions and Model Evaluation\n",
    "Here we predict on the data we held out for validation and use a classification report to check our model's predictive power\n",
    "\n",
    "For evaluating our model we will use the classification report and the hamming loss "
   ]
  },
  {
   "cell_type": "markdown",
   "metadata": {},
   "source": [
    "### Results: \n",
    "<br>\n",
    "\n",
    "Unfortunately due to the small dataset and not having time to use models that take up more computational power like random forest or neural networks, our results weren't satisfactory. \n",
    "\n",
    "\n",
    "Our best model was multinomial bayes with a 54% subset accuracy, a 45% hamming loss, and an F1-score of 51% \n",
    "\n",
    "\n",
    "As discussed, these were more base models, but the model can easily be extended upon data increase, features from more sources, and more detailed feature engineering. "
   ]
  },
  {
   "cell_type": "code",
   "execution_count": 416,
   "metadata": {
    "code_folding": [
     0
    ]
   },
   "outputs": [],
   "source": [
    "#predict\n",
    "per_pred = per.predict(x_test)\n",
    "sgd_pred= sgd.predict(x_test)\n",
    "nb_pred = nb.predict(x_test)\n",
    "svc_pred = svc.predict(x_test)"
   ]
  },
  {
   "cell_type": "code",
   "execution_count": 418,
   "metadata": {
    "code_folding": [
     0
    ]
   },
   "outputs": [
    {
     "name": "stdout",
     "output_type": "stream",
     "text": [
      "Detailed Model Results: \n",
      "\n",
      "Perceptron classification report: \n",
      "              precision    recall  f1-score   support\n",
      "\n",
      "           0       0.11      1.00      0.21        57\n",
      "           1       0.00      0.00      0.00       169\n",
      "           2       0.00      0.00      0.00       270\n",
      "\n",
      "    accuracy                           0.11       496\n",
      "   macro avg       0.04      0.33      0.07       496\n",
      "weighted avg       0.01      0.11      0.02       496\n",
      "\n",
      "\n",
      "\n",
      "Perceptron Subset Accuracy: 11.492%\n",
      "\n",
      "Perceptron Hamming Loss: 88.508%\n",
      "\n",
      "\n",
      "\n",
      "\n",
      "\n",
      "SGD classification report: \n",
      "              precision    recall  f1-score   support\n",
      "\n",
      "           0       0.00      0.00      0.00        57\n",
      "           1       0.38      0.85      0.53       169\n",
      "           2       0.73      0.33      0.45       270\n",
      "\n",
      "    accuracy                           0.47       496\n",
      "   macro avg       0.37      0.39      0.33       496\n",
      "weighted avg       0.53      0.47      0.42       496\n",
      "\n",
      "\n",
      "\n",
      "SGD Subset Accuracy: 46.573%\n",
      "\n",
      "SGD Hamming Loss: 53.427%\n",
      "\n",
      "\n",
      "\n",
      "\n",
      "\n",
      "NB classification report: \n",
      "              precision    recall  f1-score   support\n",
      "\n",
      "           0       0.00      0.00      0.00        57\n",
      "           1       0.00      0.00      0.00       169\n",
      "           2       0.54      1.00      0.70       270\n",
      "\n",
      "    accuracy                           0.54       496\n",
      "   macro avg       0.18      0.33      0.23       496\n",
      "weighted avg       0.30      0.54      0.38       496\n",
      "\n",
      "\n",
      "\n",
      "NB Subset Accuracy: 54.435%\n",
      "\n",
      "NB Hamming Loss: 45.565%\n",
      "\n",
      "\n",
      "\n",
      "\n",
      "\n",
      "LinearSVC classification report: \n",
      "              precision    recall  f1-score   support\n",
      "\n",
      "           0       0.00      0.00      0.00        57\n",
      "           1       0.35      0.96      0.52       169\n",
      "           2       0.79      0.10      0.17       270\n",
      "\n",
      "    accuracy                           0.38       496\n",
      "   macro avg       0.38      0.35      0.23       496\n",
      "weighted avg       0.55      0.38      0.27       496\n",
      "\n",
      "\n",
      "\n",
      "LinearSVC Subset Accuracy: 38.105%\n",
      "\n",
      "LinearSVC Hamming Loss: 61.895%\n",
      "\n",
      "\n",
      "\n",
      "\n",
      "\n"
     ]
    }
   ],
   "source": [
    "# Classification Reports \n",
    "\n",
    "models = ['Perceptron','SGD', 'NB', 'LinearSVC']\n",
    "preds = [per_pred, sgd_pred, nb_pred, svc_pred]\n",
    "\n",
    "def class_report(models, preds): \n",
    "\n",
    " \n",
    "\n",
    "    print('Detailed Model Results: \\n')\n",
    "    for pred,model in zip(preds,models):\n",
    "\n",
    "        print(f\"{model} classification report: \\n{classification_report(y_test,pred)}\")\n",
    "        print('\\n')\n",
    "        print(f\"{model} Subset Accuracy: {accuracy_score(y_test,pred):.3%}\\n\")\n",
    "        print(f\"{model} Hamming Loss: {hamming_loss(y_test,pred, ):.3%}\\n\")\n",
    "        print('\\n')\n",
    "        print('\\n')\n",
    "\n",
    "class_report(models,preds)"
   ]
  },
  {
   "cell_type": "code",
   "execution_count": null,
   "metadata": {},
   "outputs": [],
   "source": []
  }
 ],
 "metadata": {
  "kernelspec": {
   "display_name": "Python 3",
   "language": "python",
   "name": "python3"
  },
  "language_info": {
   "codemirror_mode": {
    "name": "ipython",
    "version": 3
   },
   "file_extension": ".py",
   "mimetype": "text/x-python",
   "name": "python",
   "nbconvert_exporter": "python",
   "pygments_lexer": "ipython3",
   "version": "3.7.6"
  },
  "toc": {
   "base_numbering": 1,
   "nav_menu": {},
   "number_sections": true,
   "sideBar": true,
   "skip_h1_title": false,
   "title_cell": "Table of Contents",
   "title_sidebar": "Contents",
   "toc_cell": false,
   "toc_position": {},
   "toc_section_display": true,
   "toc_window_display": false
  },
  "varInspector": {
   "cols": {
    "lenName": 16,
    "lenType": 16,
    "lenVar": 40
   },
   "kernels_config": {
    "python": {
     "delete_cmd_postfix": "",
     "delete_cmd_prefix": "del ",
     "library": "var_list.py",
     "varRefreshCmd": "print(var_dic_list())"
    },
    "r": {
     "delete_cmd_postfix": ") ",
     "delete_cmd_prefix": "rm(",
     "library": "var_list.r",
     "varRefreshCmd": "cat(var_dic_list()) "
    }
   },
   "types_to_exclude": [
    "module",
    "function",
    "builtin_function_or_method",
    "instance",
    "_Feature"
   ],
   "window_display": false
  }
 },
 "nbformat": 4,
 "nbformat_minor": 4
}
