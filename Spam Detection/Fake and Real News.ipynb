{
 "cells": [
  {
   "cell_type": "code",
   "execution_count": 241,
   "metadata": {},
   "outputs": [],
   "source": [
    "import numpy as np \n",
    "import pandas as pd \n",
    "import matplotlib.pyplot as plt \n",
    "import seaborn as sns \n",
    "import nltk as nlp\n",
    "import dask.dataframe as dd\n",
    "from bs4 import BeautifulSoup"
   ]
  },
  {
   "cell_type": "code",
   "execution_count": 242,
   "metadata": {},
   "outputs": [],
   "source": [
    "plt.rc(\"font\",size = 15)\n",
    "sns.set(style=\"dark\")\n",
    "sns.set(style=\"darkgrid\")\n",
    "sns.set(rc={'figure.figsize':(10,10)})\n",
    "%matplotlib inline\n",
    "pd.set_option('display.max_columns',500)\n",
    "import string"
   ]
  },
  {
   "cell_type": "markdown",
   "metadata": {},
   "source": [
    "# read in data and overview "
   ]
  },
  {
   "cell_type": "markdown",
   "metadata": {},
   "source": [
    "we notice the following; \n",
    "\n",
    "1) we have no missing values \n",
    "\n",
    "2) our main columns are the title, subject, and the text of the article \n",
    "\n",
    "3) the titles of the fake news articles have many more capitalized words than the real ones \n",
    "\n",
    "4) the fake news have more subjects "
   ]
  },
  {
   "cell_type": "code",
   "execution_count": 271,
   "metadata": {
    "code_folding": []
   },
   "outputs": [],
   "source": [
    "#reading in data \n",
    "fake = pd.read_csv('fake.csv')\n",
    "real = pd.read_csv('true.csv')"
   ]
  },
  {
   "cell_type": "code",
   "execution_count": 273,
   "metadata": {
    "code_folding": []
   },
   "outputs": [
    {
     "name": "stdout",
     "output_type": "stream",
     "text": [
      "Headers\n",
      "\n"
     ]
    },
    {
     "data": {
      "text/html": [
       "<div>\n",
       "<style scoped>\n",
       "    .dataframe tbody tr th:only-of-type {\n",
       "        vertical-align: middle;\n",
       "    }\n",
       "\n",
       "    .dataframe tbody tr th {\n",
       "        vertical-align: top;\n",
       "    }\n",
       "\n",
       "    .dataframe thead th {\n",
       "        text-align: right;\n",
       "    }\n",
       "</style>\n",
       "<table border=\"1\" class=\"dataframe\">\n",
       "  <thead>\n",
       "    <tr style=\"text-align: right;\">\n",
       "      <th></th>\n",
       "      <th>title</th>\n",
       "      <th>text</th>\n",
       "      <th>subject</th>\n",
       "      <th>date</th>\n",
       "    </tr>\n",
       "  </thead>\n",
       "  <tbody>\n",
       "    <tr>\n",
       "      <th>0</th>\n",
       "      <td>Donald Trump Sends Out Embarrassing New Year’...</td>\n",
       "      <td>Donald Trump just couldn t wish all Americans ...</td>\n",
       "      <td>News</td>\n",
       "      <td>December 31, 2017</td>\n",
       "    </tr>\n",
       "    <tr>\n",
       "      <th>1</th>\n",
       "      <td>Drunk Bragging Trump Staffer Started Russian ...</td>\n",
       "      <td>House Intelligence Committee Chairman Devin Nu...</td>\n",
       "      <td>News</td>\n",
       "      <td>December 31, 2017</td>\n",
       "    </tr>\n",
       "    <tr>\n",
       "      <th>2</th>\n",
       "      <td>Sheriff David Clarke Becomes An Internet Joke...</td>\n",
       "      <td>On Friday, it was revealed that former Milwauk...</td>\n",
       "      <td>News</td>\n",
       "      <td>December 30, 2017</td>\n",
       "    </tr>\n",
       "    <tr>\n",
       "      <th>3</th>\n",
       "      <td>Trump Is So Obsessed He Even Has Obama’s Name...</td>\n",
       "      <td>On Christmas day, Donald Trump announced that ...</td>\n",
       "      <td>News</td>\n",
       "      <td>December 29, 2017</td>\n",
       "    </tr>\n",
       "    <tr>\n",
       "      <th>4</th>\n",
       "      <td>Pope Francis Just Called Out Donald Trump Dur...</td>\n",
       "      <td>Pope Francis used his annual Christmas Day mes...</td>\n",
       "      <td>News</td>\n",
       "      <td>December 25, 2017</td>\n",
       "    </tr>\n",
       "  </tbody>\n",
       "</table>\n",
       "</div>"
      ],
      "text/plain": [
       "                                               title  \\\n",
       "0   Donald Trump Sends Out Embarrassing New Year’...   \n",
       "1   Drunk Bragging Trump Staffer Started Russian ...   \n",
       "2   Sheriff David Clarke Becomes An Internet Joke...   \n",
       "3   Trump Is So Obsessed He Even Has Obama’s Name...   \n",
       "4   Pope Francis Just Called Out Donald Trump Dur...   \n",
       "\n",
       "                                                text subject  \\\n",
       "0  Donald Trump just couldn t wish all Americans ...    News   \n",
       "1  House Intelligence Committee Chairman Devin Nu...    News   \n",
       "2  On Friday, it was revealed that former Milwauk...    News   \n",
       "3  On Christmas day, Donald Trump announced that ...    News   \n",
       "4  Pope Francis used his annual Christmas Day mes...    News   \n",
       "\n",
       "                date  \n",
       "0  December 31, 2017  \n",
       "1  December 31, 2017  \n",
       "2  December 30, 2017  \n",
       "3  December 29, 2017  \n",
       "4  December 25, 2017  "
      ]
     },
     "metadata": {},
     "output_type": "display_data"
    },
    {
     "data": {
      "text/html": [
       "<div>\n",
       "<style scoped>\n",
       "    .dataframe tbody tr th:only-of-type {\n",
       "        vertical-align: middle;\n",
       "    }\n",
       "\n",
       "    .dataframe tbody tr th {\n",
       "        vertical-align: top;\n",
       "    }\n",
       "\n",
       "    .dataframe thead th {\n",
       "        text-align: right;\n",
       "    }\n",
       "</style>\n",
       "<table border=\"1\" class=\"dataframe\">\n",
       "  <thead>\n",
       "    <tr style=\"text-align: right;\">\n",
       "      <th></th>\n",
       "      <th>title</th>\n",
       "      <th>text</th>\n",
       "      <th>subject</th>\n",
       "      <th>date</th>\n",
       "    </tr>\n",
       "  </thead>\n",
       "  <tbody>\n",
       "    <tr>\n",
       "      <th>0</th>\n",
       "      <td>As U.S. budget fight looms, Republicans flip t...</td>\n",
       "      <td>WASHINGTON (Reuters) - The head of a conservat...</td>\n",
       "      <td>politicsNews</td>\n",
       "      <td>December 31, 2017</td>\n",
       "    </tr>\n",
       "    <tr>\n",
       "      <th>1</th>\n",
       "      <td>U.S. military to accept transgender recruits o...</td>\n",
       "      <td>WASHINGTON (Reuters) - Transgender people will...</td>\n",
       "      <td>politicsNews</td>\n",
       "      <td>December 29, 2017</td>\n",
       "    </tr>\n",
       "    <tr>\n",
       "      <th>2</th>\n",
       "      <td>Senior U.S. Republican senator: 'Let Mr. Muell...</td>\n",
       "      <td>WASHINGTON (Reuters) - The special counsel inv...</td>\n",
       "      <td>politicsNews</td>\n",
       "      <td>December 31, 2017</td>\n",
       "    </tr>\n",
       "    <tr>\n",
       "      <th>3</th>\n",
       "      <td>FBI Russia probe helped by Australian diplomat...</td>\n",
       "      <td>WASHINGTON (Reuters) - Trump campaign adviser ...</td>\n",
       "      <td>politicsNews</td>\n",
       "      <td>December 30, 2017</td>\n",
       "    </tr>\n",
       "    <tr>\n",
       "      <th>4</th>\n",
       "      <td>Trump wants Postal Service to charge 'much mor...</td>\n",
       "      <td>SEATTLE/WASHINGTON (Reuters) - President Donal...</td>\n",
       "      <td>politicsNews</td>\n",
       "      <td>December 29, 2017</td>\n",
       "    </tr>\n",
       "  </tbody>\n",
       "</table>\n",
       "</div>"
      ],
      "text/plain": [
       "                                               title  \\\n",
       "0  As U.S. budget fight looms, Republicans flip t...   \n",
       "1  U.S. military to accept transgender recruits o...   \n",
       "2  Senior U.S. Republican senator: 'Let Mr. Muell...   \n",
       "3  FBI Russia probe helped by Australian diplomat...   \n",
       "4  Trump wants Postal Service to charge 'much mor...   \n",
       "\n",
       "                                                text       subject  \\\n",
       "0  WASHINGTON (Reuters) - The head of a conservat...  politicsNews   \n",
       "1  WASHINGTON (Reuters) - Transgender people will...  politicsNews   \n",
       "2  WASHINGTON (Reuters) - The special counsel inv...  politicsNews   \n",
       "3  WASHINGTON (Reuters) - Trump campaign adviser ...  politicsNews   \n",
       "4  SEATTLE/WASHINGTON (Reuters) - President Donal...  politicsNews   \n",
       "\n",
       "                 date  \n",
       "0  December 31, 2017   \n",
       "1  December 29, 2017   \n",
       "2  December 31, 2017   \n",
       "3  December 30, 2017   \n",
       "4  December 29, 2017   "
      ]
     },
     "metadata": {},
     "output_type": "display_data"
    },
    {
     "name": "stdout",
     "output_type": "stream",
     "text": [
      "Overview \n",
      "\n",
      "<class 'pandas.core.frame.DataFrame'>\n",
      "RangeIndex: 23481 entries, 0 to 23480\n",
      "Data columns (total 4 columns):\n",
      " #   Column   Non-Null Count  Dtype \n",
      "---  ------   --------------  ----- \n",
      " 0   title    23481 non-null  object\n",
      " 1   text     23481 non-null  object\n",
      " 2   subject  23481 non-null  object\n",
      " 3   date     23481 non-null  object\n",
      "dtypes: object(4)\n",
      "memory usage: 733.9+ KB\n"
     ]
    },
    {
     "data": {
      "text/plain": [
       "None"
      ]
     },
     "metadata": {},
     "output_type": "display_data"
    },
    {
     "name": "stdout",
     "output_type": "stream",
     "text": [
      "<class 'pandas.core.frame.DataFrame'>\n",
      "RangeIndex: 21417 entries, 0 to 21416\n",
      "Data columns (total 4 columns):\n",
      " #   Column   Non-Null Count  Dtype \n",
      "---  ------   --------------  ----- \n",
      " 0   title    21417 non-null  object\n",
      " 1   text     21417 non-null  object\n",
      " 2   subject  21417 non-null  object\n",
      " 3   date     21417 non-null  object\n",
      "dtypes: object(4)\n",
      "memory usage: 669.4+ KB\n"
     ]
    },
    {
     "data": {
      "text/plain": [
       "None"
      ]
     },
     "metadata": {},
     "output_type": "display_data"
    },
    {
     "name": "stdout",
     "output_type": "stream",
     "text": [
      "Null values \n",
      "\n",
      "Fake News \n",
      " title      0\n",
      "text       0\n",
      "subject    0\n",
      "date       0\n",
      "dtype: int64\n",
      "\n",
      "Real News \n",
      " title      0\n",
      "text       0\n",
      "subject    0\n",
      "date       0\n",
      "dtype: int64\n"
     ]
    }
   ],
   "source": [
    "# viewing the data \n",
    "def over(fake,real):\n",
    "    print('Headers\\n')\n",
    "    display(fake.head(),real.head())\n",
    "    \n",
    "    print('Overview \\n')\n",
    "    display(fake.info())\n",
    "    display(real.info())\n",
    "    \n",
    "    print('Null values \\n')\n",
    "    print('Fake News \\n', fake.isna().sum())\n",
    "\n",
    "    print('\\nReal News \\n',real.isna().sum())\n",
    "over(fake,real)"
   ]
  },
  {
   "cell_type": "code",
   "execution_count": 260,
   "metadata": {
    "code_folding": [
     0
    ]
   },
   "outputs": [
    {
     "name": "stdout",
     "output_type": "stream",
     "text": [
      "Real:\n",
      " politicsNews    11272\n",
      "worldnews       10145\n",
      "Name: subject, dtype: int64\n",
      "\n",
      "Fake: \n",
      " News               9050\n",
      "politics           6841\n",
      "left-news          4459\n",
      "Government News    1570\n",
      "US_News             783\n",
      "Middle-east         778\n",
      "Name: subject, dtype: int64\n"
     ]
    }
   ],
   "source": [
    "# Subject value counts\n",
    "print('Real:\\n',real.subject.value_counts().compute())\n",
    "print('\\nFake: \\n',fake.subject.value_counts().compute())\n"
   ]
  },
  {
   "cell_type": "code",
   "execution_count": 274,
   "metadata": {
    "code_folding": [
     0
    ]
   },
   "outputs": [],
   "source": [
    "# category variable and combining  \n",
    "fake['cat'] = 0 \n",
    "real['cat'] = 1\n",
    "data = pd.concat([real,fake])"
   ]
  },
  {
   "cell_type": "markdown",
   "metadata": {},
   "source": [
    "# EDA "
   ]
  },
  {
   "cell_type": "markdown",
   "metadata": {},
   "source": [
    "Through our EDA we find the following \n",
    "\n",
    "1) our dataset is balanced and contains proportional amounts of both categories \n",
    "\n",
    "2) we have different subjects for each category so we should exclude them from our final analysis \n",
    "\n",
    "3) Looking at the counts of capital letters in our titles, we conclude that fake news articles contain many more capitalized words and this should be useful upon prediction \n",
    "\n"
   ]
  },
  {
   "cell_type": "code",
   "execution_count": 36,
   "metadata": {},
   "outputs": [],
   "source": [
    "import re "
   ]
  },
  {
   "cell_type": "code",
   "execution_count": 279,
   "metadata": {
    "code_folding": []
   },
   "outputs": [
    {
     "data": {
      "image/png": "[encoded data removed]",
      "text/plain": [
       "<Figure size 864x864 with 3 Axes>"
      ]
     },
     "metadata": {
      "needs_background": "light"
     },
     "output_type": "display_data"
    }
   ],
   "source": [
    "#visualizations \n",
    "fig, axs = plt.subplots(3,1,figsize = (12,12))\n",
    "plt.subplots_adjust(wspace = 0.7,hspace = 0.5)\n",
    "#looking at counts of article types \n",
    "sns.countplot(x = 'cat',data = data,ax = axs[0])\n",
    "axs[0].set_title('Counts of article types')\n",
    "\n",
    "#looking at subject types\n",
    "sns.countplot(x = 'subject',data = data,ax =axs[1])\n",
    "axs[1].set_title('Counts of subject categories')\n",
    "\n",
    "#looking at counts of capital letters over 5 in the title \n",
    "\n",
    "sns.countplot(data = data.loc[data.cap_count > 5,:],x = 'cat',ax= axs[2])\n",
    "axs[2].set_title('counts of capital letters over 5 in the title')\n",
    "plt.show()"
   ]
  },
  {
   "cell_type": "markdown",
   "metadata": {},
   "source": [
    "## finding counts of capital letters"
   ]
  },
  {
   "cell_type": "code",
   "execution_count": 278,
   "metadata": {
    "code_folding": [
     0
    ]
   },
   "outputs": [],
   "source": [
    "#finding capital letter counts and creating a new feature \n",
    "fk_caps= data.loc[data['cat'] == 0,'title'].apply(lambda x: re.findall(r'^.*[A-Z]{5}.*$',x)).to_list()\n",
    "real_caps = data.loc[data['cat'] == 1,'title'].apply(lambda x: re.findall(r'^.*[A-Z]{5}.*$',x)).to_list()\n",
    "real_caps = [x for x in real_caps if x]\n",
    "fk_caps = [x for x in fk_caps if x]\n",
    "data['cap_count'] = data['title'].apply(lambda x: sum(1 for x in x if x.isupper()))"
   ]
  },
  {
   "cell_type": "markdown",
   "metadata": {},
   "source": [
    "# PreProcessing "
   ]
  },
  {
   "cell_type": "code",
   "execution_count": 280,
   "metadata": {
    "code_folding": [
     0
    ]
   },
   "outputs": [],
   "source": [
    "#delete subject and date columns \n",
    "del data['subject']\n",
    "del data['date']"
   ]
  },
  {
   "cell_type": "code",
   "execution_count": 281,
   "metadata": {
    "code_folding": [
     0
    ]
   },
   "outputs": [],
   "source": [
    "#imports \n",
    "from nltk.corpus import stopwords \n",
    "from nltk.tokenize import word_tokenize"
   ]
  },
  {
   "cell_type": "markdown",
   "metadata": {},
   "source": [
    "## removing noise "
   ]
  },
  {
   "cell_type": "markdown",
   "metadata": {},
   "source": [
    "Here we accomplished the following: \n",
    "\n",
    "1) removed html tags \n",
    "\n",
    "2) removed stopwords (hashtags, and punctuations)\n",
    "\n",
    "3) "
   ]
  },
  {
   "cell_type": "code",
   "execution_count": 282,
   "metadata": {
    "code_folding": [
     0
    ]
   },
   "outputs": [],
   "source": [
    "#setting up stop words\n",
    "stop = set(stopwords.words('english'))\n",
    "punctuation = list(string.punctuation)\n",
    "stop.update(punctuation)"
   ]
  },
  {
   "cell_type": "code",
   "execution_count": 320,
   "metadata": {
    "code_folding": [
     0
    ]
   },
   "outputs": [],
   "source": [
    "def dsk_clean(df): \n",
    "    df['text'] = df['text'].apply(lambda x: noise_removal(x,stop))\n",
    "    df['title'] = df['title'].apply(lambda x: noise_removal(x,stop))\n",
    "    return df"
   ]
  },
  {
   "cell_type": "code",
   "execution_count": 321,
   "metadata": {},
   "outputs": [],
   "source": [
    "dsk = dd.from_pandas(data,npartitions=15) "
   ]
  },
  {
   "cell_type": "code",
   "execution_count": 322,
   "metadata": {},
   "outputs": [],
   "source": [
    "result = dsk.map_partitions(dsk_clean,meta = data)"
   ]
  },
  {
   "cell_type": "code",
   "execution_count": 323,
   "metadata": {},
   "outputs": [],
   "source": [
    "dsk = result.compute()"
   ]
  },
  {
   "cell_type": "code",
   "execution_count": 326,
   "metadata": {
    "code_folding": [
     8
    ]
   },
   "outputs": [],
   "source": [
    "# Removal \n",
    "def remove_stop(text,stop):\n",
    "    final_text = []\n",
    "    for word in word_tokenize(text): \n",
    "        if word.strip().lower() not in stop: \n",
    "            final_text.append(word.strip())\n",
    "    return \" \".join(final_text)\n",
    "\n",
    "def remove_paran_brack(text): \n",
    "    text = re.sub(r'\\([^)]+\\)','',text)\n",
    "    return re.sub(r'\\[[^]]+\\]','',text) \n",
    "\n",
    "def strip_html(text): \n",
    "    soup = BeautifulSoup(text, 'html.parser')\n",
    "    return soup.get_text()\n",
    "\n",
    "def remove_html_url(text):\n",
    "    #url \n",
    "    text = re.sub(r'http\\S+','',text) \n",
    "    return text \n",
    "\n",
    "def noise_removal(text,stop): \n",
    "    text = remove_stop(text,stop)\n",
    "    text = remove_paran_brack(text)\n",
    "    text = remove_html_url(text)\n",
    "    text = strip_html(text)\n",
    "    return text \n",
    "\n",
    "#updating features \n",
    "\n",
    "data['text'] = data['text'].apply(lambda x: noise_removal(x,stop))\n",
    "data['title'] = data['title'].apply(lambda x: noise_removal(x,stop))"
   ]
  },
  {
   "cell_type": "markdown",
   "metadata": {},
   "source": [
    "## Lexicon Normalization "
   ]
  },
  {
   "cell_type": "code",
   "execution_count": 328,
   "metadata": {
    "code_folding": [
     0
    ]
   },
   "outputs": [],
   "source": [
    "#import \n",
    "from nltk.stem.wordnet import WordNetLemmatizer\n",
    "from nltk.stem.porter import PorterStemmer"
   ]
  },
  {
   "cell_type": "code",
   "execution_count": 357,
   "metadata": {
    "code_folding": [
     0
    ]
   },
   "outputs": [],
   "source": [
    "#applying\n",
    "lem = WordNetLemmatizer()\n",
    "stem = PorterStemmer()"
   ]
  },
  {
   "cell_type": "code",
   "execution_count": 359,
   "metadata": {
    "code_folding": [
     0,
     1
    ]
   },
   "outputs": [],
   "source": [
    "#lemmatize \n",
    "def lema(text): \n",
    "    text = text.split()\n",
    "    new = [lem.lemmatize(x,'v') for x in text]\n",
    "    return \" \".join(new)\n",
    "\n",
    "data['title'] = data['title'].apply(lambda x: lema(x))\n",
    "data['text'] = data['text'].apply(lambda x: lema(x))"
   ]
  },
  {
   "cell_type": "markdown",
   "metadata": {},
   "source": [
    "# Feature Eng and sklearn "
   ]
  },
  {
   "cell_type": "code",
   "execution_count": 365,
   "metadata": {},
   "outputs": [],
   "source": [
    "#tf-idf \n",
    "from sklearn.feature_extraction.text import TfidfVectorizer"
   ]
  },
  {
   "cell_type": "code",
   "execution_count": 450,
   "metadata": {},
   "outputs": [],
   "source": [
    "def tf_transform(df, cols): \n",
    "    tf = TfidfVectorizer(strip_accents='ascii', \n",
    "                    stop_words='english',token_pattern= r'\\w{2,}'\n",
    "                    ,min_df = 0.15, max_df  = 1.0)\n",
    "    new_df = pd.DataFrame()\n",
    "    for col in cols: \n",
    "        to_transform = df[col].values\n",
    "        tf_matrix = tf.fit_transform(to_transform)\n",
    "        tf_matrix = tf_matrix.toarray()\n",
    "        vocab = tf.get_feature_names()\n",
    "        new_df = pd.DataFrame(tf_matrix,columns=vocab)\n",
    "        \n",
    "    \n",
    "    return new_df"
   ]
  },
  {
   "cell_type": "code",
   "execution_count": 453,
   "metadata": {
    "code_folding": [
     0
    ],
    "scrolled": false
   },
   "outputs": [],
   "source": [
    "#transform\n",
    "data_tf = tf_transform(data,['text'])\n",
    "data_tf2 = tf_transform(data,['title'])"
   ]
  },
  {
   "cell_type": "code",
   "execution_count": 463,
   "metadata": {
    "code_folding": [
     0
    ]
   },
   "outputs": [],
   "source": [
    "#joining \n",
    "data =data[['cat','cap_count']].join(data_tf)\n",
    "data[['trump','video']] = data_tf2[['trump','video']]"
   ]
  },
  {
   "cell_type": "markdown",
   "metadata": {},
   "source": [
    "## train-test split and modeling "
   ]
  },
  {
   "cell_type": "markdown",
   "metadata": {},
   "source": [
    "## Model and results \n",
    "\n",
    "We observe that our best model is LinearSVC; which accurately classified the real and fake news articles 99% of the time. \n"
   ]
  },
  {
   "cell_type": "code",
   "execution_count": 495,
   "metadata": {
    "code_folding": [
     0
    ]
   },
   "outputs": [],
   "source": [
    "#imports\n",
    "from sklearn.model_selection import train_test_split\n",
    "from sklearn.naive_bayes import BernoulliNB\n",
    "from sklearn.svm import LinearSVC\n",
    "from sklearn.linear_model import SGDClassifier\n",
    "from sklearn.metrics import accuracy_score\n",
    "from sklearn.metrics import classification_report\n",
    "from sklearn.metrics import roc_auc_score"
   ]
  },
  {
   "cell_type": "code",
   "execution_count": 478,
   "metadata": {},
   "outputs": [],
   "source": [
    "x = data.drop('cat',axis = 1)\n",
    "y = data.loc[:,'cat']\n",
    "x_train, x_test, y_train, y_test = train_test_split(x,y,test_size = 0.3, random_state =0)"
   ]
  },
  {
   "cell_type": "code",
   "execution_count": 484,
   "metadata": {
    "code_folding": [
     0
    ]
   },
   "outputs": [],
   "source": [
    "#models \n",
    "sgd = SGDClassifier(tol=None, random_state = 42)\n",
    "svc = LinearSVC(random_state=42)\n",
    "nb = BernoulliNB()"
   ]
  },
  {
   "cell_type": "code",
   "execution_count": 485,
   "metadata": {
    "code_folding": [
     0
    ]
   },
   "outputs": [
    {
     "name": "stderr",
     "output_type": "stream",
     "text": [
      "/Applications/anaconda3/envs/Projects/lib/python3.7/site-packages/sklearn/svm/_base.py:947: ConvergenceWarning: Liblinear failed to converge, increase the number of iterations.\n",
      "  \"the number of iterations.\", ConvergenceWarning)\n"
     ]
    },
    {
     "data": {
      "text/plain": [
       "BernoulliNB(alpha=1.0, binarize=0.0, class_prior=None, fit_prior=True)"
      ]
     },
     "execution_count": 485,
     "metadata": {},
     "output_type": "execute_result"
    }
   ],
   "source": [
    "#fit \n",
    "sgd.fit(x_train,y_train)\n",
    "svc.fit(x_train,y_train)\n",
    "nb.fit(x_train,y_train)"
   ]
  },
  {
   "cell_type": "code",
   "execution_count": 492,
   "metadata": {
    "code_folding": []
   },
   "outputs": [],
   "source": [
    "#predictions \n",
    "nb_pred = nb.predict(x_test)\n",
    "svc_pred = svc.predict(x_test)\n",
    "sgd_pred = sgd.predict(x_test)"
   ]
  },
  {
   "cell_type": "code",
   "execution_count": 539,
   "metadata": {
    "code_folding": [
     0,
     3
    ]
   },
   "outputs": [
    {
     "name": "stdout",
     "output_type": "stream",
     "text": [
      "NB classification report: \n",
      "              precision    recall  f1-score   support\n",
      "\n",
      "           0       0.57      0.32      0.41      7041\n",
      "           1       0.50      0.73      0.59      6429\n",
      "\n",
      "    accuracy                           0.52     13470\n",
      "   macro avg       0.53      0.53      0.50     13470\n",
      "weighted avg       0.53      0.52      0.50     13470\n",
      "\n",
      "\n",
      "\n",
      "NB AUC Score: 0.5269631979560023\n",
      "\n",
      "LinearSVC classification report: \n",
      "              precision    recall  f1-score   support\n",
      "\n",
      "           0       0.99      0.99      0.99      7041\n",
      "           1       0.99      0.99      0.99      6429\n",
      "\n",
      "    accuracy                           0.99     13470\n",
      "   macro avg       0.99      0.99      0.99     13470\n",
      "weighted avg       0.99      0.99      0.99     13470\n",
      "\n",
      "\n",
      "\n",
      "LinearSVC AUC Score: 0.9905047848867076\n",
      "\n",
      "SGD classification report: \n",
      "              precision    recall  f1-score   support\n",
      "\n",
      "           0       0.99      0.98      0.98      7041\n",
      "           1       0.98      0.99      0.98      6429\n",
      "\n",
      "    accuracy                           0.98     13470\n",
      "   macro avg       0.98      0.98      0.98     13470\n",
      "weighted avg       0.98      0.98      0.98     13470\n",
      "\n",
      "\n",
      "\n",
      "SGD AUC Score: 0.9842794317901886\n",
      "\n"
     ]
    }
   ],
   "source": [
    "#scoring\n",
    "preds = [nb_pred,svc_pred,sgd_pred]\n",
    "models= ['NB','LinearSVC','SGD']\n",
    "for pred,model in zip(preds,models):\n",
    "    \n",
    "    print(f\"{model} classification report: \\n{classification_report(y_test,pred)}\")\n",
    "    print('\\n')\n",
    "    print(f\"{model} AUC Score: {roc_auc_score(y_test,pred)}\\n\")\n"
   ]
  },
  {
   "cell_type": "markdown",
   "metadata": {},
   "source": [
    "# Feature eng and keras "
   ]
  },
  {
   "cell_type": "code",
   "execution_count": 632,
   "metadata": {
    "code_folding": []
   },
   "outputs": [],
   "source": [
    "#import \n",
    "from tensorflow.keras.models import Sequential\n",
    "from tensorflow.keras.layers import Dense, Activation, Dropout, LSTM\n",
    "from tensorflow.keras.preprocessing import text, sequence \n",
    "from tensorflow.keras import utils "
   ]
  },
  {
   "cell_type": "code",
   "execution_count": 609,
   "metadata": {},
   "outputs": [],
   "source": [
    "# SHAPING AND INSTANTIATING\n",
    "max_words = 1000 \n",
    "data_keras = dsk[['text','cat','cap_count']]\n",
    "\n",
    "\n",
    "x = data_keras.drop('cat',axis = 1)\n",
    "y = pd.get_dummies(data = data_keras['cat'], columns = ['cat']).values\n",
    "\n",
    "x_cap = pd.get_dummies(data = x['cap_count'],columns = ['cap_count']).values\n",
    "\n",
    "token = text.Tokenizer(num_words = max_words)\n",
    "token.fit_on_texts(x['text'])"
   ]
  },
  {
   "cell_type": "code",
   "execution_count": 610,
   "metadata": {
    "code_folding": [
     0
    ]
   },
   "outputs": [],
   "source": [
    "#PADDING and converting to array \n",
    "x_text = token.texts_to_sequences(x['text'].values)\n",
    "x_text = sequence.pad_sequences(x_text)"
   ]
  },
  {
   "cell_type": "code",
   "execution_count": 611,
   "metadata": {
    "code_folding": [
     0
    ]
   },
   "outputs": [],
   "source": [
    "#x_array COMPLETE \n",
    "x = np.append(x_text, x_cap,axis = 1)"
   ]
  },
  {
   "cell_type": "code",
   "execution_count": 615,
   "metadata": {},
   "outputs": [],
   "source": [
    "# train test split \n",
    "X_train, X_test, Y_train, Y_test = train_test_split(x,y,test_size = 0.3, random_state = 42)\n"
   ]
  },
  {
   "cell_type": "code",
   "execution_count": 622,
   "metadata": {},
   "outputs": [
    {
     "data": {
      "text/plain": [
       "(31428, 2460)"
      ]
     },
     "execution_count": 622,
     "metadata": {},
     "output_type": "execute_result"
    }
   ],
   "source": [
    "X_train.shape"
   ]
  },
  {
   "cell_type": "code",
   "execution_count": 655,
   "metadata": {
    "code_folding": [
     0
    ]
   },
   "outputs": [
    {
     "name": "stdout",
     "output_type": "stream",
     "text": [
      "Epoch 1/5\n",
      "111/111 [==============================] - 3s 28ms/step - loss: 2.3713 - accuracy: 0.5248 - val_loss: 0.6913 - val_accuracy: 0.5081\n",
      "Epoch 2/5\n",
      "111/111 [==============================] - 3s 23ms/step - loss: 0.7192 - accuracy: 0.5250 - val_loss: 0.6866 - val_accuracy: 0.5081\n",
      "Epoch 3/5\n",
      "111/111 [==============================] - 3s 23ms/step - loss: 0.7020 - accuracy: 0.5250 - val_loss: 0.6809 - val_accuracy: 0.5081\n",
      "Epoch 4/5\n",
      "111/111 [==============================] - 3s 23ms/step - loss: 0.6838 - accuracy: 0.5251 - val_loss: 0.6802 - val_accuracy: 0.5081\n",
      "Epoch 5/5\n",
      "111/111 [==============================] - 3s 23ms/step - loss: 0.7037 - accuracy: 0.5250 - val_loss: 0.6774 - val_accuracy: 0.5081\n"
     ]
    }
   ],
   "source": [
    "# Build Model \n",
    "model = Sequential()\n",
    "model.add(Dense(512, input_shape=(2460,)))\n",
    "model.add(Activation('relu'))\n",
    "model.add(Dropout(0.5))\n",
    "\n",
    "\n",
    "\n",
    "model.add(Dense(32)) #output layer\n",
    "model.add(Activation('relu'))\n",
    "model.add(Dense(2))\n",
    "model.add(Activation('sigmoid'))\n",
    "\n",
    "model.compile(loss = 'binary_crossentropy',optimizer = 'adam',metrics =['accuracy'])\n",
    "\n",
    "history = model.fit(X_train,Y_train,batch_size = 256,epochs = 5, verbose = 1, validation_split = 0.1)"
   ]
  },
  {
   "cell_type": "code",
   "execution_count": 656,
   "metadata": {},
   "outputs": [
    {
     "name": "stdout",
     "output_type": "stream",
     "text": [
      "421/421 [==============================] - 2s 4ms/step - loss: 0.6771 - accuracy: 0.5225\n"
     ]
    }
   ],
   "source": [
    "pred = model.evaluate(X_test,Y_test)"
   ]
  },
  {
   "cell_type": "code",
   "execution_count": 657,
   "metadata": {},
   "outputs": [
    {
     "data": {
      "text/plain": [
       "0.5224944353103638"
      ]
     },
     "execution_count": 657,
     "metadata": {},
     "output_type": "execute_result"
    }
   ],
   "source": [
    "pred[1]"
   ]
  }
 ],
 "metadata": {
  "kernelspec": {
   "display_name": "Python 3",
   "language": "python",
   "name": "python3"
  },
  "language_info": {
   "codemirror_mode": {
    "name": "ipython",
    "version": 3
   },
   "file_extension": ".py",
   "mimetype": "text/x-python",
   "name": "python",
   "nbconvert_exporter": "python",
   "pygments_lexer": "ipython3",
   "version": "3.7.6"
  }
 },
 "nbformat": 4,
 "nbformat_minor": 4
}
